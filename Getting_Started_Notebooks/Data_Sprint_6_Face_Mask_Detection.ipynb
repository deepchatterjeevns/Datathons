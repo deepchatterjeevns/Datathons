{
  "nbformat": 4,
  "nbformat_minor": 0,
  "metadata": {
    "colab": {
      "name": "Data_Sprint_6.ipynb",
      "provenance": [],
      "include_colab_link": true
    },
    "kernelspec": {
      "name": "python3",
      "display_name": "Python 3"
    }
  },
  "cells": [
    {
      "cell_type": "markdown",
      "metadata": {
        "id": "view-in-github",
        "colab_type": "text"
      },
      "source": [
        "<a href=\"https://colab.research.google.com/github/dphi-official/Datathons/blob/master/Getting_Started_Notebooks/Data_Sprint_6.ipynb\" target=\"_parent\"><img src=\"https://colab.research.google.com/assets/colab-badge.svg\" alt=\"Open In Colab\"/></a>"
      ]
    },
    {
      "cell_type": "markdown",
      "metadata": {
        "id": "M1H8q8USSAiH",
        "colab_type": "text"
      },
      "source": [
        "![dphi banner](https://dphi-courses.s3.ap-south-1.amazonaws.com/Datathons/dphi_banner.png)"
      ]
    },
    {
      "cell_type": "markdown",
      "metadata": {
        "id": "RP4A14qISFCM",
        "colab_type": "text"
      },
      "source": [
        "# **Getting Started Code For [Data Sprint #6](https://dphi.tech/challenges/datathon/) on <font color='green'>DPhi</font>**"
      ]
    },
    {
      "cell_type": "markdown",
      "metadata": {
        "id": "RikXBkX7SaXE",
        "colab_type": "text"
      },
      "source": [
        "#### **Author: [Manish KC](https://www.linkedin.com/in/manish-kumar-chaudhary-ab8714144/)**"
      ]
    },
    {
      "cell_type": "markdown",
      "metadata": {
        "id": "SfMK5FEhUGde",
        "colab_type": "text"
      },
      "source": [
        "## Download the images\n",
        "We are given google drive link in the '[Data](https://dphi.tech/practice/challenge/37#data)' section of problem page which has all the required train images (to build the model) and test images to predict the label of these images and submit the predictions on the [DPhi platform](https://dphi.tech/practice/challenge/37#submission).\n",
        "\n",
        "We can use **GoogleDriveDownloader** form **google_drive_downloader** library in Python to download the shared files from the shared Google drive link: https://drive.google.com/file/d/1_W2gFFZmy6ZyC8TPlxB49eDFswdBsQqo/view?usp=sharing\n",
        "\n",
        "The file id in the above link is: **1_W2gFFZmy6ZyC8TPlxB49eDFswdBsQqo**"
      ]
    },
    {
      "cell_type": "code",
      "metadata": {
        "id": "5_1BysB4Re7f",
        "colab_type": "code",
        "colab": {
          "base_uri": "https://localhost:8080/",
          "height": 51
        },
        "outputId": "3aa3b80b-e08a-49fa-938d-455da1708b60"
      },
      "source": [
        "from google_drive_downloader import GoogleDriveDownloader as gdd\n",
        "\n",
        "gdd.download_file_from_google_drive(file_id='1_W2gFFZmy6ZyC8TPlxB49eDFswdBsQqo',\n",
        "                                    dest_path='content/face_mask_detection.zip',\n",
        "                                    unzip=True)"
      ],
      "execution_count": null,
      "outputs": [
        {
          "output_type": "stream",
          "text": [
            "Downloading 1_W2gFFZmy6ZyC8TPlxB49eDFswdBsQqo into content/face_mask_detection.zip... Done.\n",
            "Unzipping...Done.\n"
          ],
          "name": "stdout"
        }
      ]
    },
    {
      "cell_type": "markdown",
      "metadata": {
        "id": "SM_FDQgXbh_-",
        "colab_type": "text"
      },
      "source": [
        "We have all the files from the shared Google drive link downloaded in the colab environment."
      ]
    },
    {
      "cell_type": "markdown",
      "metadata": {
        "id": "wsIqjb7Ebs3B",
        "colab_type": "text"
      },
      "source": [
        "## Loading Libraries\n",
        "All Python capabilities are not loaded to our working environment by default (even they are already installed in your system). So, we import each and every library that we want to use.\n",
        "\n",
        "We chose alias names for our libraries for the sake of our convenience (numpy --> np and pandas --> pd, tensorlow --> tf).\n",
        "\n",
        "Note: You can import all the libraries that you think will be required or can import it as you go along."
      ]
    },
    {
      "cell_type": "code",
      "metadata": {
        "id": "BIe16kmoUmhr",
        "colab_type": "code",
        "colab": {}
      },
      "source": [
        "import pandas as pd                                     # Data analysis and manipultion tool\n",
        "import numpy as np                                      # Fundamental package for linear algebra and multidimensional arrays\n",
        "import tensorflow as tf                                 # Deep Learning Tool\n",
        "import os                                               # OS module in Python provides a way of using operating system dependent functionality\n",
        "import cv2                                              # Library for image processing\n",
        "from sklearn.model_selection import train_test_split    # For splitting the data into train and validation set"
      ],
      "execution_count": null,
      "outputs": []
    },
    {
      "cell_type": "markdown",
      "metadata": {
        "id": "IAXqCpedduVx",
        "colab_type": "text"
      },
      "source": [
        "## Loading and preparing training data\n",
        "The train and test images are given in two different folders - 'train' and 'test'. The labels of train images are given in a csv file 'Training_set_face_mask.csv' with respective image id (i.e. image file name)."
      ]
    },
    {
      "cell_type": "markdown",
      "metadata": {
        "id": "Wjw1Z9Uqesey",
        "colab_type": "text"
      },
      "source": [
        "#### Getting the labels of the images"
      ]
    },
    {
      "cell_type": "code",
      "metadata": {
        "id": "vMXmX8g3dflK",
        "colab_type": "code",
        "colab": {
          "base_uri": "https://localhost:8080/",
          "height": 204
        },
        "outputId": "ee48a482-398b-40d1-ecc1-12b5c9c819f5"
      },
      "source": [
        "labels = pd.read_csv(\"/content/content/face_mask_detection/Training_set_face_mask.csv\")   # loading the labels\n",
        "labels.head()           # will display the first five rows in labels dataframe"
      ],
      "execution_count": null,
      "outputs": [
        {
          "output_type": "execute_result",
          "data": {
            "text/html": [
              "<div>\n",
              "<style scoped>\n",
              "    .dataframe tbody tr th:only-of-type {\n",
              "        vertical-align: middle;\n",
              "    }\n",
              "\n",
              "    .dataframe tbody tr th {\n",
              "        vertical-align: top;\n",
              "    }\n",
              "\n",
              "    .dataframe thead th {\n",
              "        text-align: right;\n",
              "    }\n",
              "</style>\n",
              "<table border=\"1\" class=\"dataframe\">\n",
              "  <thead>\n",
              "    <tr style=\"text-align: right;\">\n",
              "      <th></th>\n",
              "      <th>filename</th>\n",
              "      <th>label</th>\n",
              "    </tr>\n",
              "  </thead>\n",
              "  <tbody>\n",
              "    <tr>\n",
              "      <th>0</th>\n",
              "      <td>Image_1.jpg</td>\n",
              "      <td>without_mask</td>\n",
              "    </tr>\n",
              "    <tr>\n",
              "      <th>1</th>\n",
              "      <td>Image_2.jpg</td>\n",
              "      <td>without_mask</td>\n",
              "    </tr>\n",
              "    <tr>\n",
              "      <th>2</th>\n",
              "      <td>Image_3.jpg</td>\n",
              "      <td>without_mask</td>\n",
              "    </tr>\n",
              "    <tr>\n",
              "      <th>3</th>\n",
              "      <td>Image_4.jpg</td>\n",
              "      <td>without_mask</td>\n",
              "    </tr>\n",
              "    <tr>\n",
              "      <th>4</th>\n",
              "      <td>Image_5.jpg</td>\n",
              "      <td>without_mask</td>\n",
              "    </tr>\n",
              "  </tbody>\n",
              "</table>\n",
              "</div>"
            ],
            "text/plain": [
              "      filename         label\n",
              "0  Image_1.jpg  without_mask\n",
              "1  Image_2.jpg  without_mask\n",
              "2  Image_3.jpg  without_mask\n",
              "3  Image_4.jpg  without_mask\n",
              "4  Image_5.jpg  without_mask"
            ]
          },
          "metadata": {
            "tags": []
          },
          "execution_count": 4
        }
      ]
    },
    {
      "cell_type": "code",
      "metadata": {
        "id": "FldofLw1fCxI",
        "colab_type": "code",
        "colab": {
          "base_uri": "https://localhost:8080/",
          "height": 204
        },
        "outputId": "238ed05f-2ad4-4920-d69a-3d4f60e16ce4"
      },
      "source": [
        "labels.tail()            # will display the last five rows in labels dataframe"
      ],
      "execution_count": null,
      "outputs": [
        {
          "output_type": "execute_result",
          "data": {
            "text/html": [
              "<div>\n",
              "<style scoped>\n",
              "    .dataframe tbody tr th:only-of-type {\n",
              "        vertical-align: middle;\n",
              "    }\n",
              "\n",
              "    .dataframe tbody tr th {\n",
              "        vertical-align: top;\n",
              "    }\n",
              "\n",
              "    .dataframe thead th {\n",
              "        text-align: right;\n",
              "    }\n",
              "</style>\n",
              "<table border=\"1\" class=\"dataframe\">\n",
              "  <thead>\n",
              "    <tr style=\"text-align: right;\">\n",
              "      <th></th>\n",
              "      <th>filename</th>\n",
              "      <th>label</th>\n",
              "    </tr>\n",
              "  </thead>\n",
              "  <tbody>\n",
              "    <tr>\n",
              "      <th>11259</th>\n",
              "      <td>Image_11260.jpg</td>\n",
              "      <td>with_mask</td>\n",
              "    </tr>\n",
              "    <tr>\n",
              "      <th>11260</th>\n",
              "      <td>Image_11261.jpg</td>\n",
              "      <td>with_mask</td>\n",
              "    </tr>\n",
              "    <tr>\n",
              "      <th>11261</th>\n",
              "      <td>Image_11262.jpg</td>\n",
              "      <td>with_mask</td>\n",
              "    </tr>\n",
              "    <tr>\n",
              "      <th>11262</th>\n",
              "      <td>Image_11263.jpg</td>\n",
              "      <td>with_mask</td>\n",
              "    </tr>\n",
              "    <tr>\n",
              "      <th>11263</th>\n",
              "      <td>Image_11264.jpg</td>\n",
              "      <td>with_mask</td>\n",
              "    </tr>\n",
              "  </tbody>\n",
              "</table>\n",
              "</div>"
            ],
            "text/plain": [
              "              filename      label\n",
              "11259  Image_11260.jpg  with_mask\n",
              "11260  Image_11261.jpg  with_mask\n",
              "11261  Image_11262.jpg  with_mask\n",
              "11262  Image_11263.jpg  with_mask\n",
              "11263  Image_11264.jpg  with_mask"
            ]
          },
          "metadata": {
            "tags": []
          },
          "execution_count": 5
        }
      ]
    },
    {
      "cell_type": "markdown",
      "metadata": {
        "id": "S-bMgFBIfUdP",
        "colab_type": "text"
      },
      "source": [
        "#### Getting images file path"
      ]
    },
    {
      "cell_type": "code",
      "metadata": {
        "id": "xdsON8gZfKIV",
        "colab_type": "code",
        "colab": {}
      },
      "source": [
        "file_paths = [[fname, '/content/content/face_mask_detection/train/' + fname] for fname in labels['filename']]"
      ],
      "execution_count": null,
      "outputs": []
    },
    {
      "cell_type": "markdown",
      "metadata": {
        "id": "q9Noguhprcf2",
        "colab_type": "text"
      },
      "source": [
        "#### Confirming if no. of labels is equal to no. of images"
      ]
    },
    {
      "cell_type": "code",
      "metadata": {
        "id": "N4YrF-s1rWla",
        "colab_type": "code",
        "colab": {
          "base_uri": "https://localhost:8080/",
          "height": 34
        },
        "outputId": "1dcac502-10b8-4e1d-8b73-2d1ba322f3b8"
      },
      "source": [
        "# Confirm if number of images is same as number of labels given\n",
        "if len(labels) == len(file_paths):\n",
        "    print('Number of labels i.e. ', len(labels), 'matches the number of filenames i.e. ', len(file_paths))\n",
        "else:\n",
        "    print('Number of labels does not match the number of filenames')"
      ],
      "execution_count": null,
      "outputs": [
        {
          "output_type": "stream",
          "text": [
            "Number of labels i.e.  11264 matches the number of filenames i.e.  11264\n"
          ],
          "name": "stdout"
        }
      ]
    },
    {
      "cell_type": "markdown",
      "metadata": {
        "id": "Wx2t_cLSr3Jm",
        "colab_type": "text"
      },
      "source": [
        "#### Converting the file_paths to dataframe"
      ]
    },
    {
      "cell_type": "code",
      "metadata": {
        "id": "PE8c0cgkrpOO",
        "colab_type": "code",
        "colab": {
          "base_uri": "https://localhost:8080/",
          "height": 204
        },
        "outputId": "5b10e119-8dbe-4ca1-8532-a87d6300acc5"
      },
      "source": [
        "images = pd.DataFrame(file_paths, columns=['filename', 'filepaths'])\n",
        "images.head()"
      ],
      "execution_count": null,
      "outputs": [
        {
          "output_type": "execute_result",
          "data": {
            "text/html": [
              "<div>\n",
              "<style scoped>\n",
              "    .dataframe tbody tr th:only-of-type {\n",
              "        vertical-align: middle;\n",
              "    }\n",
              "\n",
              "    .dataframe tbody tr th {\n",
              "        vertical-align: top;\n",
              "    }\n",
              "\n",
              "    .dataframe thead th {\n",
              "        text-align: right;\n",
              "    }\n",
              "</style>\n",
              "<table border=\"1\" class=\"dataframe\">\n",
              "  <thead>\n",
              "    <tr style=\"text-align: right;\">\n",
              "      <th></th>\n",
              "      <th>filename</th>\n",
              "      <th>filepaths</th>\n",
              "    </tr>\n",
              "  </thead>\n",
              "  <tbody>\n",
              "    <tr>\n",
              "      <th>0</th>\n",
              "      <td>Image_1.jpg</td>\n",
              "      <td>/content/content/face_mask_detection/train/Ima...</td>\n",
              "    </tr>\n",
              "    <tr>\n",
              "      <th>1</th>\n",
              "      <td>Image_2.jpg</td>\n",
              "      <td>/content/content/face_mask_detection/train/Ima...</td>\n",
              "    </tr>\n",
              "    <tr>\n",
              "      <th>2</th>\n",
              "      <td>Image_3.jpg</td>\n",
              "      <td>/content/content/face_mask_detection/train/Ima...</td>\n",
              "    </tr>\n",
              "    <tr>\n",
              "      <th>3</th>\n",
              "      <td>Image_4.jpg</td>\n",
              "      <td>/content/content/face_mask_detection/train/Ima...</td>\n",
              "    </tr>\n",
              "    <tr>\n",
              "      <th>4</th>\n",
              "      <td>Image_5.jpg</td>\n",
              "      <td>/content/content/face_mask_detection/train/Ima...</td>\n",
              "    </tr>\n",
              "  </tbody>\n",
              "</table>\n",
              "</div>"
            ],
            "text/plain": [
              "      filename                                          filepaths\n",
              "0  Image_1.jpg  /content/content/face_mask_detection/train/Ima...\n",
              "1  Image_2.jpg  /content/content/face_mask_detection/train/Ima...\n",
              "2  Image_3.jpg  /content/content/face_mask_detection/train/Ima...\n",
              "3  Image_4.jpg  /content/content/face_mask_detection/train/Ima...\n",
              "4  Image_5.jpg  /content/content/face_mask_detection/train/Ima..."
            ]
          },
          "metadata": {
            "tags": []
          },
          "execution_count": 33
        }
      ]
    },
    {
      "cell_type": "markdown",
      "metadata": {
        "id": "nSDPZsA2sM5n",
        "colab_type": "text"
      },
      "source": [
        "#### Combining the labels with the images"
      ]
    },
    {
      "cell_type": "code",
      "metadata": {
        "id": "y8CNnxxzsG56",
        "colab_type": "code",
        "colab": {
          "base_uri": "https://localhost:8080/",
          "height": 204
        },
        "outputId": "7b2adab1-f7e9-4b7b-fd8d-1ad457494c6c"
      },
      "source": [
        "train_data = pd.merge(images, labels, how = 'inner', on = 'filename')\n",
        "train_data.head()       "
      ],
      "execution_count": null,
      "outputs": [
        {
          "output_type": "execute_result",
          "data": {
            "text/html": [
              "<div>\n",
              "<style scoped>\n",
              "    .dataframe tbody tr th:only-of-type {\n",
              "        vertical-align: middle;\n",
              "    }\n",
              "\n",
              "    .dataframe tbody tr th {\n",
              "        vertical-align: top;\n",
              "    }\n",
              "\n",
              "    .dataframe thead th {\n",
              "        text-align: right;\n",
              "    }\n",
              "</style>\n",
              "<table border=\"1\" class=\"dataframe\">\n",
              "  <thead>\n",
              "    <tr style=\"text-align: right;\">\n",
              "      <th></th>\n",
              "      <th>filename</th>\n",
              "      <th>filepaths</th>\n",
              "      <th>label</th>\n",
              "    </tr>\n",
              "  </thead>\n",
              "  <tbody>\n",
              "    <tr>\n",
              "      <th>0</th>\n",
              "      <td>Image_1.jpg</td>\n",
              "      <td>/content/content/face_mask_detection/train/Ima...</td>\n",
              "      <td>without_mask</td>\n",
              "    </tr>\n",
              "    <tr>\n",
              "      <th>1</th>\n",
              "      <td>Image_2.jpg</td>\n",
              "      <td>/content/content/face_mask_detection/train/Ima...</td>\n",
              "      <td>without_mask</td>\n",
              "    </tr>\n",
              "    <tr>\n",
              "      <th>2</th>\n",
              "      <td>Image_3.jpg</td>\n",
              "      <td>/content/content/face_mask_detection/train/Ima...</td>\n",
              "      <td>without_mask</td>\n",
              "    </tr>\n",
              "    <tr>\n",
              "      <th>3</th>\n",
              "      <td>Image_4.jpg</td>\n",
              "      <td>/content/content/face_mask_detection/train/Ima...</td>\n",
              "      <td>without_mask</td>\n",
              "    </tr>\n",
              "    <tr>\n",
              "      <th>4</th>\n",
              "      <td>Image_5.jpg</td>\n",
              "      <td>/content/content/face_mask_detection/train/Ima...</td>\n",
              "      <td>without_mask</td>\n",
              "    </tr>\n",
              "  </tbody>\n",
              "</table>\n",
              "</div>"
            ],
            "text/plain": [
              "      filename                                          filepaths         label\n",
              "0  Image_1.jpg  /content/content/face_mask_detection/train/Ima...  without_mask\n",
              "1  Image_2.jpg  /content/content/face_mask_detection/train/Ima...  without_mask\n",
              "2  Image_3.jpg  /content/content/face_mask_detection/train/Ima...  without_mask\n",
              "3  Image_4.jpg  /content/content/face_mask_detection/train/Ima...  without_mask\n",
              "4  Image_5.jpg  /content/content/face_mask_detection/train/Ima...  without_mask"
            ]
          },
          "metadata": {
            "tags": []
          },
          "execution_count": 34
        }
      ]
    },
    {
      "cell_type": "markdown",
      "metadata": {
        "id": "znobaA5KsXgp",
        "colab_type": "text"
      },
      "source": [
        "The 'train_data' dataframe contains all the image id, their locations and their respective labels. Now the training data is ready."
      ]
    },
    {
      "cell_type": "markdown",
      "metadata": {
        "id": "BvIxaRD6sn3m",
        "colab_type": "text"
      },
      "source": [
        "## Data Pre-processing\n",
        "It is necessary to bring all the images in the same shape and size, also convert them to their pixel values because all machine learning or deep learning models accepts only the numerical data. Also we need to convert all the labels from categorical to numerical values."
      ]
    },
    {
      "cell_type": "code",
      "metadata": {
        "id": "vxPiZCLpsWrd",
        "colab_type": "code",
        "colab": {}
      },
      "source": [
        "# Your Code goes here"
      ],
      "execution_count": null,
      "outputs": []
    },
    {
      "cell_type": "markdown",
      "metadata": {
        "id": "cDCZ53yE7340",
        "colab_type": "text"
      },
      "source": [
        "## Building Model\n",
        "Now we are finally ready, and we can train the model.\n"
      ]
    },
    {
      "cell_type": "code",
      "metadata": {
        "id": "lxWsfHLk70FV",
        "colab_type": "code",
        "colab": {}
      },
      "source": [
        "# Your code goes here"
      ],
      "execution_count": 1,
      "outputs": []
    },
    {
      "cell_type": "markdown",
      "metadata": {
        "id": "tc3lSJ2a-OYt",
        "colab_type": "text"
      },
      "source": [
        "## Validate the model\n",
        "Wonder🤔 how well your model learned! Lets check its performance on the X_val data."
      ]
    },
    {
      "cell_type": "code",
      "metadata": {
        "id": "Fm9ShaEE9P5j",
        "colab_type": "code",
        "colab": {}
      },
      "source": [
        "# Your code goes here"
      ],
      "execution_count": 2,
      "outputs": []
    },
    {
      "cell_type": "markdown",
      "metadata": {
        "id": "kLrpm-If-lRT",
        "colab_type": "text"
      },
      "source": [
        "## Predict The Output For Testing Dataset 😅\n",
        "We have trained our model, evaluated it and now finally we will predict the output/target for the testing data (i.e. testing_set_label.csv) given in 'How To Submit' section of the problem page."
      ]
    },
    {
      "cell_type": "markdown",
      "metadata": {
        "id": "nG70J6Un-s2G",
        "colab_type": "text"
      },
      "source": [
        "#### Load Test Set\n",
        "Load the test data on which final submission is to be made."
      ]
    },
    {
      "cell_type": "code",
      "metadata": {
        "id": "iji8OaFF-fSp",
        "colab_type": "code",
        "colab": {
          "base_uri": "https://localhost:8080/",
          "height": 204
        },
        "outputId": "39731e94-edc0-4d4b-e2f1-d3de5c80321b"
      },
      "source": [
        "# Loading the order of the image's name that has been provided\n",
        "test_image_order = pd.read_csv(\"/content/content/face_mask_detection/Testing_set_face_mask.csv\")\n",
        "test_image_order.head()"
      ],
      "execution_count": null,
      "outputs": [
        {
          "output_type": "execute_result",
          "data": {
            "text/html": [
              "<div>\n",
              "<style scoped>\n",
              "    .dataframe tbody tr th:only-of-type {\n",
              "        vertical-align: middle;\n",
              "    }\n",
              "\n",
              "    .dataframe tbody tr th {\n",
              "        vertical-align: top;\n",
              "    }\n",
              "\n",
              "    .dataframe thead th {\n",
              "        text-align: right;\n",
              "    }\n",
              "</style>\n",
              "<table border=\"1\" class=\"dataframe\">\n",
              "  <thead>\n",
              "    <tr style=\"text-align: right;\">\n",
              "      <th></th>\n",
              "      <th>filename</th>\n",
              "      <th>label</th>\n",
              "    </tr>\n",
              "  </thead>\n",
              "  <tbody>\n",
              "    <tr>\n",
              "      <th>0</th>\n",
              "      <td>Image_1.jpg</td>\n",
              "      <td>NaN</td>\n",
              "    </tr>\n",
              "    <tr>\n",
              "      <th>1</th>\n",
              "      <td>Image_2.jpg</td>\n",
              "      <td>NaN</td>\n",
              "    </tr>\n",
              "    <tr>\n",
              "      <th>2</th>\n",
              "      <td>Image_3.jpg</td>\n",
              "      <td>NaN</td>\n",
              "    </tr>\n",
              "    <tr>\n",
              "      <th>3</th>\n",
              "      <td>Image_4.jpg</td>\n",
              "      <td>NaN</td>\n",
              "    </tr>\n",
              "    <tr>\n",
              "      <th>4</th>\n",
              "      <td>Image_5.jpg</td>\n",
              "      <td>NaN</td>\n",
              "    </tr>\n",
              "  </tbody>\n",
              "</table>\n",
              "</div>"
            ],
            "text/plain": [
              "      filename  label\n",
              "0  Image_1.jpg    NaN\n",
              "1  Image_2.jpg    NaN\n",
              "2  Image_3.jpg    NaN\n",
              "3  Image_4.jpg    NaN\n",
              "4  Image_5.jpg    NaN"
            ]
          },
          "metadata": {
            "tags": []
          },
          "execution_count": 79
        }
      ]
    },
    {
      "cell_type": "markdown",
      "metadata": {
        "id": "XhszUWXEAABu",
        "colab_type": "text"
      },
      "source": [
        "#### Getting images file path"
      ]
    },
    {
      "cell_type": "code",
      "metadata": {
        "id": "657fCek3_IhD",
        "colab_type": "code",
        "colab": {}
      },
      "source": [
        "file_paths = [[fname, '/content/content/face_mask_detection/test/' + fname] for fname in test_image_order['filename']]"
      ],
      "execution_count": null,
      "outputs": []
    },
    {
      "cell_type": "markdown",
      "metadata": {
        "id": "xmrgyltpALYg",
        "colab_type": "text"
      },
      "source": [
        "#### Confirm if number of images in test folder is same as number of image names in 'Testing_set_face_mask.csv'"
      ]
    },
    {
      "cell_type": "code",
      "metadata": {
        "id": "telGIa0JADdO",
        "colab_type": "code",
        "colab": {
          "base_uri": "https://localhost:8080/",
          "height": 34
        },
        "outputId": "627e7f6a-1a3e-4d1b-d8ef-2245090d0608"
      },
      "source": [
        "# Confirm if number of images is same as number of labels given\n",
        "if len(test_image_order) == len(file_paths):\n",
        "    print('Number of image names i.e. ', len(test_image_order), 'matches the number of file paths i.e. ', len(file_paths))\n",
        "else:\n",
        "    print('Number of image names does not match the number of filepaths')"
      ],
      "execution_count": null,
      "outputs": [
        {
          "output_type": "stream",
          "text": [
            "Number of image names i.e.  1536 matches the number of file paths i.e.  1536\n"
          ],
          "name": "stdout"
        }
      ]
    },
    {
      "cell_type": "markdown",
      "metadata": {
        "id": "Wsa94YfqBInJ",
        "colab_type": "text"
      },
      "source": [
        "#### Converting the file_paths to dataframe"
      ]
    },
    {
      "cell_type": "code",
      "metadata": {
        "colab_type": "code",
        "id": "3nH9rUnQBSnf",
        "colab": {
          "base_uri": "https://localhost:8080/",
          "height": 204
        },
        "outputId": "21e4d779-4e31-442b-d2c2-2d052f9228f7"
      },
      "source": [
        "test_images = pd.DataFrame(file_paths, columns=['filename', 'filepaths'])\n",
        "test_images.head()"
      ],
      "execution_count": null,
      "outputs": [
        {
          "output_type": "execute_result",
          "data": {
            "text/html": [
              "<div>\n",
              "<style scoped>\n",
              "    .dataframe tbody tr th:only-of-type {\n",
              "        vertical-align: middle;\n",
              "    }\n",
              "\n",
              "    .dataframe tbody tr th {\n",
              "        vertical-align: top;\n",
              "    }\n",
              "\n",
              "    .dataframe thead th {\n",
              "        text-align: right;\n",
              "    }\n",
              "</style>\n",
              "<table border=\"1\" class=\"dataframe\">\n",
              "  <thead>\n",
              "    <tr style=\"text-align: right;\">\n",
              "      <th></th>\n",
              "      <th>filename</th>\n",
              "      <th>filepaths</th>\n",
              "    </tr>\n",
              "  </thead>\n",
              "  <tbody>\n",
              "    <tr>\n",
              "      <th>0</th>\n",
              "      <td>Image_1.jpg</td>\n",
              "      <td>/content/content/face_mask_detection/test/Imag...</td>\n",
              "    </tr>\n",
              "    <tr>\n",
              "      <th>1</th>\n",
              "      <td>Image_2.jpg</td>\n",
              "      <td>/content/content/face_mask_detection/test/Imag...</td>\n",
              "    </tr>\n",
              "    <tr>\n",
              "      <th>2</th>\n",
              "      <td>Image_3.jpg</td>\n",
              "      <td>/content/content/face_mask_detection/test/Imag...</td>\n",
              "    </tr>\n",
              "    <tr>\n",
              "      <th>3</th>\n",
              "      <td>Image_4.jpg</td>\n",
              "      <td>/content/content/face_mask_detection/test/Imag...</td>\n",
              "    </tr>\n",
              "    <tr>\n",
              "      <th>4</th>\n",
              "      <td>Image_5.jpg</td>\n",
              "      <td>/content/content/face_mask_detection/test/Imag...</td>\n",
              "    </tr>\n",
              "  </tbody>\n",
              "</table>\n",
              "</div>"
            ],
            "text/plain": [
              "      filename                                          filepaths\n",
              "0  Image_1.jpg  /content/content/face_mask_detection/test/Imag...\n",
              "1  Image_2.jpg  /content/content/face_mask_detection/test/Imag...\n",
              "2  Image_3.jpg  /content/content/face_mask_detection/test/Imag...\n",
              "3  Image_4.jpg  /content/content/face_mask_detection/test/Imag...\n",
              "4  Image_5.jpg  /content/content/face_mask_detection/test/Imag..."
            ]
          },
          "metadata": {
            "tags": []
          },
          "execution_count": 89
        }
      ]
    },
    {
      "cell_type": "markdown",
      "metadata": {
        "colab_type": "text",
        "id": "Mxw2ydhwBSns"
      },
      "source": [
        "#### Combining the test_image_order dataframe and the test_images dataframe"
      ]
    },
    {
      "cell_type": "code",
      "metadata": {
        "colab_type": "code",
        "id": "JlrmwHHrBSnt",
        "colab": {
          "base_uri": "https://localhost:8080/",
          "height": 204
        },
        "outputId": "33313a0e-2b02-4b29-fdf2-89bdad91a5dc"
      },
      "source": [
        "test_data = pd.merge(test_images, test_image_order, how = 'inner', on = 'filename')\n",
        "test_data.head()       "
      ],
      "execution_count": null,
      "outputs": [
        {
          "output_type": "execute_result",
          "data": {
            "text/html": [
              "<div>\n",
              "<style scoped>\n",
              "    .dataframe tbody tr th:only-of-type {\n",
              "        vertical-align: middle;\n",
              "    }\n",
              "\n",
              "    .dataframe tbody tr th {\n",
              "        vertical-align: top;\n",
              "    }\n",
              "\n",
              "    .dataframe thead th {\n",
              "        text-align: right;\n",
              "    }\n",
              "</style>\n",
              "<table border=\"1\" class=\"dataframe\">\n",
              "  <thead>\n",
              "    <tr style=\"text-align: right;\">\n",
              "      <th></th>\n",
              "      <th>filename</th>\n",
              "      <th>filepaths</th>\n",
              "      <th>label</th>\n",
              "    </tr>\n",
              "  </thead>\n",
              "  <tbody>\n",
              "    <tr>\n",
              "      <th>0</th>\n",
              "      <td>Image_1.jpg</td>\n",
              "      <td>/content/content/face_mask_detection/test/Imag...</td>\n",
              "      <td>NaN</td>\n",
              "    </tr>\n",
              "    <tr>\n",
              "      <th>1</th>\n",
              "      <td>Image_2.jpg</td>\n",
              "      <td>/content/content/face_mask_detection/test/Imag...</td>\n",
              "      <td>NaN</td>\n",
              "    </tr>\n",
              "    <tr>\n",
              "      <th>2</th>\n",
              "      <td>Image_3.jpg</td>\n",
              "      <td>/content/content/face_mask_detection/test/Imag...</td>\n",
              "      <td>NaN</td>\n",
              "    </tr>\n",
              "    <tr>\n",
              "      <th>3</th>\n",
              "      <td>Image_4.jpg</td>\n",
              "      <td>/content/content/face_mask_detection/test/Imag...</td>\n",
              "      <td>NaN</td>\n",
              "    </tr>\n",
              "    <tr>\n",
              "      <th>4</th>\n",
              "      <td>Image_5.jpg</td>\n",
              "      <td>/content/content/face_mask_detection/test/Imag...</td>\n",
              "      <td>NaN</td>\n",
              "    </tr>\n",
              "  </tbody>\n",
              "</table>\n",
              "</div>"
            ],
            "text/plain": [
              "      filename                                          filepaths  label\n",
              "0  Image_1.jpg  /content/content/face_mask_detection/test/Imag...    NaN\n",
              "1  Image_2.jpg  /content/content/face_mask_detection/test/Imag...    NaN\n",
              "2  Image_3.jpg  /content/content/face_mask_detection/test/Imag...    NaN\n",
              "3  Image_4.jpg  /content/content/face_mask_detection/test/Imag...    NaN\n",
              "4  Image_5.jpg  /content/content/face_mask_detection/test/Imag...    NaN"
            ]
          },
          "metadata": {
            "tags": []
          },
          "execution_count": 92
        }
      ]
    },
    {
      "cell_type": "markdown",
      "metadata": {
        "id": "n2Lpce6vBqMR",
        "colab_type": "text"
      },
      "source": [
        "#### Drop the 'label' form test_data"
      ]
    },
    {
      "cell_type": "code",
      "metadata": {
        "id": "v6Bc10u2B0NR",
        "colab_type": "code",
        "colab": {}
      },
      "source": [
        "test_data.drop('label', axis = 1, inplace=True)"
      ],
      "execution_count": null,
      "outputs": []
    },
    {
      "cell_type": "markdown",
      "metadata": {
        "colab_type": "text",
        "id": "bNRuHtSOBSnz"
      },
      "source": [
        "The 'train_data' dataframe contains all the image id, their locations and their respective labels. Now the training data is ready."
      ]
    },
    {
      "cell_type": "markdown",
      "metadata": {
        "id": "fi4Cz4LXCDwH",
        "colab_type": "text"
      },
      "source": [
        "**Note:**\n",
        "\n",
        "*  Use the same techniques to deal with missing values as done with the training dataset.\n",
        "\n",
        "*  **Don't remove any observation/record from the test dataset otherwise you will get wrong answer. The number of items in your prediction should be same as the number of records are present in the test dataset.**\n",
        "\n",
        "*  Use the same techniques to preprocess the data as done with training dataset.\n",
        "\n",
        "**Why do we need to do the same procedure of filling missing values, data cleaning and data preprocessing on the new test data as it was done for the training and validation data?**\n",
        "\n",
        "Ans: Because our model has been trained on certain format of data and if we don't provide the testing data of the similar format, the model will give erroneous predictions and the rmse of the model will increase. Also, if the model was build on 'n' number of features, while predicting on new test data you should always give the same number of features to the model. In this case if you provide different number of features while predicting the output, your ML model will throw a ValueError saying something like 'number of features given x; expecting n'. Not confident about these statements? Well, as a data scientist you should always perform some experiment and observe the results."
      ]
    },
    {
      "cell_type": "markdown",
      "metadata": {
        "id": "ZqSujaW0CRi9",
        "colab_type": "text"
      },
      "source": [
        "## Data Pre-processing on test_data\n"
      ]
    },
    {
      "cell_type": "code",
      "metadata": {
        "colab_type": "code",
        "id": "Wy7-NZ7TCiSQ",
        "colab": {}
      },
      "source": [
        "# Your code goes here"
      ],
      "execution_count": 3,
      "outputs": []
    },
    {
      "cell_type": "markdown",
      "metadata": {
        "id": "AxtDS6-0J0s2",
        "colab_type": "text"
      },
      "source": [
        "### Make Prediction on Test Dataset\n",
        "Time to make a submission!!!"
      ]
    },
    {
      "cell_type": "code",
      "metadata": {
        "id": "yXLCDKVrJuzY",
        "colab_type": "code",
        "colab": {}
      },
      "source": [
        "pred = model.predict(test_data)"
      ],
      "execution_count": null,
      "outputs": []
    },
    {
      "cell_type": "code",
      "metadata": {
        "id": "MYeK05BHLAen",
        "colab_type": "code",
        "colab": {
          "base_uri": "https://localhost:8080/",
          "height": 34
        },
        "outputId": "2246811d-80c6-49a4-a354-9a919de14f74"
      },
      "source": [
        "# The predicted values are the probabilities value\n",
        "pred[0]"
      ],
      "execution_count": null,
      "outputs": [
        {
          "output_type": "execute_result",
          "data": {
            "text/plain": [
              "array([0.28916276], dtype=float32)"
            ]
          },
          "metadata": {
            "tags": []
          },
          "execution_count": 112
        }
      ]
    },
    {
      "cell_type": "markdown",
      "metadata": {
        "id": "35O6Ity3o5ZC",
        "colab_type": "text"
      },
      "source": [
        "**Note:** If you use one output neron while defining the model and loss as **binary_crossentropy** while compiling the model, you will get single probability value. \n",
        "\n",
        "**But,** if you use more than one neuron in the output layer while defining the model and use **sparse_categorical_crossentropy** as loss function while compiling the model, you will get multiple probability values."
      ]
    },
    {
      "cell_type": "markdown",
      "metadata": {
        "id": "FjS9ALjrnQ9O",
        "colab_type": "text"
      },
      "source": [
        "Here our predictions are single probability value. There are two commonly used methods to get the actual labels in this case. \n",
        "\n",
        "1. Using a threshold value \n",
        "2. Using np.round() function\n",
        "\n",
        "These works for only binary class problems."
      ]
    },
    {
      "cell_type": "markdown",
      "metadata": {
        "id": "9a_WAXliLut8",
        "colab_type": "text"
      },
      "source": [
        "#### 1. Take a threshold of 0.5\n",
        "If the probability value is less than 0.5, the prediction is 0 (i.e. without_mask) else the prediction is 1 (i.e. with_mask)\n",
        "\n",
        "Since the submission format is given as \n",
        "\n",
        "predictions = ['with_mask', 'without_mask', 'without_mask', 'with_mask', ....]\n",
        "\n",
        "here we will convert the probability values in the same format, i.e. if probability value is less than 0.5, the prediction will be 'without_mask' else the prediction will be 'with_mask'"
      ]
    },
    {
      "cell_type": "code",
      "metadata": {
        "id": "3BB9EAnYLCCM",
        "colab_type": "code",
        "colab": {}
      },
      "source": [
        "prediction = []\n",
        "for value in pred:\n",
        "  if value < 0.5:\n",
        "    prediction.append(0)      # it can be 0 or your respective class\n",
        "  else:\n",
        "    prediction.append(1)      # it can be 1 or your respective class"
      ],
      "execution_count": null,
      "outputs": []
    },
    {
      "cell_type": "markdown",
      "metadata": {
        "id": "Bu4wKh9Nn0U0",
        "colab_type": "text"
      },
      "source": [
        "#### 2. Using np.round() function\n",
        "In this case np.round() will return the nearest integer value.\n",
        "\n",
        "*  This will return either 0 or 1"
      ]
    },
    {
      "cell_type": "code",
      "metadata": {
        "id": "YBBQLqFzh6w9",
        "colab_type": "code",
        "colab": {
          "base_uri": "https://localhost:8080/",
          "height": 34
        },
        "outputId": "01fd89bb-30a5-45c7-8454-238f29dff277"
      },
      "source": [
        "np.round(pred[0])    # since the probability value shown above is 0.28 whose closest integer is 0"
      ],
      "execution_count": null,
      "outputs": [
        {
          "output_type": "execute_result",
          "data": {
            "text/plain": [
              "array([0.], dtype=float32)"
            ]
          },
          "metadata": {
            "tags": []
          },
          "execution_count": 130
        }
      ]
    },
    {
      "cell_type": "markdown",
      "metadata": {
        "id": "R5PSBvpIosPs",
        "colab_type": "text"
      },
      "source": [
        "If you had used more than one neuron in output layer and **sparse_categorical_crossentropy**, you would get multiple probability value as prediction. These are the probability value for each class. In this case you can use np.argmax() to get the required label. This will return the index of the probability value which is maximum."
      ]
    },
    {
      "cell_type": "code",
      "metadata": {
        "id": "IQuksHYCqOQT",
        "colab_type": "code",
        "colab": {}
      },
      "source": [
        "np.argmax(pred[0])"
      ],
      "execution_count": null,
      "outputs": []
    },
    {
      "cell_type": "markdown",
      "metadata": {
        "id": "MldiDW9_M2GI",
        "colab_type": "text"
      },
      "source": [
        "**Note: Follow the submission guidelines given in 'How To Submit' Section.**"
      ]
    },
    {
      "cell_type": "markdown",
      "metadata": {
        "id": "THaqbN4LM6YX",
        "colab_type": "text"
      },
      "source": [
        "## **How to save prediciton results locally via jupyter notebook?**\n",
        "If you are working on Jupyter notebook, execute below block of codes. A file named 'submission.csv' will be created in your current working directory."
      ]
    },
    {
      "cell_type": "code",
      "metadata": {
        "id": "5I2wAC5RMwvJ",
        "colab_type": "code",
        "colab": {}
      },
      "source": [
        "res = pd.DataFrame({'filename': test_data['filename'], 'label': prediction})  # prediction is nothing but the final predictions of your model on input features of your new unseen test data\n",
        "res.to_csv(\"submission.csv\")      # the csv file will be saved locally on the same location where this notebook is located."
      ],
      "execution_count": null,
      "outputs": []
    },
    {
      "cell_type": "markdown",
      "metadata": {
        "id": "fquFjyl6OfGz",
        "colab_type": "text"
      },
      "source": [
        "# **OR,**\n",
        "**If you are working on Google Colab then use the below set of code to save prediction results locally**"
      ]
    },
    {
      "cell_type": "markdown",
      "metadata": {
        "id": "ILu2PfzNOqLx",
        "colab_type": "text"
      },
      "source": [
        "## **How to save prediction results locally via colab notebook?**\n",
        "If you are working on Google Colab Notebook, execute below block of codes. A file named 'prediction_results' will be downloaded in your system."
      ]
    },
    {
      "cell_type": "code",
      "metadata": {
        "id": "FpcTFRw7NgXp",
        "colab_type": "code",
        "colab": {
          "base_uri": "https://localhost:8080/",
          "height": 17
        },
        "outputId": "a80b23ce-58d7-4089-a684-f2471d29b4fa"
      },
      "source": [
        "res = pd.DataFrame({'filename': test_data['filename'], 'label': prediction})  # prediction is nothing but the final predictions of your model on input features of your new unseen test data\n",
        "res.to_csv(\"submission.csv\") \n",
        "\n",
        "# To download the csv file locally\n",
        "from google.colab import files        \n",
        "files.download('submission.csv')"
      ],
      "execution_count": null,
      "outputs": [
        {
          "output_type": "display_data",
          "data": {
            "application/javascript": [
              "\n",
              "    async function download(id, filename, size) {\n",
              "      if (!google.colab.kernel.accessAllowed) {\n",
              "        return;\n",
              "      }\n",
              "      const div = document.createElement('div');\n",
              "      const label = document.createElement('label');\n",
              "      label.textContent = `Downloading \"${filename}\": `;\n",
              "      div.appendChild(label);\n",
              "      const progress = document.createElement('progress');\n",
              "      progress.max = size;\n",
              "      div.appendChild(progress);\n",
              "      document.body.appendChild(div);\n",
              "\n",
              "      const buffers = [];\n",
              "      let downloaded = 0;\n",
              "\n",
              "      const channel = await google.colab.kernel.comms.open(id);\n",
              "      // Send a message to notify the kernel that we're ready.\n",
              "      channel.send({})\n",
              "\n",
              "      for await (const message of channel.messages) {\n",
              "        // Send a message to notify the kernel that we're ready.\n",
              "        channel.send({})\n",
              "        if (message.buffers) {\n",
              "          for (const buffer of message.buffers) {\n",
              "            buffers.push(buffer);\n",
              "            downloaded += buffer.byteLength;\n",
              "            progress.value = downloaded;\n",
              "          }\n",
              "        }\n",
              "      }\n",
              "      const blob = new Blob(buffers, {type: 'application/binary'});\n",
              "      const a = document.createElement('a');\n",
              "      a.href = window.URL.createObjectURL(blob);\n",
              "      a.download = filename;\n",
              "      div.appendChild(a);\n",
              "      a.click();\n",
              "      div.remove();\n",
              "    }\n",
              "  "
            ],
            "text/plain": [
              "<IPython.core.display.Javascript object>"
            ]
          },
          "metadata": {
            "tags": []
          }
        },
        {
          "output_type": "display_data",
          "data": {
            "application/javascript": [
              "download(\"download_b3b1b97c-ffc1-4c28-a5b8-58e62be094a6\", \"submission.csv\", 46192)"
            ],
            "text/plain": [
              "<IPython.core.display.Javascript object>"
            ]
          },
          "metadata": {
            "tags": []
          }
        }
      ]
    },
    {
      "cell_type": "markdown",
      "metadata": {
        "id": "NohZiMIkO_tX",
        "colab_type": "text"
      },
      "source": [
        "# **Well Done! 👍**\n",
        "You are all set to make a submission. Let's head to the **[challenge page](https://dphi.tech/challenges/datathon/)** to make the submission."
      ]
    }
  ]
}
