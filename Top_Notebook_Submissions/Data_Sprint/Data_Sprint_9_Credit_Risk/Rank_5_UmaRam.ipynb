{
  "nbformat": 4,
  "nbformat_minor": 0,
  "metadata": {
    "colab": {
      "name": "Rank_5_UmaRam.ipynb",
      "provenance": [],
      "collapsed_sections": [],
      "include_colab_link": true
    },
    "kernelspec": {
      "name": "python3",
      "display_name": "Python 3"
    }
  },
  "cells": [
    {
      "cell_type": "markdown",
      "metadata": {
        "id": "view-in-github",
        "colab_type": "text"
      },
      "source": [
        "<a href=\"https://colab.research.google.com/github/dphi-official/Datathons/blob/master/Top_Notebook_Submissions/Data_Sprint/Data_Sprint_9/Rank_5_UmaRam.ipynb\" target=\"_parent\"><img src=\"https://colab.research.google.com/assets/colab-badge.svg\" alt=\"Open In Colab\"/></a>"
      ]
    },
    {
      "cell_type": "markdown",
      "metadata": {
        "id": "UtGRl7Ox1bTH"
      },
      "source": [
        "**Name: Uma Ram**\n",
        "\n",
        "**Datathon 9 link: https://dphi.tech/practice/challenge/38**\n"
      ]
    },
    {
      "cell_type": "markdown",
      "metadata": {
        "id": "q_bt2kSbKu6F"
      },
      "source": [
        "# Data Sprint #9: Credit Risk\n",
        "Predict if a loan application should be rejected or approved\n",
        "\n",
        "**Problem Statement**\n",
        "Imagine a bank in your locality. The bank has realized that applying data science methodologies can help them focus their resources efficiently, make smarter decisions on credit risk calculations, and improve performance.\n",
        "\n",
        "Earlier they used to check the credit risk of the loan applicants manually by analyzing their bank-related data, which used to take months of time. But this time they want a smart data scientist who can automate this process.\n",
        "\n",
        "**Objective**\n",
        "You are required to build a machine learning model that helps you predict the credit risk of the loan applicants.\n",
        "\n",
        "**Evaluation Criteria**\n",
        "\n",
        "Submissions are evaluated using Accuracy Score.\n",
        "\n",
        "**About the Data**\n",
        "This dataset classifies loan applicants described by a set of attributes as good or bad credit risks.\n",
        "\n",
        "To load the training data in your jupyter notebook, use the below command:\n",
        "```\n",
        "import pandas as pd\n",
        "\n",
        "audit_data  = pd.read_csv(\"https://raw.githubusercontent.com/dphi-official/Datasets/master/credit_risk/training_set_labels.csv\" )\n",
        "```\n",
        "\n",
        "**Data Description**\n",
        "\n",
        "There are 20 attributes in the dataset. Some of them are mentioned below:\n",
        "\n",
        "checking_status: Status of the existing checking account\n",
        "\n",
        "duration: Duration in month\n",
        "\n",
        "credit_history: Credit history of the applicant\n",
        "\n",
        "purpose: Purpose of taking the earlier loans\n",
        "\n",
        "employment: Present employment since\n",
        "installment_commitment: Installment rate in percentage of disposable income\n",
        "\n",
        "personal_status: Personal status and sex\n",
        "\n",
        "other_parties: Other debtors/guarantors\n",
        "\n",
        "residence_since: Present residence since\n",
        "\n",
        "other_payment_plans: Other installment plans\n",
        "\n",
        "existing_credits: Number of existing credits at this bank\n",
        "\n",
        "class: The target variable(good, bad)\n",
        "\n",
        "**Test Dataset**\n",
        "\n",
        "Load the test data (name it as test_data). You can load the data using the below command.\n",
        "```\n",
        "test_data = pd.read_csv('https://raw.githubusercontent.com/dphi-official/Datasets/master/credit_risk/testing_set_labels.csv')\n",
        "\n",
        "```\n",
        "Here the target column is deliberately not there as you need to predict it\n"
      ]
    },
    {
      "cell_type": "markdown",
      "metadata": {
        "id": "HeUa9JpD9Mc-"
      },
      "source": [
        "# **Load Libraries and datasets**"
      ]
    },
    {
      "cell_type": "code",
      "metadata": {
        "id": "8sWSFmtAKedG"
      },
      "source": [
        "import numpy as np        # Fundamental package for linear algebra and multidimensional arrays\n",
        "import pandas as pd       # Data analysis and manipultion tool\n",
        "import datetime\n",
        "\n",
        "from sklearn.preprocessing import LabelEncoder\n",
        "from sklearn.model_selection import train_test_split\n",
        "\n",
        "import sklearn\n",
        "import matplotlib.pyplot as plt\n",
        "import seaborn as sns\n",
        "\n",
        "from sklearn.ensemble import RandomForestClassifier,  GradientBoostingClassifier\n",
        "# import mean squared error from sklearn.metric\n",
        "from sklearn.metrics import f1_score, accuracy_score\n",
        "#Decisoin Tree classifier\n",
        "from sklearn.tree import DecisionTreeClassifier\n",
        "from xgboost import XGBClassifier\n",
        "\n",
        "\n",
        "from sklearn import linear_model\n",
        "from sklearn.model_selection import GridSearchCV"
      ],
      "execution_count": null,
      "outputs": []
    },
    {
      "cell_type": "code",
      "metadata": {
        "id": "Fpn8OAZaL3v6",
        "outputId": "8b09a9b3-c4ca-4851-d2a8-d4dcffa605f8",
        "colab": {
          "base_uri": "https://localhost:8080/",
          "height": 207
        }
      },
      "source": [
        "#Load Dataset \n",
        "audit_data  = pd.read_csv(\"https://raw.githubusercontent.com/dphi-official/Datasets/master/credit_risk/training_set_labels.csv\" )\n",
        "audit_data.head(3)"
      ],
      "execution_count": null,
      "outputs": [
        {
          "output_type": "execute_result",
          "data": {
            "text/html": [
              "<div>\n",
              "<style scoped>\n",
              "    .dataframe tbody tr th:only-of-type {\n",
              "        vertical-align: middle;\n",
              "    }\n",
              "\n",
              "    .dataframe tbody tr th {\n",
              "        vertical-align: top;\n",
              "    }\n",
              "\n",
              "    .dataframe thead th {\n",
              "        text-align: right;\n",
              "    }\n",
              "</style>\n",
              "<table border=\"1\" class=\"dataframe\">\n",
              "  <thead>\n",
              "    <tr style=\"text-align: right;\">\n",
              "      <th></th>\n",
              "      <th>checking_status</th>\n",
              "      <th>duration</th>\n",
              "      <th>credit_history</th>\n",
              "      <th>purpose</th>\n",
              "      <th>credit_amount</th>\n",
              "      <th>savings_status</th>\n",
              "      <th>employment</th>\n",
              "      <th>installment_commitment</th>\n",
              "      <th>personal_status</th>\n",
              "      <th>other_parties</th>\n",
              "      <th>residence_since</th>\n",
              "      <th>property_magnitude</th>\n",
              "      <th>age</th>\n",
              "      <th>other_payment_plans</th>\n",
              "      <th>housing</th>\n",
              "      <th>existing_credits</th>\n",
              "      <th>job</th>\n",
              "      <th>num_dependents</th>\n",
              "      <th>own_telephone</th>\n",
              "      <th>foreign_worker</th>\n",
              "      <th>class</th>\n",
              "    </tr>\n",
              "  </thead>\n",
              "  <tbody>\n",
              "    <tr>\n",
              "      <th>0</th>\n",
              "      <td>'no checking'</td>\n",
              "      <td>18</td>\n",
              "      <td>'critical/other existing credit'</td>\n",
              "      <td>radio/tv</td>\n",
              "      <td>1800</td>\n",
              "      <td>'&lt;100'</td>\n",
              "      <td>'1&lt;=X&lt;4'</td>\n",
              "      <td>4</td>\n",
              "      <td>'male single'</td>\n",
              "      <td>none</td>\n",
              "      <td>2</td>\n",
              "      <td>car</td>\n",
              "      <td>24</td>\n",
              "      <td>none</td>\n",
              "      <td>own</td>\n",
              "      <td>2</td>\n",
              "      <td>skilled</td>\n",
              "      <td>1</td>\n",
              "      <td>none</td>\n",
              "      <td>yes</td>\n",
              "      <td>good</td>\n",
              "    </tr>\n",
              "    <tr>\n",
              "      <th>1</th>\n",
              "      <td>'&lt;0'</td>\n",
              "      <td>24</td>\n",
              "      <td>'existing paid'</td>\n",
              "      <td>radio/tv</td>\n",
              "      <td>2439</td>\n",
              "      <td>'&lt;100'</td>\n",
              "      <td>'&lt;1'</td>\n",
              "      <td>4</td>\n",
              "      <td>'female div/dep/mar'</td>\n",
              "      <td>none</td>\n",
              "      <td>4</td>\n",
              "      <td>'real estate'</td>\n",
              "      <td>35</td>\n",
              "      <td>none</td>\n",
              "      <td>own</td>\n",
              "      <td>1</td>\n",
              "      <td>skilled</td>\n",
              "      <td>1</td>\n",
              "      <td>yes</td>\n",
              "      <td>yes</td>\n",
              "      <td>bad</td>\n",
              "    </tr>\n",
              "    <tr>\n",
              "      <th>2</th>\n",
              "      <td>'no checking'</td>\n",
              "      <td>36</td>\n",
              "      <td>'no credits/all paid'</td>\n",
              "      <td>repairs</td>\n",
              "      <td>2613</td>\n",
              "      <td>'&lt;100'</td>\n",
              "      <td>'1&lt;=X&lt;4'</td>\n",
              "      <td>4</td>\n",
              "      <td>'male single'</td>\n",
              "      <td>none</td>\n",
              "      <td>2</td>\n",
              "      <td>car</td>\n",
              "      <td>27</td>\n",
              "      <td>none</td>\n",
              "      <td>own</td>\n",
              "      <td>2</td>\n",
              "      <td>skilled</td>\n",
              "      <td>1</td>\n",
              "      <td>none</td>\n",
              "      <td>yes</td>\n",
              "      <td>good</td>\n",
              "    </tr>\n",
              "  </tbody>\n",
              "</table>\n",
              "</div>"
            ],
            "text/plain": [
              "  checking_status  duration  ... foreign_worker class\n",
              "0   'no checking'        18  ...            yes  good\n",
              "1            '<0'        24  ...            yes   bad\n",
              "2   'no checking'        36  ...            yes  good\n",
              "\n",
              "[3 rows x 21 columns]"
            ]
          },
          "metadata": {
            "tags": []
          },
          "execution_count": 2
        }
      ]
    },
    {
      "cell_type": "code",
      "metadata": {
        "id": "LiiHKcM1M-rs",
        "outputId": "22e6e514-5000-4342-e3a6-3c6273d16403",
        "colab": {
          "base_uri": "https://localhost:8080/",
          "height": 514
        }
      },
      "source": [
        "audit_data.info()"
      ],
      "execution_count": null,
      "outputs": [
        {
          "output_type": "stream",
          "text": [
            "<class 'pandas.core.frame.DataFrame'>\n",
            "RangeIndex: 800 entries, 0 to 799\n",
            "Data columns (total 21 columns):\n",
            " #   Column                  Non-Null Count  Dtype \n",
            "---  ------                  --------------  ----- \n",
            " 0   checking_status         800 non-null    object\n",
            " 1   duration                800 non-null    int64 \n",
            " 2   credit_history          800 non-null    object\n",
            " 3   purpose                 800 non-null    object\n",
            " 4   credit_amount           800 non-null    int64 \n",
            " 5   savings_status          800 non-null    object\n",
            " 6   employment              800 non-null    object\n",
            " 7   installment_commitment  800 non-null    int64 \n",
            " 8   personal_status         800 non-null    object\n",
            " 9   other_parties           800 non-null    object\n",
            " 10  residence_since         800 non-null    int64 \n",
            " 11  property_magnitude      800 non-null    object\n",
            " 12  age                     800 non-null    int64 \n",
            " 13  other_payment_plans     800 non-null    object\n",
            " 14  housing                 800 non-null    object\n",
            " 15  existing_credits        800 non-null    int64 \n",
            " 16  job                     800 non-null    object\n",
            " 17  num_dependents          800 non-null    int64 \n",
            " 18  own_telephone           800 non-null    object\n",
            " 19  foreign_worker          800 non-null    object\n",
            " 20  class                   800 non-null    object\n",
            "dtypes: int64(7), object(14)\n",
            "memory usage: 131.4+ KB\n"
          ],
          "name": "stdout"
        }
      ]
    },
    {
      "cell_type": "code",
      "metadata": {
        "id": "FrlBk2GvP2qX"
      },
      "source": [
        "#Rename the column name class\n",
        "audit_data.rename(columns={'class':'class_status'}, inplace=True)\n"
      ],
      "execution_count": null,
      "outputs": []
    },
    {
      "cell_type": "code",
      "metadata": {
        "id": "Q8on5SrkJ218"
      },
      "source": [
        "ColumnsToRemove=['num_dependents','own_telephone','foreign_worker','other_parties','other_payment_plans','housing']\n",
        "audit_data.drop(ColumnsToRemove, axis=1, inplace=True)"
      ],
      "execution_count": null,
      "outputs": []
    },
    {
      "cell_type": "code",
      "metadata": {
        "id": "wEx_BhASP_1O"
      },
      "source": [
        "#Use label encoding only for purpose column\n",
        "labelencoder = LabelEncoder()\n",
        "audit_data['purpose'] = labelencoder.fit_transform(audit_data['purpose'])\n"
      ],
      "execution_count": null,
      "outputs": []
    },
    {
      "cell_type": "code",
      "metadata": {
        "id": "n4_uYlBaYDEc",
        "outputId": "cca73b97-cdb2-447e-ea26-e9bc5613a025",
        "colab": {
          "base_uri": "https://localhost:8080/",
          "height": 52
        }
      },
      "source": [
        "categorical_columns =['checking_status','credit_history','savings_status','employment','personal_status',\n",
        "                      'property_magnitude','job','class_status'] #,'own_telephone','foreign_worker'\n",
        "print(categorical_columns)\n",
        "\n",
        "numerical_columns =['duration','credit_amount','installment_commitment','residence_since','age','existing_credits'] #,'num_dependents']\n",
        "print(numerical_columns)"
      ],
      "execution_count": null,
      "outputs": [
        {
          "output_type": "stream",
          "text": [
            "['checking_status', 'credit_history', 'savings_status', 'employment', 'personal_status', 'property_magnitude', 'job', 'class_status']\n",
            "['duration', 'credit_amount', 'installment_commitment', 'residence_since', 'age', 'existing_credits']\n"
          ],
          "name": "stdout"
        }
      ]
    },
    {
      "cell_type": "code",
      "metadata": {
        "id": "O_xbkNn8Y9An",
        "outputId": "f33f0f40-532d-4642-c9ab-5bd82d75ae63",
        "colab": {
          "base_uri": "https://localhost:8080/",
          "height": 1000
        }
      },
      "source": [
        "### Data Visualization libraries\n",
        "import seaborn as sns\n",
        "import matplotlib.pyplot as plt\n",
        "\n",
        "\n",
        "fig,axes = plt.subplots(5,2,figsize=(12,25))\n",
        "for idx,cat_col in enumerate(categorical_columns):\n",
        "    row,col = idx//2,idx%2\n",
        "    sns.countplot(x=cat_col,data=audit_data,hue='class_status',ax=axes[row,col])\n",
        "\n",
        "\n",
        "plt.subplots_adjust(hspace=1)"
      ],
      "execution_count": null,
      "outputs": [
        {
          "output_type": "display_data",
          "data": {
            "image/png": "[encoded data removed]",
            "text/plain": [
              "<Figure size 864x1800 with 10 Axes>"
            ]
          },
          "metadata": {
            "tags": [],
            "needs_background": "light"
          }
        }
      ]
    },
    {
      "cell_type": "code",
      "metadata": {
        "id": "c0KC3uCaZpO5",
        "outputId": "6dfd2dc8-f02d-487c-ec14-94c890037aff",
        "colab": {
          "base_uri": "https://localhost:8080/",
          "height": 747
        }
      },
      "source": [
        "fig,axes = plt.subplots(1,6,figsize=(15,9))\n",
        "for idx,cat_col in enumerate(numerical_columns):\n",
        "    sns.boxplot(y=cat_col,data=audit_data,x='class_status',ax=axes[idx])\n",
        "\n",
        "print(audit_data[numerical_columns].describe())\n",
        "plt.subplots_adjust(hspace=1)"
      ],
      "execution_count": null,
      "outputs": [
        {
          "output_type": "stream",
          "text": [
            "         duration  credit_amount  ...         age  existing_credits\n",
            "count  800.000000     800.000000  ...  800.000000        800.000000\n",
            "mean    21.031250    3337.878750  ...   35.631250          1.410000\n",
            "std     12.171502    2866.828413  ...   11.757682          0.574293\n",
            "min      4.000000     250.000000  ...   19.000000          1.000000\n",
            "25%     12.000000    1364.000000  ...   26.000000          1.000000\n",
            "50%     18.000000    2332.000000  ...   33.000000          1.000000\n",
            "75%     24.000000    4166.000000  ...   42.000000          2.000000\n",
            "max     60.000000   18424.000000  ...   75.000000          4.000000\n",
            "\n",
            "[8 rows x 6 columns]\n"
          ],
          "name": "stdout"
        },
        {
          "output_type": "display_data",
          "data": {
            "image/png": "[encoded data removed]",
            "text/plain": [
              "<Figure size 1080x648 with 6 Axes>"
            ]
          },
          "metadata": {
            "tags": [],
            "needs_background": "light"
          }
        }
      ]
    },
    {
      "cell_type": "code",
      "metadata": {
        "id": "xl3D6790bOcp",
        "outputId": "1c852190-743f-4706-cd61-f0c346e9354e",
        "colab": {
          "base_uri": "https://localhost:8080/",
          "height": 234
        }
      },
      "source": [
        "#### Encoding categrical Features: ##########\n",
        "audit_data_encoded = pd.get_dummies(audit_data,drop_first=True)\n",
        "audit_data_encoded.head()"
      ],
      "execution_count": null,
      "outputs": [
        {
          "output_type": "execute_result",
          "data": {
            "text/html": [
              "<div>\n",
              "<style scoped>\n",
              "    .dataframe tbody tr th:only-of-type {\n",
              "        vertical-align: middle;\n",
              "    }\n",
              "\n",
              "    .dataframe tbody tr th {\n",
              "        vertical-align: top;\n",
              "    }\n",
              "\n",
              "    .dataframe thead th {\n",
              "        text-align: right;\n",
              "    }\n",
              "</style>\n",
              "<table border=\"1\" class=\"dataframe\">\n",
              "  <thead>\n",
              "    <tr style=\"text-align: right;\">\n",
              "      <th></th>\n",
              "      <th>duration</th>\n",
              "      <th>purpose</th>\n",
              "      <th>credit_amount</th>\n",
              "      <th>installment_commitment</th>\n",
              "      <th>residence_since</th>\n",
              "      <th>age</th>\n",
              "      <th>existing_credits</th>\n",
              "      <th>checking_status_'&lt;0'</th>\n",
              "      <th>checking_status_'&gt;=200'</th>\n",
              "      <th>checking_status_'no checking'</th>\n",
              "      <th>credit_history_'critical/other existing credit'</th>\n",
              "      <th>credit_history_'delayed previously'</th>\n",
              "      <th>credit_history_'existing paid'</th>\n",
              "      <th>credit_history_'no credits/all paid'</th>\n",
              "      <th>savings_status_'500&lt;=X&lt;1000'</th>\n",
              "      <th>savings_status_'&lt;100'</th>\n",
              "      <th>savings_status_'&gt;=1000'</th>\n",
              "      <th>savings_status_'no known savings'</th>\n",
              "      <th>employment_'4&lt;=X&lt;7'</th>\n",
              "      <th>employment_'&lt;1'</th>\n",
              "      <th>employment_'&gt;=7'</th>\n",
              "      <th>employment_unemployed</th>\n",
              "      <th>personal_status_'male div/sep'</th>\n",
              "      <th>personal_status_'male mar/wid'</th>\n",
              "      <th>personal_status_'male single'</th>\n",
              "      <th>property_magnitude_'no known property'</th>\n",
              "      <th>property_magnitude_'real estate'</th>\n",
              "      <th>property_magnitude_car</th>\n",
              "      <th>job_'unemp/unskilled non res'</th>\n",
              "      <th>job_'unskilled resident'</th>\n",
              "      <th>job_skilled</th>\n",
              "      <th>class_status_good</th>\n",
              "    </tr>\n",
              "  </thead>\n",
              "  <tbody>\n",
              "    <tr>\n",
              "      <th>0</th>\n",
              "      <td>18</td>\n",
              "      <td>7</td>\n",
              "      <td>1800</td>\n",
              "      <td>4</td>\n",
              "      <td>2</td>\n",
              "      <td>24</td>\n",
              "      <td>2</td>\n",
              "      <td>0</td>\n",
              "      <td>0</td>\n",
              "      <td>1</td>\n",
              "      <td>1</td>\n",
              "      <td>0</td>\n",
              "      <td>0</td>\n",
              "      <td>0</td>\n",
              "      <td>0</td>\n",
              "      <td>1</td>\n",
              "      <td>0</td>\n",
              "      <td>0</td>\n",
              "      <td>0</td>\n",
              "      <td>0</td>\n",
              "      <td>0</td>\n",
              "      <td>0</td>\n",
              "      <td>0</td>\n",
              "      <td>0</td>\n",
              "      <td>1</td>\n",
              "      <td>0</td>\n",
              "      <td>0</td>\n",
              "      <td>1</td>\n",
              "      <td>0</td>\n",
              "      <td>0</td>\n",
              "      <td>1</td>\n",
              "      <td>1</td>\n",
              "    </tr>\n",
              "    <tr>\n",
              "      <th>1</th>\n",
              "      <td>24</td>\n",
              "      <td>7</td>\n",
              "      <td>2439</td>\n",
              "      <td>4</td>\n",
              "      <td>4</td>\n",
              "      <td>35</td>\n",
              "      <td>1</td>\n",
              "      <td>1</td>\n",
              "      <td>0</td>\n",
              "      <td>0</td>\n",
              "      <td>0</td>\n",
              "      <td>0</td>\n",
              "      <td>1</td>\n",
              "      <td>0</td>\n",
              "      <td>0</td>\n",
              "      <td>1</td>\n",
              "      <td>0</td>\n",
              "      <td>0</td>\n",
              "      <td>0</td>\n",
              "      <td>1</td>\n",
              "      <td>0</td>\n",
              "      <td>0</td>\n",
              "      <td>0</td>\n",
              "      <td>0</td>\n",
              "      <td>0</td>\n",
              "      <td>0</td>\n",
              "      <td>1</td>\n",
              "      <td>0</td>\n",
              "      <td>0</td>\n",
              "      <td>0</td>\n",
              "      <td>1</td>\n",
              "      <td>0</td>\n",
              "    </tr>\n",
              "    <tr>\n",
              "      <th>2</th>\n",
              "      <td>36</td>\n",
              "      <td>8</td>\n",
              "      <td>2613</td>\n",
              "      <td>4</td>\n",
              "      <td>2</td>\n",
              "      <td>27</td>\n",
              "      <td>2</td>\n",
              "      <td>0</td>\n",
              "      <td>0</td>\n",
              "      <td>1</td>\n",
              "      <td>0</td>\n",
              "      <td>0</td>\n",
              "      <td>0</td>\n",
              "      <td>1</td>\n",
              "      <td>0</td>\n",
              "      <td>1</td>\n",
              "      <td>0</td>\n",
              "      <td>0</td>\n",
              "      <td>0</td>\n",
              "      <td>0</td>\n",
              "      <td>0</td>\n",
              "      <td>0</td>\n",
              "      <td>0</td>\n",
              "      <td>0</td>\n",
              "      <td>1</td>\n",
              "      <td>0</td>\n",
              "      <td>0</td>\n",
              "      <td>1</td>\n",
              "      <td>0</td>\n",
              "      <td>0</td>\n",
              "      <td>1</td>\n",
              "      <td>1</td>\n",
              "    </tr>\n",
              "    <tr>\n",
              "      <th>3</th>\n",
              "      <td>15</td>\n",
              "      <td>4</td>\n",
              "      <td>4623</td>\n",
              "      <td>3</td>\n",
              "      <td>2</td>\n",
              "      <td>40</td>\n",
              "      <td>1</td>\n",
              "      <td>0</td>\n",
              "      <td>0</td>\n",
              "      <td>1</td>\n",
              "      <td>0</td>\n",
              "      <td>0</td>\n",
              "      <td>1</td>\n",
              "      <td>0</td>\n",
              "      <td>0</td>\n",
              "      <td>0</td>\n",
              "      <td>0</td>\n",
              "      <td>0</td>\n",
              "      <td>0</td>\n",
              "      <td>0</td>\n",
              "      <td>0</td>\n",
              "      <td>0</td>\n",
              "      <td>0</td>\n",
              "      <td>0</td>\n",
              "      <td>1</td>\n",
              "      <td>0</td>\n",
              "      <td>0</td>\n",
              "      <td>0</td>\n",
              "      <td>0</td>\n",
              "      <td>0</td>\n",
              "      <td>0</td>\n",
              "      <td>0</td>\n",
              "    </tr>\n",
              "    <tr>\n",
              "      <th>4</th>\n",
              "      <td>21</td>\n",
              "      <td>5</td>\n",
              "      <td>3599</td>\n",
              "      <td>1</td>\n",
              "      <td>4</td>\n",
              "      <td>26</td>\n",
              "      <td>1</td>\n",
              "      <td>1</td>\n",
              "      <td>0</td>\n",
              "      <td>0</td>\n",
              "      <td>0</td>\n",
              "      <td>0</td>\n",
              "      <td>1</td>\n",
              "      <td>0</td>\n",
              "      <td>0</td>\n",
              "      <td>1</td>\n",
              "      <td>0</td>\n",
              "      <td>0</td>\n",
              "      <td>1</td>\n",
              "      <td>0</td>\n",
              "      <td>0</td>\n",
              "      <td>0</td>\n",
              "      <td>0</td>\n",
              "      <td>0</td>\n",
              "      <td>0</td>\n",
              "      <td>0</td>\n",
              "      <td>0</td>\n",
              "      <td>1</td>\n",
              "      <td>0</td>\n",
              "      <td>1</td>\n",
              "      <td>0</td>\n",
              "      <td>1</td>\n",
              "    </tr>\n",
              "  </tbody>\n",
              "</table>\n",
              "</div>"
            ],
            "text/plain": [
              "   duration  purpose  ...  job_skilled  class_status_good\n",
              "0        18        7  ...            1                  1\n",
              "1        24        7  ...            1                  0\n",
              "2        36        8  ...            1                  1\n",
              "3        15        4  ...            0                  0\n",
              "4        21        5  ...            0                  1\n",
              "\n",
              "[5 rows x 32 columns]"
            ]
          },
          "metadata": {
            "tags": []
          },
          "execution_count": 10
        }
      ]
    },
    {
      "cell_type": "code",
      "metadata": {
        "id": "RMxk3O3tQejF"
      },
      "source": [
        "import seaborn as sns\n",
        "plt.figure(figsize=(15,15))\n",
        "sns.heatmap(audit_data_encoded.corr(),vmin=-1,\n",
        "            vmax=1,\n",
        "            cmap='coolwarm',\n",
        "            annot=True);"
      ],
      "execution_count": null,
      "outputs": []
    },
    {
      "cell_type": "code",
      "metadata": {
        "id": "8WqwCbSd3t8Y"
      },
      "source": [
        "X = audit_data_encoded.drop('class_status_good', axis=1)\n",
        "y = audit_data_encoded.class_status_good"
      ],
      "execution_count": null,
      "outputs": []
    },
    {
      "cell_type": "code",
      "metadata": {
        "id": "JN5mhIIH4H6N"
      },
      "source": [
        "#split the train and test data\n",
        "X_train, X_test, y_train, y_test = train_test_split(X, y, test_size=0.2, random_state=42)"
      ],
      "execution_count": null,
      "outputs": []
    },
    {
      "cell_type": "code",
      "metadata": {
        "id": "c6D0DPKjOk44",
        "outputId": "a0903297-0cf0-4096-b87f-1145d723b5bc",
        "colab": {
          "base_uri": "https://localhost:8080/",
          "height": 34
        }
      },
      "source": [
        "X_train.shape"
      ],
      "execution_count": null,
      "outputs": [
        {
          "output_type": "execute_result",
          "data": {
            "text/plain": [
              "(640, 31)"
            ]
          },
          "metadata": {
            "tags": []
          },
          "execution_count": 14
        }
      ]
    },
    {
      "cell_type": "markdown",
      "metadata": {
        "id": "MtK1-RYR2lm0"
      },
      "source": [
        "# Build Models"
      ]
    },
    {
      "cell_type": "markdown",
      "metadata": {
        "id": "eBdbKans2qgE"
      },
      "source": [
        "**DecisionTreeClassifier**"
      ]
    },
    {
      "cell_type": "code",
      "metadata": {
        "id": "f8HzbXLpUCb9",
        "outputId": "33bd2053-6307-4c11-e07b-4a0ca3be1b00",
        "colab": {
          "base_uri": "https://localhost:8080/",
          "height": 34
        }
      },
      "source": [
        "model_dtc = DecisionTreeClassifier(random_state = 42,min_samples_split=20,max_depth=30)\n",
        "model_dtc.fit(X_train, y_train)\n",
        "pred_DTC = model_dtc.predict(X_test)\n",
        "print('accuracy Score:',accuracy_score(y_test,pred_DTC))"
      ],
      "execution_count": null,
      "outputs": [
        {
          "output_type": "stream",
          "text": [
            "accuracy Score: 0.675\n"
          ],
          "name": "stdout"
        }
      ]
    },
    {
      "cell_type": "markdown",
      "metadata": {
        "id": "dyCvw-My2syb"
      },
      "source": [
        "**RandomForestClassifier**"
      ]
    },
    {
      "cell_type": "code",
      "metadata": {
        "id": "Ktz7a98Y8ltN",
        "outputId": "63c73f46-e33a-4a5e-f252-7eaa69d33d15",
        "colab": {
          "base_uri": "https://localhost:8080/",
          "height": 34
        }
      },
      "source": [
        "rfc = RandomForestClassifier(n_estimators=200, random_state=42, n_jobs=-1,max_depth=15)\n",
        "rfc.fit(X_train, y_train)\n",
        "pred_rfc = rfc.predict(X_test)\n",
        "print(\"Accuracy score:\", accuracy_score(y_test,pred_rfc))"
      ],
      "execution_count": null,
      "outputs": [
        {
          "output_type": "stream",
          "text": [
            "Accuracy score: 0.7375\n"
          ],
          "name": "stdout"
        }
      ]
    },
    {
      "cell_type": "markdown",
      "metadata": {
        "id": "i-wFTIH_2yX6"
      },
      "source": [
        "**Implementing grid search in random forest model**"
      ]
    },
    {
      "cell_type": "code",
      "metadata": {
        "id": "Ex25dykkJ5-p"
      },
      "source": [
        "param_grid = {\n",
        "    'n_estimators' : [200,500],\n",
        "    'max_features':['auto','sqrt','log2'],\n",
        "    'max_depth':[4,5,6,7,8],\n",
        "    'criterion':['gini','entropy']\n",
        "}"
      ],
      "execution_count": null,
      "outputs": []
    },
    {
      "cell_type": "code",
      "metadata": {
        "id": "jRw-Ly_3KeUz",
        "outputId": "c27e6394-3870-449f-ac2c-27f7cec49f4a",
        "colab": {
          "base_uri": "https://localhost:8080/",
          "height": 407
        }
      },
      "source": [
        "CV_rfc = GridSearchCV(estimator=rfc,param_grid=param_grid,cv=5)\n",
        "CV_rfc.fit(X_train,y_train)"
      ],
      "execution_count": null,
      "outputs": [
        {
          "output_type": "execute_result",
          "data": {
            "text/plain": [
              "GridSearchCV(cv=5, error_score=nan,\n",
              "             estimator=RandomForestClassifier(bootstrap=True, ccp_alpha=0.0,\n",
              "                                              class_weight=None,\n",
              "                                              criterion='gini', max_depth=15,\n",
              "                                              max_features='auto',\n",
              "                                              max_leaf_nodes=None,\n",
              "                                              max_samples=None,\n",
              "                                              min_impurity_decrease=0.0,\n",
              "                                              min_impurity_split=None,\n",
              "                                              min_samples_leaf=1,\n",
              "                                              min_samples_split=2,\n",
              "                                              min_weight_fraction_leaf=0.0,\n",
              "                                              n_estimators=200, n_jobs=-1,\n",
              "                                              oob_score=False, random_state=42,\n",
              "                                              verbose=0, warm_start=False),\n",
              "             iid='deprecated', n_jobs=None,\n",
              "             param_grid={'criterion': ['gini', 'entropy'],\n",
              "                         'max_depth': [4, 5, 6, 7, 8],\n",
              "                         'max_features': ['auto', 'sqrt', 'log2'],\n",
              "                         'n_estimators': [200, 500]},\n",
              "             pre_dispatch='2*n_jobs', refit=True, return_train_score=False,\n",
              "             scoring=None, verbose=0)"
            ]
          },
          "metadata": {
            "tags": []
          },
          "execution_count": 21
        }
      ]
    },
    {
      "cell_type": "code",
      "metadata": {
        "id": "GT3c5S08L-4H",
        "outputId": "62794272-6b21-4874-a091-a35c27299ad9",
        "colab": {
          "base_uri": "https://localhost:8080/",
          "height": 87
        }
      },
      "source": [
        "CV_rfc.best_params_"
      ],
      "execution_count": null,
      "outputs": [
        {
          "output_type": "execute_result",
          "data": {
            "text/plain": [
              "{'criterion': 'gini',\n",
              " 'max_depth': 8,\n",
              " 'max_features': 'log2',\n",
              " 'n_estimators': 500}"
            ]
          },
          "metadata": {
            "tags": []
          },
          "execution_count": 22
        }
      ]
    },
    {
      "cell_type": "markdown",
      "metadata": {
        "id": "5j0EJ_rc2_6H"
      },
      "source": [
        "**RandomForestClassifier**"
      ]
    },
    {
      "cell_type": "code",
      "metadata": {
        "id": "5VlzSnfyMFlI"
      },
      "source": [
        "rfc1 = RandomForestClassifier(random_state=42,max_features='log2',n_estimators=500,max_depth=8,criterion='gini')"
      ],
      "execution_count": null,
      "outputs": []
    },
    {
      "cell_type": "code",
      "metadata": {
        "id": "ANIJGZI-MaaC",
        "outputId": "354c2382-f3c6-4b7a-e19e-647f683b4e01",
        "colab": {
          "base_uri": "https://localhost:8080/",
          "height": 158
        }
      },
      "source": [
        "rfc1.fit(X_train,y_train)"
      ],
      "execution_count": null,
      "outputs": [
        {
          "output_type": "execute_result",
          "data": {
            "text/plain": [
              "RandomForestClassifier(bootstrap=True, ccp_alpha=0.0, class_weight=None,\n",
              "                       criterion='gini', max_depth=8, max_features='log2',\n",
              "                       max_leaf_nodes=None, max_samples=None,\n",
              "                       min_impurity_decrease=0.0, min_impurity_split=None,\n",
              "                       min_samples_leaf=1, min_samples_split=2,\n",
              "                       min_weight_fraction_leaf=0.0, n_estimators=500,\n",
              "                       n_jobs=None, oob_score=False, random_state=42, verbose=0,\n",
              "                       warm_start=False)"
            ]
          },
          "metadata": {
            "tags": []
          },
          "execution_count": 24
        }
      ]
    },
    {
      "cell_type": "code",
      "metadata": {
        "id": "8OSxH7Q4MgO5",
        "outputId": "964a8d77-ba7e-47dd-eb77-b99b03ff2502",
        "colab": {
          "base_uri": "https://localhost:8080/",
          "height": 34
        }
      },
      "source": [
        "pred1 = rfc1.predict(X_test)\n",
        "print(\"accuracy score : \",accuracy_score(y_pred,pred1))"
      ],
      "execution_count": null,
      "outputs": [
        {
          "output_type": "stream",
          "text": [
            "accuracy score :  0.76875\n"
          ],
          "name": "stdout"
        }
      ]
    },
    {
      "cell_type": "code",
      "metadata": {
        "id": "tBVqxprwSX8k",
        "outputId": "3d4e1394-07fe-4602-fd8a-cb836daef264",
        "colab": {
          "base_uri": "https://localhost:8080/",
          "height": 264
        }
      },
      "source": [
        "plt.plot(X_test, y_test,'rx')\n",
        "plt.plot(X_test, pred_rfc, color='black')\n",
        "plt.show()"
      ],
      "execution_count": null,
      "outputs": [
        {
          "output_type": "display_data",
          "data": {
            "image/png": "[encoded data removed]",
            "text/plain": [
              "<Figure size 432x288 with 1 Axes>"
            ]
          },
          "metadata": {
            "tags": [],
            "needs_background": "light"
          }
        }
      ]
    },
    {
      "cell_type": "code",
      "metadata": {
        "id": "VMY0w6kESeUF",
        "outputId": "fd2c823b-2497-44bb-93cb-a74efe2653b9",
        "colab": {
          "base_uri": "https://localhost:8080/",
          "height": 294
        }
      },
      "source": [
        "feat_importances = pd.Series(rfc.feature_importances_, index=X_train.columns)\n",
        "sns.barplot(x=feat_importances, y=feat_importances.index)\n",
        "# Add labels to your graph\n",
        "plt.xlabel('Feature Importance Score')\n",
        "plt.ylabel('Features')\n",
        "plt.title(\"Visualizing Important Features\")\n",
        "#plt.legend()\n",
        "plt.show()"
      ],
      "execution_count": null,
      "outputs": [
        {
          "output_type": "display_data",
          "data": {
            "image/png": "[encoded data removed]",
            "text/plain": [
              "<Figure size 432x288 with 1 Axes>"
            ]
          },
          "metadata": {
            "tags": [],
            "needs_background": "light"
          }
        }
      ]
    },
    {
      "cell_type": "code",
      "metadata": {
        "id": "vsuxGCC5Siwi"
      },
      "source": [
        "from sklearn.feature_selection import SelectFromModel\n",
        "rf_sfm = SelectFromModel(rfc)\n",
        "# Train the selector\n",
        "rf_sfm = rf_sfm.fit(X_train, y_train)\n",
        "X_important_train = rf_sfm.transform(X_train)\n",
        "X_important_test = rf_sfm.transform(X_test)"
      ],
      "execution_count": null,
      "outputs": []
    },
    {
      "cell_type": "code",
      "metadata": {
        "id": "InXITrP1SoDe",
        "outputId": "74da755e-91dc-42f1-a10d-ef1089b80289",
        "colab": {
          "base_uri": "https://localhost:8080/",
          "height": 34
        }
      },
      "source": [
        "X_important_train.shape"
      ],
      "execution_count": null,
      "outputs": [
        {
          "output_type": "execute_result",
          "data": {
            "text/plain": [
              "(640, 8)"
            ]
          },
          "metadata": {
            "tags": []
          },
          "execution_count": 27
        }
      ]
    },
    {
      "cell_type": "code",
      "metadata": {
        "id": "9AvwQm-ySrp7",
        "outputId": "26c987a4-8e93-47a4-f754-42f7e806316d",
        "colab": {
          "base_uri": "https://localhost:8080/",
          "height": 34
        }
      },
      "source": [
        "rfc_clf_important = RandomForestClassifier(n_estimators=100, random_state=42, n_jobs=-1)\n",
        "rfc_clf_important.fit(X_important_train, y_train)\n",
        "pred_rfc_imp_feat = rfc_clf_important.predict(X_important_test)\n",
        "print('accuracy Score is: ', accuracy_score(y_test, pred_rfc_imp_feat)) "
      ],
      "execution_count": null,
      "outputs": [
        {
          "output_type": "stream",
          "text": [
            "accuracy Score is:  0.71875\n"
          ],
          "name": "stdout"
        }
      ]
    },
    {
      "cell_type": "markdown",
      "metadata": {
        "id": "Em6L8Yxd3T6R"
      },
      "source": [
        "**LogisticRegressionr**\n"
      ]
    },
    {
      "cell_type": "code",
      "metadata": {
        "id": "q7mAzOH2XrAV",
        "outputId": "b98dae2f-2aa0-49cc-8afb-0b85e79b3995",
        "colab": {
          "base_uri": "https://localhost:8080/",
          "height": 34
        }
      },
      "source": [
        "model_linear = linear_model.LogisticRegression(max_iter=200,C=2.5,random_state=42,solver='liblinear',penalty='l2')\n",
        "model_linear.fit(X_train,y_train)\n",
        "pred_linear = model_linear.predict(X_test)\n",
        "print('accuracy Score:',accuracy_score(y_test,pred_linear))"
      ],
      "execution_count": null,
      "outputs": [
        {
          "output_type": "stream",
          "text": [
            "accuracy Score: 0.7125\n"
          ],
          "name": "stdout"
        }
      ]
    },
    {
      "cell_type": "markdown",
      "metadata": {
        "id": "TMsvxXZq3huI"
      },
      "source": [
        "**AdaBoostClassifier**"
      ]
    },
    {
      "cell_type": "code",
      "metadata": {
        "id": "CPXa1Xpk1iBC",
        "outputId": "ee308688-fa5a-4478-933e-ee0cc91a1e97",
        "colab": {
          "base_uri": "https://localhost:8080/",
          "height": 34
        }
      },
      "source": [
        "from sklearn.ensemble import AdaBoostClassifier\n",
        "from sklearn.linear_model import LogisticRegression\n",
        "model_ada = AdaBoostClassifier(base_estimator=LogisticRegression(max_iter=300),learning_rate=0.7)\n",
        "model_ada.fit(X_train,y_train)\n",
        "pred_ada = model_ada.predict(X_test)\n",
        "print('accuracy Score:',accuracy_score(y_test,pred_ada))"
      ],
      "execution_count": null,
      "outputs": [
        {
          "output_type": "stream",
          "text": [
            "accuracy Score: 0.725\n"
          ],
          "name": "stdout"
        }
      ]
    },
    {
      "cell_type": "markdown",
      "metadata": {
        "id": "i8hNlOEBHpUO"
      },
      "source": [
        "# Implement testing in the test dataset"
      ]
    },
    {
      "cell_type": "code",
      "metadata": {
        "id": "oHcC-sG8Hmsd"
      },
      "source": [
        "test_data = pd.read_csv('https://raw.githubusercontent.com/dphi-official/Datasets/master/credit_risk/testing_set_labels.csv')"
      ],
      "execution_count": null,
      "outputs": []
    },
    {
      "cell_type": "code",
      "metadata": {
        "id": "tJy6Hg1lIHR2",
        "outputId": "4906b634-49ce-486a-b962-d50a01742529",
        "colab": {
          "base_uri": "https://localhost:8080/",
          "height": 271
        }
      },
      "source": [
        "test_data.head(4)"
      ],
      "execution_count": null,
      "outputs": [
        {
          "output_type": "execute_result",
          "data": {
            "text/html": [
              "<div>\n",
              "<style scoped>\n",
              "    .dataframe tbody tr th:only-of-type {\n",
              "        vertical-align: middle;\n",
              "    }\n",
              "\n",
              "    .dataframe tbody tr th {\n",
              "        vertical-align: top;\n",
              "    }\n",
              "\n",
              "    .dataframe thead th {\n",
              "        text-align: right;\n",
              "    }\n",
              "</style>\n",
              "<table border=\"1\" class=\"dataframe\">\n",
              "  <thead>\n",
              "    <tr style=\"text-align: right;\">\n",
              "      <th></th>\n",
              "      <th>checking_status</th>\n",
              "      <th>duration</th>\n",
              "      <th>credit_history</th>\n",
              "      <th>purpose</th>\n",
              "      <th>credit_amount</th>\n",
              "      <th>savings_status</th>\n",
              "      <th>employment</th>\n",
              "      <th>installment_commitment</th>\n",
              "      <th>personal_status</th>\n",
              "      <th>other_parties</th>\n",
              "      <th>residence_since</th>\n",
              "      <th>property_magnitude</th>\n",
              "      <th>age</th>\n",
              "      <th>other_payment_plans</th>\n",
              "      <th>housing</th>\n",
              "      <th>existing_credits</th>\n",
              "      <th>job</th>\n",
              "      <th>num_dependents</th>\n",
              "      <th>own_telephone</th>\n",
              "      <th>foreign_worker</th>\n",
              "    </tr>\n",
              "  </thead>\n",
              "  <tbody>\n",
              "    <tr>\n",
              "      <th>0</th>\n",
              "      <td>'no checking'</td>\n",
              "      <td>18</td>\n",
              "      <td>'existing paid'</td>\n",
              "      <td>'new car'</td>\n",
              "      <td>2662</td>\n",
              "      <td>'no known savings'</td>\n",
              "      <td>'4&lt;=X&lt;7'</td>\n",
              "      <td>4</td>\n",
              "      <td>'male single'</td>\n",
              "      <td>none</td>\n",
              "      <td>3</td>\n",
              "      <td>'life insurance'</td>\n",
              "      <td>32</td>\n",
              "      <td>none</td>\n",
              "      <td>own</td>\n",
              "      <td>1</td>\n",
              "      <td>skilled</td>\n",
              "      <td>1</td>\n",
              "      <td>none</td>\n",
              "      <td>no</td>\n",
              "    </tr>\n",
              "    <tr>\n",
              "      <th>1</th>\n",
              "      <td>'no checking'</td>\n",
              "      <td>18</td>\n",
              "      <td>'existing paid'</td>\n",
              "      <td>radio/tv</td>\n",
              "      <td>1505</td>\n",
              "      <td>'&lt;100'</td>\n",
              "      <td>'1&lt;=X&lt;4'</td>\n",
              "      <td>4</td>\n",
              "      <td>'male single'</td>\n",
              "      <td>none</td>\n",
              "      <td>2</td>\n",
              "      <td>'no known property'</td>\n",
              "      <td>32</td>\n",
              "      <td>none</td>\n",
              "      <td>'for free'</td>\n",
              "      <td>1</td>\n",
              "      <td>'high qualif/self emp/mgmt'</td>\n",
              "      <td>1</td>\n",
              "      <td>yes</td>\n",
              "      <td>yes</td>\n",
              "    </tr>\n",
              "    <tr>\n",
              "      <th>2</th>\n",
              "      <td>'no checking'</td>\n",
              "      <td>12</td>\n",
              "      <td>'delayed previously'</td>\n",
              "      <td>repairs</td>\n",
              "      <td>1555</td>\n",
              "      <td>'&gt;=1000'</td>\n",
              "      <td>'&gt;=7'</td>\n",
              "      <td>4</td>\n",
              "      <td>'male single'</td>\n",
              "      <td>none</td>\n",
              "      <td>4</td>\n",
              "      <td>'no known property'</td>\n",
              "      <td>55</td>\n",
              "      <td>none</td>\n",
              "      <td>'for free'</td>\n",
              "      <td>2</td>\n",
              "      <td>skilled</td>\n",
              "      <td>2</td>\n",
              "      <td>none</td>\n",
              "      <td>yes</td>\n",
              "    </tr>\n",
              "    <tr>\n",
              "      <th>3</th>\n",
              "      <td>'no checking'</td>\n",
              "      <td>15</td>\n",
              "      <td>'existing paid'</td>\n",
              "      <td>'new car'</td>\n",
              "      <td>3186</td>\n",
              "      <td>'&gt;=1000'</td>\n",
              "      <td>'4&lt;=X&lt;7'</td>\n",
              "      <td>2</td>\n",
              "      <td>'female div/dep/mar'</td>\n",
              "      <td>none</td>\n",
              "      <td>3</td>\n",
              "      <td>car</td>\n",
              "      <td>20</td>\n",
              "      <td>none</td>\n",
              "      <td>rent</td>\n",
              "      <td>1</td>\n",
              "      <td>skilled</td>\n",
              "      <td>1</td>\n",
              "      <td>none</td>\n",
              "      <td>yes</td>\n",
              "    </tr>\n",
              "  </tbody>\n",
              "</table>\n",
              "</div>"
            ],
            "text/plain": [
              "  checking_status  duration  ... own_telephone foreign_worker\n",
              "0   'no checking'        18  ...          none             no\n",
              "1   'no checking'        18  ...           yes            yes\n",
              "2   'no checking'        12  ...          none            yes\n",
              "3   'no checking'        15  ...          none            yes\n",
              "\n",
              "[4 rows x 20 columns]"
            ]
          },
          "metadata": {
            "tags": []
          },
          "execution_count": 32
        }
      ]
    },
    {
      "cell_type": "code",
      "metadata": {
        "id": "-Ro8Z1ShIFHE"
      },
      "source": [
        "#test_data=MultiColumnLabelEncoder(ColumnsToLabelEncode).fit_transform(test_data)\n",
        "test_data.drop(ColumnsToRemove, axis=1, inplace=True)\n",
        "test_data['purpose'] = labelencoder.fit_transform(test_data['purpose'])\n",
        "test_data_encoded = pd.get_dummies(test_data,drop_first=True)\n"
      ],
      "execution_count": null,
      "outputs": []
    },
    {
      "cell_type": "code",
      "metadata": {
        "id": "iecKOfBqNjAR",
        "outputId": "0f8f809c-bd0b-4259-bb83-39c6501605a4",
        "colab": {
          "base_uri": "https://localhost:8080/",
          "height": 204
        }
      },
      "source": [
        "test_data_encoded.head(4)"
      ],
      "execution_count": null,
      "outputs": [
        {
          "output_type": "execute_result",
          "data": {
            "text/html": [
              "<div>\n",
              "<style scoped>\n",
              "    .dataframe tbody tr th:only-of-type {\n",
              "        vertical-align: middle;\n",
              "    }\n",
              "\n",
              "    .dataframe tbody tr th {\n",
              "        vertical-align: top;\n",
              "    }\n",
              "\n",
              "    .dataframe thead th {\n",
              "        text-align: right;\n",
              "    }\n",
              "</style>\n",
              "<table border=\"1\" class=\"dataframe\">\n",
              "  <thead>\n",
              "    <tr style=\"text-align: right;\">\n",
              "      <th></th>\n",
              "      <th>duration</th>\n",
              "      <th>purpose</th>\n",
              "      <th>credit_amount</th>\n",
              "      <th>installment_commitment</th>\n",
              "      <th>residence_since</th>\n",
              "      <th>age</th>\n",
              "      <th>existing_credits</th>\n",
              "      <th>checking_status_'&lt;0'</th>\n",
              "      <th>checking_status_'&gt;=200'</th>\n",
              "      <th>checking_status_'no checking'</th>\n",
              "      <th>credit_history_'critical/other existing credit'</th>\n",
              "      <th>credit_history_'delayed previously'</th>\n",
              "      <th>credit_history_'existing paid'</th>\n",
              "      <th>credit_history_'no credits/all paid'</th>\n",
              "      <th>savings_status_'500&lt;=X&lt;1000'</th>\n",
              "      <th>savings_status_'&lt;100'</th>\n",
              "      <th>savings_status_'&gt;=1000'</th>\n",
              "      <th>savings_status_'no known savings'</th>\n",
              "      <th>employment_'4&lt;=X&lt;7'</th>\n",
              "      <th>employment_'&lt;1'</th>\n",
              "      <th>employment_'&gt;=7'</th>\n",
              "      <th>employment_unemployed</th>\n",
              "      <th>personal_status_'male div/sep'</th>\n",
              "      <th>personal_status_'male mar/wid'</th>\n",
              "      <th>personal_status_'male single'</th>\n",
              "      <th>property_magnitude_'no known property'</th>\n",
              "      <th>property_magnitude_'real estate'</th>\n",
              "      <th>property_magnitude_car</th>\n",
              "      <th>job_'unemp/unskilled non res'</th>\n",
              "      <th>job_'unskilled resident'</th>\n",
              "      <th>job_skilled</th>\n",
              "    </tr>\n",
              "  </thead>\n",
              "  <tbody>\n",
              "    <tr>\n",
              "      <th>0</th>\n",
              "      <td>18</td>\n",
              "      <td>1</td>\n",
              "      <td>2662</td>\n",
              "      <td>4</td>\n",
              "      <td>3</td>\n",
              "      <td>32</td>\n",
              "      <td>1</td>\n",
              "      <td>0</td>\n",
              "      <td>0</td>\n",
              "      <td>1</td>\n",
              "      <td>0</td>\n",
              "      <td>0</td>\n",
              "      <td>1</td>\n",
              "      <td>0</td>\n",
              "      <td>0</td>\n",
              "      <td>0</td>\n",
              "      <td>0</td>\n",
              "      <td>1</td>\n",
              "      <td>1</td>\n",
              "      <td>0</td>\n",
              "      <td>0</td>\n",
              "      <td>0</td>\n",
              "      <td>0</td>\n",
              "      <td>0</td>\n",
              "      <td>1</td>\n",
              "      <td>0</td>\n",
              "      <td>0</td>\n",
              "      <td>0</td>\n",
              "      <td>0</td>\n",
              "      <td>0</td>\n",
              "      <td>1</td>\n",
              "    </tr>\n",
              "    <tr>\n",
              "      <th>1</th>\n",
              "      <td>18</td>\n",
              "      <td>6</td>\n",
              "      <td>1505</td>\n",
              "      <td>4</td>\n",
              "      <td>2</td>\n",
              "      <td>32</td>\n",
              "      <td>1</td>\n",
              "      <td>0</td>\n",
              "      <td>0</td>\n",
              "      <td>1</td>\n",
              "      <td>0</td>\n",
              "      <td>0</td>\n",
              "      <td>1</td>\n",
              "      <td>0</td>\n",
              "      <td>0</td>\n",
              "      <td>1</td>\n",
              "      <td>0</td>\n",
              "      <td>0</td>\n",
              "      <td>0</td>\n",
              "      <td>0</td>\n",
              "      <td>0</td>\n",
              "      <td>0</td>\n",
              "      <td>0</td>\n",
              "      <td>0</td>\n",
              "      <td>1</td>\n",
              "      <td>1</td>\n",
              "      <td>0</td>\n",
              "      <td>0</td>\n",
              "      <td>0</td>\n",
              "      <td>0</td>\n",
              "      <td>0</td>\n",
              "    </tr>\n",
              "    <tr>\n",
              "      <th>2</th>\n",
              "      <td>12</td>\n",
              "      <td>7</td>\n",
              "      <td>1555</td>\n",
              "      <td>4</td>\n",
              "      <td>4</td>\n",
              "      <td>55</td>\n",
              "      <td>2</td>\n",
              "      <td>0</td>\n",
              "      <td>0</td>\n",
              "      <td>1</td>\n",
              "      <td>0</td>\n",
              "      <td>1</td>\n",
              "      <td>0</td>\n",
              "      <td>0</td>\n",
              "      <td>0</td>\n",
              "      <td>0</td>\n",
              "      <td>1</td>\n",
              "      <td>0</td>\n",
              "      <td>0</td>\n",
              "      <td>0</td>\n",
              "      <td>1</td>\n",
              "      <td>0</td>\n",
              "      <td>0</td>\n",
              "      <td>0</td>\n",
              "      <td>1</td>\n",
              "      <td>1</td>\n",
              "      <td>0</td>\n",
              "      <td>0</td>\n",
              "      <td>0</td>\n",
              "      <td>0</td>\n",
              "      <td>1</td>\n",
              "    </tr>\n",
              "    <tr>\n",
              "      <th>3</th>\n",
              "      <td>15</td>\n",
              "      <td>1</td>\n",
              "      <td>3186</td>\n",
              "      <td>2</td>\n",
              "      <td>3</td>\n",
              "      <td>20</td>\n",
              "      <td>1</td>\n",
              "      <td>0</td>\n",
              "      <td>0</td>\n",
              "      <td>1</td>\n",
              "      <td>0</td>\n",
              "      <td>0</td>\n",
              "      <td>1</td>\n",
              "      <td>0</td>\n",
              "      <td>0</td>\n",
              "      <td>0</td>\n",
              "      <td>1</td>\n",
              "      <td>0</td>\n",
              "      <td>1</td>\n",
              "      <td>0</td>\n",
              "      <td>0</td>\n",
              "      <td>0</td>\n",
              "      <td>0</td>\n",
              "      <td>0</td>\n",
              "      <td>0</td>\n",
              "      <td>0</td>\n",
              "      <td>0</td>\n",
              "      <td>1</td>\n",
              "      <td>0</td>\n",
              "      <td>0</td>\n",
              "      <td>1</td>\n",
              "    </tr>\n",
              "  </tbody>\n",
              "</table>\n",
              "</div>"
            ],
            "text/plain": [
              "   duration  purpose  ...  job_'unskilled resident'  job_skilled\n",
              "0        18        1  ...                         0            1\n",
              "1        18        6  ...                         0            0\n",
              "2        12        7  ...                         0            1\n",
              "3        15        1  ...                         0            1\n",
              "\n",
              "[4 rows x 31 columns]"
            ]
          },
          "metadata": {
            "tags": []
          },
          "execution_count": 34
        }
      ]
    },
    {
      "cell_type": "code",
      "metadata": {
        "id": "7yGuWdv1InwD"
      },
      "source": [
        "#random forest classifier\n",
        "target=rfc.predict(test_data_encoded) #accuracy 79"
      ],
      "execution_count": null,
      "outputs": []
    },
    {
      "cell_type": "code",
      "metadata": {
        "id": "6pJtZDP8WtaY"
      },
      "source": [
        "#adaboost\n",
        "target=model_ada.predict(test_data_encoded) # Accuracy 76.5"
      ],
      "execution_count": null,
      "outputs": []
    },
    {
      "cell_type": "code",
      "metadata": {
        "id": "BMpeKBb1M5xH"
      },
      "source": [
        "#random forest classifier with grid search view\n",
        "target=rfc1.predict(test_data_encoded) #accuracy 79"
      ],
      "execution_count": null,
      "outputs": []
    },
    {
      "cell_type": "code",
      "metadata": {
        "id": "wdXkczIxI-HC",
        "outputId": "daad8c25-127e-4323-e817-4b5278402e04",
        "colab": {
          "base_uri": "https://localhost:8080/",
          "height": 16
        }
      },
      "source": [
        "#store the result in file\n",
        "res = pd.DataFrame(target)\n",
        "res[0]=res[0].replace({1:'good',0:'bad'})\n",
        "res.index = test_data.index \n",
        "res.columns = [\"prediction\"]\n",
        "\n",
        "# To download the csv file locally\n",
        "from google.colab import files\n",
        "res.to_csv('auditsubmission.csv')         \n",
        "files.download('auditsubmission.csv')"
      ],
      "execution_count": null,
      "outputs": [
        {
          "output_type": "display_data",
          "data": {
            "application/javascript": [
              "\n",
              "    async function download(id, filename, size) {\n",
              "      if (!google.colab.kernel.accessAllowed) {\n",
              "        return;\n",
              "      }\n",
              "      const div = document.createElement('div');\n",
              "      const label = document.createElement('label');\n",
              "      label.textContent = `Downloading \"${filename}\": `;\n",
              "      div.appendChild(label);\n",
              "      const progress = document.createElement('progress');\n",
              "      progress.max = size;\n",
              "      div.appendChild(progress);\n",
              "      document.body.appendChild(div);\n",
              "\n",
              "      const buffers = [];\n",
              "      let downloaded = 0;\n",
              "\n",
              "      const channel = await google.colab.kernel.comms.open(id);\n",
              "      // Send a message to notify the kernel that we're ready.\n",
              "      channel.send({})\n",
              "\n",
              "      for await (const message of channel.messages) {\n",
              "        // Send a message to notify the kernel that we're ready.\n",
              "        channel.send({})\n",
              "        if (message.buffers) {\n",
              "          for (const buffer of message.buffers) {\n",
              "            buffers.push(buffer);\n",
              "            downloaded += buffer.byteLength;\n",
              "            progress.value = downloaded;\n",
              "          }\n",
              "        }\n",
              "      }\n",
              "      const blob = new Blob(buffers, {type: 'application/binary'});\n",
              "      const a = document.createElement('a');\n",
              "      a.href = window.URL.createObjectURL(blob);\n",
              "      a.download = filename;\n",
              "      div.appendChild(a);\n",
              "      a.click();\n",
              "      div.remove();\n",
              "    }\n",
              "  "
            ],
            "text/plain": [
              "<IPython.core.display.Javascript object>"
            ]
          },
          "metadata": {
            "tags": []
          }
        },
        {
          "output_type": "display_data",
          "data": {
            "application/javascript": [
              "download(\"download_d5b42be6-f61a-4425-9c46-e4f90e0d4f10\", \"auditsubmission.csv\", 1676)"
            ],
            "text/plain": [
              "<IPython.core.display.Javascript object>"
            ]
          },
          "metadata": {
            "tags": []
          }
        }
      ]
    },
    {
      "cell_type": "markdown",
      "metadata": {
        "id": "9ku_T2GB4M_w"
      },
      "source": [
        "**Conclusion : **\n",
        "\n",
        "In this notebook , I have tried different models and finally random forest classifier with grid search predicted accuracy score 0.79.\n",
        "\n",
        "We can improve data preprocessing to get better prediction"
      ]
    }
  ]
}