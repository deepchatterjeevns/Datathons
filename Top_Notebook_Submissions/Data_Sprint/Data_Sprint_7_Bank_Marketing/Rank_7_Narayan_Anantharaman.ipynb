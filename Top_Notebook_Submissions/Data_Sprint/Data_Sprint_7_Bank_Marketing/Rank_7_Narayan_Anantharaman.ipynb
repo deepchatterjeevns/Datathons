{
  "nbformat": 4,
  "nbformat_minor": 0,
  "metadata": {
    "kernelspec": {
      "display_name": "Python 3",
      "language": "python",
      "name": "python3"
    },
    "language_info": {
      "codemirror_mode": {
        "name": "ipython",
        "version": 3
      },
      "file_extension": ".py",
      "mimetype": "text/x-python",
      "name": "python",
      "nbconvert_exporter": "python",
      "pygments_lexer": "ipython3",
      "version": "3.7.6"
    },
    "colab": {
      "name": "Rank_7_Narayan_Anantharaman.ipynb",
      "provenance": [],
      "include_colab_link": true
    }
  },
  "cells": [
    {
      "cell_type": "markdown",
      "metadata": {
        "id": "view-in-github",
        "colab_type": "text"
      },
      "source": [
        "<a href=\"https://colab.research.google.com/github/dphi-official/Datathons/blob/master/Top_Notebook_Submissions/Data_Sprint/Data_Sprint_7/Rank_7_Narayan_Anantharaman.ipynb\" target=\"_parent\"><img src=\"https://colab.research.google.com/assets/colab-badge.svg\" alt=\"Open In Colab\"/></a>"
      ]
    },
    {
      "cell_type": "markdown",
      "metadata": {
        "id": "4kyLXNRaCyd8"
      },
      "source": [
        "# Portugal Bank Problem\n",
        "## Datathon # 7\n",
        "### Datathon URL: https://dphi.tech/practice/challenge/36\n",
        "### Notebook Author: Narayan Anantharaman\n",
        "\n",
        "#### LinkedIn handle: https://www.linkedin.com/in/narayan-anantharaman-7547a6161\n",
        "---\n",
        "\n",
        "## Loading all the necessary libraries"
      ]
    },
    {
      "cell_type": "code",
      "metadata": {
        "id": "9Mn1_Lq9CyeB"
      },
      "source": [
        "# Loading the libraries\n",
        "import pandas as pd\n",
        "import numpy as np"
      ],
      "execution_count": null,
      "outputs": []
    },
    {
      "cell_type": "code",
      "metadata": {
        "id": "0Xa7luQaCyeP"
      },
      "source": [
        "# Loading the dataset\n",
        "bank_marketing_data  = pd.read_csv(\"https://raw.githubusercontent.com/dphi-official/Datasets/master/bank_marketing_data/training_set_label.csv\",sep = \",\")"
      ],
      "execution_count": null,
      "outputs": []
    },
    {
      "cell_type": "code",
      "metadata": {
        "id": "-eNCJ5XECyed",
        "outputId": "351b2d54-abbc-453f-a95e-0512f1c41c0c"
      },
      "source": [
        "bank_marketing_data.head()"
      ],
      "execution_count": null,
      "outputs": [
        {
          "output_type": "execute_result",
          "data": {
            "text/html": [
              "<div>\n",
              "<style scoped>\n",
              "    .dataframe tbody tr th:only-of-type {\n",
              "        vertical-align: middle;\n",
              "    }\n",
              "\n",
              "    .dataframe tbody tr th {\n",
              "        vertical-align: top;\n",
              "    }\n",
              "\n",
              "    .dataframe thead th {\n",
              "        text-align: right;\n",
              "    }\n",
              "</style>\n",
              "<table border=\"1\" class=\"dataframe\">\n",
              "  <thead>\n",
              "    <tr style=\"text-align: right;\">\n",
              "      <th></th>\n",
              "      <th>age</th>\n",
              "      <th>job</th>\n",
              "      <th>marital</th>\n",
              "      <th>education</th>\n",
              "      <th>default</th>\n",
              "      <th>balance</th>\n",
              "      <th>housing</th>\n",
              "      <th>loan</th>\n",
              "      <th>contact</th>\n",
              "      <th>day</th>\n",
              "      <th>month</th>\n",
              "      <th>duration</th>\n",
              "      <th>campaign</th>\n",
              "      <th>pdays</th>\n",
              "      <th>previous</th>\n",
              "      <th>poutcome</th>\n",
              "      <th>subscribe</th>\n",
              "    </tr>\n",
              "  </thead>\n",
              "  <tbody>\n",
              "    <tr>\n",
              "      <th>0</th>\n",
              "      <td>58</td>\n",
              "      <td>management</td>\n",
              "      <td>married</td>\n",
              "      <td>tertiary</td>\n",
              "      <td>no</td>\n",
              "      <td>2143</td>\n",
              "      <td>yes</td>\n",
              "      <td>no</td>\n",
              "      <td>unknown</td>\n",
              "      <td>5</td>\n",
              "      <td>may</td>\n",
              "      <td>261</td>\n",
              "      <td>1</td>\n",
              "      <td>-1</td>\n",
              "      <td>0</td>\n",
              "      <td>unknown</td>\n",
              "      <td>0</td>\n",
              "    </tr>\n",
              "    <tr>\n",
              "      <th>1</th>\n",
              "      <td>44</td>\n",
              "      <td>technician</td>\n",
              "      <td>single</td>\n",
              "      <td>secondary</td>\n",
              "      <td>no</td>\n",
              "      <td>29</td>\n",
              "      <td>yes</td>\n",
              "      <td>no</td>\n",
              "      <td>unknown</td>\n",
              "      <td>5</td>\n",
              "      <td>may</td>\n",
              "      <td>151</td>\n",
              "      <td>1</td>\n",
              "      <td>-1</td>\n",
              "      <td>0</td>\n",
              "      <td>unknown</td>\n",
              "      <td>0</td>\n",
              "    </tr>\n",
              "    <tr>\n",
              "      <th>2</th>\n",
              "      <td>33</td>\n",
              "      <td>entrepreneur</td>\n",
              "      <td>married</td>\n",
              "      <td>secondary</td>\n",
              "      <td>no</td>\n",
              "      <td>2</td>\n",
              "      <td>yes</td>\n",
              "      <td>yes</td>\n",
              "      <td>unknown</td>\n",
              "      <td>5</td>\n",
              "      <td>may</td>\n",
              "      <td>76</td>\n",
              "      <td>1</td>\n",
              "      <td>-1</td>\n",
              "      <td>0</td>\n",
              "      <td>unknown</td>\n",
              "      <td>0</td>\n",
              "    </tr>\n",
              "    <tr>\n",
              "      <th>3</th>\n",
              "      <td>47</td>\n",
              "      <td>blue-collar</td>\n",
              "      <td>married</td>\n",
              "      <td>unknown</td>\n",
              "      <td>no</td>\n",
              "      <td>1506</td>\n",
              "      <td>yes</td>\n",
              "      <td>no</td>\n",
              "      <td>unknown</td>\n",
              "      <td>5</td>\n",
              "      <td>may</td>\n",
              "      <td>92</td>\n",
              "      <td>1</td>\n",
              "      <td>-1</td>\n",
              "      <td>0</td>\n",
              "      <td>unknown</td>\n",
              "      <td>0</td>\n",
              "    </tr>\n",
              "    <tr>\n",
              "      <th>4</th>\n",
              "      <td>33</td>\n",
              "      <td>unknown</td>\n",
              "      <td>single</td>\n",
              "      <td>unknown</td>\n",
              "      <td>no</td>\n",
              "      <td>1</td>\n",
              "      <td>no</td>\n",
              "      <td>no</td>\n",
              "      <td>unknown</td>\n",
              "      <td>5</td>\n",
              "      <td>may</td>\n",
              "      <td>198</td>\n",
              "      <td>1</td>\n",
              "      <td>-1</td>\n",
              "      <td>0</td>\n",
              "      <td>unknown</td>\n",
              "      <td>0</td>\n",
              "    </tr>\n",
              "  </tbody>\n",
              "</table>\n",
              "</div>"
            ],
            "text/plain": [
              "   age           job  marital  education default  balance housing loan  \\\n",
              "0   58    management  married   tertiary      no     2143     yes   no   \n",
              "1   44    technician   single  secondary      no       29     yes   no   \n",
              "2   33  entrepreneur  married  secondary      no        2     yes  yes   \n",
              "3   47   blue-collar  married    unknown      no     1506     yes   no   \n",
              "4   33       unknown   single    unknown      no        1      no   no   \n",
              "\n",
              "   contact  day month  duration  campaign  pdays  previous poutcome  subscribe  \n",
              "0  unknown    5   may       261         1     -1         0  unknown          0  \n",
              "1  unknown    5   may       151         1     -1         0  unknown          0  \n",
              "2  unknown    5   may        76         1     -1         0  unknown          0  \n",
              "3  unknown    5   may        92         1     -1         0  unknown          0  \n",
              "4  unknown    5   may       198         1     -1         0  unknown          0  "
            ]
          },
          "metadata": {
            "tags": []
          },
          "execution_count": 3
        }
      ]
    },
    {
      "cell_type": "code",
      "metadata": {
        "id": "7JlzWx4pCyer",
        "outputId": "e0b4946d-e150-4676-a000-cacfed22efd6"
      },
      "source": [
        "bank_marketing_data.isnull().sum()"
      ],
      "execution_count": null,
      "outputs": [
        {
          "output_type": "execute_result",
          "data": {
            "text/plain": [
              "age          0\n",
              "job          0\n",
              "marital      0\n",
              "education    0\n",
              "default      0\n",
              "balance      0\n",
              "housing      0\n",
              "loan         0\n",
              "contact      0\n",
              "day          0\n",
              "month        0\n",
              "duration     0\n",
              "campaign     0\n",
              "pdays        0\n",
              "previous     0\n",
              "poutcome     0\n",
              "subscribe    0\n",
              "dtype: int64"
            ]
          },
          "metadata": {
            "tags": []
          },
          "execution_count": 4
        }
      ]
    },
    {
      "cell_type": "code",
      "metadata": {
        "id": "qZswHJS-Cye0",
        "outputId": "1248bf52-c646-42e3-d1ad-b16a9ba6d432"
      },
      "source": [
        "bank_marketing_data.describe()"
      ],
      "execution_count": null,
      "outputs": [
        {
          "output_type": "execute_result",
          "data": {
            "text/html": [
              "<div>\n",
              "<style scoped>\n",
              "    .dataframe tbody tr th:only-of-type {\n",
              "        vertical-align: middle;\n",
              "    }\n",
              "\n",
              "    .dataframe tbody tr th {\n",
              "        vertical-align: top;\n",
              "    }\n",
              "\n",
              "    .dataframe thead th {\n",
              "        text-align: right;\n",
              "    }\n",
              "</style>\n",
              "<table border=\"1\" class=\"dataframe\">\n",
              "  <thead>\n",
              "    <tr style=\"text-align: right;\">\n",
              "      <th></th>\n",
              "      <th>age</th>\n",
              "      <th>balance</th>\n",
              "      <th>day</th>\n",
              "      <th>duration</th>\n",
              "      <th>campaign</th>\n",
              "      <th>pdays</th>\n",
              "      <th>previous</th>\n",
              "      <th>subscribe</th>\n",
              "    </tr>\n",
              "  </thead>\n",
              "  <tbody>\n",
              "    <tr>\n",
              "      <th>count</th>\n",
              "      <td>45211.000000</td>\n",
              "      <td>45211.000000</td>\n",
              "      <td>45211.000000</td>\n",
              "      <td>45211.000000</td>\n",
              "      <td>45211.000000</td>\n",
              "      <td>45211.000000</td>\n",
              "      <td>45211.000000</td>\n",
              "      <td>45211.000000</td>\n",
              "    </tr>\n",
              "    <tr>\n",
              "      <th>mean</th>\n",
              "      <td>40.936210</td>\n",
              "      <td>1362.272058</td>\n",
              "      <td>15.806419</td>\n",
              "      <td>258.163080</td>\n",
              "      <td>2.763841</td>\n",
              "      <td>40.197828</td>\n",
              "      <td>0.580323</td>\n",
              "      <td>0.116985</td>\n",
              "    </tr>\n",
              "    <tr>\n",
              "      <th>std</th>\n",
              "      <td>10.618762</td>\n",
              "      <td>3044.765829</td>\n",
              "      <td>8.322476</td>\n",
              "      <td>257.527812</td>\n",
              "      <td>3.098021</td>\n",
              "      <td>100.128746</td>\n",
              "      <td>2.303441</td>\n",
              "      <td>0.321406</td>\n",
              "    </tr>\n",
              "    <tr>\n",
              "      <th>min</th>\n",
              "      <td>18.000000</td>\n",
              "      <td>-8019.000000</td>\n",
              "      <td>1.000000</td>\n",
              "      <td>0.000000</td>\n",
              "      <td>1.000000</td>\n",
              "      <td>-1.000000</td>\n",
              "      <td>0.000000</td>\n",
              "      <td>0.000000</td>\n",
              "    </tr>\n",
              "    <tr>\n",
              "      <th>25%</th>\n",
              "      <td>33.000000</td>\n",
              "      <td>72.000000</td>\n",
              "      <td>8.000000</td>\n",
              "      <td>103.000000</td>\n",
              "      <td>1.000000</td>\n",
              "      <td>-1.000000</td>\n",
              "      <td>0.000000</td>\n",
              "      <td>0.000000</td>\n",
              "    </tr>\n",
              "    <tr>\n",
              "      <th>50%</th>\n",
              "      <td>39.000000</td>\n",
              "      <td>448.000000</td>\n",
              "      <td>16.000000</td>\n",
              "      <td>180.000000</td>\n",
              "      <td>2.000000</td>\n",
              "      <td>-1.000000</td>\n",
              "      <td>0.000000</td>\n",
              "      <td>0.000000</td>\n",
              "    </tr>\n",
              "    <tr>\n",
              "      <th>75%</th>\n",
              "      <td>48.000000</td>\n",
              "      <td>1428.000000</td>\n",
              "      <td>21.000000</td>\n",
              "      <td>319.000000</td>\n",
              "      <td>3.000000</td>\n",
              "      <td>-1.000000</td>\n",
              "      <td>0.000000</td>\n",
              "      <td>0.000000</td>\n",
              "    </tr>\n",
              "    <tr>\n",
              "      <th>max</th>\n",
              "      <td>95.000000</td>\n",
              "      <td>102127.000000</td>\n",
              "      <td>31.000000</td>\n",
              "      <td>4918.000000</td>\n",
              "      <td>63.000000</td>\n",
              "      <td>871.000000</td>\n",
              "      <td>275.000000</td>\n",
              "      <td>1.000000</td>\n",
              "    </tr>\n",
              "  </tbody>\n",
              "</table>\n",
              "</div>"
            ],
            "text/plain": [
              "                age        balance           day      duration      campaign  \\\n",
              "count  45211.000000   45211.000000  45211.000000  45211.000000  45211.000000   \n",
              "mean      40.936210    1362.272058     15.806419    258.163080      2.763841   \n",
              "std       10.618762    3044.765829      8.322476    257.527812      3.098021   \n",
              "min       18.000000   -8019.000000      1.000000      0.000000      1.000000   \n",
              "25%       33.000000      72.000000      8.000000    103.000000      1.000000   \n",
              "50%       39.000000     448.000000     16.000000    180.000000      2.000000   \n",
              "75%       48.000000    1428.000000     21.000000    319.000000      3.000000   \n",
              "max       95.000000  102127.000000     31.000000   4918.000000     63.000000   \n",
              "\n",
              "              pdays      previous     subscribe  \n",
              "count  45211.000000  45211.000000  45211.000000  \n",
              "mean      40.197828      0.580323      0.116985  \n",
              "std      100.128746      2.303441      0.321406  \n",
              "min       -1.000000      0.000000      0.000000  \n",
              "25%       -1.000000      0.000000      0.000000  \n",
              "50%       -1.000000      0.000000      0.000000  \n",
              "75%       -1.000000      0.000000      0.000000  \n",
              "max      871.000000    275.000000      1.000000  "
            ]
          },
          "metadata": {
            "tags": []
          },
          "execution_count": 5
        }
      ]
    },
    {
      "cell_type": "markdown",
      "metadata": {
        "id": "K8WveI9QCyfB"
      },
      "source": [
        "#### The above tables shows that there are possible outliers in the dataset since there is a huge difference between the 75th percentile and max values"
      ]
    },
    {
      "cell_type": "code",
      "metadata": {
        "id": "Opm8c-qNCyfE",
        "outputId": "6f03fbeb-8bcd-4974-fc6a-67fff4fe9baf"
      },
      "source": [
        "bank_marketing_data['subscribe'].unique()"
      ],
      "execution_count": null,
      "outputs": [
        {
          "output_type": "execute_result",
          "data": {
            "text/plain": [
              "array([0, 1], dtype=int64)"
            ]
          },
          "metadata": {
            "tags": []
          },
          "execution_count": 6
        }
      ]
    },
    {
      "cell_type": "markdown",
      "metadata": {
        "id": "fMV-EmkZCyfY"
      },
      "source": [
        "#### This shows that there are only 2 target outputs. 1 being subscribe and 0 being not subscribe"
      ]
    },
    {
      "cell_type": "code",
      "metadata": {
        "id": "pDM4s8olCyfd",
        "outputId": "c3414dba-b1b8-439a-a21e-725113fb1adf"
      },
      "source": [
        "bank_marketing_data['subscribe'].value_counts()"
      ],
      "execution_count": null,
      "outputs": [
        {
          "output_type": "execute_result",
          "data": {
            "text/plain": [
              "0    39922\n",
              "1     5289\n",
              "Name: subscribe, dtype: int64"
            ]
          },
          "metadata": {
            "tags": []
          },
          "execution_count": 7
        }
      ]
    },
    {
      "cell_type": "code",
      "metadata": {
        "id": "p5hxQh2XCyft",
        "outputId": "c90eb57b-031d-4aa4-f42a-40ac42be7b1a"
      },
      "source": [
        "bank_marketing_data.corr()"
      ],
      "execution_count": null,
      "outputs": [
        {
          "output_type": "execute_result",
          "data": {
            "text/html": [
              "<div>\n",
              "<style scoped>\n",
              "    .dataframe tbody tr th:only-of-type {\n",
              "        vertical-align: middle;\n",
              "    }\n",
              "\n",
              "    .dataframe tbody tr th {\n",
              "        vertical-align: top;\n",
              "    }\n",
              "\n",
              "    .dataframe thead th {\n",
              "        text-align: right;\n",
              "    }\n",
              "</style>\n",
              "<table border=\"1\" class=\"dataframe\">\n",
              "  <thead>\n",
              "    <tr style=\"text-align: right;\">\n",
              "      <th></th>\n",
              "      <th>age</th>\n",
              "      <th>balance</th>\n",
              "      <th>day</th>\n",
              "      <th>duration</th>\n",
              "      <th>campaign</th>\n",
              "      <th>pdays</th>\n",
              "      <th>previous</th>\n",
              "      <th>subscribe</th>\n",
              "    </tr>\n",
              "  </thead>\n",
              "  <tbody>\n",
              "    <tr>\n",
              "      <th>age</th>\n",
              "      <td>1.000000</td>\n",
              "      <td>0.097783</td>\n",
              "      <td>-0.009120</td>\n",
              "      <td>-0.004648</td>\n",
              "      <td>0.004760</td>\n",
              "      <td>-0.023758</td>\n",
              "      <td>0.001288</td>\n",
              "      <td>0.025155</td>\n",
              "    </tr>\n",
              "    <tr>\n",
              "      <th>balance</th>\n",
              "      <td>0.097783</td>\n",
              "      <td>1.000000</td>\n",
              "      <td>0.004503</td>\n",
              "      <td>0.021560</td>\n",
              "      <td>-0.014578</td>\n",
              "      <td>0.003435</td>\n",
              "      <td>0.016674</td>\n",
              "      <td>0.052838</td>\n",
              "    </tr>\n",
              "    <tr>\n",
              "      <th>day</th>\n",
              "      <td>-0.009120</td>\n",
              "      <td>0.004503</td>\n",
              "      <td>1.000000</td>\n",
              "      <td>-0.030206</td>\n",
              "      <td>0.162490</td>\n",
              "      <td>-0.093044</td>\n",
              "      <td>-0.051710</td>\n",
              "      <td>-0.028348</td>\n",
              "    </tr>\n",
              "    <tr>\n",
              "      <th>duration</th>\n",
              "      <td>-0.004648</td>\n",
              "      <td>0.021560</td>\n",
              "      <td>-0.030206</td>\n",
              "      <td>1.000000</td>\n",
              "      <td>-0.084570</td>\n",
              "      <td>-0.001565</td>\n",
              "      <td>0.001203</td>\n",
              "      <td>0.394521</td>\n",
              "    </tr>\n",
              "    <tr>\n",
              "      <th>campaign</th>\n",
              "      <td>0.004760</td>\n",
              "      <td>-0.014578</td>\n",
              "      <td>0.162490</td>\n",
              "      <td>-0.084570</td>\n",
              "      <td>1.000000</td>\n",
              "      <td>-0.088628</td>\n",
              "      <td>-0.032855</td>\n",
              "      <td>-0.073172</td>\n",
              "    </tr>\n",
              "    <tr>\n",
              "      <th>pdays</th>\n",
              "      <td>-0.023758</td>\n",
              "      <td>0.003435</td>\n",
              "      <td>-0.093044</td>\n",
              "      <td>-0.001565</td>\n",
              "      <td>-0.088628</td>\n",
              "      <td>1.000000</td>\n",
              "      <td>0.454820</td>\n",
              "      <td>0.103621</td>\n",
              "    </tr>\n",
              "    <tr>\n",
              "      <th>previous</th>\n",
              "      <td>0.001288</td>\n",
              "      <td>0.016674</td>\n",
              "      <td>-0.051710</td>\n",
              "      <td>0.001203</td>\n",
              "      <td>-0.032855</td>\n",
              "      <td>0.454820</td>\n",
              "      <td>1.000000</td>\n",
              "      <td>0.093236</td>\n",
              "    </tr>\n",
              "    <tr>\n",
              "      <th>subscribe</th>\n",
              "      <td>0.025155</td>\n",
              "      <td>0.052838</td>\n",
              "      <td>-0.028348</td>\n",
              "      <td>0.394521</td>\n",
              "      <td>-0.073172</td>\n",
              "      <td>0.103621</td>\n",
              "      <td>0.093236</td>\n",
              "      <td>1.000000</td>\n",
              "    </tr>\n",
              "  </tbody>\n",
              "</table>\n",
              "</div>"
            ],
            "text/plain": [
              "                age   balance       day  duration  campaign     pdays  \\\n",
              "age        1.000000  0.097783 -0.009120 -0.004648  0.004760 -0.023758   \n",
              "balance    0.097783  1.000000  0.004503  0.021560 -0.014578  0.003435   \n",
              "day       -0.009120  0.004503  1.000000 -0.030206  0.162490 -0.093044   \n",
              "duration  -0.004648  0.021560 -0.030206  1.000000 -0.084570 -0.001565   \n",
              "campaign   0.004760 -0.014578  0.162490 -0.084570  1.000000 -0.088628   \n",
              "pdays     -0.023758  0.003435 -0.093044 -0.001565 -0.088628  1.000000   \n",
              "previous   0.001288  0.016674 -0.051710  0.001203 -0.032855  0.454820   \n",
              "subscribe  0.025155  0.052838 -0.028348  0.394521 -0.073172  0.103621   \n",
              "\n",
              "           previous  subscribe  \n",
              "age        0.001288   0.025155  \n",
              "balance    0.016674   0.052838  \n",
              "day       -0.051710  -0.028348  \n",
              "duration   0.001203   0.394521  \n",
              "campaign  -0.032855  -0.073172  \n",
              "pdays      0.454820   0.103621  \n",
              "previous   1.000000   0.093236  \n",
              "subscribe  0.093236   1.000000  "
            ]
          },
          "metadata": {
            "tags": []
          },
          "execution_count": 8
        }
      ]
    },
    {
      "cell_type": "code",
      "metadata": {
        "id": "zw8pJu6UCyf6",
        "outputId": "d1f1797a-1e0b-4b27-a58c-32c231a81177"
      },
      "source": [
        "bank_marketing_data.shape"
      ],
      "execution_count": null,
      "outputs": [
        {
          "output_type": "execute_result",
          "data": {
            "text/plain": [
              "(45211, 17)"
            ]
          },
          "metadata": {
            "tags": []
          },
          "execution_count": 9
        }
      ]
    },
    {
      "cell_type": "markdown",
      "metadata": {
        "id": "YPyJv3QUCygG"
      },
      "source": [
        "### Extracting the categorical columns"
      ]
    },
    {
      "cell_type": "code",
      "metadata": {
        "id": "0jCsNTvjCygI"
      },
      "source": [
        "cat_cols = bank_marketing_data.select_dtypes(exclude = np.number)"
      ],
      "execution_count": null,
      "outputs": []
    },
    {
      "cell_type": "code",
      "metadata": {
        "id": "BI3Bv17_CygS",
        "outputId": "9635951d-ba10-43d0-cbcf-8e19a234d5e6"
      },
      "source": [
        "cat_cols"
      ],
      "execution_count": null,
      "outputs": [
        {
          "output_type": "execute_result",
          "data": {
            "text/html": [
              "<div>\n",
              "<style scoped>\n",
              "    .dataframe tbody tr th:only-of-type {\n",
              "        vertical-align: middle;\n",
              "    }\n",
              "\n",
              "    .dataframe tbody tr th {\n",
              "        vertical-align: top;\n",
              "    }\n",
              "\n",
              "    .dataframe thead th {\n",
              "        text-align: right;\n",
              "    }\n",
              "</style>\n",
              "<table border=\"1\" class=\"dataframe\">\n",
              "  <thead>\n",
              "    <tr style=\"text-align: right;\">\n",
              "      <th></th>\n",
              "      <th>job</th>\n",
              "      <th>marital</th>\n",
              "      <th>education</th>\n",
              "      <th>default</th>\n",
              "      <th>housing</th>\n",
              "      <th>loan</th>\n",
              "      <th>contact</th>\n",
              "      <th>month</th>\n",
              "      <th>poutcome</th>\n",
              "    </tr>\n",
              "  </thead>\n",
              "  <tbody>\n",
              "    <tr>\n",
              "      <th>0</th>\n",
              "      <td>management</td>\n",
              "      <td>married</td>\n",
              "      <td>tertiary</td>\n",
              "      <td>no</td>\n",
              "      <td>yes</td>\n",
              "      <td>no</td>\n",
              "      <td>unknown</td>\n",
              "      <td>may</td>\n",
              "      <td>unknown</td>\n",
              "    </tr>\n",
              "    <tr>\n",
              "      <th>1</th>\n",
              "      <td>technician</td>\n",
              "      <td>single</td>\n",
              "      <td>secondary</td>\n",
              "      <td>no</td>\n",
              "      <td>yes</td>\n",
              "      <td>no</td>\n",
              "      <td>unknown</td>\n",
              "      <td>may</td>\n",
              "      <td>unknown</td>\n",
              "    </tr>\n",
              "    <tr>\n",
              "      <th>2</th>\n",
              "      <td>entrepreneur</td>\n",
              "      <td>married</td>\n",
              "      <td>secondary</td>\n",
              "      <td>no</td>\n",
              "      <td>yes</td>\n",
              "      <td>yes</td>\n",
              "      <td>unknown</td>\n",
              "      <td>may</td>\n",
              "      <td>unknown</td>\n",
              "    </tr>\n",
              "    <tr>\n",
              "      <th>3</th>\n",
              "      <td>blue-collar</td>\n",
              "      <td>married</td>\n",
              "      <td>unknown</td>\n",
              "      <td>no</td>\n",
              "      <td>yes</td>\n",
              "      <td>no</td>\n",
              "      <td>unknown</td>\n",
              "      <td>may</td>\n",
              "      <td>unknown</td>\n",
              "    </tr>\n",
              "    <tr>\n",
              "      <th>4</th>\n",
              "      <td>unknown</td>\n",
              "      <td>single</td>\n",
              "      <td>unknown</td>\n",
              "      <td>no</td>\n",
              "      <td>no</td>\n",
              "      <td>no</td>\n",
              "      <td>unknown</td>\n",
              "      <td>may</td>\n",
              "      <td>unknown</td>\n",
              "    </tr>\n",
              "    <tr>\n",
              "      <th>...</th>\n",
              "      <td>...</td>\n",
              "      <td>...</td>\n",
              "      <td>...</td>\n",
              "      <td>...</td>\n",
              "      <td>...</td>\n",
              "      <td>...</td>\n",
              "      <td>...</td>\n",
              "      <td>...</td>\n",
              "      <td>...</td>\n",
              "    </tr>\n",
              "    <tr>\n",
              "      <th>45206</th>\n",
              "      <td>technician</td>\n",
              "      <td>married</td>\n",
              "      <td>tertiary</td>\n",
              "      <td>no</td>\n",
              "      <td>no</td>\n",
              "      <td>no</td>\n",
              "      <td>cellular</td>\n",
              "      <td>nov</td>\n",
              "      <td>unknown</td>\n",
              "    </tr>\n",
              "    <tr>\n",
              "      <th>45207</th>\n",
              "      <td>retired</td>\n",
              "      <td>divorced</td>\n",
              "      <td>primary</td>\n",
              "      <td>no</td>\n",
              "      <td>no</td>\n",
              "      <td>no</td>\n",
              "      <td>cellular</td>\n",
              "      <td>nov</td>\n",
              "      <td>unknown</td>\n",
              "    </tr>\n",
              "    <tr>\n",
              "      <th>45208</th>\n",
              "      <td>retired</td>\n",
              "      <td>married</td>\n",
              "      <td>secondary</td>\n",
              "      <td>no</td>\n",
              "      <td>no</td>\n",
              "      <td>no</td>\n",
              "      <td>cellular</td>\n",
              "      <td>nov</td>\n",
              "      <td>success</td>\n",
              "    </tr>\n",
              "    <tr>\n",
              "      <th>45209</th>\n",
              "      <td>blue-collar</td>\n",
              "      <td>married</td>\n",
              "      <td>secondary</td>\n",
              "      <td>no</td>\n",
              "      <td>no</td>\n",
              "      <td>no</td>\n",
              "      <td>telephone</td>\n",
              "      <td>nov</td>\n",
              "      <td>unknown</td>\n",
              "    </tr>\n",
              "    <tr>\n",
              "      <th>45210</th>\n",
              "      <td>entrepreneur</td>\n",
              "      <td>married</td>\n",
              "      <td>secondary</td>\n",
              "      <td>no</td>\n",
              "      <td>no</td>\n",
              "      <td>no</td>\n",
              "      <td>cellular</td>\n",
              "      <td>nov</td>\n",
              "      <td>other</td>\n",
              "    </tr>\n",
              "  </tbody>\n",
              "</table>\n",
              "<p>45211 rows × 9 columns</p>\n",
              "</div>"
            ],
            "text/plain": [
              "                job   marital  education default housing loan    contact  \\\n",
              "0        management   married   tertiary      no     yes   no    unknown   \n",
              "1        technician    single  secondary      no     yes   no    unknown   \n",
              "2      entrepreneur   married  secondary      no     yes  yes    unknown   \n",
              "3       blue-collar   married    unknown      no     yes   no    unknown   \n",
              "4           unknown    single    unknown      no      no   no    unknown   \n",
              "...             ...       ...        ...     ...     ...  ...        ...   \n",
              "45206    technician   married   tertiary      no      no   no   cellular   \n",
              "45207       retired  divorced    primary      no      no   no   cellular   \n",
              "45208       retired   married  secondary      no      no   no   cellular   \n",
              "45209   blue-collar   married  secondary      no      no   no  telephone   \n",
              "45210  entrepreneur   married  secondary      no      no   no   cellular   \n",
              "\n",
              "      month poutcome  \n",
              "0       may  unknown  \n",
              "1       may  unknown  \n",
              "2       may  unknown  \n",
              "3       may  unknown  \n",
              "4       may  unknown  \n",
              "...     ...      ...  \n",
              "45206   nov  unknown  \n",
              "45207   nov  unknown  \n",
              "45208   nov  success  \n",
              "45209   nov  unknown  \n",
              "45210   nov    other  \n",
              "\n",
              "[45211 rows x 9 columns]"
            ]
          },
          "metadata": {
            "tags": []
          },
          "execution_count": 11
        }
      ]
    },
    {
      "cell_type": "code",
      "metadata": {
        "id": "EhxTVFi5Cygj"
      },
      "source": [
        "categories = cat_cols.columns"
      ],
      "execution_count": null,
      "outputs": []
    },
    {
      "cell_type": "code",
      "metadata": {
        "id": "gpfFb0_RCygs",
        "outputId": "e3da10c6-3f8a-4a3c-f78e-068785430d44"
      },
      "source": [
        "categories"
      ],
      "execution_count": null,
      "outputs": [
        {
          "output_type": "execute_result",
          "data": {
            "text/plain": [
              "Index(['job', 'marital', 'education', 'default', 'housing', 'loan', 'contact',\n",
              "       'month', 'poutcome'],\n",
              "      dtype='object')"
            ]
          },
          "metadata": {
            "tags": []
          },
          "execution_count": 13
        }
      ]
    },
    {
      "cell_type": "markdown",
      "metadata": {
        "id": "4V2b9wdzCyg8"
      },
      "source": [
        "### Extracting Numeric columns"
      ]
    },
    {
      "cell_type": "code",
      "metadata": {
        "id": "u5m3IaFKCyg-"
      },
      "source": [
        "reg_cols = bank_marketing_data.select_dtypes(include = np.number)"
      ],
      "execution_count": null,
      "outputs": []
    },
    {
      "cell_type": "code",
      "metadata": {
        "id": "Om0UMf3DCyhM",
        "outputId": "6db457d2-98e7-4b51-fb28-31c9fe2ca1fe"
      },
      "source": [
        "reg_cols"
      ],
      "execution_count": null,
      "outputs": [
        {
          "output_type": "execute_result",
          "data": {
            "text/html": [
              "<div>\n",
              "<style scoped>\n",
              "    .dataframe tbody tr th:only-of-type {\n",
              "        vertical-align: middle;\n",
              "    }\n",
              "\n",
              "    .dataframe tbody tr th {\n",
              "        vertical-align: top;\n",
              "    }\n",
              "\n",
              "    .dataframe thead th {\n",
              "        text-align: right;\n",
              "    }\n",
              "</style>\n",
              "<table border=\"1\" class=\"dataframe\">\n",
              "  <thead>\n",
              "    <tr style=\"text-align: right;\">\n",
              "      <th></th>\n",
              "      <th>age</th>\n",
              "      <th>balance</th>\n",
              "      <th>day</th>\n",
              "      <th>duration</th>\n",
              "      <th>campaign</th>\n",
              "      <th>pdays</th>\n",
              "      <th>previous</th>\n",
              "      <th>subscribe</th>\n",
              "    </tr>\n",
              "  </thead>\n",
              "  <tbody>\n",
              "    <tr>\n",
              "      <th>0</th>\n",
              "      <td>58</td>\n",
              "      <td>2143</td>\n",
              "      <td>5</td>\n",
              "      <td>261</td>\n",
              "      <td>1</td>\n",
              "      <td>-1</td>\n",
              "      <td>0</td>\n",
              "      <td>0</td>\n",
              "    </tr>\n",
              "    <tr>\n",
              "      <th>1</th>\n",
              "      <td>44</td>\n",
              "      <td>29</td>\n",
              "      <td>5</td>\n",
              "      <td>151</td>\n",
              "      <td>1</td>\n",
              "      <td>-1</td>\n",
              "      <td>0</td>\n",
              "      <td>0</td>\n",
              "    </tr>\n",
              "    <tr>\n",
              "      <th>2</th>\n",
              "      <td>33</td>\n",
              "      <td>2</td>\n",
              "      <td>5</td>\n",
              "      <td>76</td>\n",
              "      <td>1</td>\n",
              "      <td>-1</td>\n",
              "      <td>0</td>\n",
              "      <td>0</td>\n",
              "    </tr>\n",
              "    <tr>\n",
              "      <th>3</th>\n",
              "      <td>47</td>\n",
              "      <td>1506</td>\n",
              "      <td>5</td>\n",
              "      <td>92</td>\n",
              "      <td>1</td>\n",
              "      <td>-1</td>\n",
              "      <td>0</td>\n",
              "      <td>0</td>\n",
              "    </tr>\n",
              "    <tr>\n",
              "      <th>4</th>\n",
              "      <td>33</td>\n",
              "      <td>1</td>\n",
              "      <td>5</td>\n",
              "      <td>198</td>\n",
              "      <td>1</td>\n",
              "      <td>-1</td>\n",
              "      <td>0</td>\n",
              "      <td>0</td>\n",
              "    </tr>\n",
              "    <tr>\n",
              "      <th>...</th>\n",
              "      <td>...</td>\n",
              "      <td>...</td>\n",
              "      <td>...</td>\n",
              "      <td>...</td>\n",
              "      <td>...</td>\n",
              "      <td>...</td>\n",
              "      <td>...</td>\n",
              "      <td>...</td>\n",
              "    </tr>\n",
              "    <tr>\n",
              "      <th>45206</th>\n",
              "      <td>51</td>\n",
              "      <td>825</td>\n",
              "      <td>17</td>\n",
              "      <td>977</td>\n",
              "      <td>3</td>\n",
              "      <td>-1</td>\n",
              "      <td>0</td>\n",
              "      <td>1</td>\n",
              "    </tr>\n",
              "    <tr>\n",
              "      <th>45207</th>\n",
              "      <td>71</td>\n",
              "      <td>1729</td>\n",
              "      <td>17</td>\n",
              "      <td>456</td>\n",
              "      <td>2</td>\n",
              "      <td>-1</td>\n",
              "      <td>0</td>\n",
              "      <td>1</td>\n",
              "    </tr>\n",
              "    <tr>\n",
              "      <th>45208</th>\n",
              "      <td>72</td>\n",
              "      <td>5715</td>\n",
              "      <td>17</td>\n",
              "      <td>1127</td>\n",
              "      <td>5</td>\n",
              "      <td>184</td>\n",
              "      <td>3</td>\n",
              "      <td>1</td>\n",
              "    </tr>\n",
              "    <tr>\n",
              "      <th>45209</th>\n",
              "      <td>57</td>\n",
              "      <td>668</td>\n",
              "      <td>17</td>\n",
              "      <td>508</td>\n",
              "      <td>4</td>\n",
              "      <td>-1</td>\n",
              "      <td>0</td>\n",
              "      <td>0</td>\n",
              "    </tr>\n",
              "    <tr>\n",
              "      <th>45210</th>\n",
              "      <td>37</td>\n",
              "      <td>2971</td>\n",
              "      <td>17</td>\n",
              "      <td>361</td>\n",
              "      <td>2</td>\n",
              "      <td>188</td>\n",
              "      <td>11</td>\n",
              "      <td>0</td>\n",
              "    </tr>\n",
              "  </tbody>\n",
              "</table>\n",
              "<p>45211 rows × 8 columns</p>\n",
              "</div>"
            ],
            "text/plain": [
              "       age  balance  day  duration  campaign  pdays  previous  subscribe\n",
              "0       58     2143    5       261         1     -1         0          0\n",
              "1       44       29    5       151         1     -1         0          0\n",
              "2       33        2    5        76         1     -1         0          0\n",
              "3       47     1506    5        92         1     -1         0          0\n",
              "4       33        1    5       198         1     -1         0          0\n",
              "...    ...      ...  ...       ...       ...    ...       ...        ...\n",
              "45206   51      825   17       977         3     -1         0          1\n",
              "45207   71     1729   17       456         2     -1         0          1\n",
              "45208   72     5715   17      1127         5    184         3          1\n",
              "45209   57      668   17       508         4     -1         0          0\n",
              "45210   37     2971   17       361         2    188        11          0\n",
              "\n",
              "[45211 rows x 8 columns]"
            ]
          },
          "metadata": {
            "tags": []
          },
          "execution_count": 15
        }
      ]
    },
    {
      "cell_type": "code",
      "metadata": {
        "id": "efrK_WEDCyhW",
        "outputId": "75560c60-0348-4df8-edb8-dae49670247e"
      },
      "source": [
        "reg_cols.columns"
      ],
      "execution_count": null,
      "outputs": [
        {
          "output_type": "execute_result",
          "data": {
            "text/plain": [
              "Index(['age', 'balance', 'day', 'duration', 'campaign', 'pdays', 'previous',\n",
              "       'subscribe'],\n",
              "      dtype='object')"
            ]
          },
          "metadata": {
            "tags": []
          },
          "execution_count": 16
        }
      ]
    },
    {
      "cell_type": "code",
      "metadata": {
        "id": "Y7QQL-qwCyhg",
        "outputId": "1396765f-eb28-4c82-de57-6d51062451db"
      },
      "source": [
        "bank_marketing_data.info()"
      ],
      "execution_count": null,
      "outputs": [
        {
          "output_type": "stream",
          "text": [
            "<class 'pandas.core.frame.DataFrame'>\n",
            "RangeIndex: 45211 entries, 0 to 45210\n",
            "Data columns (total 17 columns):\n",
            " #   Column     Non-Null Count  Dtype \n",
            "---  ------     --------------  ----- \n",
            " 0   age        45211 non-null  int64 \n",
            " 1   job        45211 non-null  object\n",
            " 2   marital    45211 non-null  object\n",
            " 3   education  45211 non-null  object\n",
            " 4   default    45211 non-null  object\n",
            " 5   balance    45211 non-null  int64 \n",
            " 6   housing    45211 non-null  object\n",
            " 7   loan       45211 non-null  object\n",
            " 8   contact    45211 non-null  object\n",
            " 9   day        45211 non-null  int64 \n",
            " 10  month      45211 non-null  object\n",
            " 11  duration   45211 non-null  int64 \n",
            " 12  campaign   45211 non-null  int64 \n",
            " 13  pdays      45211 non-null  int64 \n",
            " 14  previous   45211 non-null  int64 \n",
            " 15  poutcome   45211 non-null  object\n",
            " 16  subscribe  45211 non-null  int64 \n",
            "dtypes: int64(8), object(9)\n",
            "memory usage: 5.9+ MB\n"
          ],
          "name": "stdout"
        }
      ]
    },
    {
      "cell_type": "markdown",
      "metadata": {
        "id": "ZaDya8eZCyht"
      },
      "source": [
        "### Splitting the data into Input and Target Variables"
      ]
    },
    {
      "cell_type": "code",
      "metadata": {
        "id": "Pk3esAaYCyhv",
        "outputId": "ff16e728-d6c8-4d38-bed8-01cdce45a4ae"
      },
      "source": [
        "# Splitting data into input and target variables\n",
        "\n",
        "X = bank_marketing_data.drop('subscribe', axis = 1)\n",
        "y = bank_marketing_data['subscribe']\n",
        "\n",
        "print(\"X: \",X.shape, \"y: \",y.shape)"
      ],
      "execution_count": null,
      "outputs": [
        {
          "output_type": "stream",
          "text": [
            "X:  (45211, 16) y:  (45211,)\n"
          ],
          "name": "stdout"
        }
      ]
    },
    {
      "cell_type": "markdown",
      "metadata": {
        "id": "RCpxVEGGCyh6"
      },
      "source": [
        "### Performing One-Hot Encoding for the categorical columns"
      ]
    },
    {
      "cell_type": "code",
      "metadata": {
        "id": "Nfqjm7c9Cyh8"
      },
      "source": [
        "X_new = pd.get_dummies(data = X, columns = categories)"
      ],
      "execution_count": null,
      "outputs": []
    },
    {
      "cell_type": "code",
      "metadata": {
        "id": "ravPpZ2QCyiG"
      },
      "source": [
        "is_cat_cols_preset = X_new.select_dtypes(exclude = np.number)"
      ],
      "execution_count": null,
      "outputs": []
    },
    {
      "cell_type": "code",
      "metadata": {
        "id": "AugeQ-NrCyiN",
        "outputId": "91892344-6b01-4871-af7e-812fd189c320"
      },
      "source": [
        "is_cat_cols_preset"
      ],
      "execution_count": null,
      "outputs": [
        {
          "output_type": "execute_result",
          "data": {
            "text/html": [
              "<div>\n",
              "<style scoped>\n",
              "    .dataframe tbody tr th:only-of-type {\n",
              "        vertical-align: middle;\n",
              "    }\n",
              "\n",
              "    .dataframe tbody tr th {\n",
              "        vertical-align: top;\n",
              "    }\n",
              "\n",
              "    .dataframe thead th {\n",
              "        text-align: right;\n",
              "    }\n",
              "</style>\n",
              "<table border=\"1\" class=\"dataframe\">\n",
              "  <thead>\n",
              "    <tr style=\"text-align: right;\">\n",
              "      <th></th>\n",
              "    </tr>\n",
              "  </thead>\n",
              "  <tbody>\n",
              "    <tr>\n",
              "      <th>0</th>\n",
              "    </tr>\n",
              "    <tr>\n",
              "      <th>1</th>\n",
              "    </tr>\n",
              "    <tr>\n",
              "      <th>2</th>\n",
              "    </tr>\n",
              "    <tr>\n",
              "      <th>3</th>\n",
              "    </tr>\n",
              "    <tr>\n",
              "      <th>4</th>\n",
              "    </tr>\n",
              "    <tr>\n",
              "      <th>...</th>\n",
              "    </tr>\n",
              "    <tr>\n",
              "      <th>45206</th>\n",
              "    </tr>\n",
              "    <tr>\n",
              "      <th>45207</th>\n",
              "    </tr>\n",
              "    <tr>\n",
              "      <th>45208</th>\n",
              "    </tr>\n",
              "    <tr>\n",
              "      <th>45209</th>\n",
              "    </tr>\n",
              "    <tr>\n",
              "      <th>45210</th>\n",
              "    </tr>\n",
              "  </tbody>\n",
              "</table>\n",
              "<p>45211 rows × 0 columns</p>\n",
              "</div>"
            ],
            "text/plain": [
              "Empty DataFrame\n",
              "Columns: []\n",
              "Index: [0, 1, 2, 3, 4, 5, 6, 7, 8, 9, 10, 11, 12, 13, 14, 15, 16, 17, 18, 19, 20, 21, 22, 23, 24, 25, 26, 27, 28, 29, 30, 31, 32, 33, 34, 35, 36, 37, 38, 39, 40, 41, 42, 43, 44, 45, 46, 47, 48, 49, 50, 51, 52, 53, 54, 55, 56, 57, 58, 59, 60, 61, 62, 63, 64, 65, 66, 67, 68, 69, 70, 71, 72, 73, 74, 75, 76, 77, 78, 79, 80, 81, 82, 83, 84, 85, 86, 87, 88, 89, 90, 91, 92, 93, 94, 95, 96, 97, 98, 99, ...]\n",
              "\n",
              "[45211 rows x 0 columns]"
            ]
          },
          "metadata": {
            "tags": []
          },
          "execution_count": 21
        }
      ]
    },
    {
      "cell_type": "markdown",
      "metadata": {
        "id": "ZSp5xqhBCyiW"
      },
      "source": [
        "### Splitting the data into Train and Test set using ```sklearn's``` ```train_test_split```"
      ]
    },
    {
      "cell_type": "code",
      "metadata": {
        "id": "1vbrJdhmCyiY"
      },
      "source": [
        "# splitting the data into train and test set\n",
        "from sklearn.model_selection import train_test_split\n",
        "\n",
        "X_train, X_test, y_train, y_test = train_test_split(X_new, y, test_size = 0.3, random_state = 32)"
      ],
      "execution_count": null,
      "outputs": []
    },
    {
      "cell_type": "code",
      "metadata": {
        "id": "oUmBcDtdCyii"
      },
      "source": [
        "from sklearn.metrics import accuracy_score"
      ],
      "execution_count": null,
      "outputs": []
    },
    {
      "cell_type": "code",
      "metadata": {
        "id": "29G9VJ9LCyi5"
      },
      "source": [
        "from sklearn.tree import DecisionTreeClassifier"
      ],
      "execution_count": null,
      "outputs": []
    },
    {
      "cell_type": "code",
      "metadata": {
        "id": "DEqOvkaDCyjJ"
      },
      "source": [
        "dt_model = DecisionTreeClassifier()"
      ],
      "execution_count": null,
      "outputs": []
    },
    {
      "cell_type": "code",
      "metadata": {
        "id": "hTgqakQACyjT",
        "outputId": "6e80365a-89b7-481d-c9c7-931844b3f700"
      },
      "source": [
        "dt_model.fit(X_train, y_train)"
      ],
      "execution_count": null,
      "outputs": [
        {
          "output_type": "execute_result",
          "data": {
            "text/plain": [
              "DecisionTreeClassifier(ccp_alpha=0.0, class_weight=None, criterion='gini',\n",
              "                       max_depth=None, max_features=None, max_leaf_nodes=None,\n",
              "                       min_impurity_decrease=0.0, min_impurity_split=None,\n",
              "                       min_samples_leaf=1, min_samples_split=2,\n",
              "                       min_weight_fraction_leaf=0.0, presort='deprecated',\n",
              "                       random_state=None, splitter='best')"
            ]
          },
          "metadata": {
            "tags": []
          },
          "execution_count": 198
        }
      ]
    },
    {
      "cell_type": "code",
      "metadata": {
        "id": "TBU95h-KCyjd",
        "outputId": "0f190c6e-e474-49b0-d050-b1a788951147"
      },
      "source": [
        "from sklearn.metrics import f1_score\n",
        "\n",
        "y_pred_dt = model.predict(X_test)\n",
        "\n",
        "print('F1 Score is: ', np.sqrt(f1_score(y_test, y_pred_dt))) "
      ],
      "execution_count": null,
      "outputs": [
        {
          "output_type": "stream",
          "text": [
            "F1 Score is:  0.9121093978026837\n"
          ],
          "name": "stdout"
        }
      ]
    },
    {
      "cell_type": "markdown",
      "metadata": {
        "id": "sbpE-gy0Cyjl"
      },
      "source": [
        "### Loading the test data"
      ]
    },
    {
      "cell_type": "code",
      "metadata": {
        "id": "Ir2gJEd7Cyjn"
      },
      "source": [
        "test_data = pd.read_csv('https://raw.githubusercontent.com/dphi-official/Datasets/master/bank_marketing_data/testing_set_label.csv')"
      ],
      "execution_count": null,
      "outputs": []
    },
    {
      "cell_type": "markdown",
      "metadata": {
        "id": "nwsFdbr3Cyju"
      },
      "source": [
        "### Performing the One-Hot Encoding to the categoricals columns in the test data"
      ]
    },
    {
      "cell_type": "code",
      "metadata": {
        "id": "zQkRXvpcCyjw"
      },
      "source": [
        "test_data_new = pd.get_dummies(test_data, columns = categories)"
      ],
      "execution_count": null,
      "outputs": []
    },
    {
      "cell_type": "code",
      "metadata": {
        "id": "QVqCAuMuCyj9"
      },
      "source": [
        "y_pred_test_data_dt = dt_model.predict(test_data_new)"
      ],
      "execution_count": null,
      "outputs": []
    },
    {
      "cell_type": "code",
      "metadata": {
        "id": "XBCjwVNBCykK"
      },
      "source": [
        "from sklearn.ensemble import RandomForestClassifier\n",
        "\n",
        "rd_model = RandomForestClassifier()"
      ],
      "execution_count": null,
      "outputs": []
    },
    {
      "cell_type": "code",
      "metadata": {
        "id": "BjesWceYCykS",
        "outputId": "2f155f4a-4dd7-4090-a5d1-12fd51a463ec"
      },
      "source": [
        "rd_model.fit(X_train, y_train)"
      ],
      "execution_count": null,
      "outputs": [
        {
          "output_type": "execute_result",
          "data": {
            "text/plain": [
              "RandomForestClassifier(bootstrap=True, ccp_alpha=0.0, class_weight=None,\n",
              "                       criterion='gini', max_depth=None, max_features='auto',\n",
              "                       max_leaf_nodes=None, max_samples=None,\n",
              "                       min_impurity_decrease=0.0, min_impurity_split=None,\n",
              "                       min_samples_leaf=1, min_samples_split=2,\n",
              "                       min_weight_fraction_leaf=0.0, n_estimators=100,\n",
              "                       n_jobs=None, oob_score=False, random_state=None,\n",
              "                       verbose=0, warm_start=False)"
            ]
          },
          "metadata": {
            "tags": []
          },
          "execution_count": 204
        }
      ]
    },
    {
      "cell_type": "code",
      "metadata": {
        "id": "QiRLIJT8Cykc"
      },
      "source": [
        "y_pred_rd_original = rd_model.predict(X_test)"
      ],
      "execution_count": null,
      "outputs": []
    },
    {
      "cell_type": "code",
      "metadata": {
        "id": "c2ctfxvhCykl",
        "outputId": "d52d82f7-f544-4f5a-d928-a1361e07a8cf"
      },
      "source": [
        "accuracy_score(y_test, y_pred_rd_original)"
      ],
      "execution_count": null,
      "outputs": [
        {
          "output_type": "execute_result",
          "data": {
            "text/plain": [
              "0.9062223532881156"
            ]
          },
          "metadata": {
            "tags": []
          },
          "execution_count": 206
        }
      ]
    },
    {
      "cell_type": "code",
      "metadata": {
        "id": "0VrZAMaMCyk3"
      },
      "source": [
        "from sklearn.metrics import f1_score"
      ],
      "execution_count": null,
      "outputs": []
    },
    {
      "cell_type": "code",
      "metadata": {
        "id": "6859wD9VCylD",
        "outputId": "80ee8e07-a7ec-4884-d230-0055bb98dd12"
      },
      "source": [
        "print('F1 Score is: ', np.sqrt(f1_score(y_test, y_pred_rd_original))) "
      ],
      "execution_count": null,
      "outputs": [
        {
          "output_type": "stream",
          "text": [
            "F1 Score is:  0.7023012826654\n"
          ],
          "name": "stdout"
        }
      ]
    },
    {
      "cell_type": "code",
      "metadata": {
        "id": "ugsrEwzRCylM"
      },
      "source": [
        "y_pred_rd_test = rd_model.predict(test_data_new)"
      ],
      "execution_count": null,
      "outputs": []
    },
    {
      "cell_type": "markdown",
      "metadata": {
        "id": "IWuRL_hiCylY"
      },
      "source": [
        "### Snippet to create a ```.csv``` downlaod link for the dataframe"
      ]
    },
    {
      "cell_type": "code",
      "metadata": {
        "id": "OI9qVnESCyld",
        "outputId": "418731b8-5aa3-484c-e70f-3da1807b4d87"
      },
      "source": [
        "# import necessary libraries\n",
        "from IPython.display import HTML\n",
        "import base64  \n",
        "\n",
        "# Method to encode, decocde and create a HTML downlaod link\n",
        "def create_download_link( df, title = \"Download CSV file\", filename = \"y_pred_rf_rfe_td.csv\"):  \n",
        "    csv = df.to_csv()\n",
        "    b64 = base64.b64encode(csv.encode())\n",
        "    payload = b64.decode()\n",
        "    html = '<a download=\"{filename}\" href=\"data:text/csv;base64,{payload}\" target=\"_blank\">{title}</a>'\n",
        "    html = html.format(payload=payload,title=title,filename=filename)\n",
        "    return HTML(html)\n",
        "\n",
        "\n",
        "# Create a Dataframe\n",
        "res1 = pd.DataFrame(y_pred_rf_rfe_td)\n",
        "\n",
        "# Call the method to create a download hyperlink\n",
        "create_download_link(res1)"
      ],
      "execution_count": null,
      "outputs": [
        {
          "output_type": "execute_result",
          "data": {
            "text/html": [
              "<a download=\"y_pred_rf_rfe_td.csv\" href=\"data:text/csv;base64,LDANCjAsMA0KMSwwDQoyLDANCjMsMA0KNCwwDQo1LDANCjYsMA0KNywwDQo4LDANCjksMA0KMTAsMA0KMTEsMA0KMTIsMA0KMTMsMA0KMTQsMA0KMTUsMA0KMTYsMA0KMTcsMA0KMTgsMA0KMTksMA0KMjAsMA0KMjEsMA0KMjIsMA0KMjMsMA0KMjQsMQ0KMjUsMA0KMjYsMA0KMjcsMQ0KMjgsMQ0KMjksMA0KMzAsMQ0KMzEsMQ0KMzIsMQ0KMzMsMA0KMzQsMA0KMzUsMA0KMzYsMA0KMzcsMA0KMzgsMA0KMzksMA0KNDAsMA0KNDEsMA0KNDIsMA0KNDMsMQ0KNDQsMQ0KNDUsMA0KNDYsMA0KNDcsMQ0KNDgsMA0KNDksMA0KNTAsMA0KNTEsMA0KNTIsMA0KNTMsMA0KNTQsMA0KNTUsMA0KNTYsMA0KNTcsMA0KNTgsMA0KNTksMA0KNjAsMA0KNjEsMA0KNjIsMA0KNjMsMA0KNjQsMQ0KNjUsMA0KNjYsMA0KNjcsMA0KNjgsMA0KNjksMA0KNzAsMA0KNzEsMA0KNzIsMA0KNzMsMA0KNzQsMQ0KNzUsMA0KNzYsMA0KNzcsMQ0KNzgsMQ0KNzksMA0KODAsMA0KODEsMA0KODIsMA0KODMsMA0KODQsMA0KODUsMA0KODYsMQ0KODcsMA0KODgsMA0KODksMA0KOTAsMA0KOTEsMA0KOTIsMA0KOTMsMQ0KOTQsMA0KOTUsMA0KOTYsMA0KOTcsMA0KOTgsMA0KOTksMA0KMTAwLDANCjEwMSwwDQoxMDIsMA0KMTAzLDANCjEwNCwxDQoxMDUsMA0KMTA2LDANCjEwNywwDQoxMDgsMA0KMTA5LDANCjExMCwwDQoxMTEsMA0KMTEyLDANCjExMywwDQoxMTQsMA0KMTE1LDANCjExNiwwDQoxMTcsMA0KMTE4LDANCjExOSwxDQoxMjAsMA0KMTIxLDANCjEyMiwwDQoxMjMsMQ0KMTI0LDANCjEyNSwwDQoxMjYsMA0KMTI3LDANCjEyOCwwDQoxMjksMA0KMTMwLDANCjEzMSwwDQoxMzIsMQ0KMTMzLDANCjEzNCwwDQoxMzUsMA0KMTM2LDANCjEzNywwDQoxMzgsMA0KMTM5LDANCjE0MCwwDQoxNDEsMA0KMTQyLDANCjE0MywwDQoxNDQsMA0KMTQ1LDANCjE0NiwwDQoxNDcsMA0KMTQ4LDANCjE0OSwwDQoxNTAsMQ0KMTUxLDANCjE1MiwwDQoxNTMsMA0KMTU0LDANCjE1NSwwDQoxNTYsMA0KMTU3LDANCjE1OCwxDQoxNTksMA0KMTYwLDANCjE2MSwwDQoxNjIsMA0KMTYzLDANCjE2NCwwDQoxNjUsMA0KMTY2LDANCjE2NywwDQoxNjgsMA0KMTY5LDANCjE3MCwwDQoxNzEsMA0KMTcyLDANCjE3MywwDQoxNzQsMA0KMTc1LDANCjE3NiwwDQoxNzcsMA0KMTc4LDANCjE3OSwwDQoxODAsMA0KMTgxLDANCjE4MiwxDQoxODMsMA0KMTg0LDANCjE4NSwwDQoxODYsMA0KMTg3LDENCjE4OCwwDQoxODksMA0KMTkwLDANCjE5MSwwDQoxOTIsMQ0KMTkzLDANCjE5NCwwDQoxOTUsMQ0KMTk2LDANCjE5NywxDQoxOTgsMA0KMTk5LDANCjIwMCwwDQoyMDEsMA0KMjAyLDANCjIwMywwDQoyMDQsMA0KMjA1LDANCjIwNiwwDQoyMDcsMA0KMjA4LDENCjIwOSwwDQoyMTAsMA0KMjExLDANCjIxMiwwDQoyMTMsMA0KMjE0LDANCjIxNSwwDQoyMTYsMA0KMjE3LDANCjIxOCwwDQoyMTksMA0KMjIwLDANCjIyMSwwDQoyMjIsMA0KMjIzLDANCjIyNCwwDQoyMjUsMA0KMjI2LDANCjIyNywwDQoyMjgsMA0KMjI5LDANCjIzMCwwDQoyMzEsMA0KMjMyLDANCjIzMywwDQoyMzQsMA0KMjM1LDANCjIzNiwwDQoyMzcsMA0KMjM4LDANCjIzOSwwDQoyNDAsMA0KMjQxLDANCjI0MiwwDQoyNDMsMA0KMjQ0LDANCjI0NSwwDQoyNDYsMA0KMjQ3LDANCjI0OCwwDQoyNDksMA0KMjUwLDANCjI1MSwwDQoyNTIsMQ0KMjUzLDANCjI1NCwwDQoyNTUsMA0KMjU2LDANCjI1NywwDQoyNTgsMA0KMjU5LDANCjI2MCwwDQoyNjEsMA0KMjYyLDANCjI2MywwDQoyNjQsMA0KMjY1LDANCjI2NiwwDQoyNjcsMA0KMjY4LDANCjI2OSwwDQoyNzAsMA0KMjcxLDANCjI3MiwwDQoyNzMsMA0KMjc0LDANCjI3NSwwDQoyNzYsMA0KMjc3LDANCjI3OCwwDQoyNzksMA0KMjgwLDANCjI4MSwwDQoyODIsMA0KMjgzLDENCjI4NCwwDQoyODUsMA0KMjg2LDANCjI4NywwDQoyODgsMQ0KMjg5LDANCjI5MCwxDQoyOTEsMQ0KMjkyLDENCjI5MywxDQoyOTQsMQ0KMjk1LDANCjI5NiwwDQoyOTcsMA0KMjk4LDANCjI5OSwxDQozMDAsMA0KMzAxLDANCjMwMiwwDQozMDMsMA0KMzA0LDANCjMwNSwwDQozMDYsMA0KMzA3LDANCjMwOCwwDQozMDksMA0KMzEwLDANCjMxMSwxDQozMTIsMA0KMzEzLDANCjMxNCwwDQozMTUsMA0KMzE2LDANCjMxNywwDQozMTgsMA0KMzE5LDANCjMyMCwwDQozMjEsMQ0KMzIyLDANCjMyMywwDQozMjQsMA0KMzI1LDANCjMyNiwxDQozMjcsMQ0KMzI4LDANCjMyOSwwDQozMzAsMA0KMzMxLDANCjMzMiwwDQozMzMsMA0KMzM0LDANCjMzNSwwDQozMzYsMA0KMzM3LDANCjMzOCwwDQozMzksMA0KMzQwLDENCjM0MSwwDQozNDIsMA0KMzQzLDANCjM0NCwwDQozNDUsMA0KMzQ2LDANCjM0NywwDQozNDgsMA0KMzQ5LDANCjM1MCwwDQozNTEsMQ0KMzUyLDANCjM1MywwDQozNTQsMA0KMzU1LDANCjM1NiwwDQozNTcsMA0KMzU4LDANCjM1OSwwDQozNjAsMA0KMzYxLDENCjM2MiwxDQozNjMsMA0KMzY0LDANCjM2NSwwDQozNjYsMA0KMzY3LDANCjM2OCwwDQozNjksMA0KMzcwLDENCjM3MSwwDQozNzIsMA0KMzczLDANCjM3NCwwDQozNzUsMQ0KMzc2LDANCjM3NywwDQozNzgsMA0KMzc5LDANCjM4MCwwDQozODEsMA0KMzgyLDANCjM4MywwDQozODQsMA0KMzg1LDENCjM4NiwwDQozODcsMA0KMzg4LDANCjM4OSwwDQozOTAsMA0KMzkxLDANCjM5MiwwDQozOTMsMA0KMzk0LDENCjM5NSwwDQozOTYsMA0KMzk3LDANCjM5OCwwDQozOTksMA0KNDAwLDANCjQwMSwwDQo0MDIsMQ0KNDAzLDANCjQwNCwwDQo0MDUsMQ0KNDA2LDANCjQwNywwDQo0MDgsMQ0KNDA5LDANCjQxMCwwDQo0MTEsMA0KNDEyLDANCjQxMywwDQo0MTQsMA0KNDE1LDANCjQxNiwwDQo0MTcsMA0KNDE4LDANCjQxOSwwDQo0MjAsMA0KNDIxLDANCjQyMiwxDQo0MjMsMA0KNDI0LDANCjQyNSwwDQo0MjYsMA0KNDI3LDANCjQyOCwwDQo0MjksMA0KNDMwLDANCjQzMSwwDQo0MzIsMA0KNDMzLDANCjQzNCwwDQo0MzUsMA0KNDM2LDENCjQzNywwDQo0MzgsMA0KNDM5LDANCjQ0MCwwDQo0NDEsMA0KNDQyLDANCjQ0MywxDQo0NDQsMA0KNDQ1LDANCjQ0NiwwDQo0NDcsMA0KNDQ4LDANCjQ0OSwxDQo0NTAsMA0KNDUxLDANCjQ1MiwwDQo0NTMsMA0KNDU0LDANCjQ1NSwwDQo0NTYsMA0KNDU3LDENCjQ1OCwwDQo0NTksMA0KNDYwLDANCjQ2MSwwDQo0NjIsMA0KNDYzLDANCjQ2NCwwDQo0NjUsMA0KNDY2LDENCjQ2NywwDQo0NjgsMA0KNDY5LDANCjQ3MCwxDQo0NzEsMA0KNDcyLDANCjQ3MywwDQo0NzQsMA0KNDc1LDANCjQ3NiwwDQo0NzcsMA0KNDc4LDANCjQ3OSwwDQo0ODAsMA0KNDgxLDANCjQ4MiwwDQo0ODMsMA0KNDg0LDANCjQ4NSwxDQo0ODYsMQ0KNDg3LDENCjQ4OCwwDQo0ODksMA0KNDkwLDANCjQ5MSwwDQo0OTIsMA0KNDkzLDANCjQ5NCwwDQo0OTUsMA0KNDk2LDENCjQ5NywwDQo0OTgsMA0KNDk5LDANCjUwMCwwDQo1MDEsMA0KNTAyLDENCjUwMywwDQo1MDQsMA0KNTA1LDENCjUwNiwwDQo1MDcsMA0KNTA4LDANCjUwOSwwDQo1MTAsMQ0KNTExLDANCjUxMiwwDQo1MTMsMA0KNTE0LDANCjUxNSwwDQo1MTYsMA0KNTE3LDANCjUxOCwwDQo1MTksMA0KNTIwLDANCjUyMSwwDQo1MjIsMA0KNTIzLDANCjUyNCwwDQo1MjUsMA0KNTI2LDANCjUyNywwDQo1MjgsMA0KNTI5LDENCjUzMCwwDQo1MzEsMA0KNTMyLDANCjUzMywxDQo1MzQsMA0KNTM1LDANCjUzNiwwDQo1MzcsMA0KNTM4LDANCjUzOSwwDQo1NDAsMA0KNTQxLDANCjU0MiwwDQo1NDMsMA0KNTQ0LDANCjU0NSwwDQo1NDYsMA0KNTQ3LDANCjU0OCwwDQo1NDksMA0KNTUwLDENCjU1MSwxDQo1NTIsMA0KNTUzLDANCjU1NCwwDQo1NTUsMA0KNTU2LDANCjU1NywwDQo1NTgsMA0KNTU5LDANCjU2MCwwDQo1NjEsMA0KNTYyLDANCjU2MywwDQo1NjQsMA0KNTY1LDANCjU2NiwwDQo1NjcsMA0KNTY4LDANCjU2OSwwDQo1NzAsMA0KNTcxLDANCjU3MiwwDQo1NzMsMA0KNTc0LDENCjU3NSwwDQo1NzYsMA0KNTc3LDANCjU3OCwwDQo1NzksMA0KNTgwLDANCjU4MSwwDQo1ODIsMA0KNTgzLDANCjU4NCwwDQo1ODUsMA0KNTg2LDANCjU4NywwDQo1ODgsMA0KNTg5LDANCjU5MCwwDQo1OTEsMA0KNTkyLDANCjU5MywwDQo1OTQsMA0KNTk1LDANCjU5NiwxDQo1OTcsMA0KNTk4LDANCjU5OSwwDQo2MDAsMA0KNjAxLDANCjYwMiwwDQo2MDMsMA0KNjA0LDANCjYwNSwwDQo2MDYsMQ0KNjA3LDANCjYwOCwwDQo2MDksMA0KNjEwLDANCjYxMSwwDQo2MTIsMQ0KNjEzLDANCjYxNCwwDQo2MTUsMA0KNjE2LDANCjYxNywwDQo2MTgsMA0KNjE5LDANCjYyMCwwDQo2MjEsMA0KNjIyLDANCjYyMywxDQo2MjQsMA0KNjI1LDANCjYyNiwwDQo2MjcsMQ0KNjI4LDANCjYyOSwwDQo2MzAsMA0KNjMxLDANCjYzMiwxDQo2MzMsMA0KNjM0LDANCjYzNSwwDQo2MzYsMQ0KNjM3LDANCjYzOCwxDQo2MzksMA0KNjQwLDANCjY0MSwwDQo2NDIsMA0KNjQzLDANCjY0NCwwDQo2NDUsMA0KNjQ2LDANCjY0NywwDQo2NDgsMA0KNjQ5LDANCjY1MCwwDQo2NTEsMA0KNjUyLDANCjY1MywwDQo2NTQsMQ0KNjU1LDANCjY1NiwwDQo2NTcsMA0KNjU4LDANCjY1OSwwDQo2NjAsMA0KNjYxLDANCjY2MiwwDQo2NjMsMA0KNjY0LDANCjY2NSwwDQo2NjYsMA0KNjY3LDANCjY2OCwwDQo2NjksMA0KNjcwLDANCjY3MSwwDQo2NzIsMA0KNjczLDANCjY3NCwwDQo2NzUsMA0KNjc2LDANCjY3NywxDQo2NzgsMA0KNjc5LDANCjY4MCwwDQo2ODEsMA0KNjgyLDANCjY4MywwDQo2ODQsMA0KNjg1LDANCjY4NiwwDQo2ODcsMA0KNjg4LDANCjY4OSwwDQo2OTAsMA0KNjkxLDANCjY5MiwwDQo2OTMsMA0KNjk0LDANCjY5NSwxDQo2OTYsMA0KNjk3LDENCjY5OCwxDQo2OTksMA0KNzAwLDANCjcwMSwwDQo3MDIsMA0KNzAzLDANCjcwNCwwDQo3MDUsMA0KNzA2LDANCjcwNywwDQo3MDgsMA0KNzA5LDANCjcxMCwwDQo3MTEsMA0KNzEyLDANCjcxMywwDQo3MTQsMA0KNzE1LDANCjcxNiwwDQo3MTcsMA0KNzE4LDANCjcxOSwwDQo3MjAsMA0KNzIxLDANCjcyMiwwDQo3MjMsMA0KNzI0LDANCjcyNSwxDQo3MjYsMA0KNzI3LDANCjcyOCwwDQo3MjksMA0KNzMwLDENCjczMSwwDQo3MzIsMA0KNzMzLDANCjczNCwxDQo3MzUsMA0KNzM2LDENCjczNywwDQo3MzgsMA0KNzM5LDANCjc0MCwwDQo3NDEsMA0KNzQyLDANCjc0MywwDQo3NDQsMA0KNzQ1LDANCjc0NiwwDQo3NDcsMA0KNzQ4LDANCjc0OSwxDQo3NTAsMA0KNzUxLDANCjc1MiwwDQo3NTMsMA0KNzU0LDANCjc1NSwwDQo3NTYsMA0KNzU3LDANCjc1OCwwDQo3NTksMA0KNzYwLDANCjc2MSwwDQo3NjIsMA0KNzYzLDANCjc2NCwwDQo3NjUsMA0KNzY2LDANCjc2NywwDQo3NjgsMA0KNzY5LDANCjc3MCwwDQo3NzEsMA0KNzcyLDANCjc3MywwDQo3NzQsMA0KNzc1LDANCjc3NiwwDQo3NzcsMA0KNzc4LDANCjc3OSwwDQo3ODAsMA0KNzgxLDANCjc4MiwwDQo3ODMsMA0KNzg0LDANCjc4NSwwDQo3ODYsMA0KNzg3LDENCjc4OCwwDQo3ODksMA0KNzkwLDANCjc5MSwwDQo3OTIsMA0KNzkzLDANCjc5NCwwDQo3OTUsMA0KNzk2LDANCjc5NywwDQo3OTgsMA0KNzk5LDANCjgwMCwwDQo4MDEsMA0KODAyLDENCjgwMywwDQo4MDQsMA0KODA1LDANCjgwNiwwDQo4MDcsMA0KODA4LDANCjgwOSwwDQo4MTAsMA0KODExLDANCjgxMiwwDQo4MTMsMA0KODE0LDANCjgxNSwwDQo4MTYsMQ0KODE3LDANCjgxOCwwDQo4MTksMA0KODIwLDANCjgyMSwwDQo4MjIsMA0KODIzLDANCjgyNCwwDQo4MjUsMA0KODI2LDANCjgyNywwDQo4MjgsMA0KODI5LDANCjgzMCwxDQo4MzEsMA0KODMyLDANCjgzMywwDQo4MzQsMA0KODM1LDANCjgzNiwwDQo4MzcsMA0KODM4LDANCjgzOSwwDQo4NDAsMA0KODQxLDANCjg0MiwxDQo4NDMsMA0KODQ0LDANCjg0NSwwDQo4NDYsMA0KODQ3LDANCjg0OCwxDQo4NDksMA0KODUwLDANCjg1MSwwDQo4NTIsMA0KODUzLDANCjg1NCwwDQo4NTUsMQ0KODU2LDANCjg1NywwDQo4NTgsMA0KODU5LDANCjg2MCwwDQo4NjEsMA0KODYyLDANCjg2MywwDQo4NjQsMQ0KODY1LDANCjg2NiwwDQo4NjcsMA0KODY4LDANCjg2OSwwDQo4NzAsMA0KODcxLDANCjg3MiwwDQo4NzMsMQ0KODc0LDANCjg3NSwwDQo4NzYsMA0KODc3LDANCjg3OCwwDQo4NzksMA0KODgwLDANCjg4MSwwDQo4ODIsMA0KODgzLDANCjg4NCwwDQo4ODUsMQ0KODg2LDANCjg4NywwDQo4ODgsMA0KODg5LDANCjg5MCwwDQo4OTEsMA0KODkyLDANCjg5MywwDQo4OTQsMA0KODk1LDANCjg5NiwwDQo4OTcsMA0KODk4LDENCjg5OSwwDQo5MDAsMA0KOTAxLDANCjkwMiwwDQo5MDMsMA0KOTA0LDANCjkwNSwwDQo5MDYsMA0KOTA3LDANCjkwOCwwDQo5MDksMA0KOTEwLDANCjkxMSwwDQo5MTIsMA0KOTEzLDANCjkxNCwwDQo5MTUsMA0KOTE2LDANCjkxNywwDQo5MTgsMA0KOTE5LDANCjkyMCwwDQo5MjEsMA0KOTIyLDANCjkyMywwDQo5MjQsMA0KOTI1LDANCjkyNiwwDQo5MjcsMA0KOTI4LDANCjkyOSwxDQo5MzAsMA0KOTMxLDANCjkzMiwwDQo5MzMsMA0KOTM0LDENCjkzNSwwDQo5MzYsMA0KOTM3LDENCjkzOCwwDQo5MzksMA0KOTQwLDANCjk0MSwwDQo5NDIsMA0KOTQzLDANCjk0NCwwDQo5NDUsMA0KOTQ2LDANCjk0NywwDQo5NDgsMA0KOTQ5LDANCjk1MCwwDQo5NTEsMA0KOTUyLDANCjk1MywwDQo5NTQsMA0KOTU1LDANCjk1NiwwDQo5NTcsMA0KOTU4LDENCjk1OSwwDQo5NjAsMA0KOTYxLDANCjk2MiwwDQo5NjMsMQ0KOTY0LDANCjk2NSwwDQo5NjYsMA0KOTY3LDANCjk2OCwxDQo5NjksMA0KOTcwLDANCjk3MSwwDQo5NzIsMA0KOTczLDENCjk3NCwwDQo5NzUsMA0KOTc2LDANCjk3NywxDQo5NzgsMA0KOTc5LDANCjk4MCwwDQo5ODEsMA0KOTgyLDANCjk4MywwDQo5ODQsMQ0KOTg1LDANCjk4NiwwDQo5ODcsMA0KOTg4LDANCjk4OSwwDQo5OTAsMA0KOTkxLDANCjk5MiwwDQo5OTMsMA0KOTk0LDANCjk5NSwwDQo5OTYsMA0KOTk3LDANCjk5OCwwDQo5OTksMA0KMTAwMCwxDQoxMDAxLDANCjEwMDIsMA0KMTAwMywwDQoxMDA0LDANCjEwMDUsMA0KMTAwNiwwDQoxMDA3LDANCjEwMDgsMA0KMTAwOSwwDQoxMDEwLDENCjEwMTEsMA0KMTAxMiwxDQoxMDEzLDENCjEwMTQsMQ0KMTAxNSwwDQoxMDE2LDANCjEwMTcsMA0KMTAxOCwwDQoxMDE5LDANCjEwMjAsMA0KMTAyMSwwDQoxMDIyLDANCjEwMjMsMA0KMTAyNCwwDQoxMDI1LDANCjEwMjYsMA0KMTAyNywwDQoxMDI4LDANCjEwMjksMA0KMTAzMCwwDQoxMDMxLDANCjEwMzIsMA0KMTAzMywxDQoxMDM0LDANCjEwMzUsMA0KMTAzNiwwDQoxMDM3LDANCjEwMzgsMA0KMTAzOSwwDQoxMDQwLDANCjEwNDEsMQ0KMTA0MiwwDQoxMDQzLDANCjEwNDQsMA0KMTA0NSwwDQoxMDQ2LDANCjEwNDcsMA0KMTA0OCwwDQoxMDQ5LDENCjEwNTAsMA0KMTA1MSwwDQoxMDUyLDANCjEwNTMsMQ0KMTA1NCwwDQoxMDU1LDANCjEwNTYsMA0KMTA1NywwDQoxMDU4LDANCjEwNTksMA0KMTA2MCwwDQoxMDYxLDANCjEwNjIsMA0KMTA2MywwDQoxMDY0LDANCjEwNjUsMA0KMTA2NiwwDQoxMDY3LDANCjEwNjgsMA0KMTA2OSwwDQoxMDcwLDENCjEwNzEsMA0KMTA3MiwwDQoxMDczLDANCjEwNzQsMA0KMTA3NSwwDQoxMDc2LDENCjEwNzcsMA0KMTA3OCwxDQoxMDc5LDANCjEwODAsMA0KMTA4MSwwDQoxMDgyLDANCjEwODMsMA0KMTA4NCwwDQoxMDg1LDANCjEwODYsMA0KMTA4NywxDQoxMDg4LDANCjEwODksMA0KMTA5MCwwDQoxMDkxLDANCjEwOTIsMA0KMTA5MywwDQoxMDk0LDANCjEwOTUsMA0KMTA5NiwwDQoxMDk3LDANCjEwOTgsMA0KMTA5OSwwDQoxMTAwLDANCjExMDEsMA0KMTEwMiwxDQoxMTAzLDANCjExMDQsMA0KMTEwNSwwDQoxMTA2LDANCjExMDcsMA0KMTEwOCwwDQoxMTA5LDANCjExMTAsMA0KMTExMSwwDQoxMTEyLDANCjExMTMsMA0KMTExNCwwDQoxMTE1LDANCjExMTYsMA0KMTExNywxDQoxMTE4LDANCjExMTksMA0KMTEyMCwwDQoxMTIxLDANCjExMjIsMA0KMTEyMywwDQoxMTI0LDANCjExMjUsMA0KMTEyNiwwDQoxMTI3LDANCjExMjgsMQ0KMTEyOSwwDQoxMTMwLDANCjExMzEsMA0KMTEzMiwwDQoxMTMzLDANCjExMzQsMA0KMTEzNSwxDQoxMTM2LDANCjExMzcsMA0KMTEzOCwwDQoxMTM5LDANCjExNDAsMA0KMTE0MSwwDQoxMTQyLDANCjExNDMsMA0KMTE0NCwxDQoxMTQ1LDANCjExNDYsMA0KMTE0NywwDQoxMTQ4LDANCjExNDksMA0KMTE1MCwwDQoxMTUxLDANCjExNTIsMA0KMTE1MywwDQoxMTU0LDANCjExNTUsMA0KMTE1NiwwDQoxMTU3LDANCjExNTgsMA0KMTE1OSwxDQoxMTYwLDANCjExNjEsMA0KMTE2MiwwDQoxMTYzLDANCjExNjQsMA0KMTE2NSwwDQoxMTY2LDANCjExNjcsMA0KMTE2OCwwDQoxMTY5LDANCjExNzAsMQ0KMTE3MSwwDQoxMTcyLDENCjExNzMsMA0KMTE3NCwxDQoxMTc1LDANCjExNzYsMA0KMTE3NywwDQoxMTc4LDANCjExNzksMA0KMTE4MCwwDQoxMTgxLDANCjExODIsMA0KMTE4MywxDQoxMTg0LDANCjExODUsMA0KMTE4NiwwDQoxMTg3LDANCjExODgsMA0KMTE4OSwwDQoxMTkwLDANCjExOTEsMA0KMTE5MiwwDQoxMTkzLDANCjExOTQsMA0KMTE5NSwwDQoxMTk2LDANCjExOTcsMA0KMTE5OCwwDQoxMTk5LDENCjEyMDAsMA0KMTIwMSwwDQoxMjAyLDANCjEyMDMsMA0KMTIwNCwwDQoxMjA1LDENCjEyMDYsMA0KMTIwNywwDQoxMjA4LDANCjEyMDksMA0KMTIxMCwwDQoxMjExLDANCjEyMTIsMA0KMTIxMywwDQoxMjE0LDANCjEyMTUsMA0KMTIxNiwwDQoxMjE3LDANCjEyMTgsMA0KMTIxOSwwDQoxMjIwLDANCjEyMjEsMA0KMTIyMiwwDQoxMjIzLDENCjEyMjQsMA0KMTIyNSwwDQoxMjI2LDANCjEyMjcsMA0KMTIyOCwwDQoxMjI5LDANCjEyMzAsMA0KMTIzMSwwDQoxMjMyLDANCjEyMzMsMA0KMTIzNCwwDQoxMjM1LDANCjEyMzYsMA0KMTIzNywwDQoxMjM4LDANCjEyMzksMA0KMTI0MCwwDQoxMjQxLDANCjEyNDIsMQ0KMTI0MywwDQoxMjQ0LDANCjEyNDUsMA0KMTI0NiwwDQoxMjQ3LDANCjEyNDgsMA0KMTI0OSwwDQoxMjUwLDANCjEyNTEsMA0KMTI1MiwwDQoxMjUzLDANCjEyNTQsMA0KMTI1NSwwDQoxMjU2LDANCjEyNTcsMA0KMTI1OCwwDQoxMjU5LDANCjEyNjAsMA0KMTI2MSwwDQoxMjYyLDANCjEyNjMsMA0KMTI2NCwwDQoxMjY1LDANCjEyNjYsMA0KMTI2NywwDQoxMjY4LDANCjEyNjksMQ0KMTI3MCwxDQoxMjcxLDANCjEyNzIsMA0KMTI3MywwDQoxMjc0LDANCjEyNzUsMA0KMTI3NiwwDQoxMjc3LDANCjEyNzgsMA0KMTI3OSwwDQoxMjgwLDANCjEyODEsMA0KMTI4MiwwDQoxMjgzLDANCjEyODQsMA0KMTI4NSwwDQoxMjg2LDANCjEyODcsMA0KMTI4OCwwDQoxMjg5LDANCjEyOTAsMQ0KMTI5MSwwDQoxMjkyLDANCjEyOTMsMQ0KMTI5NCwwDQoxMjk1LDANCjEyOTYsMQ0KMTI5NywwDQoxMjk4LDANCjEyOTksMA0KMTMwMCwwDQoxMzAxLDANCjEzMDIsMA0KMTMwMywwDQoxMzA0LDANCjEzMDUsMQ0KMTMwNiwwDQoxMzA3LDANCjEzMDgsMA0KMTMwOSwwDQoxMzEwLDANCjEzMTEsMA0KMTMxMiwxDQoxMzEzLDANCjEzMTQsMA0KMTMxNSwwDQoxMzE2LDANCjEzMTcsMA0KMTMxOCwwDQoxMzE5LDANCjEzMjAsMA0KMTMyMSwwDQoxMzIyLDANCjEzMjMsMA0KMTMyNCwwDQoxMzI1LDENCjEzMjYsMA0KMTMyNywxDQoxMzI4LDANCjEzMjksMA0KMTMzMCwwDQoxMzMxLDANCjEzMzIsMA0KMTMzMywwDQoxMzM0LDANCjEzMzUsMQ0KMTMzNiwxDQoxMzM3LDENCjEzMzgsMA0KMTMzOSwwDQoxMzQwLDANCjEzNDEsMA0KMTM0MiwwDQoxMzQzLDANCjEzNDQsMA0KMTM0NSwwDQoxMzQ2LDANCjEzNDcsMA0KMTM0OCwxDQoxMzQ5LDANCjEzNTAsMA0KMTM1MSwwDQoxMzUyLDANCjEzNTMsMA0KMTM1NCwwDQoxMzU1LDANCjEzNTYsMA0KMTM1NywwDQoxMzU4LDANCjEzNTksMA0KMTM2MCwwDQoxMzYxLDANCjEzNjIsMA0KMTM2MywwDQoxMzY0LDANCjEzNjUsMA0KMTM2NiwwDQoxMzY3LDANCjEzNjgsMA0KMTM2OSwwDQoxMzcwLDANCjEzNzEsMA0KMTM3MiwxDQoxMzczLDANCjEzNzQsMA0KMTM3NSwwDQoxMzc2LDANCjEzNzcsMA0KMTM3OCwwDQoxMzc5LDANCjEzODAsMA0KMTM4MSwwDQoxMzgyLDANCjEzODMsMA0KMTM4NCwwDQoxMzg1LDANCjEzODYsMA0KMTM4NywwDQoxMzg4LDANCjEzODksMA0KMTM5MCwwDQoxMzkxLDANCjEzOTIsMA0KMTM5MywwDQoxMzk0LDANCjEzOTUsMA0KMTM5NiwwDQoxMzk3LDANCjEzOTgsMA0KMTM5OSwwDQoxNDAwLDANCjE0MDEsMA0KMTQwMiwwDQoxNDAzLDANCjE0MDQsMQ0KMTQwNSwwDQoxNDA2LDANCjE0MDcsMA0KMTQwOCwwDQoxNDA5LDANCjE0MTAsMA0KMTQxMSwxDQoxNDEyLDANCjE0MTMsMA0KMTQxNCwwDQoxNDE1LDANCjE0MTYsMA0KMTQxNywwDQoxNDE4LDENCjE0MTksMA0KMTQyMCwwDQoxNDIxLDANCjE0MjIsMA0KMTQyMywwDQoxNDI0LDENCjE0MjUsMA0KMTQyNiwwDQoxNDI3LDANCjE0MjgsMQ0KMTQyOSwwDQoxNDMwLDENCjE0MzEsMA0KMTQzMiwwDQoxNDMzLDENCjE0MzQsMA0KMTQzNSwwDQoxNDM2LDANCjE0MzcsMA0KMTQzOCwwDQoxNDM5LDENCjE0NDAsMA0KMTQ0MSwwDQoxNDQyLDENCjE0NDMsMA0KMTQ0NCwwDQoxNDQ1LDANCjE0NDYsMA0KMTQ0NywxDQoxNDQ4LDANCjE0NDksMA0KMTQ1MCwwDQoxNDUxLDENCjE0NTIsMA0KMTQ1MywwDQoxNDU0LDANCjE0NTUsMA0KMTQ1NiwwDQoxNDU3LDENCjE0NTgsMA0KMTQ1OSwwDQoxNDYwLDENCjE0NjEsMA0KMTQ2MiwxDQoxNDYzLDANCjE0NjQsMA0KMTQ2NSwwDQoxNDY2LDANCjE0NjcsMA0KMTQ2OCwwDQoxNDY5LDANCjE0NzAsMA0KMTQ3MSwwDQoxNDcyLDANCjE0NzMsMA0KMTQ3NCwwDQoxNDc1LDANCjE0NzYsMA0KMTQ3NywwDQoxNDc4LDENCjE0NzksMA0KMTQ4MCwwDQoxNDgxLDANCjE0ODIsMA0KMTQ4MywwDQoxNDg0LDANCjE0ODUsMA0KMTQ4NiwwDQoxNDg3LDANCjE0ODgsMA0KMTQ4OSwwDQoxNDkwLDANCjE0OTEsMA0KMTQ5MiwwDQoxNDkzLDANCjE0OTQsMA0KMTQ5NSwwDQoxNDk2LDANCjE0OTcsMQ0KMTQ5OCwwDQoxNDk5LDANCjE1MDAsMA0KMTUwMSwwDQoxNTAyLDENCjE1MDMsMA0KMTUwNCwwDQoxNTA1LDANCjE1MDYsMA0KMTUwNywwDQoxNTA4LDANCjE1MDksMA0KMTUxMCwwDQoxNTExLDANCjE1MTIsMA0KMTUxMywwDQoxNTE0LDANCjE1MTUsMA0KMTUxNiwwDQoxNTE3LDANCjE1MTgsMA0KMTUxOSwwDQoxNTIwLDANCjE1MjEsMA0KMTUyMiwwDQoxNTIzLDANCjE1MjQsMA0KMTUyNSwxDQoxNTI2LDANCjE1MjcsMQ0KMTUyOCwwDQoxNTI5LDANCjE1MzAsMA0KMTUzMSwwDQoxNTMyLDANCjE1MzMsMA0KMTUzNCwwDQoxNTM1LDANCjE1MzYsMA0KMTUzNywwDQoxNTM4LDANCjE1MzksMA0KMTU0MCwwDQoxNTQxLDANCjE1NDIsMA0KMTU0MywwDQoxNTQ0LDANCjE1NDUsMA0KMTU0NiwwDQoxNTQ3LDANCjE1NDgsMA0KMTU0OSwwDQoxNTUwLDENCjE1NTEsMA0KMTU1MiwwDQoxNTUzLDANCjE1NTQsMA0KMTU1NSwwDQoxNTU2LDANCjE1NTcsMA0KMTU1OCwwDQoxNTU5LDANCjE1NjAsMA0KMTU2MSwwDQoxNTYyLDANCjE1NjMsMA0KMTU2NCwwDQoxNTY1LDANCjE1NjYsMA0KMTU2NywwDQoxNTY4LDANCjE1NjksMA0KMTU3MCwwDQoxNTcxLDANCjE1NzIsMA0KMTU3MywwDQoxNTc0LDANCjE1NzUsMA0KMTU3NiwwDQoxNTc3LDANCjE1NzgsMA0KMTU3OSwwDQoxNTgwLDANCjE1ODEsMA0KMTU4MiwwDQoxNTgzLDANCjE1ODQsMA0KMTU4NSwwDQoxNTg2LDANCjE1ODcsMA0KMTU4OCwwDQoxNTg5LDANCjE1OTAsMA0KMTU5MSwwDQoxNTkyLDANCjE1OTMsMA0KMTU5NCwwDQoxNTk1LDANCjE1OTYsMA0KMTU5NywxDQoxNTk4LDANCjE1OTksMA0KMTYwMCwwDQoxNjAxLDANCjE2MDIsMA0KMTYwMywwDQoxNjA0LDENCjE2MDUsMA0KMTYwNiwwDQoxNjA3LDANCjE2MDgsMA0KMTYwOSwwDQoxNjEwLDANCjE2MTEsMA0KMTYxMiwwDQoxNjEzLDANCjE2MTQsMA0KMTYxNSwwDQoxNjE2LDANCjE2MTcsMA0KMTYxOCwwDQoxNjE5LDANCjE2MjAsMA0KMTYyMSwwDQoxNjIyLDANCjE2MjMsMA0KMTYyNCwwDQoxNjI1LDANCjE2MjYsMA0KMTYyNywwDQoxNjI4LDANCjE2MjksMA0KMTYzMCwwDQoxNjMxLDENCjE2MzIsMA0KMTYzMywwDQoxNjM0LDANCjE2MzUsMA0KMTYzNiwwDQoxNjM3LDANCjE2MzgsMA0KMTYzOSwwDQoxNjQwLDANCjE2NDEsMA0KMTY0MiwwDQoxNjQzLDANCjE2NDQsMA0KMTY0NSwwDQoxNjQ2LDENCjE2NDcsMA0KMTY0OCwwDQoxNjQ5LDANCjE2NTAsMA0KMTY1MSwwDQoxNjUyLDANCjE2NTMsMA0KMTY1NCwwDQoxNjU1LDANCjE2NTYsMA0KMTY1NywwDQoxNjU4LDANCjE2NTksMA0KMTY2MCwwDQoxNjYxLDANCjE2NjIsMA0KMTY2MywwDQoxNjY0LDANCjE2NjUsMQ0KMTY2NiwwDQoxNjY3LDANCjE2NjgsMA0KMTY2OSwwDQoxNjcwLDANCjE2NzEsMA0KMTY3MiwwDQoxNjczLDENCjE2NzQsMA0KMTY3NSwwDQoxNjc2LDANCjE2NzcsMA0KMTY3OCwwDQoxNjc5LDANCjE2ODAsMA0KMTY4MSwwDQoxNjgyLDANCjE2ODMsMA0KMTY4NCwwDQoxNjg1LDANCjE2ODYsMQ0KMTY4NywwDQoxNjg4LDENCjE2ODksMA0KMTY5MCwwDQoxNjkxLDENCjE2OTIsMA0KMTY5MywwDQoxNjk0LDANCjE2OTUsMA0KMTY5NiwwDQoxNjk3LDENCjE2OTgsMQ0KMTY5OSwxDQoxNzAwLDANCjE3MDEsMA0KMTcwMiwwDQoxNzAzLDANCjE3MDQsMA0KMTcwNSwwDQoxNzA2LDANCjE3MDcsMA0KMTcwOCwwDQoxNzA5LDANCjE3MTAsMA0KMTcxMSwwDQoxNzEyLDANCjE3MTMsMA0KMTcxNCwwDQoxNzE1LDANCjE3MTYsMA0KMTcxNywwDQoxNzE4LDANCjE3MTksMA0KMTcyMCwxDQoxNzIxLDANCjE3MjIsMQ0KMTcyMywwDQoxNzI0LDANCjE3MjUsMA0KMTcyNiwwDQoxNzI3LDANCjE3MjgsMA0KMTcyOSwxDQoxNzMwLDANCjE3MzEsMA0KMTczMiwwDQoxNzMzLDANCjE3MzQsMA0KMTczNSwwDQoxNzM2LDANCjE3MzcsMA0KMTczOCwwDQoxNzM5LDANCjE3NDAsMA0KMTc0MSwxDQoxNzQyLDANCjE3NDMsMA0KMTc0NCwwDQoxNzQ1LDANCjE3NDYsMA0KMTc0NywxDQoxNzQ4LDANCjE3NDksMA0KMTc1MCwwDQoxNzUxLDANCjE3NTIsMA0KMTc1MywxDQoxNzU0LDANCjE3NTUsMA0KMTc1NiwxDQoxNzU3LDANCjE3NTgsMA0KMTc1OSwwDQoxNzYwLDANCjE3NjEsMA0KMTc2MiwwDQoxNzYzLDANCjE3NjQsMA0KMTc2NSwwDQoxNzY2LDANCjE3NjcsMA0KMTc2OCwwDQoxNzY5LDANCjE3NzAsMA0KMTc3MSwwDQoxNzcyLDENCjE3NzMsMA0KMTc3NCwwDQoxNzc1LDANCjE3NzYsMA0KMTc3NywwDQoxNzc4LDANCjE3NzksMA0KMTc4MCwwDQoxNzgxLDANCjE3ODIsMA0KMTc4MywwDQoxNzg0LDANCjE3ODUsMA0KMTc4NiwwDQoxNzg3LDANCjE3ODgsMA0KMTc4OSwwDQoxNzkwLDANCjE3OTEsMA0KMTc5MiwwDQoxNzkzLDANCjE3OTQsMA0KMTc5NSwwDQoxNzk2LDANCjE3OTcsMA0KMTc5OCwwDQoxNzk5LDANCjE4MDAsMA0KMTgwMSwwDQoxODAyLDANCjE4MDMsMA0KMTgwNCwwDQoxODA1LDANCjE4MDYsMA0KMTgwNywwDQoxODA4LDANCjE4MDksMA0KMTgxMCwwDQoxODExLDANCjE4MTIsMA0KMTgxMywwDQoxODE0LDANCjE4MTUsMQ0KMTgxNiwwDQoxODE3LDANCjE4MTgsMA0KMTgxOSwwDQoxODIwLDANCjE4MjEsMA0KMTgyMiwwDQoxODIzLDANCjE4MjQsMA0KMTgyNSwwDQoxODI2LDANCjE4MjcsMA0KMTgyOCwwDQoxODI5LDANCjE4MzAsMQ0KMTgzMSwwDQoxODMyLDANCjE4MzMsMA0KMTgzNCwwDQoxODM1LDANCjE4MzYsMA0KMTgzNywxDQoxODM4LDANCjE4MzksMQ0KMTg0MCwwDQoxODQxLDANCjE4NDIsMA0KMTg0MywwDQoxODQ0LDANCjE4NDUsMA0KMTg0NiwwDQoxODQ3LDENCjE4NDgsMA0KMTg0OSwwDQoxODUwLDANCjE4NTEsMA0KMTg1MiwwDQoxODUzLDANCjE4NTQsMA0KMTg1NSwxDQoxODU2LDANCjE4NTcsMA0KMTg1OCwwDQoxODU5LDANCjE4NjAsMA0KMTg2MSwwDQoxODYyLDANCjE4NjMsMA0KMTg2NCwwDQoxODY1LDANCjE4NjYsMA0KMTg2NywwDQoxODY4LDANCjE4NjksMQ0KMTg3MCwwDQoxODcxLDANCjE4NzIsMA0KMTg3MywwDQoxODc0LDANCjE4NzUsMA0KMTg3NiwwDQoxODc3LDANCjE4NzgsMA0KMTg3OSwxDQoxODgwLDANCjE4ODEsMA0KMTg4MiwxDQoxODgzLDANCjE4ODQsMA0KMTg4NSwwDQoxODg2LDANCjE4ODcsMA0KMTg4OCwwDQoxODg5LDANCjE4OTAsMA0KMTg5MSwwDQoxODkyLDANCjE4OTMsMA0KMTg5NCwwDQoxODk1LDANCjE4OTYsMA0KMTg5NywxDQoxODk4LDENCjE4OTksMA0KMTkwMCwwDQoxOTAxLDANCjE5MDIsMA0KMTkwMywwDQoxOTA0LDANCjE5MDUsMA0KMTkwNiwxDQoxOTA3LDENCjE5MDgsMQ0KMTkwOSwwDQoxOTEwLDENCjE5MTEsMA0KMTkxMiwwDQoxOTEzLDANCjE5MTQsMA0KMTkxNSwwDQoxOTE2LDANCjE5MTcsMA0KMTkxOCwwDQoxOTE5LDANCjE5MjAsMA0KMTkyMSwxDQoxOTIyLDANCjE5MjMsMA0KMTkyNCwwDQoxOTI1LDANCjE5MjYsMA0KMTkyNywwDQoxOTI4LDANCjE5MjksMA0KMTkzMCwwDQoxOTMxLDANCjE5MzIsMA0KMTkzMywxDQoxOTM0LDANCjE5MzUsMQ0KMTkzNiwwDQoxOTM3LDANCjE5MzgsMA0KMTkzOSwxDQoxOTQwLDANCjE5NDEsMA0KMTk0MiwwDQoxOTQzLDANCjE5NDQsMA0KMTk0NSwxDQoxOTQ2LDANCjE5NDcsMA0KMTk0OCwwDQoxOTQ5LDANCjE5NTAsMA0KMTk1MSwwDQoxOTUyLDANCjE5NTMsMA0KMTk1NCwwDQoxOTU1LDANCjE5NTYsMA0KMTk1NywwDQoxOTU4LDANCjE5NTksMA0KMTk2MCwwDQoxOTYxLDANCjE5NjIsMA0KMTk2MywwDQoxOTY0LDANCjE5NjUsMA0KMTk2NiwwDQoxOTY3LDENCjE5NjgsMA0KMTk2OSwwDQoxOTcwLDANCjE5NzEsMA0KMTk3MiwwDQoxOTczLDENCjE5NzQsMA0KMTk3NSwwDQoxOTc2LDANCjE5NzcsMA0KMTk3OCwwDQoxOTc5LDANCjE5ODAsMA0KMTk4MSwwDQoxOTgyLDANCjE5ODMsMA0KMTk4NCwxDQoxOTg1LDANCjE5ODYsMA0KMTk4NywxDQoxOTg4LDANCjE5ODksMA0KMTk5MCwwDQoxOTkxLDANCjE5OTIsMA0KMTk5MywwDQoxOTk0LDANCjE5OTUsMA0KMTk5NiwwDQoxOTk3LDANCjE5OTgsMA0KMTk5OSwwDQoyMDAwLDANCjIwMDEsMA0KMjAwMiwwDQoyMDAzLDANCjIwMDQsMA0KMjAwNSwwDQoyMDA2LDANCjIwMDcsMQ0KMjAwOCwxDQoyMDA5LDANCjIwMTAsMQ0KMjAxMSwwDQoyMDEyLDANCjIwMTMsMA0KMjAxNCwwDQoyMDE1LDANCjIwMTYsMA0KMjAxNywwDQoyMDE4LDANCjIwMTksMA0KMjAyMCwwDQoyMDIxLDANCjIwMjIsMA0KMjAyMywwDQoyMDI0LDANCjIwMjUsMQ0KMjAyNiwxDQoyMDI3LDANCjIwMjgsMA0KMjAyOSwwDQoyMDMwLDENCjIwMzEsMA0KMjAzMiwwDQoyMDMzLDANCjIwMzQsMA0KMjAzNSwwDQoyMDM2LDANCjIwMzcsMA0KMjAzOCwwDQoyMDM5LDANCjIwNDAsMA0KMjA0MSwwDQoyMDQyLDENCjIwNDMsMA0KMjA0NCwxDQoyMDQ1LDANCjIwNDYsMA0KMjA0NywwDQoyMDQ4LDENCjIwNDksMA0KMjA1MCwwDQoyMDUxLDANCjIwNTIsMA0KMjA1MywwDQoyMDU0LDANCjIwNTUsMA0KMjA1NiwwDQoyMDU3LDANCjIwNTgsMA0KMjA1OSwwDQoyMDYwLDANCjIwNjEsMQ0KMjA2MiwwDQoyMDYzLDENCjIwNjQsMA0KMjA2NSwwDQoyMDY2LDENCjIwNjcsMA0KMjA2OCwwDQoyMDY5LDANCjIwNzAsMQ0KMjA3MSwwDQoyMDcyLDANCjIwNzMsMA0KMjA3NCwwDQoyMDc1LDANCjIwNzYsMA0KMjA3NywwDQoyMDc4LDANCjIwNzksMA0KMjA4MCwwDQoyMDgxLDANCjIwODIsMQ0KMjA4MywwDQoyMDg0LDANCjIwODUsMA0KMjA4NiwwDQoyMDg3LDANCjIwODgsMA0KMjA4OSwwDQoyMDkwLDANCjIwOTEsMA0KMjA5MiwwDQoyMDkzLDANCjIwOTQsMA0KMjA5NSwwDQoyMDk2LDANCjIwOTcsMA0KMjA5OCwwDQoyMDk5LDANCjIxMDAsMA0KMjEwMSwwDQoyMTAyLDANCjIxMDMsMA0KMjEwNCwwDQoyMTA1LDANCjIxMDYsMA0KMjEwNywxDQoyMTA4LDANCjIxMDksMA0KMjExMCwwDQoyMTExLDANCjIxMTIsMA0KMjExMywxDQoyMTE0LDANCjIxMTUsMQ0KMjExNiwwDQoyMTE3LDANCjIxMTgsMA0KMjExOSwwDQoyMTIwLDANCjIxMjEsMA0KMjEyMiwwDQoyMTIzLDANCjIxMjQsMQ0KMjEyNSwwDQoyMTI2LDANCjIxMjcsMA0KMjEyOCwwDQoyMTI5LDANCjIxMzAsMA0KMjEzMSwwDQoyMTMyLDANCjIxMzMsMQ0KMjEzNCwwDQoyMTM1LDANCjIxMzYsMQ0KMjEzNywwDQoyMTM4LDANCjIxMzksMA0KMjE0MCwwDQoyMTQxLDENCjIxNDIsMA0KMjE0MywwDQoyMTQ0LDANCjIxNDUsMA0KMjE0NiwwDQoyMTQ3LDANCjIxNDgsMA0KMjE0OSwwDQoyMTUwLDANCjIxNTEsMA0KMjE1MiwxDQoyMTUzLDANCjIxNTQsMA0KMjE1NSwwDQoyMTU2LDANCjIxNTcsMA0KMjE1OCwwDQoyMTU5LDANCjIxNjAsMA0KMjE2MSwxDQoyMTYyLDANCjIxNjMsMA0KMjE2NCwwDQoyMTY1LDANCjIxNjYsMA0KMjE2NywwDQoyMTY4LDANCjIxNjksMQ0KMjE3MCwwDQoyMTcxLDANCjIxNzIsMA0KMjE3MywwDQoyMTc0LDANCjIxNzUsMQ0KMjE3NiwwDQoyMTc3LDANCjIxNzgsMA0KMjE3OSwwDQoyMTgwLDANCjIxODEsMQ0KMjE4MiwwDQoyMTgzLDANCjIxODQsMA0KMjE4NSwwDQoyMTg2LDANCjIxODcsMA0KMjE4OCwxDQoyMTg5LDANCjIxOTAsMA0KMjE5MSwwDQoyMTkyLDANCjIxOTMsMA0KMjE5NCwwDQoyMTk1LDANCjIxOTYsMA0KMjE5NywwDQoyMTk4LDANCjIxOTksMA0KMjIwMCwwDQoyMjAxLDANCjIyMDIsMA0KMjIwMywwDQoyMjA0LDANCjIyMDUsMA0KMjIwNiwxDQoyMjA3LDANCjIyMDgsMA0KMjIwOSwwDQoyMjEwLDANCjIyMTEsMA0KMjIxMiwwDQoyMjEzLDANCjIyMTQsMA0KMjIxNSwwDQoyMjE2LDANCjIyMTcsMA0KMjIxOCwwDQoyMjE5LDANCjIyMjAsMA0KMjIyMSwwDQoyMjIyLDANCjIyMjMsMA0KMjIyNCwwDQoyMjI1LDANCjIyMjYsMQ0KMjIyNywwDQoyMjI4LDANCjIyMjksMA0KMjIzMCwwDQoyMjMxLDANCjIyMzIsMA0KMjIzMywwDQoyMjM0LDANCjIyMzUsMA0KMjIzNiwwDQoyMjM3LDANCjIyMzgsMA0KMjIzOSwwDQoyMjQwLDANCjIyNDEsMA0KMjI0MiwwDQoyMjQzLDANCjIyNDQsMQ0KMjI0NSwwDQoyMjQ2LDANCjIyNDcsMA0KMjI0OCwwDQoyMjQ5LDANCjIyNTAsMA0KMjI1MSwwDQoyMjUyLDENCjIyNTMsMA0KMjI1NCwwDQoyMjU1LDANCjIyNTYsMA0KMjI1NywwDQoyMjU4LDANCjIyNTksMA0KMjI2MCwwDQoyMjYxLDANCjIyNjIsMA0KMjI2MywwDQoyMjY0LDANCjIyNjUsMA0KMjI2NiwwDQoyMjY3LDENCjIyNjgsMA0KMjI2OSwwDQoyMjcwLDANCjIyNzEsMA0KMjI3MiwwDQoyMjczLDANCjIyNzQsMA0KMjI3NSwwDQoyMjc2LDANCjIyNzcsMA0KMjI3OCwwDQoyMjc5LDANCjIyODAsMA0KMjI4MSwwDQoyMjgyLDANCjIyODMsMA0KMjI4NCwwDQoyMjg1LDANCjIyODYsMA0KMjI4NywwDQoyMjg4LDANCjIyODksMQ0KMjI5MCwwDQoyMjkxLDANCjIyOTIsMA0KMjI5MywwDQoyMjk0LDANCjIyOTUsMA0KMjI5NiwwDQoyMjk3LDANCjIyOTgsMA0KMjI5OSwwDQoyMzAwLDANCjIzMDEsMA0KMjMwMiwwDQoyMzAzLDANCjIzMDQsMA0KMjMwNSwwDQoyMzA2LDANCjIzMDcsMA0KMjMwOCwwDQoyMzA5LDANCjIzMTAsMA0KMjMxMSwwDQoyMzEyLDANCjIzMTMsMA0KMjMxNCwwDQoyMzE1LDANCjIzMTYsMA0KMjMxNywwDQoyMzE4LDANCjIzMTksMA0KMjMyMCwwDQoyMzIxLDANCjIzMjIsMA0KMjMyMywwDQoyMzI0LDANCjIzMjUsMQ0KMjMyNiwwDQoyMzI3LDANCjIzMjgsMA0KMjMyOSwwDQoyMzMwLDANCjIzMzEsMA0KMjMzMiwwDQoyMzMzLDANCjIzMzQsMA0KMjMzNSwwDQoyMzM2LDANCjIzMzcsMA0KMjMzOCwwDQoyMzM5LDANCjIzNDAsMA0KMjM0MSwwDQoyMzQyLDANCjIzNDMsMA0KMjM0NCwwDQoyMzQ1LDANCjIzNDYsMA0KMjM0NywwDQoyMzQ4LDANCjIzNDksMA0KMjM1MCwwDQoyMzUxLDANCjIzNTIsMA0KMjM1MywwDQoyMzU0LDANCjIzNTUsMA0KMjM1NiwwDQoyMzU3LDANCjIzNTgsMA0KMjM1OSwwDQoyMzYwLDANCjIzNjEsMA0KMjM2MiwwDQoyMzYzLDENCjIzNjQsMA0KMjM2NSwxDQoyMzY2LDANCjIzNjcsMA0KMjM2OCwxDQoyMzY5LDENCjIzNzAsMA0KMjM3MSwwDQoyMzcyLDANCjIzNzMsMA0KMjM3NCwwDQoyMzc1LDANCjIzNzYsMQ0KMjM3NywwDQoyMzc4LDANCjIzNzksMA0KMjM4MCwwDQoyMzgxLDANCjIzODIsMA0KMjM4MywwDQoyMzg0LDANCjIzODUsMA0KMjM4NiwwDQoyMzg3LDANCjIzODgsMA0KMjM4OSwwDQoyMzkwLDANCjIzOTEsMA0KMjM5MiwwDQoyMzkzLDANCjIzOTQsMA0KMjM5NSwwDQoyMzk2LDANCjIzOTcsMA0KMjM5OCwwDQoyMzk5LDANCjI0MDAsMA0KMjQwMSwwDQoyNDAyLDANCjI0MDMsMA0KMjQwNCwwDQoyNDA1LDANCjI0MDYsMA0KMjQwNywwDQoyNDA4LDANCjI0MDksMA0KMjQxMCwwDQoyNDExLDANCjI0MTIsMA0KMjQxMywwDQoyNDE0LDENCjI0MTUsMA0KMjQxNiwwDQoyNDE3LDANCjI0MTgsMA0KMjQxOSwwDQoyNDIwLDANCjI0MjEsMA0KMjQyMiwwDQoyNDIzLDANCjI0MjQsMA0KMjQyNSwwDQoyNDI2LDENCjI0MjcsMA0KMjQyOCwwDQoyNDI5LDENCjI0MzAsMA0KMjQzMSwwDQoyNDMyLDANCjI0MzMsMA0KMjQzNCwwDQoyNDM1LDANCjI0MzYsMA0KMjQzNywxDQoyNDM4LDANCjI0MzksMA0KMjQ0MCwwDQoyNDQxLDANCjI0NDIsMQ0KMjQ0MywwDQoyNDQ0LDANCjI0NDUsMA0KMjQ0NiwwDQoyNDQ3LDANCjI0NDgsMA0KMjQ0OSwwDQoyNDUwLDANCjI0NTEsMA0KMjQ1MiwwDQoyNDUzLDANCjI0NTQsMA0KMjQ1NSwwDQoyNDU2LDANCjI0NTcsMQ0KMjQ1OCwwDQoyNDU5LDANCjI0NjAsMA0KMjQ2MSwwDQoyNDYyLDANCjI0NjMsMA0KMjQ2NCwxDQoyNDY1LDANCjI0NjYsMA0KMjQ2NywwDQoyNDY4LDANCjI0NjksMA0KMjQ3MCwxDQoyNDcxLDANCjI0NzIsMA0KMjQ3MywxDQoyNDc0LDENCjI0NzUsMA0KMjQ3NiwwDQoyNDc3LDANCjI0NzgsMA0KMjQ3OSwxDQoyNDgwLDANCjI0ODEsMA0KMjQ4MiwwDQoyNDgzLDANCjI0ODQsMA0KMjQ4NSwwDQoyNDg2LDANCjI0ODcsMA0KMjQ4OCwwDQoyNDg5LDANCjI0OTAsMA0KMjQ5MSwwDQoyNDkyLDENCjI0OTMsMA0KMjQ5NCwwDQoyNDk1LDANCjI0OTYsMA0KMjQ5NywwDQoyNDk4LDANCjI0OTksMA0KMjUwMCwwDQoyNTAxLDANCjI1MDIsMA0KMjUwMywwDQoyNTA0LDANCjI1MDUsMA0KMjUwNiwwDQoyNTA3LDANCjI1MDgsMA0KMjUwOSwwDQoyNTEwLDANCjI1MTEsMA0KMjUxMiwwDQoyNTEzLDANCjI1MTQsMA0KMjUxNSwwDQoyNTE2LDANCjI1MTcsMA0KMjUxOCwwDQoyNTE5LDANCjI1MjAsMA0KMjUyMSwwDQoyNTIyLDANCjI1MjMsMA0KMjUyNCwwDQoyNTI1LDANCjI1MjYsMA0KMjUyNywwDQoyNTI4LDANCjI1MjksMA0KMjUzMCwwDQoyNTMxLDANCjI1MzIsMQ0KMjUzMywxDQoyNTM0LDANCjI1MzUsMA0KMjUzNiwwDQoyNTM3LDANCjI1MzgsMA0KMjUzOSwwDQoyNTQwLDANCjI1NDEsMA0KMjU0MiwwDQoyNTQzLDANCjI1NDQsMA0KMjU0NSwwDQoyNTQ2LDENCjI1NDcsMA0KMjU0OCwwDQoyNTQ5LDANCjI1NTAsMA0KMjU1MSwwDQoyNTUyLDANCjI1NTMsMA0KMjU1NCwwDQoyNTU1LDANCjI1NTYsMA0KMjU1NywwDQoyNTU4LDANCjI1NTksMA0KMjU2MCwwDQoyNTYxLDENCjI1NjIsMA0KMjU2MywwDQoyNTY0LDANCjI1NjUsMA0KMjU2NiwwDQoyNTY3LDANCjI1NjgsMA0KMjU2OSwwDQoyNTcwLDANCjI1NzEsMA0KMjU3MiwwDQoyNTczLDANCjI1NzQsMA0KMjU3NSwwDQoyNTc2LDENCjI1NzcsMQ0KMjU3OCwwDQoyNTc5LDANCjI1ODAsMA0KMjU4MSwwDQoyNTgyLDANCjI1ODMsMA0KMjU4NCwwDQoyNTg1LDANCjI1ODYsMA0KMjU4NywwDQoyNTg4LDANCjI1ODksMA0KMjU5MCwwDQoyNTkxLDANCjI1OTIsMA0KMjU5MywwDQoyNTk0LDANCjI1OTUsMA0KMjU5NiwwDQoyNTk3LDANCjI1OTgsMA0KMjU5OSwwDQoyNjAwLDANCjI2MDEsMA0KMjYwMiwwDQoyNjAzLDANCjI2MDQsMA0KMjYwNSwwDQoyNjA2LDANCjI2MDcsMA0KMjYwOCwwDQoyNjA5LDANCjI2MTAsMA0KMjYxMSwwDQoyNjEyLDENCjI2MTMsMA0KMjYxNCwwDQoyNjE1LDANCjI2MTYsMA0KMjYxNywwDQoyNjE4LDANCjI2MTksMA0KMjYyMCwwDQoyNjIxLDANCjI2MjIsMQ0KMjYyMywwDQoyNjI0LDANCjI2MjUsMA0KMjYyNiwxDQoyNjI3LDANCjI2MjgsMA0KMjYyOSwwDQoyNjMwLDANCjI2MzEsMA0KMjYzMiwwDQoyNjMzLDANCjI2MzQsMA0KMjYzNSwwDQoyNjM2LDANCjI2MzcsMQ0KMjYzOCwwDQoyNjM5LDANCjI2NDAsMA0KMjY0MSwwDQoyNjQyLDANCjI2NDMsMA0KMjY0NCwwDQoyNjQ1LDANCjI2NDYsMQ0KMjY0NywxDQoyNjQ4LDENCjI2NDksMA0KMjY1MCwwDQoyNjUxLDANCjI2NTIsMA0KMjY1MywwDQoyNjU0LDANCjI2NTUsMA0KMjY1NiwwDQoyNjU3LDANCjI2NTgsMQ0KMjY1OSwwDQoyNjYwLDANCjI2NjEsMA0KMjY2MiwwDQoyNjYzLDANCjI2NjQsMA0KMjY2NSwwDQoyNjY2LDANCjI2NjcsMQ0KMjY2OCwxDQoyNjY5LDANCjI2NzAsMA0KMjY3MSwwDQoyNjcyLDANCjI2NzMsMA0KMjY3NCwwDQoyNjc1LDANCjI2NzYsMA0KMjY3NywwDQoyNjc4LDENCjI2NzksMA0KMjY4MCwwDQoyNjgxLDANCjI2ODIsMA0KMjY4MywwDQoyNjg0LDANCjI2ODUsMA0KMjY4NiwwDQoyNjg3LDANCjI2ODgsMA0KMjY4OSwxDQoyNjkwLDANCjI2OTEsMA0KMjY5MiwwDQoyNjkzLDANCjI2OTQsMA0KMjY5NSwwDQoyNjk2LDANCjI2OTcsMA0KMjY5OCwxDQoyNjk5LDANCjI3MDAsMA0KMjcwMSwwDQoyNzAyLDANCjI3MDMsMA0KMjcwNCwxDQoyNzA1LDANCjI3MDYsMA0KMjcwNywwDQoyNzA4LDANCjI3MDksMA0KMjcxMCwwDQoyNzExLDANCjI3MTIsMQ0KMjcxMywwDQoyNzE0LDANCjI3MTUsMQ0KMjcxNiwwDQoyNzE3LDANCjI3MTgsMA0KMjcxOSwwDQoyNzIwLDANCjI3MjEsMA0KMjcyMiwwDQoyNzIzLDANCjI3MjQsMA0KMjcyNSwwDQoyNzI2LDANCjI3MjcsMA0KMjcyOCwwDQoyNzI5LDANCjI3MzAsMA0KMjczMSwwDQoyNzMyLDANCjI3MzMsMA0KMjczNCwwDQoyNzM1LDANCjI3MzYsMA0KMjczNywwDQoyNzM4LDANCjI3MzksMA0KMjc0MCwwDQoyNzQxLDENCjI3NDIsMA0KMjc0MywwDQoyNzQ0LDANCjI3NDUsMA0KMjc0NiwwDQoyNzQ3LDANCjI3NDgsMA0KMjc0OSwwDQoyNzUwLDANCjI3NTEsMA0KMjc1MiwwDQoyNzUzLDENCjI3NTQsMA0KMjc1NSwwDQoyNzU2LDANCjI3NTcsMA0KMjc1OCwwDQoyNzU5LDANCjI3NjAsMA0KMjc2MSwwDQoyNzYyLDANCjI3NjMsMA0KMjc2NCwwDQoyNzY1LDANCjI3NjYsMQ0KMjc2NywwDQoyNzY4LDANCjI3NjksMA0KMjc3MCwwDQoyNzcxLDANCjI3NzIsMA0KMjc3MywxDQoyNzc0LDANCjI3NzUsMA0KMjc3NiwwDQoyNzc3LDANCjI3NzgsMA0KMjc3OSwwDQoyNzgwLDANCjI3ODEsMA0KMjc4MiwwDQoyNzgzLDANCjI3ODQsMA0KMjc4NSwwDQoyNzg2LDANCjI3ODcsMA0KMjc4OCwwDQoyNzg5LDANCjI3OTAsMA0KMjc5MSwwDQoyNzkyLDANCjI3OTMsMA0KMjc5NCwwDQoyNzk1LDANCjI3OTYsMA0KMjc5NywwDQoyNzk4LDANCjI3OTksMA0KMjgwMCwwDQoyODAxLDANCjI4MDIsMA0KMjgwMywwDQoyODA0LDANCjI4MDUsMA0KMjgwNiwwDQoyODA3LDANCjI4MDgsMA0KMjgwOSwwDQoyODEwLDANCjI4MTEsMA0KMjgxMiwwDQoyODEzLDANCjI4MTQsMQ0KMjgxNSwwDQoyODE2LDENCjI4MTcsMA0KMjgxOCwwDQoyODE5LDENCjI4MjAsMQ0KMjgyMSwwDQoyODIyLDANCjI4MjMsMA0KMjgyNCwwDQoyODI1LDANCjI4MjYsMA0KMjgyNywwDQoyODI4LDANCjI4MjksMA0KMjgzMCwxDQoyODMxLDANCjI4MzIsMA0KMjgzMywwDQoyODM0LDANCjI4MzUsMA0KMjgzNiwwDQoyODM3LDANCjI4MzgsMQ0KMjgzOSwwDQoyODQwLDENCjI4NDEsMA0KMjg0MiwwDQoyODQzLDANCjI4NDQsMQ0KMjg0NSwwDQoyODQ2LDANCjI4NDcsMA0KMjg0OCwwDQoyODQ5LDANCjI4NTAsMA0KMjg1MSwwDQoyODUyLDANCjI4NTMsMA0KMjg1NCwwDQoyODU1LDANCjI4NTYsMA0KMjg1NywwDQoyODU4LDENCjI4NTksMA0KMjg2MCwwDQoyODYxLDANCjI4NjIsMA0KMjg2MywwDQoyODY0LDENCjI4NjUsMA0KMjg2NiwwDQoyODY3LDANCjI4NjgsMQ0KMjg2OSwwDQoyODcwLDANCjI4NzEsMA0KMjg3MiwwDQoyODczLDANCjI4NzQsMA0KMjg3NSwwDQoyODc2LDANCjI4NzcsMA0KMjg3OCwwDQoyODc5LDANCjI4ODAsMQ0KMjg4MSwwDQoyODgyLDENCjI4ODMsMA0KMjg4NCwxDQoyODg1LDANCjI4ODYsMA0KMjg4NywwDQoyODg4LDANCjI4ODksMA0KMjg5MCwwDQoyODkxLDANCjI4OTIsMA0KMjg5MywwDQoyODk0LDANCjI4OTUsMQ0KMjg5NiwwDQoyODk3LDANCjI4OTgsMA0KMjg5OSwwDQoyOTAwLDANCjI5MDEsMA0KMjkwMiwwDQoyOTAzLDANCjI5MDQsMQ0KMjkwNSwwDQoyOTA2LDANCjI5MDcsMA0KMjkwOCwwDQoyOTA5LDANCjI5MTAsMQ0KMjkxMSwwDQoyOTEyLDANCjI5MTMsMA0KMjkxNCwwDQoyOTE1LDANCjI5MTYsMA0KMjkxNywxDQoyOTE4LDANCjI5MTksMA0KMjkyMCwwDQoyOTIxLDANCjI5MjIsMA0KMjkyMywwDQoyOTI0LDANCjI5MjUsMA0KMjkyNiwwDQoyOTI3LDANCjI5MjgsMA0KMjkyOSwwDQoyOTMwLDANCjI5MzEsMA0KMjkzMiwwDQoyOTMzLDANCjI5MzQsMA0KMjkzNSwwDQoyOTM2LDANCjI5MzcsMQ0KMjkzOCwwDQoyOTM5LDANCjI5NDAsMA0KMjk0MSwwDQoyOTQyLDANCjI5NDMsMA0KMjk0NCwwDQoyOTQ1LDANCjI5NDYsMQ0KMjk0NywwDQoyOTQ4LDANCjI5NDksMA0KMjk1MCwwDQoyOTUxLDANCjI5NTIsMA0KMjk1MywwDQoyOTU0LDANCjI5NTUsMQ0KMjk1NiwxDQoyOTU3LDANCjI5NTgsMA0KMjk1OSwwDQoyOTYwLDANCjI5NjEsMA0KMjk2MiwwDQoyOTYzLDANCjI5NjQsMA0KMjk2NSwxDQoyOTY2LDANCjI5NjcsMA0KMjk2OCwwDQoyOTY5LDANCjI5NzAsMA0KMjk3MSwwDQoyOTcyLDANCjI5NzMsMQ0KMjk3NCwwDQoyOTc1LDANCjI5NzYsMA0KMjk3NywwDQoyOTc4LDENCjI5NzksMA0KMjk4MCwwDQoyOTgxLDANCjI5ODIsMA0KMjk4MywwDQoyOTg0LDANCjI5ODUsMA0KMjk4NiwwDQoyOTg3LDANCjI5ODgsMA0KMjk4OSwwDQoyOTkwLDANCjI5OTEsMA0KMjk5MiwwDQoyOTkzLDANCjI5OTQsMA0KMjk5NSwwDQoyOTk2LDANCjI5OTcsMA0KMjk5OCwxDQoyOTk5LDENCjMwMDAsMA0KMzAwMSwxDQozMDAyLDANCjMwMDMsMA0KMzAwNCwwDQozMDA1LDANCjMwMDYsMQ0KMzAwNywwDQozMDA4LDANCjMwMDksMA0KMzAxMCwwDQozMDExLDANCjMwMTIsMA0KMzAxMywwDQozMDE0LDANCjMwMTUsMA0KMzAxNiwwDQozMDE3LDANCjMwMTgsMA0KMzAxOSwwDQozMDIwLDENCjMwMjEsMA0KMzAyMiwxDQozMDIzLDANCjMwMjQsMA0KMzAyNSwwDQozMDI2LDENCjMwMjcsMA0KMzAyOCwwDQozMDI5LDENCjMwMzAsMA0KMzAzMSwwDQozMDMyLDANCjMwMzMsMQ0KMzAzNCwwDQozMDM1LDANCjMwMzYsMA0KMzAzNywwDQozMDM4LDANCjMwMzksMA0KMzA0MCwwDQozMDQxLDANCjMwNDIsMA0KMzA0MywwDQozMDQ0LDANCjMwNDUsMA0KMzA0NiwwDQozMDQ3LDANCjMwNDgsMA0KMzA0OSwwDQozMDUwLDANCjMwNTEsMA0KMzA1MiwwDQozMDUzLDANCjMwNTQsMA0KMzA1NSwwDQozMDU2LDANCjMwNTcsMQ0KMzA1OCwwDQozMDU5LDANCjMwNjAsMA0KMzA2MSwwDQozMDYyLDANCjMwNjMsMA0KMzA2NCwwDQozMDY1LDANCjMwNjYsMA0KMzA2NywxDQozMDY4LDANCjMwNjksMA0KMzA3MCwwDQozMDcxLDANCjMwNzIsMA0KMzA3MywxDQozMDc0LDANCjMwNzUsMA0KMzA3NiwwDQozMDc3LDANCjMwNzgsMA0KMzA3OSwwDQozMDgwLDANCjMwODEsMQ0KMzA4MiwwDQozMDgzLDANCjMwODQsMA0KMzA4NSwwDQozMDg2LDANCjMwODcsMA0KMzA4OCwwDQozMDg5LDANCjMwOTAsMA0KMzA5MSwwDQozMDkyLDANCjMwOTMsMA0KMzA5NCwwDQozMDk1LDANCjMwOTYsMA0KMzA5NywwDQozMDk4LDANCjMwOTksMA0KMzEwMCwwDQozMTAxLDANCjMxMDIsMA0KMzEwMywwDQozMTA0LDANCjMxMDUsMA0KMzEwNiwwDQozMTA3LDANCjMxMDgsMA0KMzEwOSwwDQozMTEwLDENCjMxMTEsMA0KMzExMiwwDQozMTEzLDANCjMxMTQsMA0KMzExNSwwDQozMTE2LDANCjMxMTcsMA0KMzExOCwwDQozMTE5LDANCjMxMjAsMA0KMzEyMSwwDQozMTIyLDANCjMxMjMsMA0KMzEyNCwwDQozMTI1LDANCjMxMjYsMA0KMzEyNywwDQozMTI4LDENCjMxMjksMA0KMzEzMCwwDQozMTMxLDANCjMxMzIsMA0KMzEzMywwDQozMTM0LDENCjMxMzUsMA0KMzEzNiwwDQozMTM3LDANCjMxMzgsMA0KMzEzOSwwDQozMTQwLDANCjMxNDEsMA0KMzE0MiwwDQozMTQzLDANCjMxNDQsMA0KMzE0NSwwDQozMTQ2LDANCjMxNDcsMA0KMzE0OCwwDQozMTQ5LDANCjMxNTAsMA0KMzE1MSwwDQozMTUyLDANCjMxNTMsMQ0KMzE1NCwwDQozMTU1LDANCjMxNTYsMA0KMzE1NywwDQozMTU4LDANCjMxNTksMA0KMzE2MCwwDQozMTYxLDANCjMxNjIsMA0KMzE2MywwDQozMTY0LDANCjMxNjUsMA0KMzE2NiwwDQozMTY3LDANCjMxNjgsMA0KMzE2OSwxDQozMTcwLDANCjMxNzEsMA0KMzE3MiwwDQozMTczLDANCjMxNzQsMA0KMzE3NSwwDQozMTc2LDANCjMxNzcsMQ0KMzE3OCwwDQozMTc5LDANCjMxODAsMQ0KMzE4MSwwDQozMTgyLDANCjMxODMsMA0KMzE4NCwwDQozMTg1LDANCjMxODYsMA0KMzE4NywwDQozMTg4LDANCjMxODksMA0KMzE5MCwwDQozMTkxLDANCjMxOTIsMA0KMzE5MywwDQozMTk0LDANCjMxOTUsMQ0KMzE5NiwwDQozMTk3LDANCjMxOTgsMA0KMzE5OSwwDQozMjAwLDANCjMyMDEsMA0KMzIwMiwwDQozMjAzLDENCjMyMDQsMA0KMzIwNSwwDQozMjA2LDANCjMyMDcsMA0KMzIwOCwwDQozMjA5LDANCjMyMTAsMA0KMzIxMSwwDQozMjEyLDENCjMyMTMsMA0KMzIxNCwwDQozMjE1LDANCjMyMTYsMA0KMzIxNywwDQozMjE4LDANCjMyMTksMA0KMzIyMCwwDQozMjIxLDANCjMyMjIsMQ0KMzIyMywwDQozMjI0LDANCjMyMjUsMA0KMzIyNiwwDQozMjI3LDANCjMyMjgsMA0KMzIyOSwwDQozMjMwLDANCjMyMzEsMA0KMzIzMiwxDQozMjMzLDANCjMyMzQsMA0KMzIzNSwwDQozMjM2LDENCjMyMzcsMA0KMzIzOCwwDQozMjM5LDANCjMyNDAsMA0KMzI0MSwxDQozMjQyLDANCjMyNDMsMQ0KMzI0NCwwDQozMjQ1LDANCjMyNDYsMA0KMzI0NywwDQozMjQ4LDANCjMyNDksMQ0KMzI1MCwwDQozMjUxLDANCjMyNTIsMA0KMzI1MywwDQozMjU0LDANCjMyNTUsMA0KMzI1NiwwDQozMjU3LDANCjMyNTgsMA0KMzI1OSwwDQozMjYwLDANCjMyNjEsMA0KMzI2MiwwDQozMjYzLDANCjMyNjQsMQ0KMzI2NSwwDQozMjY2LDANCjMyNjcsMA0KMzI2OCwwDQozMjY5LDANCjMyNzAsMA0KMzI3MSwwDQozMjcyLDANCjMyNzMsMA0KMzI3NCwwDQozMjc1LDANCjMyNzYsMA0KMzI3NywwDQozMjc4LDANCjMyNzksMA0KMzI4MCwwDQozMjgxLDANCjMyODIsMA0KMzI4MywwDQozMjg0LDANCjMyODUsMA0KMzI4NiwwDQozMjg3LDANCjMyODgsMA0KMzI4OSwwDQozMjkwLDENCjMyOTEsMQ0KMzI5MiwwDQozMjkzLDANCjMyOTQsMQ0KMzI5NSwwDQozMjk2LDANCjMyOTcsMQ0KMzI5OCwxDQozMjk5LDANCjMzMDAsMA0KMzMwMSwwDQozMzAyLDANCjMzMDMsMA0KMzMwNCwxDQozMzA1LDANCjMzMDYsMA0KMzMwNywwDQozMzA4LDENCjMzMDksMA0KMzMxMCwxDQozMzExLDENCjMzMTIsMA0KMzMxMywwDQozMzE0LDENCjMzMTUsMA0KMzMxNiwwDQozMzE3LDANCjMzMTgsMA0KMzMxOSwwDQozMzIwLDANCjMzMjEsMA0KMzMyMiwwDQozMzIzLDANCjMzMjQsMQ0KMzMyNSwwDQozMzI2LDENCjMzMjcsMA0KMzMyOCwwDQozMzI5LDANCjMzMzAsMA0KMzMzMSwwDQozMzMyLDANCjMzMzMsMA0KMzMzNCwxDQozMzM1LDANCjMzMzYsMA0KMzMzNywwDQozMzM4LDANCjMzMzksMA0KMzM0MCwwDQozMzQxLDANCjMzNDIsMA0KMzM0MywwDQozMzQ0LDANCjMzNDUsMA0KMzM0NiwwDQozMzQ3LDANCjMzNDgsMA0KMzM0OSwwDQozMzUwLDANCjMzNTEsMA0KMzM1MiwwDQozMzUzLDENCjMzNTQsMA0KMzM1NSwwDQozMzU2LDANCjMzNTcsMA0KMzM1OCwwDQozMzU5LDANCjMzNjAsMQ0KMzM2MSwwDQozMzYyLDANCjMzNjMsMA0KMzM2NCwwDQozMzY1LDANCjMzNjYsMA0KMzM2NywwDQozMzY4LDANCjMzNjksMA0KMzM3MCwwDQozMzcxLDANCjMzNzIsMA0KMzM3MywwDQozMzc0LDANCjMzNzUsMA0KMzM3NiwwDQozMzc3LDANCjMzNzgsMQ0KMzM3OSwwDQozMzgwLDANCjMzODEsMA0KMzM4MiwwDQozMzgzLDANCjMzODQsMA0KMzM4NSwwDQozMzg2LDANCjMzODcsMQ0KMzM4OCwwDQozMzg5LDANCjMzOTAsMA0KMzM5MSwwDQozMzkyLDANCjMzOTMsMA0KMzM5NCwwDQozMzk1LDANCjMzOTYsMA0KMzM5NywwDQozMzk4LDANCjMzOTksMA0KMzQwMCwwDQozNDAxLDANCjM0MDIsMA0KMzQwMywwDQozNDA0LDANCjM0MDUsMA0KMzQwNiwxDQozNDA3LDANCjM0MDgsMA0KMzQwOSwwDQozNDEwLDANCjM0MTEsMA0KMzQxMiwwDQozNDEzLDANCjM0MTQsMA0KMzQxNSwxDQozNDE2LDANCjM0MTcsMQ0KMzQxOCwwDQozNDE5LDANCjM0MjAsMA0KMzQyMSwwDQozNDIyLDANCjM0MjMsMA0KMzQyNCwxDQozNDI1LDANCjM0MjYsMA0KMzQyNywwDQozNDI4LDANCjM0MjksMA0KMzQzMCwwDQozNDMxLDANCjM0MzIsMA0KMzQzMywwDQozNDM0LDANCjM0MzUsMA0KMzQzNiwwDQozNDM3LDANCjM0MzgsMA0KMzQzOSwwDQozNDQwLDANCjM0NDEsMA0KMzQ0MiwwDQozNDQzLDANCjM0NDQsMA0KMzQ0NSwwDQozNDQ2LDANCjM0NDcsMA0KMzQ0OCwwDQozNDQ5LDANCjM0NTAsMA0KMzQ1MSwwDQozNDUyLDANCjM0NTMsMA0KMzQ1NCwwDQozNDU1LDANCjM0NTYsMQ0KMzQ1NywwDQozNDU4LDANCjM0NTksMA0KMzQ2MCwwDQozNDYxLDANCjM0NjIsMA0KMzQ2MywwDQozNDY0LDANCjM0NjUsMA0KMzQ2NiwwDQozNDY3LDANCjM0NjgsMA0KMzQ2OSwwDQozNDcwLDANCjM0NzEsMA0KMzQ3MiwwDQozNDczLDANCjM0NzQsMA0KMzQ3NSwwDQozNDc2LDANCjM0NzcsMA0KMzQ3OCwwDQozNDc5LDANCjM0ODAsMA0KMzQ4MSwwDQozNDgyLDANCjM0ODMsMA0KMzQ4NCwwDQozNDg1LDANCjM0ODYsMA0KMzQ4NywwDQozNDg4LDANCjM0ODksMA0KMzQ5MCwwDQozNDkxLDENCjM0OTIsMA0KMzQ5MywwDQozNDk0LDANCjM0OTUsMQ0KMzQ5NiwwDQozNDk3LDANCjM0OTgsMA0KMzQ5OSwwDQozNTAwLDANCjM1MDEsMA0KMzUwMiwwDQozNTAzLDANCjM1MDQsMA0KMzUwNSwwDQozNTA2LDANCjM1MDcsMA0KMzUwOCwwDQozNTA5LDANCjM1MTAsMA0KMzUxMSwwDQozNTEyLDANCjM1MTMsMA0KMzUxNCwwDQozNTE1LDANCjM1MTYsMA0KMzUxNywwDQozNTE4LDANCjM1MTksMA0KMzUyMCwxDQozNTIxLDANCjM1MjIsMA0KMzUyMywwDQozNTI0LDANCjM1MjUsMA0KMzUyNiwwDQozNTI3LDANCjM1MjgsMA0KMzUyOSwwDQozNTMwLDANCjM1MzEsMQ0KMzUzMiwwDQozNTMzLDANCjM1MzQsMA0KMzUzNSwwDQozNTM2LDANCjM1MzcsMA0KMzUzOCwwDQozNTM5LDANCjM1NDAsMA0KMzU0MSwwDQozNTQyLDANCjM1NDMsMA0KMzU0NCwwDQozNTQ1LDANCjM1NDYsMQ0KMzU0NywwDQozNTQ4LDANCjM1NDksMQ0KMzU1MCwwDQozNTUxLDENCjM1NTIsMA0KMzU1MywwDQozNTU0LDANCjM1NTUsMA0KMzU1NiwwDQozNTU3LDANCjM1NTgsMA0KMzU1OSwwDQozNTYwLDANCjM1NjEsMA0KMzU2MiwwDQozNTYzLDANCjM1NjQsMA0KMzU2NSwwDQozNTY2LDANCjM1NjcsMA0KMzU2OCwwDQozNTY5LDANCjM1NzAsMA0KMzU3MSwwDQozNTcyLDANCjM1NzMsMA0KMzU3NCwwDQozNTc1LDANCjM1NzYsMA0KMzU3NywwDQozNTc4LDANCjM1NzksMQ0KMzU4MCwwDQozNTgxLDANCjM1ODIsMQ0KMzU4MywwDQozNTg0LDANCjM1ODUsMA0KMzU4NiwwDQozNTg3LDANCjM1ODgsMA0KMzU4OSwwDQozNTkwLDANCjM1OTEsMA0KMzU5MiwwDQozNTkzLDANCjM1OTQsMA0KMzU5NSwwDQozNTk2LDANCjM1OTcsMA0KMzU5OCwwDQozNTk5LDANCjM2MDAsMA0KMzYwMSwwDQozNjAyLDANCjM2MDMsMA0KMzYwNCwwDQozNjA1LDANCjM2MDYsMA0KMzYwNywxDQozNjA4LDANCjM2MDksMA0KMzYxMCwwDQozNjExLDANCjM2MTIsMA0KMzYxMywwDQozNjE0LDANCjM2MTUsMA0KMzYxNiwwDQozNjE3LDANCjM2MTgsMA0KMzYxOSwwDQozNjIwLDANCjM2MjEsMA0KMzYyMiwwDQozNjIzLDANCjM2MjQsMA0KMzYyNSwwDQozNjI2LDANCjM2MjcsMA0KMzYyOCwwDQozNjI5LDANCjM2MzAsMA0KMzYzMSwwDQozNjMyLDANCjM2MzMsMA0KMzYzNCwwDQozNjM1LDENCjM2MzYsMA0KMzYzNywxDQozNjM4LDANCjM2MzksMA0KMzY0MCwwDQozNjQxLDANCjM2NDIsMA0KMzY0MywwDQozNjQ0LDANCjM2NDUsMA0KMzY0NiwxDQozNjQ3LDANCjM2NDgsMA0KMzY0OSwwDQozNjUwLDANCjM2NTEsMQ0KMzY1MiwwDQozNjUzLDANCjM2NTQsMA0KMzY1NSwwDQozNjU2LDANCjM2NTcsMA0KMzY1OCwwDQozNjU5LDANCjM2NjAsMA0KMzY2MSwwDQozNjYyLDANCjM2NjMsMA0KMzY2NCwwDQozNjY1LDANCjM2NjYsMQ0KMzY2NywwDQozNjY4LDANCjM2NjksMA0KMzY3MCwwDQozNjcxLDANCjM2NzIsMA0KMzY3MywwDQozNjc0LDENCjM2NzUsMA0KMzY3NiwwDQozNjc3LDENCjM2NzgsMA0KMzY3OSwwDQozNjgwLDANCjM2ODEsMA0KMzY4MiwwDQozNjgzLDENCjM2ODQsMA0KMzY4NSwwDQozNjg2LDANCjM2ODcsMA0KMzY4OCwxDQozNjg5LDANCjM2OTAsMA0KMzY5MSwwDQozNjkyLDANCjM2OTMsMA0KMzY5NCwwDQozNjk1LDANCjM2OTYsMA0KMzY5NywwDQozNjk4LDANCjM2OTksMA0KMzcwMCwwDQozNzAxLDANCjM3MDIsMA0KMzcwMywwDQozNzA0LDANCjM3MDUsMA0KMzcwNiwwDQozNzA3LDANCjM3MDgsMA0KMzcwOSwwDQozNzEwLDANCjM3MTEsMA0KMzcxMiwwDQozNzEzLDANCjM3MTQsMA0KMzcxNSwwDQozNzE2LDENCjM3MTcsMA0KMzcxOCwwDQozNzE5LDANCjM3MjAsMA0KMzcyMSwwDQozNzIyLDANCjM3MjMsMQ0KMzcyNCwwDQozNzI1LDANCjM3MjYsMQ0KMzcyNywxDQozNzI4LDANCjM3MjksMA0KMzczMCwwDQozNzMxLDANCjM3MzIsMA0KMzczMywxDQozNzM0LDANCjM3MzUsMA0KMzczNiwxDQozNzM3LDANCjM3MzgsMA0KMzczOSwwDQozNzQwLDANCjM3NDEsMA0KMzc0MiwwDQozNzQzLDANCjM3NDQsMA0KMzc0NSwwDQozNzQ2LDANCjM3NDcsMQ0KMzc0OCwwDQozNzQ5LDANCjM3NTAsMA0KMzc1MSwwDQozNzUyLDANCjM3NTMsMA0KMzc1NCwwDQozNzU1LDANCjM3NTYsMA0KMzc1NywwDQozNzU4LDENCjM3NTksMA0KMzc2MCwwDQozNzYxLDANCjM3NjIsMA0KMzc2MywwDQozNzY0LDENCjM3NjUsMA0KMzc2NiwwDQozNzY3LDANCjM3NjgsMA0KMzc2OSwwDQozNzcwLDANCjM3NzEsMQ0KMzc3MiwwDQozNzczLDENCjM3NzQsMA0KMzc3NSwwDQozNzc2LDANCjM3NzcsMA0KMzc3OCwwDQozNzc5LDENCjM3ODAsMA0KMzc4MSwwDQozNzgyLDENCjM3ODMsMA0KMzc4NCwwDQozNzg1LDANCjM3ODYsMA0KMzc4NywwDQozNzg4LDANCjM3ODksMQ0KMzc5MCwwDQozNzkxLDANCjM3OTIsMA0KMzc5MywwDQozNzk0LDANCjM3OTUsMA0KMzc5NiwwDQozNzk3LDANCjM3OTgsMA0KMzc5OSwwDQozODAwLDANCjM4MDEsMA0KMzgwMiwwDQozODAzLDENCjM4MDQsMA0KMzgwNSwwDQozODA2LDENCjM4MDcsMA0KMzgwOCwwDQozODA5LDANCjM4MTAsMA0KMzgxMSwxDQozODEyLDANCjM4MTMsMA0KMzgxNCwwDQozODE1LDANCjM4MTYsMA0KMzgxNywwDQozODE4LDANCjM4MTksMA0KMzgyMCwwDQozODIxLDANCjM4MjIsMA0KMzgyMywwDQozODI0LDANCjM4MjUsMA0KMzgyNiwwDQozODI3LDANCjM4MjgsMQ0KMzgyOSwwDQozODMwLDANCjM4MzEsMA0KMzgzMiwwDQozODMzLDANCjM4MzQsMA0KMzgzNSwwDQozODM2LDENCjM4MzcsMQ0KMzgzOCwwDQozODM5LDANCjM4NDAsMA0KMzg0MSwwDQozODQyLDANCjM4NDMsMA0KMzg0NCwwDQozODQ1LDANCjM4NDYsMQ0KMzg0NywwDQozODQ4LDANCjM4NDksMA0KMzg1MCwwDQozODUxLDANCjM4NTIsMA0KMzg1MywwDQozODU0LDENCjM4NTUsMA0KMzg1NiwwDQozODU3LDANCjM4NTgsMA0KMzg1OSwwDQozODYwLDANCjM4NjEsMA0KMzg2MiwwDQozODYzLDANCjM4NjQsMA0KMzg2NSwwDQozODY2LDANCjM4NjcsMQ0KMzg2OCwwDQozODY5LDANCjM4NzAsMA0KMzg3MSwwDQozODcyLDANCjM4NzMsMA0KMzg3NCwxDQozODc1LDANCjM4NzYsMA0KMzg3NywwDQozODc4LDANCjM4NzksMA0KMzg4MCwwDQozODgxLDANCjM4ODIsMQ0KMzg4MywxDQozODg0LDANCjM4ODUsMA0KMzg4NiwwDQozODg3LDANCjM4ODgsMA0KMzg4OSwxDQozODkwLDANCjM4OTEsMA0KMzg5MiwwDQozODkzLDANCjM4OTQsMA0KMzg5NSwwDQozODk2LDANCjM4OTcsMA0KMzg5OCwwDQozODk5LDANCjM5MDAsMA0KMzkwMSwwDQozOTAyLDENCjM5MDMsMA0KMzkwNCwwDQozOTA1LDANCjM5MDYsMA0KMzkwNywxDQozOTA4LDANCjM5MDksMA0KMzkxMCwwDQozOTExLDANCjM5MTIsMA0KMzkxMywwDQozOTE0LDANCjM5MTUsMA0KMzkxNiwwDQozOTE3LDANCjM5MTgsMA0KMzkxOSwwDQozOTIwLDANCjM5MjEsMA0KMzkyMiwwDQozOTIzLDENCjM5MjQsMQ0KMzkyNSwwDQozOTI2LDANCjM5MjcsMA0KMzkyOCwwDQozOTI5LDENCjM5MzAsMA0KMzkzMSwwDQozOTMyLDANCjM5MzMsMA0KMzkzNCwwDQozOTM1LDENCjM5MzYsMA0KMzkzNywwDQozOTM4LDANCjM5MzksMA0KMzk0MCwwDQozOTQxLDANCjM5NDIsMA0KMzk0MywwDQozOTQ0LDANCjM5NDUsMA0KMzk0NiwwDQozOTQ3LDANCjM5NDgsMA0KMzk0OSwxDQozOTUwLDANCjM5NTEsMA0KMzk1MiwwDQozOTUzLDANCjM5NTQsMQ0KMzk1NSwwDQozOTU2LDANCjM5NTcsMA0KMzk1OCwwDQozOTU5LDANCjM5NjAsMA0KMzk2MSwwDQozOTYyLDANCjM5NjMsMA0KMzk2NCwwDQozOTY1LDANCjM5NjYsMA0KMzk2NywwDQozOTY4LDANCjM5NjksMA0KMzk3MCwwDQozOTcxLDENCjM5NzIsMA0KMzk3MywwDQozOTc0LDANCjM5NzUsMA0KMzk3NiwwDQozOTc3LDANCjM5NzgsMA0KMzk3OSwwDQozOTgwLDANCjM5ODEsMA0KMzk4MiwwDQozOTgzLDANCjM5ODQsMA0KMzk4NSwwDQozOTg2LDANCjM5ODcsMA0KMzk4OCwxDQozOTg5LDANCjM5OTAsMA0KMzk5MSwwDQozOTkyLDANCjM5OTMsMA0KMzk5NCwwDQozOTk1LDANCjM5OTYsMA0KMzk5NywwDQozOTk4LDANCjM5OTksMA0KNDAwMCwwDQo0MDAxLDANCjQwMDIsMQ0KNDAwMywwDQo0MDA0LDANCjQwMDUsMA0KNDAwNiwwDQo0MDA3LDANCjQwMDgsMA0KNDAwOSwwDQo0MDEwLDANCjQwMTEsMA0KNDAxMiwwDQo0MDEzLDANCjQwMTQsMQ0KNDAxNSwwDQo0MDE2LDANCjQwMTcsMA0KNDAxOCwwDQo0MDE5LDANCjQwMjAsMA0KNDAyMSwwDQo0MDIyLDANCjQwMjMsMA0KNDAyNCwwDQo0MDI1LDANCjQwMjYsMA0KNDAyNywwDQo0MDI4LDANCjQwMjksMA0KNDAzMCwwDQo0MDMxLDANCjQwMzIsMA0KNDAzMywxDQo0MDM0LDANCjQwMzUsMA0KNDAzNiwwDQo0MDM3LDANCjQwMzgsMA0KNDAzOSwwDQo0MDQwLDANCjQwNDEsMA0KNDA0MiwwDQo0MDQzLDANCjQwNDQsMA0KNDA0NSwwDQo0MDQ2LDANCjQwNDcsMA0KNDA0OCwwDQo0MDQ5LDANCjQwNTAsMA0KNDA1MSwwDQo0MDUyLDANCjQwNTMsMA0KNDA1NCwxDQo0MDU1LDANCjQwNTYsMA0KNDA1NywwDQo0MDU4LDANCjQwNTksMA0KNDA2MCwwDQo0MDYxLDANCjQwNjIsMA0KNDA2MywwDQo0MDY0LDANCjQwNjUsMA0KNDA2NiwwDQo0MDY3LDANCjQwNjgsMA0KNDA2OSwwDQo0MDcwLDANCjQwNzEsMA0KNDA3MiwwDQo0MDczLDANCjQwNzQsMA0KNDA3NSwwDQo0MDc2LDANCjQwNzcsMA0KNDA3OCwwDQo0MDc5LDANCjQwODAsMA0KNDA4MSwwDQo0MDgyLDENCjQwODMsMQ0KNDA4NCwwDQo0MDg1LDANCjQwODYsMQ0KNDA4NywwDQo0MDg4LDANCjQwODksMA0KNDA5MCwwDQo0MDkxLDANCjQwOTIsMA0KNDA5MywwDQo0MDk0LDANCjQwOTUsMA0KNDA5NiwwDQo0MDk3LDANCjQwOTgsMA0KNDA5OSwwDQo0MTAwLDANCjQxMDEsMQ0KNDEwMiwwDQo0MTAzLDANCjQxMDQsMA0KNDEwNSwwDQo0MTA2LDANCjQxMDcsMA0KNDEwOCwwDQo0MTA5LDANCjQxMTAsMQ0KNDExMSwwDQo0MTEyLDANCjQxMTMsMA0KNDExNCwwDQo0MTE1LDANCjQxMTYsMQ0KNDExNywwDQo0MTE4LDANCjQxMTksMA0KNDEyMCwwDQo0MTIxLDANCjQxMjIsMA0KNDEyMywwDQo0MTI0LDANCjQxMjUsMA0KNDEyNiwwDQo0MTI3LDANCjQxMjgsMA0KNDEyOSwwDQo0MTMwLDANCjQxMzEsMA0KNDEzMiwwDQo0MTMzLDANCjQxMzQsMA0KNDEzNSwwDQo0MTM2LDANCjQxMzcsMA0KNDEzOCwwDQo0MTM5LDANCjQxNDAsMA0KNDE0MSwwDQo0MTQyLDANCjQxNDMsMA0KNDE0NCwwDQo0MTQ1LDANCjQxNDYsMA0KNDE0NywwDQo0MTQ4LDANCjQxNDksMA0KNDE1MCwwDQo0MTUxLDANCjQxNTIsMQ0KNDE1MywxDQo0MTU0LDANCjQxNTUsMA0KNDE1NiwwDQo0MTU3LDANCjQxNTgsMA0KNDE1OSwwDQo0MTYwLDANCjQxNjEsMA0KNDE2MiwwDQo0MTYzLDANCjQxNjQsMA0KNDE2NSwwDQo0MTY2LDANCjQxNjcsMA0KNDE2OCwwDQo0MTY5LDANCjQxNzAsMA0KNDE3MSwwDQo0MTcyLDANCjQxNzMsMA0KNDE3NCwwDQo0MTc1LDANCjQxNzYsMA0KNDE3NywwDQo0MTc4LDANCjQxNzksMQ0KNDE4MCwwDQo0MTgxLDANCjQxODIsMA0KNDE4MywwDQo0MTg0LDANCjQxODUsMA0KNDE4NiwwDQo0MTg3LDENCjQxODgsMA0KNDE4OSwxDQo0MTkwLDANCjQxOTEsMQ0KNDE5MiwwDQo0MTkzLDANCjQxOTQsMA0KNDE5NSwwDQo0MTk2LDANCjQxOTcsMA0KNDE5OCwwDQo0MTk5LDANCjQyMDAsMA0KNDIwMSwwDQo0MjAyLDANCjQyMDMsMA0KNDIwNCwxDQo0MjA1LDANCjQyMDYsMQ0KNDIwNywwDQo0MjA4LDENCjQyMDksMA0KNDIxMCwxDQo0MjExLDANCjQyMTIsMA0KNDIxMywxDQo0MjE0LDANCjQyMTUsMA0KNDIxNiwwDQo0MjE3LDENCjQyMTgsMQ0KNDIxOSwwDQo0MjIwLDANCjQyMjEsMA0KNDIyMiwxDQo0MjIzLDANCjQyMjQsMQ0KNDIyNSwwDQo0MjI2LDANCjQyMjcsMA0KNDIyOCwwDQo0MjI5LDENCjQyMzAsMA0KNDIzMSwxDQo0MjMyLDANCjQyMzMsMA0KNDIzNCwwDQo0MjM1LDANCjQyMzYsMA0KNDIzNywwDQo0MjM4LDANCjQyMzksMA0KNDI0MCwwDQo0MjQxLDANCjQyNDIsMA0KNDI0MywxDQo0MjQ0LDANCjQyNDUsMA0KNDI0NiwwDQo0MjQ3LDANCjQyNDgsMA0KNDI0OSwwDQo0MjUwLDANCjQyNTEsMA0KNDI1MiwwDQo0MjUzLDANCjQyNTQsMA0KNDI1NSwxDQo0MjU2LDENCjQyNTcsMA0KNDI1OCwwDQo0MjU5LDANCjQyNjAsMA0KNDI2MSwwDQo0MjYyLDANCjQyNjMsMA0KNDI2NCwwDQo0MjY1LDANCjQyNjYsMA0KNDI2NywwDQo0MjY4LDENCjQyNjksMA0KNDI3MCwwDQo0MjcxLDANCjQyNzIsMA0KNDI3MywwDQo0Mjc0LDENCjQyNzUsMQ0KNDI3NiwwDQo0Mjc3LDANCjQyNzgsMA0KNDI3OSwwDQo0MjgwLDANCjQyODEsMA0KNDI4MiwwDQo0MjgzLDANCjQyODQsMA0KNDI4NSwwDQo0Mjg2LDANCjQyODcsMA0KNDI4OCwwDQo0Mjg5LDANCjQyOTAsMA0KNDI5MSwwDQo0MjkyLDANCjQyOTMsMQ0KNDI5NCwwDQo0Mjk1LDANCjQyOTYsMA0KNDI5NywwDQo0Mjk4LDANCjQyOTksMA0KNDMwMCwwDQo0MzAxLDANCjQzMDIsMA0KNDMwMywwDQo0MzA0LDANCjQzMDUsMA0KNDMwNiwwDQo0MzA3LDANCjQzMDgsMA0KNDMwOSwwDQo0MzEwLDANCjQzMTEsMA0KNDMxMiwwDQo0MzEzLDANCjQzMTQsMA0KNDMxNSwwDQo0MzE2LDENCjQzMTcsMA0KNDMxOCwwDQo0MzE5LDANCjQzMjAsMA0KNDMyMSwxDQo0MzIyLDANCjQzMjMsMA0KNDMyNCwwDQo0MzI1LDANCjQzMjYsMA0KNDMyNywwDQo0MzI4LDANCjQzMjksMA0KNDMzMCwxDQo0MzMxLDANCjQzMzIsMA0KNDMzMywwDQo0MzM0LDANCjQzMzUsMQ0KNDMzNiwwDQo0MzM3LDANCjQzMzgsMA0KNDMzOSwwDQo0MzQwLDANCjQzNDEsMA0KNDM0MiwwDQo0MzQzLDENCjQzNDQsMA0KNDM0NSwwDQo0MzQ2LDANCjQzNDcsMA0KNDM0OCwwDQo0MzQ5LDANCjQzNTAsMA0KNDM1MSwwDQo0MzUyLDANCjQzNTMsMA0KNDM1NCwwDQo0MzU1LDANCjQzNTYsMA0KNDM1NywxDQo0MzU4LDANCjQzNTksMQ0KNDM2MCwwDQo0MzYxLDANCjQzNjIsMA0KNDM2MywwDQo0MzY0LDANCjQzNjUsMA0KNDM2NiwwDQo0MzY3LDANCjQzNjgsMA0KNDM2OSwwDQo0MzcwLDANCjQzNzEsMA0KNDM3MiwwDQo0MzczLDANCjQzNzQsMA0KNDM3NSwwDQo0Mzc2LDANCjQzNzcsMA0KNDM3OCwwDQo0Mzc5LDANCjQzODAsMA0KNDM4MSwxDQo0MzgyLDANCjQzODMsMA0KNDM4NCwwDQo0Mzg1LDENCjQzODYsMA0KNDM4NywwDQo0Mzg4LDANCjQzODksMA0KNDM5MCwwDQo0MzkxLDANCjQzOTIsMA0KNDM5MywwDQo0Mzk0LDANCjQzOTUsMA0KNDM5NiwwDQo0Mzk3LDANCjQzOTgsMA0KNDM5OSwwDQo0NDAwLDENCjQ0MDEsMA0KNDQwMiwwDQo0NDAzLDANCjQ0MDQsMA0KNDQwNSwwDQo0NDA2LDENCjQ0MDcsMA0KNDQwOCwwDQo0NDA5LDENCjQ0MTAsMA0KNDQxMSwwDQo0NDEyLDANCjQ0MTMsMA0KNDQxNCwwDQo0NDE1LDANCjQ0MTYsMQ0KNDQxNywwDQo0NDE4LDANCjQ0MTksMA0KNDQyMCwwDQo0NDIxLDANCjQ0MjIsMA0KNDQyMywwDQo0NDI0LDANCjQ0MjUsMA0KNDQyNiwxDQo0NDI3LDANCjQ0MjgsMA0KNDQyOSwwDQo0NDMwLDANCjQ0MzEsMA0KNDQzMiwwDQo0NDMzLDANCjQ0MzQsMA0KNDQzNSwwDQo0NDM2LDANCjQ0MzcsMA0KNDQzOCwwDQo0NDM5LDANCjQ0NDAsMA0KNDQ0MSwwDQo0NDQyLDANCjQ0NDMsMA0KNDQ0NCwwDQo0NDQ1LDANCjQ0NDYsMA0KNDQ0NywwDQo0NDQ4LDANCjQ0NDksMA0KNDQ1MCwwDQo0NDUxLDENCjQ0NTIsMA0KNDQ1MywwDQo0NDU0LDANCjQ0NTUsMA0KNDQ1NiwwDQo0NDU3LDANCjQ0NTgsMQ0KNDQ1OSwwDQo0NDYwLDANCjQ0NjEsMA0KNDQ2MiwwDQo0NDYzLDANCjQ0NjQsMA0KNDQ2NSwwDQo0NDY2LDANCjQ0NjcsMA0KNDQ2OCwwDQo0NDY5LDANCjQ0NzAsMA0KNDQ3MSwwDQo0NDcyLDANCjQ0NzMsMA0KNDQ3NCwwDQo0NDc1LDANCjQ0NzYsMA0KNDQ3NywxDQo0NDc4LDANCjQ0NzksMA0KNDQ4MCwwDQo0NDgxLDANCjQ0ODIsMA0KNDQ4MywwDQo0NDg0LDANCjQ0ODUsMA0KNDQ4NiwwDQo0NDg3LDENCjQ0ODgsMA0KNDQ4OSwwDQo0NDkwLDANCjQ0OTEsMA0KNDQ5MiwwDQo0NDkzLDANCjQ0OTQsMA0KNDQ5NSwwDQo0NDk2LDENCjQ0OTcsMQ0KNDQ5OCwxDQo0NDk5LDANCjQ1MDAsMA0KNDUwMSwwDQo0NTAyLDANCjQ1MDMsMA0KNDUwNCwwDQo0NTA1LDANCjQ1MDYsMA0KNDUwNywwDQo0NTA4LDANCg==\" target=\"_blank\">Download CSV file</a>"
            ],
            "text/plain": [
              "<IPython.core.display.HTML object>"
            ]
          },
          "metadata": {
            "tags": []
          },
          "execution_count": 216
        }
      ]
    },
    {
      "cell_type": "code",
      "metadata": {
        "id": "zikRWbuECylm"
      },
      "source": [
        "y_pred_cv = clf.predict(X_test)"
      ],
      "execution_count": null,
      "outputs": []
    },
    {
      "cell_type": "code",
      "metadata": {
        "id": "bOAneFd9Cyl1",
        "outputId": "a595dddc-32d6-4159-f2e4-6cc3a6e79289"
      },
      "source": [
        "print('F1 Score is: ', np.sqrt(f1_score(y_test, y_pred_cv)))"
      ],
      "execution_count": null,
      "outputs": [
        {
          "output_type": "stream",
          "text": [
            "F1 Score is:  0.6778673411748091\n"
          ],
          "name": "stdout"
        }
      ]
    },
    {
      "cell_type": "code",
      "metadata": {
        "id": "_yrNu6R_Cyl-"
      },
      "source": [
        "y_pred_cv_td = clf.predict(test_data_new)"
      ],
      "execution_count": null,
      "outputs": []
    },
    {
      "cell_type": "code",
      "metadata": {
        "id": "pisukYLQCymI"
      },
      "source": [
        "from sklearn.svm import SVC"
      ],
      "execution_count": null,
      "outputs": []
    },
    {
      "cell_type": "code",
      "metadata": {
        "id": "fL33zoOtCymZ"
      },
      "source": [
        "svc_clf = SVC(gamma = 'auto')"
      ],
      "execution_count": null,
      "outputs": []
    },
    {
      "cell_type": "code",
      "metadata": {
        "id": "Z3g9-jIuCyml",
        "outputId": "0abecd16-9ca0-4bad-e673-4c81789e9691"
      },
      "source": [
        "svc_clf.fit(X_train, y_train)"
      ],
      "execution_count": null,
      "outputs": [
        {
          "output_type": "execute_result",
          "data": {
            "text/plain": [
              "SVC(C=1.0, break_ties=False, cache_size=200, class_weight=None, coef0=0.0,\n",
              "    decision_function_shape='ovr', degree=3, gamma='auto', kernel='rbf',\n",
              "    max_iter=-1, probability=False, random_state=None, shrinking=True,\n",
              "    tol=0.001, verbose=False)"
            ]
          },
          "metadata": {
            "tags": []
          },
          "execution_count": 88
        }
      ]
    },
    {
      "cell_type": "code",
      "metadata": {
        "id": "LXbvmCOyCymt"
      },
      "source": [
        "y_pred_svc = svc_clf.predict(X_test)"
      ],
      "execution_count": null,
      "outputs": []
    },
    {
      "cell_type": "code",
      "metadata": {
        "id": "QTCMiM_bCym4",
        "outputId": "b6ebc178-3690-4a35-e9ae-047eeae16153"
      },
      "source": [
        "print('F1 Score is: ', np.sqrt(f1_score(y_test, y_pred_svc)))"
      ],
      "execution_count": null,
      "outputs": [
        {
          "output_type": "stream",
          "text": [
            "F1 Score is:  0.0358979079308869\n"
          ],
          "name": "stdout"
        }
      ]
    },
    {
      "cell_type": "code",
      "metadata": {
        "id": "2EmTtIJwCym_"
      },
      "source": [
        "y_pred_svc_td = svc_clf.predict(test_data_new)"
      ],
      "execution_count": null,
      "outputs": []
    },
    {
      "cell_type": "markdown",
      "metadata": {
        "id": "cVAoybGOCynN"
      },
      "source": [
        "### Performing the Feature Engineering to improve the performance of the model"
      ]
    },
    {
      "cell_type": "code",
      "metadata": {
        "id": "KFL85gjdCynP",
        "outputId": "435520f1-13a2-43d5-8c10-3d7e4d98d5d1"
      },
      "source": [
        "# Feature selection\n",
        "from sklearn.feature_selection import RFE #importing RFE class from sklearn library\n",
        "\n",
        "rd_model_rfe = RFE(estimator= rd_model , step = 1) \n",
        "# estimator clf_lr is the baseline model (basic model) that we have created under \"Base line Model\" selection\n",
        "# step = 1: removes one feature at a time and then builds a model on the remaining features\n",
        "# It uses the model accuracy to identify which features (and combination of features) contribute the most to predicting the target variable.\n",
        "# we can even provide no. of features as an argument \n",
        "\n",
        "# Fit the function for ranking the features\n",
        "fit = rd_model_rfe.fit(X_train, y_train)\n",
        "\n",
        "print(\"Num Features: %d\" % fit.n_features_)\n",
        "print(\"Selected Features: %s\" % fit.support_)\n",
        "print(\"Feature Ranking: %s\" % fit.ranking_)"
      ],
      "execution_count": null,
      "outputs": [
        {
          "output_type": "stream",
          "text": [
            "Num Features: 25\n",
            "Selected Features: [ True  True  True  True  True  True  True False  True False False  True\n",
            " False False False False  True False False False  True  True False  True\n",
            "  True False False False  True  True False  True  True False False  True\n",
            "  True False False False False  True  True  True False  True False False\n",
            " False  True False]\n",
            "Feature Ranking: [ 1  1  1  1  1  1  1  2  1 23 24  1 15 20 12 18  1 19 27  9  1  1 10  1\n",
            "  1 14 26 25  1  1 13  1  1 21  8  1  1 22  5 16  6  1  1  1 11  1  3  4\n",
            " 17  1  7]\n"
          ],
          "name": "stdout"
        }
      ]
    },
    {
      "cell_type": "code",
      "metadata": {
        "id": "qtsDUXI1CynY"
      },
      "source": [
        "# Transforming the data\n",
        "X_train_rfe = rd_model_rfe.transform(X_train)\n",
        "X_test_rfe = rd_model_rfe.transform(X_test)\n",
        "\n",
        "# Fitting our baseline model with the transformed data\n",
        "rf_rfe_model = rd_model.fit(X_train_rfe, y_train)"
      ],
      "execution_count": null,
      "outputs": []
    },
    {
      "cell_type": "code",
      "metadata": {
        "id": "ovpaW3-rCyng"
      },
      "source": [
        "y_pred_rf_rfe = rf_rfe_model.predict(X_test_rfe)"
      ],
      "execution_count": null,
      "outputs": []
    },
    {
      "cell_type": "code",
      "metadata": {
        "id": "Of7o1VsFCyn1",
        "outputId": "a1e9eb20-a54d-419e-fc72-ffbc81502346"
      },
      "source": [
        "print('F1 Score is: ', np.sqrt(f1_score(y_test, y_pred_rf_rfe)))"
      ],
      "execution_count": null,
      "outputs": [
        {
          "output_type": "stream",
          "text": [
            "F1 Score is:  0.711327538842983\n"
          ],
          "name": "stdout"
        }
      ]
    },
    {
      "cell_type": "code",
      "metadata": {
        "id": "yBJIiyMhCyn6"
      },
      "source": [
        "test_data_rfe = rd_model_rfe.transform(test_data_new)\n",
        "\n",
        "y_pred_rf_rfe_td = rf_rfe_model.predict(test_data_rfe)"
      ],
      "execution_count": null,
      "outputs": []
    },
    {
      "cell_type": "code",
      "metadata": {
        "id": "MQMVC5NXCyoE",
        "outputId": "795a1c0e-26ac-470d-d483-03c373e26e53"
      },
      "source": [
        "# Feature selection\n",
        "from sklearn.feature_selection import RFE #importing RFE class from sklearn library\n",
        "\n",
        "dt_model_rfe = RFE(estimator= dt_model , step = 1) \n",
        "# estimator clf_lr is the baseline model (basic model) that we have created under \"Base line Model\" selection\n",
        "# step = 1: removes one feature at a time and then builds a model on the remaining features\n",
        "# It uses the model accuracy to identify which features (and combination of features) contribute the most to predicting the target variable.\n",
        "# we can even provide no. of features as an argument \n",
        "\n",
        "# Fit the function for ranking the features\n",
        "fit = dt_model_rfe.fit(X_train, y_train)\n",
        "\n",
        "print(\"Num Features: %d\" % fit.n_features_)\n",
        "print(\"Selected Features: %s\" % fit.support_)\n",
        "print(\"Feature Ranking: %s\" % fit.ranking_)"
      ],
      "execution_count": null,
      "outputs": [
        {
          "output_type": "stream",
          "text": [
            "Num Features: 25\n",
            "Selected Features: [ True  True  True  True  True  True  True False False False False  True\n",
            " False False False False  True False False False  True  True False  True\n",
            "  True False False False False  True False  True False False  True  True\n",
            "  True False  True False False  True  True  True False  True  True False\n",
            " False  True False]\n",
            "Feature Ranking: [ 1  1  1  1  1  1  1  2  4 13 15  1 20 18 10 14  1 12 26  7  1  1 16  1\n",
            "  1  9 27 25 17  1 21  1  5 23  1  1  1 11  1 19  6  1  1  1  3  1  1  8\n",
            " 22  1 24]\n"
          ],
          "name": "stdout"
        }
      ]
    },
    {
      "cell_type": "code",
      "metadata": {
        "id": "z5fuPRz9CyoP"
      },
      "source": [
        "# Transforming the data\n",
        "X_train_rfe_dt = dt_model_rfe.transform(X_train)\n",
        "X_test_rfe_dt = dt_model_rfe.transform(X_test)\n",
        "\n",
        "# Fitting our baseline model with the transformed data\n",
        "rf_rfe_model = dt_model_rfe.fit(X_train_rfe_dt, y_train)"
      ],
      "execution_count": null,
      "outputs": []
    },
    {
      "cell_type": "code",
      "metadata": {
        "id": "QdvfNfeYCyoW"
      },
      "source": [
        "y_pred_dt_rfe = dt_model_rfe.predict(X_test_rfe_dt)"
      ],
      "execution_count": null,
      "outputs": []
    },
    {
      "cell_type": "code",
      "metadata": {
        "id": "8mKQGfx4Cyoc",
        "outputId": "9c5d31ac-5cd5-48d4-975c-db2c9960db2c"
      },
      "source": [
        "print('F1 Score is: ', np.sqrt(f1_score(y_test, y_pred_dt_rfe)))"
      ],
      "execution_count": null,
      "outputs": [
        {
          "output_type": "stream",
          "text": [
            "F1 Score is:  0.6653608584896009\n"
          ],
          "name": "stdout"
        }
      ]
    },
    {
      "cell_type": "code",
      "metadata": {
        "id": "YqqRLTiWCyoh"
      },
      "source": [
        "test_data_rfe_dt = dt_model_rfe.transform(test_data_new)\n",
        "\n",
        "y_pred_dt_rfe_td = dt_model_rfe.predict(test_data_rfe_dt)"
      ],
      "execution_count": null,
      "outputs": []
    }
  ]
}