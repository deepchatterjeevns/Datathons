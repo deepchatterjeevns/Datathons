{
  "nbformat": 4,
  "nbformat_minor": 0,
  "metadata": {
    "colab": {
      "name": "DataSprint10.ipynb",
      "provenance": [],
      "collapsed_sections": [
        "NQjr_rV9Nvwp"
      ],
      "include_colab_link": true
    },
    "kernelspec": {
      "name": "python3",
      "display_name": "Python 3"
    }
  },
  "cells": [
    {
      "cell_type": "markdown",
      "metadata": {
        "id": "view-in-github",
        "colab_type": "text"
      },
      "source": [
        "<a href=\"https://colab.research.google.com/github/dphi-official/Datathons/blob/master/Top_Notebook_Submissions/Data_Sprint/Data_Sprint_10_Bike_Shares/Rank_5_Aayush_Patni.ipynb\" target=\"_parent\"><img src=\"https://colab.research.google.com/assets/colab-badge.svg\" alt=\"Open In Colab\"/></a>"
      ]
    },
    {
      "cell_type": "markdown",
      "metadata": {
        "id": "5TyKQIdK1gSm"
      },
      "source": [
        " <h1>Bike Share Data</h1>\n",
        "\n",
        "\n",
        "DataSprint 10: https://dphi.tech/practice/challenge/39#problem \n",
        "\n",
        "Author: **Aayush Patni**\n",
        "\n",
        "LinkedIn: https://linkedin.com/in/aayupatni"
      ]
    },
    {
      "cell_type": "code",
      "metadata": {
        "id": "iPbqqqKNtIHD"
      },
      "source": [
        "import numpy as np\n",
        "import pandas as pd\n",
        "import matplotlib.pyplot as plt\n",
        "%matplotlib inline"
      ],
      "execution_count": null,
      "outputs": []
    },
    {
      "cell_type": "markdown",
      "metadata": {
        "id": "NQjr_rV9Nvwp"
      },
      "source": [
        "### Loading Data"
      ]
    },
    {
      "cell_type": "code",
      "metadata": {
        "id": "EY38QMqixUBG"
      },
      "source": [
        "test2 = pd.read_csv('https://raw.githubusercontent.com/dphi-official/Datasets/master/bike_data/bike_test.csv')"
      ],
      "execution_count": null,
      "outputs": []
    },
    {
      "cell_type": "code",
      "metadata": {
        "id": "_7ADNeuKxb03"
      },
      "source": [
        "train2 = pd.read_csv(\"https://raw.githubusercontent.com/dphi-official/Datasets/master/bike_data/bike_train.csv\" )"
      ],
      "execution_count": null,
      "outputs": []
    },
    {
      "cell_type": "code",
      "metadata": {
        "id": "i2PfRG6ixjnH",
        "outputId": "8c8c220b-2bb9-4dab-b944-d3695c6aa183",
        "colab": {
          "base_uri": "https://localhost:8080/",
          "height": 195
        }
      },
      "source": [
        "train2.head()"
      ],
      "execution_count": null,
      "outputs": [
        {
          "output_type": "execute_result",
          "data": {
            "text/html": [
              "<div>\n",
              "<style scoped>\n",
              "    .dataframe tbody tr th:only-of-type {\n",
              "        vertical-align: middle;\n",
              "    }\n",
              "\n",
              "    .dataframe tbody tr th {\n",
              "        vertical-align: top;\n",
              "    }\n",
              "\n",
              "    .dataframe thead th {\n",
              "        text-align: right;\n",
              "    }\n",
              "</style>\n",
              "<table border=\"1\" class=\"dataframe\">\n",
              "  <thead>\n",
              "    <tr style=\"text-align: right;\">\n",
              "      <th></th>\n",
              "      <th>instant</th>\n",
              "      <th>dteday</th>\n",
              "      <th>season</th>\n",
              "      <th>yr</th>\n",
              "      <th>mnth</th>\n",
              "      <th>hr</th>\n",
              "      <th>holiday</th>\n",
              "      <th>weekday</th>\n",
              "      <th>workingday</th>\n",
              "      <th>weathersit</th>\n",
              "      <th>temp</th>\n",
              "      <th>atemp</th>\n",
              "      <th>hum</th>\n",
              "      <th>windspeed</th>\n",
              "      <th>cnt</th>\n",
              "    </tr>\n",
              "  </thead>\n",
              "  <tbody>\n",
              "    <tr>\n",
              "      <th>0</th>\n",
              "      <td>10136</td>\n",
              "      <td>03-03-2012</td>\n",
              "      <td>1</td>\n",
              "      <td>1</td>\n",
              "      <td>3</td>\n",
              "      <td>9</td>\n",
              "      <td>0</td>\n",
              "      <td>6</td>\n",
              "      <td>0</td>\n",
              "      <td>3</td>\n",
              "      <td>0.38</td>\n",
              "      <td>0.3939</td>\n",
              "      <td>0.87</td>\n",
              "      <td>0.0896</td>\n",
              "      <td>94</td>\n",
              "    </tr>\n",
              "    <tr>\n",
              "      <th>1</th>\n",
              "      <td>6987</td>\n",
              "      <td>23-10-2011</td>\n",
              "      <td>4</td>\n",
              "      <td>0</td>\n",
              "      <td>10</td>\n",
              "      <td>17</td>\n",
              "      <td>0</td>\n",
              "      <td>0</td>\n",
              "      <td>0</td>\n",
              "      <td>1</td>\n",
              "      <td>0.50</td>\n",
              "      <td>0.4848</td>\n",
              "      <td>0.63</td>\n",
              "      <td>0.1343</td>\n",
              "      <td>340</td>\n",
              "    </tr>\n",
              "    <tr>\n",
              "      <th>2</th>\n",
              "      <td>14303</td>\n",
              "      <td>24-08-2012</td>\n",
              "      <td>3</td>\n",
              "      <td>1</td>\n",
              "      <td>8</td>\n",
              "      <td>3</td>\n",
              "      <td>0</td>\n",
              "      <td>5</td>\n",
              "      <td>1</td>\n",
              "      <td>1</td>\n",
              "      <td>0.64</td>\n",
              "      <td>0.6061</td>\n",
              "      <td>0.73</td>\n",
              "      <td>0.0000</td>\n",
              "      <td>8</td>\n",
              "    </tr>\n",
              "    <tr>\n",
              "      <th>3</th>\n",
              "      <td>2295</td>\n",
              "      <td>10-04-2011</td>\n",
              "      <td>2</td>\n",
              "      <td>0</td>\n",
              "      <td>4</td>\n",
              "      <td>11</td>\n",
              "      <td>0</td>\n",
              "      <td>0</td>\n",
              "      <td>0</td>\n",
              "      <td>2</td>\n",
              "      <td>0.40</td>\n",
              "      <td>0.4091</td>\n",
              "      <td>0.87</td>\n",
              "      <td>0.1343</td>\n",
              "      <td>202</td>\n",
              "    </tr>\n",
              "    <tr>\n",
              "      <th>4</th>\n",
              "      <td>7869</td>\n",
              "      <td>29-11-2011</td>\n",
              "      <td>4</td>\n",
              "      <td>0</td>\n",
              "      <td>11</td>\n",
              "      <td>12</td>\n",
              "      <td>0</td>\n",
              "      <td>2</td>\n",
              "      <td>1</td>\n",
              "      <td>3</td>\n",
              "      <td>0.42</td>\n",
              "      <td>0.4242</td>\n",
              "      <td>0.82</td>\n",
              "      <td>0.4179</td>\n",
              "      <td>18</td>\n",
              "    </tr>\n",
              "  </tbody>\n",
              "</table>\n",
              "</div>"
            ],
            "text/plain": [
              "   instant      dteday  season  yr  mnth  ...  temp   atemp   hum  windspeed  cnt\n",
              "0    10136  03-03-2012       1   1     3  ...  0.38  0.3939  0.87     0.0896   94\n",
              "1     6987  23-10-2011       4   0    10  ...  0.50  0.4848  0.63     0.1343  340\n",
              "2    14303  24-08-2012       3   1     8  ...  0.64  0.6061  0.73     0.0000    8\n",
              "3     2295  10-04-2011       2   0     4  ...  0.40  0.4091  0.87     0.1343  202\n",
              "4     7869  29-11-2011       4   0    11  ...  0.42  0.4242  0.82     0.4179   18\n",
              "\n",
              "[5 rows x 15 columns]"
            ]
          },
          "metadata": {
            "tags": []
          },
          "execution_count": 4
        }
      ]
    },
    {
      "cell_type": "code",
      "metadata": {
        "id": "InjmNfK5xVaJ",
        "outputId": "4280cb23-5d62-4865-b3c0-2db41843bea6",
        "colab": {
          "base_uri": "https://localhost:8080/",
          "height": 195
        }
      },
      "source": [
        "test2.head()"
      ],
      "execution_count": null,
      "outputs": [
        {
          "output_type": "execute_result",
          "data": {
            "text/html": [
              "<div>\n",
              "<style scoped>\n",
              "    .dataframe tbody tr th:only-of-type {\n",
              "        vertical-align: middle;\n",
              "    }\n",
              "\n",
              "    .dataframe tbody tr th {\n",
              "        vertical-align: top;\n",
              "    }\n",
              "\n",
              "    .dataframe thead th {\n",
              "        text-align: right;\n",
              "    }\n",
              "</style>\n",
              "<table border=\"1\" class=\"dataframe\">\n",
              "  <thead>\n",
              "    <tr style=\"text-align: right;\">\n",
              "      <th></th>\n",
              "      <th>instant</th>\n",
              "      <th>dteday</th>\n",
              "      <th>season</th>\n",
              "      <th>yr</th>\n",
              "      <th>mnth</th>\n",
              "      <th>hr</th>\n",
              "      <th>holiday</th>\n",
              "      <th>weekday</th>\n",
              "      <th>workingday</th>\n",
              "      <th>weathersit</th>\n",
              "      <th>temp</th>\n",
              "      <th>atemp</th>\n",
              "      <th>hum</th>\n",
              "      <th>windspeed</th>\n",
              "    </tr>\n",
              "  </thead>\n",
              "  <tbody>\n",
              "    <tr>\n",
              "      <th>0</th>\n",
              "      <td>16267</td>\n",
              "      <td>15-11-2012</td>\n",
              "      <td>4</td>\n",
              "      <td>1</td>\n",
              "      <td>11</td>\n",
              "      <td>12</td>\n",
              "      <td>0</td>\n",
              "      <td>4</td>\n",
              "      <td>1</td>\n",
              "      <td>2</td>\n",
              "      <td>0.36</td>\n",
              "      <td>0.3636</td>\n",
              "      <td>0.62</td>\n",
              "      <td>0.1045</td>\n",
              "    </tr>\n",
              "    <tr>\n",
              "      <th>1</th>\n",
              "      <td>11800</td>\n",
              "      <td>11-05-2012</td>\n",
              "      <td>2</td>\n",
              "      <td>1</td>\n",
              "      <td>5</td>\n",
              "      <td>20</td>\n",
              "      <td>0</td>\n",
              "      <td>5</td>\n",
              "      <td>1</td>\n",
              "      <td>1</td>\n",
              "      <td>0.62</td>\n",
              "      <td>0.6061</td>\n",
              "      <td>0.25</td>\n",
              "      <td>0.1343</td>\n",
              "    </tr>\n",
              "    <tr>\n",
              "      <th>2</th>\n",
              "      <td>284</td>\n",
              "      <td>13-01-2011</td>\n",
              "      <td>1</td>\n",
              "      <td>0</td>\n",
              "      <td>1</td>\n",
              "      <td>6</td>\n",
              "      <td>0</td>\n",
              "      <td>4</td>\n",
              "      <td>1</td>\n",
              "      <td>1</td>\n",
              "      <td>0.12</td>\n",
              "      <td>0.1515</td>\n",
              "      <td>0.54</td>\n",
              "      <td>0.1343</td>\n",
              "    </tr>\n",
              "    <tr>\n",
              "      <th>3</th>\n",
              "      <td>8876</td>\n",
              "      <td>10-01-2012</td>\n",
              "      <td>1</td>\n",
              "      <td>1</td>\n",
              "      <td>1</td>\n",
              "      <td>16</td>\n",
              "      <td>0</td>\n",
              "      <td>2</td>\n",
              "      <td>1</td>\n",
              "      <td>1</td>\n",
              "      <td>0.42</td>\n",
              "      <td>0.4242</td>\n",
              "      <td>0.38</td>\n",
              "      <td>0.3582</td>\n",
              "    </tr>\n",
              "    <tr>\n",
              "      <th>4</th>\n",
              "      <td>8506</td>\n",
              "      <td>26-12-2011</td>\n",
              "      <td>1</td>\n",
              "      <td>0</td>\n",
              "      <td>12</td>\n",
              "      <td>2</td>\n",
              "      <td>1</td>\n",
              "      <td>1</td>\n",
              "      <td>0</td>\n",
              "      <td>1</td>\n",
              "      <td>0.34</td>\n",
              "      <td>0.3182</td>\n",
              "      <td>0.46</td>\n",
              "      <td>0.2239</td>\n",
              "    </tr>\n",
              "  </tbody>\n",
              "</table>\n",
              "</div>"
            ],
            "text/plain": [
              "   instant      dteday  season  yr  ...  temp   atemp   hum  windspeed\n",
              "0    16267  15-11-2012       4   1  ...  0.36  0.3636  0.62     0.1045\n",
              "1    11800  11-05-2012       2   1  ...  0.62  0.6061  0.25     0.1343\n",
              "2      284  13-01-2011       1   0  ...  0.12  0.1515  0.54     0.1343\n",
              "3     8876  10-01-2012       1   1  ...  0.42  0.4242  0.38     0.3582\n",
              "4     8506  26-12-2011       1   0  ...  0.34  0.3182  0.46     0.2239\n",
              "\n",
              "[5 rows x 14 columns]"
            ]
          },
          "metadata": {
            "tags": []
          },
          "execution_count": 5
        }
      ]
    },
    {
      "cell_type": "code",
      "metadata": {
        "id": "-dP2TRsqGChh",
        "outputId": "c79e75d6-2104-47ce-f9d5-c23dc27858b9",
        "colab": {
          "base_uri": "https://localhost:8080/",
          "height": 106
        }
      },
      "source": [
        "train2.head(2)"
      ],
      "execution_count": null,
      "outputs": [
        {
          "output_type": "execute_result",
          "data": {
            "text/html": [
              "<div>\n",
              "<style scoped>\n",
              "    .dataframe tbody tr th:only-of-type {\n",
              "        vertical-align: middle;\n",
              "    }\n",
              "\n",
              "    .dataframe tbody tr th {\n",
              "        vertical-align: top;\n",
              "    }\n",
              "\n",
              "    .dataframe thead th {\n",
              "        text-align: right;\n",
              "    }\n",
              "</style>\n",
              "<table border=\"1\" class=\"dataframe\">\n",
              "  <thead>\n",
              "    <tr style=\"text-align: right;\">\n",
              "      <th></th>\n",
              "      <th>instant</th>\n",
              "      <th>dteday</th>\n",
              "      <th>season</th>\n",
              "      <th>yr</th>\n",
              "      <th>mnth</th>\n",
              "      <th>hr</th>\n",
              "      <th>holiday</th>\n",
              "      <th>weekday</th>\n",
              "      <th>workingday</th>\n",
              "      <th>weathersit</th>\n",
              "      <th>temp</th>\n",
              "      <th>atemp</th>\n",
              "      <th>hum</th>\n",
              "      <th>windspeed</th>\n",
              "      <th>cnt</th>\n",
              "    </tr>\n",
              "  </thead>\n",
              "  <tbody>\n",
              "    <tr>\n",
              "      <th>0</th>\n",
              "      <td>10136</td>\n",
              "      <td>03-03-2012</td>\n",
              "      <td>1</td>\n",
              "      <td>1</td>\n",
              "      <td>3</td>\n",
              "      <td>9</td>\n",
              "      <td>0</td>\n",
              "      <td>6</td>\n",
              "      <td>0</td>\n",
              "      <td>3</td>\n",
              "      <td>0.38</td>\n",
              "      <td>0.3939</td>\n",
              "      <td>0.87</td>\n",
              "      <td>0.0896</td>\n",
              "      <td>94</td>\n",
              "    </tr>\n",
              "    <tr>\n",
              "      <th>1</th>\n",
              "      <td>6987</td>\n",
              "      <td>23-10-2011</td>\n",
              "      <td>4</td>\n",
              "      <td>0</td>\n",
              "      <td>10</td>\n",
              "      <td>17</td>\n",
              "      <td>0</td>\n",
              "      <td>0</td>\n",
              "      <td>0</td>\n",
              "      <td>1</td>\n",
              "      <td>0.50</td>\n",
              "      <td>0.4848</td>\n",
              "      <td>0.63</td>\n",
              "      <td>0.1343</td>\n",
              "      <td>340</td>\n",
              "    </tr>\n",
              "  </tbody>\n",
              "</table>\n",
              "</div>"
            ],
            "text/plain": [
              "   instant      dteday  season  yr  mnth  ...  temp   atemp   hum  windspeed  cnt\n",
              "0    10136  03-03-2012       1   1     3  ...  0.38  0.3939  0.87     0.0896   94\n",
              "1     6987  23-10-2011       4   0    10  ...  0.50  0.4848  0.63     0.1343  340\n",
              "\n",
              "[2 rows x 15 columns]"
            ]
          },
          "metadata": {
            "tags": []
          },
          "execution_count": 6
        }
      ]
    },
    {
      "cell_type": "code",
      "metadata": {
        "id": "jR3NQz3bGJ1c",
        "outputId": "68fd0557-7618-4b7f-b7bf-37cb035f6a6a",
        "colab": {
          "base_uri": "https://localhost:8080/",
          "height": 386
        }
      },
      "source": [
        "train2.info()"
      ],
      "execution_count": null,
      "outputs": [
        {
          "output_type": "stream",
          "text": [
            "<class 'pandas.core.frame.DataFrame'>\n",
            "RangeIndex: 13903 entries, 0 to 13902\n",
            "Data columns (total 15 columns):\n",
            " #   Column      Non-Null Count  Dtype  \n",
            "---  ------      --------------  -----  \n",
            " 0   instant     13903 non-null  int64  \n",
            " 1   dteday      13903 non-null  object \n",
            " 2   season      13903 non-null  int64  \n",
            " 3   yr          13903 non-null  int64  \n",
            " 4   mnth        13903 non-null  int64  \n",
            " 5   hr          13903 non-null  int64  \n",
            " 6   holiday     13903 non-null  int64  \n",
            " 7   weekday     13903 non-null  int64  \n",
            " 8   workingday  13903 non-null  int64  \n",
            " 9   weathersit  13903 non-null  int64  \n",
            " 10  temp        13903 non-null  float64\n",
            " 11  atemp       13903 non-null  float64\n",
            " 12  hum         13903 non-null  float64\n",
            " 13  windspeed   13903 non-null  float64\n",
            " 14  cnt         13903 non-null  int64  \n",
            "dtypes: float64(4), int64(10), object(1)\n",
            "memory usage: 1.6+ MB\n"
          ],
          "name": "stdout"
        }
      ]
    },
    {
      "cell_type": "markdown",
      "metadata": {
        "id": "hRzsPOzvG0la"
      },
      "source": [
        "### Exploring features"
      ]
    },
    {
      "cell_type": "code",
      "metadata": {
        "id": "yVgJRBP-Jpiy"
      },
      "source": [
        "ID_COL='instant'\n",
        "TARGET_COL='cnt'"
      ],
      "execution_count": null,
      "outputs": []
    },
    {
      "cell_type": "code",
      "metadata": {
        "id": "EjItrk55OEIF",
        "outputId": "4f0a410e-47d7-4a78-b04a-053b7c72491a",
        "colab": {
          "base_uri": "https://localhost:8080/",
          "height": 106
        }
      },
      "source": [
        "df=pd.concat([train2,test2])\n",
        "df.head(2)"
      ],
      "execution_count": null,
      "outputs": [
        {
          "output_type": "execute_result",
          "data": {
            "text/html": [
              "<div>\n",
              "<style scoped>\n",
              "    .dataframe tbody tr th:only-of-type {\n",
              "        vertical-align: middle;\n",
              "    }\n",
              "\n",
              "    .dataframe tbody tr th {\n",
              "        vertical-align: top;\n",
              "    }\n",
              "\n",
              "    .dataframe thead th {\n",
              "        text-align: right;\n",
              "    }\n",
              "</style>\n",
              "<table border=\"1\" class=\"dataframe\">\n",
              "  <thead>\n",
              "    <tr style=\"text-align: right;\">\n",
              "      <th></th>\n",
              "      <th>instant</th>\n",
              "      <th>dteday</th>\n",
              "      <th>season</th>\n",
              "      <th>yr</th>\n",
              "      <th>mnth</th>\n",
              "      <th>hr</th>\n",
              "      <th>holiday</th>\n",
              "      <th>weekday</th>\n",
              "      <th>workingday</th>\n",
              "      <th>weathersit</th>\n",
              "      <th>temp</th>\n",
              "      <th>atemp</th>\n",
              "      <th>hum</th>\n",
              "      <th>windspeed</th>\n",
              "      <th>cnt</th>\n",
              "    </tr>\n",
              "  </thead>\n",
              "  <tbody>\n",
              "    <tr>\n",
              "      <th>0</th>\n",
              "      <td>10136</td>\n",
              "      <td>03-03-2012</td>\n",
              "      <td>1</td>\n",
              "      <td>1</td>\n",
              "      <td>3</td>\n",
              "      <td>9</td>\n",
              "      <td>0</td>\n",
              "      <td>6</td>\n",
              "      <td>0</td>\n",
              "      <td>3</td>\n",
              "      <td>0.38</td>\n",
              "      <td>0.3939</td>\n",
              "      <td>0.87</td>\n",
              "      <td>0.0896</td>\n",
              "      <td>94.0</td>\n",
              "    </tr>\n",
              "    <tr>\n",
              "      <th>1</th>\n",
              "      <td>6987</td>\n",
              "      <td>23-10-2011</td>\n",
              "      <td>4</td>\n",
              "      <td>0</td>\n",
              "      <td>10</td>\n",
              "      <td>17</td>\n",
              "      <td>0</td>\n",
              "      <td>0</td>\n",
              "      <td>0</td>\n",
              "      <td>1</td>\n",
              "      <td>0.50</td>\n",
              "      <td>0.4848</td>\n",
              "      <td>0.63</td>\n",
              "      <td>0.1343</td>\n",
              "      <td>340.0</td>\n",
              "    </tr>\n",
              "  </tbody>\n",
              "</table>\n",
              "</div>"
            ],
            "text/plain": [
              "   instant      dteday  season  yr  mnth  ...  temp   atemp   hum  windspeed    cnt\n",
              "0    10136  03-03-2012       1   1     3  ...  0.38  0.3939  0.87     0.0896   94.0\n",
              "1     6987  23-10-2011       4   0    10  ...  0.50  0.4848  0.63     0.1343  340.0\n",
              "\n",
              "[2 rows x 15 columns]"
            ]
          },
          "metadata": {
            "tags": []
          },
          "execution_count": 9
        }
      ]
    },
    {
      "cell_type": "code",
      "metadata": {
        "id": "_7ilyx9hIejZ",
        "outputId": "875b3601-a3fc-4717-fa15-fa6d0b91fd8c",
        "colab": {
          "base_uri": "https://localhost:8080/",
          "height": 282
        }
      },
      "source": [
        "import seaborn as sns\n",
        "# just to visualize.\n",
        "sns.boxplot(data=df[['temp',\n",
        "       'atemp', 'hum', 'windspeed']])\n",
        "# fig=plt.gcf()\n",
        "# fig.set_size_inches(10,10)"
      ],
      "execution_count": null,
      "outputs": [
        {
          "output_type": "execute_result",
          "data": {
            "text/plain": [
              "<matplotlib.axes._subplots.AxesSubplot at 0x7fd30a3099e8>"
            ]
          },
          "metadata": {
            "tags": []
          },
          "execution_count": 10
        },
        {
          "output_type": "display_data",
          "data": {
            "image/png": "[encoded data removed]",
            "text/plain": [
              "<Figure size 432x288 with 1 Axes>"
            ]
          },
          "metadata": {
            "tags": [],
            "needs_background": "light"
          }
        }
      ]
    },
    {
      "cell_type": "code",
      "metadata": {
        "id": "Qf28dhbVKNhv",
        "outputId": "1d3db8c4-db02-4eec-e3ba-fcdb0496141f",
        "colab": {
          "base_uri": "https://localhost:8080/",
          "height": 607
        }
      },
      "source": [
        "# can also be visulaized using histograms for all the continuous variables.\n",
        "df.temp.unique()\n",
        "fig,axes=plt.subplots(2,2)\n",
        "axes[0,0].hist(x=\"temp\",data=df,edgecolor=\"black\",linewidth=2,color='#ff4125')\n",
        "axes[0,0].set_title(\"Variation of temp\")\n",
        "axes[0,1].hist(x=\"atemp\",data=df,edgecolor=\"black\",linewidth=2,color='#ff4125')\n",
        "axes[0,1].set_title(\"Variation of atemp\")\n",
        "axes[1,0].hist(x=\"windspeed\",data=df,edgecolor=\"black\",linewidth=2,color='#ff4125')\n",
        "axes[1,0].set_title(\"Variation of windspeed\")\n",
        "axes[1,1].hist(x=\"hum\",data=df,edgecolor=\"black\",linewidth=2,color='#ff4125')\n",
        "axes[1,1].set_title(\"Variation of humidity\")\n",
        "fig.set_size_inches(10,10)"
      ],
      "execution_count": null,
      "outputs": [
        {
          "output_type": "display_data",
          "data": {
            "image/png": "[encoded data removed]",
            "text/plain": [
              "<Figure size 720x720 with 4 Axes>"
            ]
          },
          "metadata": {
            "tags": [],
            "needs_background": "light"
          }
        }
      ]
    },
    {
      "cell_type": "code",
      "metadata": {
        "id": "B3c9y0u_PEol"
      },
      "source": [
        "df2 = df[['temp','atemp','hum','windspeed']]\n",
        "df2 = np.log1p(df2)"
      ],
      "execution_count": null,
      "outputs": []
    },
    {
      "cell_type": "code",
      "metadata": {
        "id": "Yye74-3rKjcA",
        "outputId": "161452c6-bfac-405d-d0cd-daaaa65dcdf9",
        "colab": {
          "base_uri": "https://localhost:8080/",
          "height": 607
        }
      },
      "source": [
        "# can also be visulaized using histograms for all the continuous variables.\n",
        "df.temp.unique()\n",
        "fig,axes=plt.subplots(2,2)\n",
        "axes[0,0].hist(x=\"temp\",data=df2,edgecolor=\"black\",linewidth=2,color='#ff4125')\n",
        "axes[0,0].set_title(\"Variation of temp\")\n",
        "axes[0,1].hist(x=\"atemp\",data=df2,edgecolor=\"black\",linewidth=2,color='#ff4125')\n",
        "axes[0,1].set_title(\"Variation of atemp\")\n",
        "axes[1,0].hist(x=\"windspeed\",data=df2,edgecolor=\"black\",linewidth=2,color='#ff4125')\n",
        "axes[1,0].set_title(\"Variation of windspeed\")\n",
        "axes[1,1].hist(x=\"hum\",data=df2,edgecolor=\"black\",linewidth=2,color='#ff4125')\n",
        "axes[1,1].set_title(\"Variation of humidity\")\n",
        "fig.set_size_inches(10,10)"
      ],
      "execution_count": null,
      "outputs": [
        {
          "output_type": "display_data",
          "data": {
            "image/png": "[encoded data removed]",
            "text/plain": [
              "<Figure size 720x720 with 4 Axes>"
            ]
          },
          "metadata": {
            "tags": [],
            "needs_background": "light"
          }
        }
      ]
    },
    {
      "cell_type": "code",
      "metadata": {
        "id": "D1_gOgBLPRCy",
        "outputId": "18131834-edfb-4e19-d5ed-03b521eed708",
        "colab": {
          "base_uri": "https://localhost:8080/",
          "height": 106
        }
      },
      "source": [
        "cols_to_drop=['dteday','instant']\n",
        "df = df.drop(columns=cols_to_drop)\n",
        "df.head(2)"
      ],
      "execution_count": null,
      "outputs": [
        {
          "output_type": "execute_result",
          "data": {
            "text/html": [
              "<div>\n",
              "<style scoped>\n",
              "    .dataframe tbody tr th:only-of-type {\n",
              "        vertical-align: middle;\n",
              "    }\n",
              "\n",
              "    .dataframe tbody tr th {\n",
              "        vertical-align: top;\n",
              "    }\n",
              "\n",
              "    .dataframe thead th {\n",
              "        text-align: right;\n",
              "    }\n",
              "</style>\n",
              "<table border=\"1\" class=\"dataframe\">\n",
              "  <thead>\n",
              "    <tr style=\"text-align: right;\">\n",
              "      <th></th>\n",
              "      <th>season</th>\n",
              "      <th>yr</th>\n",
              "      <th>mnth</th>\n",
              "      <th>hr</th>\n",
              "      <th>holiday</th>\n",
              "      <th>weekday</th>\n",
              "      <th>workingday</th>\n",
              "      <th>weathersit</th>\n",
              "      <th>temp</th>\n",
              "      <th>atemp</th>\n",
              "      <th>hum</th>\n",
              "      <th>windspeed</th>\n",
              "      <th>cnt</th>\n",
              "    </tr>\n",
              "  </thead>\n",
              "  <tbody>\n",
              "    <tr>\n",
              "      <th>0</th>\n",
              "      <td>1</td>\n",
              "      <td>1</td>\n",
              "      <td>3</td>\n",
              "      <td>9</td>\n",
              "      <td>0</td>\n",
              "      <td>6</td>\n",
              "      <td>0</td>\n",
              "      <td>3</td>\n",
              "      <td>0.38</td>\n",
              "      <td>0.3939</td>\n",
              "      <td>0.87</td>\n",
              "      <td>0.0896</td>\n",
              "      <td>94.0</td>\n",
              "    </tr>\n",
              "    <tr>\n",
              "      <th>1</th>\n",
              "      <td>4</td>\n",
              "      <td>0</td>\n",
              "      <td>10</td>\n",
              "      <td>17</td>\n",
              "      <td>0</td>\n",
              "      <td>0</td>\n",
              "      <td>0</td>\n",
              "      <td>1</td>\n",
              "      <td>0.50</td>\n",
              "      <td>0.4848</td>\n",
              "      <td>0.63</td>\n",
              "      <td>0.1343</td>\n",
              "      <td>340.0</td>\n",
              "    </tr>\n",
              "  </tbody>\n",
              "</table>\n",
              "</div>"
            ],
            "text/plain": [
              "   season  yr  mnth  hr  holiday  ...  temp   atemp   hum  windspeed    cnt\n",
              "0       1   1     3   9        0  ...  0.38  0.3939  0.87     0.0896   94.0\n",
              "1       4   0    10  17        0  ...  0.50  0.4848  0.63     0.1343  340.0\n",
              "\n",
              "[2 rows x 13 columns]"
            ]
          },
          "metadata": {
            "tags": []
          },
          "execution_count": 14
        }
      ]
    },
    {
      "cell_type": "code",
      "metadata": {
        "id": "I3Pb9UjgQOhy",
        "outputId": "1938beba-0dfe-4e85-c4b1-9c17ac3c6d19",
        "colab": {
          "base_uri": "https://localhost:8080/",
          "height": 106
        }
      },
      "source": [
        "df[['temp','atemp','hum','windspeed']] = np.log1p(df[['temp','atemp','hum','windspeed']])\n",
        "df.head(2)"
      ],
      "execution_count": null,
      "outputs": [
        {
          "output_type": "execute_result",
          "data": {
            "text/html": [
              "<div>\n",
              "<style scoped>\n",
              "    .dataframe tbody tr th:only-of-type {\n",
              "        vertical-align: middle;\n",
              "    }\n",
              "\n",
              "    .dataframe tbody tr th {\n",
              "        vertical-align: top;\n",
              "    }\n",
              "\n",
              "    .dataframe thead th {\n",
              "        text-align: right;\n",
              "    }\n",
              "</style>\n",
              "<table border=\"1\" class=\"dataframe\">\n",
              "  <thead>\n",
              "    <tr style=\"text-align: right;\">\n",
              "      <th></th>\n",
              "      <th>season</th>\n",
              "      <th>yr</th>\n",
              "      <th>mnth</th>\n",
              "      <th>hr</th>\n",
              "      <th>holiday</th>\n",
              "      <th>weekday</th>\n",
              "      <th>workingday</th>\n",
              "      <th>weathersit</th>\n",
              "      <th>temp</th>\n",
              "      <th>atemp</th>\n",
              "      <th>hum</th>\n",
              "      <th>windspeed</th>\n",
              "      <th>cnt</th>\n",
              "    </tr>\n",
              "  </thead>\n",
              "  <tbody>\n",
              "    <tr>\n",
              "      <th>0</th>\n",
              "      <td>1</td>\n",
              "      <td>1</td>\n",
              "      <td>3</td>\n",
              "      <td>9</td>\n",
              "      <td>0</td>\n",
              "      <td>6</td>\n",
              "      <td>0</td>\n",
              "      <td>3</td>\n",
              "      <td>0.322083</td>\n",
              "      <td>0.332106</td>\n",
              "      <td>0.625938</td>\n",
              "      <td>0.085811</td>\n",
              "      <td>94.0</td>\n",
              "    </tr>\n",
              "    <tr>\n",
              "      <th>1</th>\n",
              "      <td>4</td>\n",
              "      <td>0</td>\n",
              "      <td>10</td>\n",
              "      <td>17</td>\n",
              "      <td>0</td>\n",
              "      <td>0</td>\n",
              "      <td>0</td>\n",
              "      <td>1</td>\n",
              "      <td>0.405465</td>\n",
              "      <td>0.395280</td>\n",
              "      <td>0.488580</td>\n",
              "      <td>0.126016</td>\n",
              "      <td>340.0</td>\n",
              "    </tr>\n",
              "  </tbody>\n",
              "</table>\n",
              "</div>"
            ],
            "text/plain": [
              "   season  yr  mnth  hr  ...     atemp       hum  windspeed    cnt\n",
              "0       1   1     3   9  ...  0.332106  0.625938   0.085811   94.0\n",
              "1       4   0    10  17  ...  0.395280  0.488580   0.126016  340.0\n",
              "\n",
              "[2 rows x 13 columns]"
            ]
          },
          "metadata": {
            "tags": []
          },
          "execution_count": 15
        }
      ]
    },
    {
      "cell_type": "code",
      "metadata": {
        "id": "wsceJSaAQc_i",
        "outputId": "ec0baa07-5be1-4ef4-99c8-ec088015c388",
        "colab": {
          "base_uri": "https://localhost:8080/",
          "height": 299
        }
      },
      "source": [
        "sns.histplot(df['cnt'])"
      ],
      "execution_count": null,
      "outputs": [
        {
          "output_type": "execute_result",
          "data": {
            "text/plain": [
              "<matplotlib.axes._subplots.AxesSubplot at 0x7fd314357b70>"
            ]
          },
          "metadata": {
            "tags": []
          },
          "execution_count": 16
        },
        {
          "output_type": "display_data",
          "data": {
            "image/png": "[encoded data removed]",
            "text/plain": [
              "<Figure size 432x288 with 1 Axes>"
            ]
          },
          "metadata": {
            "tags": [],
            "needs_background": "light"
          }
        }
      ]
    },
    {
      "cell_type": "code",
      "metadata": {
        "id": "qkptnyU4QhOS",
        "outputId": "71ed0bf9-11c7-4055-9b2a-2bedab97e9c8",
        "colab": {
          "base_uri": "https://localhost:8080/",
          "height": 296
        }
      },
      "source": [
        "sns.histplot(np.log1p(df['cnt']))"
      ],
      "execution_count": null,
      "outputs": [
        {
          "output_type": "execute_result",
          "data": {
            "text/plain": [
              "<matplotlib.axes._subplots.AxesSubplot at 0x7fd3086957f0>"
            ]
          },
          "metadata": {
            "tags": []
          },
          "execution_count": 17
        },
        {
          "output_type": "display_data",
          "data": {
            "image/png": "[encoded data removed]",
            "text/plain": [
              "<Figure size 432x288 with 1 Axes>"
            ]
          },
          "metadata": {
            "tags": [],
            "needs_background": "light"
          }
        }
      ]
    },
    {
      "cell_type": "code",
      "metadata": {
        "id": "Bts7DLYpQlkX"
      },
      "source": [
        "df['cnt']=np.log1p(df['cnt'])"
      ],
      "execution_count": null,
      "outputs": []
    },
    {
      "cell_type": "code",
      "metadata": {
        "id": "eH1PdhWIQvBZ",
        "outputId": "dffd6e83-917a-4e11-db82-cd5ee010b59a",
        "colab": {
          "base_uri": "https://localhost:8080/",
          "height": 106
        }
      },
      "source": [
        "df.head(2)"
      ],
      "execution_count": null,
      "outputs": [
        {
          "output_type": "execute_result",
          "data": {
            "text/html": [
              "<div>\n",
              "<style scoped>\n",
              "    .dataframe tbody tr th:only-of-type {\n",
              "        vertical-align: middle;\n",
              "    }\n",
              "\n",
              "    .dataframe tbody tr th {\n",
              "        vertical-align: top;\n",
              "    }\n",
              "\n",
              "    .dataframe thead th {\n",
              "        text-align: right;\n",
              "    }\n",
              "</style>\n",
              "<table border=\"1\" class=\"dataframe\">\n",
              "  <thead>\n",
              "    <tr style=\"text-align: right;\">\n",
              "      <th></th>\n",
              "      <th>season</th>\n",
              "      <th>yr</th>\n",
              "      <th>mnth</th>\n",
              "      <th>hr</th>\n",
              "      <th>holiday</th>\n",
              "      <th>weekday</th>\n",
              "      <th>workingday</th>\n",
              "      <th>weathersit</th>\n",
              "      <th>temp</th>\n",
              "      <th>atemp</th>\n",
              "      <th>hum</th>\n",
              "      <th>windspeed</th>\n",
              "      <th>cnt</th>\n",
              "    </tr>\n",
              "  </thead>\n",
              "  <tbody>\n",
              "    <tr>\n",
              "      <th>0</th>\n",
              "      <td>1</td>\n",
              "      <td>1</td>\n",
              "      <td>3</td>\n",
              "      <td>9</td>\n",
              "      <td>0</td>\n",
              "      <td>6</td>\n",
              "      <td>0</td>\n",
              "      <td>3</td>\n",
              "      <td>0.322083</td>\n",
              "      <td>0.332106</td>\n",
              "      <td>0.625938</td>\n",
              "      <td>0.085811</td>\n",
              "      <td>4.553877</td>\n",
              "    </tr>\n",
              "    <tr>\n",
              "      <th>1</th>\n",
              "      <td>4</td>\n",
              "      <td>0</td>\n",
              "      <td>10</td>\n",
              "      <td>17</td>\n",
              "      <td>0</td>\n",
              "      <td>0</td>\n",
              "      <td>0</td>\n",
              "      <td>1</td>\n",
              "      <td>0.405465</td>\n",
              "      <td>0.395280</td>\n",
              "      <td>0.488580</td>\n",
              "      <td>0.126016</td>\n",
              "      <td>5.831882</td>\n",
              "    </tr>\n",
              "  </tbody>\n",
              "</table>\n",
              "</div>"
            ],
            "text/plain": [
              "   season  yr  mnth  hr  ...     atemp       hum  windspeed       cnt\n",
              "0       1   1     3   9  ...  0.332106  0.625938   0.085811  4.553877\n",
              "1       4   0    10  17  ...  0.395280  0.488580   0.126016  5.831882\n",
              "\n",
              "[2 rows x 13 columns]"
            ]
          },
          "metadata": {
            "tags": []
          },
          "execution_count": 19
        }
      ]
    },
    {
      "cell_type": "code",
      "metadata": {
        "id": "KpimyI70QxfF",
        "outputId": "a8500553-d7e6-4a58-ab60-8bd43e77b141",
        "colab": {
          "base_uri": "https://localhost:8080/",
          "height": 252
        }
      },
      "source": [
        "df.nunique()"
      ],
      "execution_count": null,
      "outputs": [
        {
          "output_type": "execute_result",
          "data": {
            "text/plain": [
              "season          4\n",
              "yr              2\n",
              "mnth           12\n",
              "hr             24\n",
              "holiday         2\n",
              "weekday         7\n",
              "workingday      2\n",
              "weathersit      4\n",
              "temp           50\n",
              "atemp          65\n",
              "hum            89\n",
              "windspeed      30\n",
              "cnt           841\n",
              "dtype: int64"
            ]
          },
          "metadata": {
            "tags": []
          },
          "execution_count": 20
        }
      ]
    },
    {
      "cell_type": "code",
      "metadata": {
        "id": "691GE7F2RSlk",
        "outputId": "70729072-4e30-4074-f47a-d2abf6d5c48e",
        "colab": {
          "base_uri": "https://localhost:8080/",
          "height": 34
        }
      },
      "source": [
        "df.shape"
      ],
      "execution_count": null,
      "outputs": [
        {
          "output_type": "execute_result",
          "data": {
            "text/plain": [
              "(17379, 13)"
            ]
          },
          "metadata": {
            "tags": []
          },
          "execution_count": 21
        }
      ]
    },
    {
      "cell_type": "code",
      "metadata": {
        "id": "Ev6yOOyjStT6",
        "outputId": "44efdb3d-0353-4725-de63-b15ef2c7d010",
        "colab": {
          "base_uri": "https://localhost:8080/",
          "height": 126
        }
      },
      "source": [
        "cat_cols = ['season','weathersit','weekday','mnth']\n",
        "df = pd.get_dummies(df,columns=cat_cols)\n",
        "df.head(2)"
      ],
      "execution_count": null,
      "outputs": [
        {
          "output_type": "execute_result",
          "data": {
            "text/html": [
              "<div>\n",
              "<style scoped>\n",
              "    .dataframe tbody tr th:only-of-type {\n",
              "        vertical-align: middle;\n",
              "    }\n",
              "\n",
              "    .dataframe tbody tr th {\n",
              "        vertical-align: top;\n",
              "    }\n",
              "\n",
              "    .dataframe thead th {\n",
              "        text-align: right;\n",
              "    }\n",
              "</style>\n",
              "<table border=\"1\" class=\"dataframe\">\n",
              "  <thead>\n",
              "    <tr style=\"text-align: right;\">\n",
              "      <th></th>\n",
              "      <th>yr</th>\n",
              "      <th>hr</th>\n",
              "      <th>holiday</th>\n",
              "      <th>workingday</th>\n",
              "      <th>temp</th>\n",
              "      <th>atemp</th>\n",
              "      <th>hum</th>\n",
              "      <th>windspeed</th>\n",
              "      <th>cnt</th>\n",
              "      <th>season_1</th>\n",
              "      <th>season_2</th>\n",
              "      <th>season_3</th>\n",
              "      <th>season_4</th>\n",
              "      <th>weathersit_1</th>\n",
              "      <th>weathersit_2</th>\n",
              "      <th>weathersit_3</th>\n",
              "      <th>weathersit_4</th>\n",
              "      <th>weekday_0</th>\n",
              "      <th>weekday_1</th>\n",
              "      <th>weekday_2</th>\n",
              "      <th>weekday_3</th>\n",
              "      <th>weekday_4</th>\n",
              "      <th>weekday_5</th>\n",
              "      <th>weekday_6</th>\n",
              "      <th>mnth_1</th>\n",
              "      <th>mnth_2</th>\n",
              "      <th>mnth_3</th>\n",
              "      <th>mnth_4</th>\n",
              "      <th>mnth_5</th>\n",
              "      <th>mnth_6</th>\n",
              "      <th>mnth_7</th>\n",
              "      <th>mnth_8</th>\n",
              "      <th>mnth_9</th>\n",
              "      <th>mnth_10</th>\n",
              "      <th>mnth_11</th>\n",
              "      <th>mnth_12</th>\n",
              "    </tr>\n",
              "  </thead>\n",
              "  <tbody>\n",
              "    <tr>\n",
              "      <th>0</th>\n",
              "      <td>1</td>\n",
              "      <td>9</td>\n",
              "      <td>0</td>\n",
              "      <td>0</td>\n",
              "      <td>0.322083</td>\n",
              "      <td>0.332106</td>\n",
              "      <td>0.625938</td>\n",
              "      <td>0.085811</td>\n",
              "      <td>4.553877</td>\n",
              "      <td>1</td>\n",
              "      <td>0</td>\n",
              "      <td>0</td>\n",
              "      <td>0</td>\n",
              "      <td>0</td>\n",
              "      <td>0</td>\n",
              "      <td>1</td>\n",
              "      <td>0</td>\n",
              "      <td>0</td>\n",
              "      <td>0</td>\n",
              "      <td>0</td>\n",
              "      <td>0</td>\n",
              "      <td>0</td>\n",
              "      <td>0</td>\n",
              "      <td>1</td>\n",
              "      <td>0</td>\n",
              "      <td>0</td>\n",
              "      <td>1</td>\n",
              "      <td>0</td>\n",
              "      <td>0</td>\n",
              "      <td>0</td>\n",
              "      <td>0</td>\n",
              "      <td>0</td>\n",
              "      <td>0</td>\n",
              "      <td>0</td>\n",
              "      <td>0</td>\n",
              "      <td>0</td>\n",
              "    </tr>\n",
              "    <tr>\n",
              "      <th>1</th>\n",
              "      <td>0</td>\n",
              "      <td>17</td>\n",
              "      <td>0</td>\n",
              "      <td>0</td>\n",
              "      <td>0.405465</td>\n",
              "      <td>0.395280</td>\n",
              "      <td>0.488580</td>\n",
              "      <td>0.126016</td>\n",
              "      <td>5.831882</td>\n",
              "      <td>0</td>\n",
              "      <td>0</td>\n",
              "      <td>0</td>\n",
              "      <td>1</td>\n",
              "      <td>1</td>\n",
              "      <td>0</td>\n",
              "      <td>0</td>\n",
              "      <td>0</td>\n",
              "      <td>1</td>\n",
              "      <td>0</td>\n",
              "      <td>0</td>\n",
              "      <td>0</td>\n",
              "      <td>0</td>\n",
              "      <td>0</td>\n",
              "      <td>0</td>\n",
              "      <td>0</td>\n",
              "      <td>0</td>\n",
              "      <td>0</td>\n",
              "      <td>0</td>\n",
              "      <td>0</td>\n",
              "      <td>0</td>\n",
              "      <td>0</td>\n",
              "      <td>0</td>\n",
              "      <td>0</td>\n",
              "      <td>1</td>\n",
              "      <td>0</td>\n",
              "      <td>0</td>\n",
              "    </tr>\n",
              "  </tbody>\n",
              "</table>\n",
              "</div>"
            ],
            "text/plain": [
              "   yr  hr  holiday  workingday  ...  mnth_9  mnth_10  mnth_11  mnth_12\n",
              "0   1   9        0           0  ...       0        0        0        0\n",
              "1   0  17        0           0  ...       0        1        0        0\n",
              "\n",
              "[2 rows x 36 columns]"
            ]
          },
          "metadata": {
            "tags": []
          },
          "execution_count": 22
        }
      ]
    },
    {
      "cell_type": "code",
      "metadata": {
        "id": "WkNqcPwRTRUv"
      },
      "source": [
        "train_proc = df[:train2.shape[0]]\n",
        "test_proc = df[train2.shape[0]:]"
      ],
      "execution_count": null,
      "outputs": []
    },
    {
      "cell_type": "code",
      "metadata": {
        "id": "v-0uJanPTbuh",
        "outputId": "cbeb1a39-5f25-4563-9a65-cbcd1177097d",
        "colab": {
          "base_uri": "https://localhost:8080/",
          "height": 101
        }
      },
      "source": [
        "test_proc.drop(columns=TARGET_COL,inplace=True)"
      ],
      "execution_count": null,
      "outputs": [
        {
          "output_type": "stream",
          "text": [
            "/usr/local/lib/python3.6/dist-packages/pandas/core/frame.py:4169: SettingWithCopyWarning: \n",
            "A value is trying to be set on a copy of a slice from a DataFrame\n",
            "\n",
            "See the caveats in the documentation: https://pandas.pydata.org/pandas-docs/stable/user_guide/indexing.html#returning-a-view-versus-a-copy\n",
            "  errors=errors,\n"
          ],
          "name": "stderr"
        }
      ]
    },
    {
      "cell_type": "code",
      "metadata": {
        "id": "t5gXHwhYTg5C",
        "outputId": "f7bfc03d-acba-4f96-f04e-8b9931fb1f3a",
        "colab": {
          "base_uri": "https://localhost:8080/",
          "height": 101
        }
      },
      "source": [
        "y=train_proc[TARGET_COL]\n",
        "train_proc.drop(columns=TARGET_COL,inplace=True)"
      ],
      "execution_count": null,
      "outputs": [
        {
          "output_type": "stream",
          "text": [
            "/usr/local/lib/python3.6/dist-packages/pandas/core/frame.py:4169: SettingWithCopyWarning: \n",
            "A value is trying to be set on a copy of a slice from a DataFrame\n",
            "\n",
            "See the caveats in the documentation: https://pandas.pydata.org/pandas-docs/stable/user_guide/indexing.html#returning-a-view-versus-a-copy\n",
            "  errors=errors,\n"
          ],
          "name": "stderr"
        }
      ]
    },
    {
      "cell_type": "code",
      "metadata": {
        "id": "1ptVje2vTo3E",
        "outputId": "ec95fca8-9035-4aac-bb43-99689765fd04",
        "colab": {
          "base_uri": "https://localhost:8080/",
          "height": 126
        }
      },
      "source": [
        "train_proc.head(2)"
      ],
      "execution_count": null,
      "outputs": [
        {
          "output_type": "execute_result",
          "data": {
            "text/html": [
              "<div>\n",
              "<style scoped>\n",
              "    .dataframe tbody tr th:only-of-type {\n",
              "        vertical-align: middle;\n",
              "    }\n",
              "\n",
              "    .dataframe tbody tr th {\n",
              "        vertical-align: top;\n",
              "    }\n",
              "\n",
              "    .dataframe thead th {\n",
              "        text-align: right;\n",
              "    }\n",
              "</style>\n",
              "<table border=\"1\" class=\"dataframe\">\n",
              "  <thead>\n",
              "    <tr style=\"text-align: right;\">\n",
              "      <th></th>\n",
              "      <th>yr</th>\n",
              "      <th>hr</th>\n",
              "      <th>holiday</th>\n",
              "      <th>workingday</th>\n",
              "      <th>temp</th>\n",
              "      <th>atemp</th>\n",
              "      <th>hum</th>\n",
              "      <th>windspeed</th>\n",
              "      <th>season_1</th>\n",
              "      <th>season_2</th>\n",
              "      <th>season_3</th>\n",
              "      <th>season_4</th>\n",
              "      <th>weathersit_1</th>\n",
              "      <th>weathersit_2</th>\n",
              "      <th>weathersit_3</th>\n",
              "      <th>weathersit_4</th>\n",
              "      <th>weekday_0</th>\n",
              "      <th>weekday_1</th>\n",
              "      <th>weekday_2</th>\n",
              "      <th>weekday_3</th>\n",
              "      <th>weekday_4</th>\n",
              "      <th>weekday_5</th>\n",
              "      <th>weekday_6</th>\n",
              "      <th>mnth_1</th>\n",
              "      <th>mnth_2</th>\n",
              "      <th>mnth_3</th>\n",
              "      <th>mnth_4</th>\n",
              "      <th>mnth_5</th>\n",
              "      <th>mnth_6</th>\n",
              "      <th>mnth_7</th>\n",
              "      <th>mnth_8</th>\n",
              "      <th>mnth_9</th>\n",
              "      <th>mnth_10</th>\n",
              "      <th>mnth_11</th>\n",
              "      <th>mnth_12</th>\n",
              "    </tr>\n",
              "  </thead>\n",
              "  <tbody>\n",
              "    <tr>\n",
              "      <th>0</th>\n",
              "      <td>1</td>\n",
              "      <td>9</td>\n",
              "      <td>0</td>\n",
              "      <td>0</td>\n",
              "      <td>0.322083</td>\n",
              "      <td>0.332106</td>\n",
              "      <td>0.625938</td>\n",
              "      <td>0.085811</td>\n",
              "      <td>1</td>\n",
              "      <td>0</td>\n",
              "      <td>0</td>\n",
              "      <td>0</td>\n",
              "      <td>0</td>\n",
              "      <td>0</td>\n",
              "      <td>1</td>\n",
              "      <td>0</td>\n",
              "      <td>0</td>\n",
              "      <td>0</td>\n",
              "      <td>0</td>\n",
              "      <td>0</td>\n",
              "      <td>0</td>\n",
              "      <td>0</td>\n",
              "      <td>1</td>\n",
              "      <td>0</td>\n",
              "      <td>0</td>\n",
              "      <td>1</td>\n",
              "      <td>0</td>\n",
              "      <td>0</td>\n",
              "      <td>0</td>\n",
              "      <td>0</td>\n",
              "      <td>0</td>\n",
              "      <td>0</td>\n",
              "      <td>0</td>\n",
              "      <td>0</td>\n",
              "      <td>0</td>\n",
              "    </tr>\n",
              "    <tr>\n",
              "      <th>1</th>\n",
              "      <td>0</td>\n",
              "      <td>17</td>\n",
              "      <td>0</td>\n",
              "      <td>0</td>\n",
              "      <td>0.405465</td>\n",
              "      <td>0.395280</td>\n",
              "      <td>0.488580</td>\n",
              "      <td>0.126016</td>\n",
              "      <td>0</td>\n",
              "      <td>0</td>\n",
              "      <td>0</td>\n",
              "      <td>1</td>\n",
              "      <td>1</td>\n",
              "      <td>0</td>\n",
              "      <td>0</td>\n",
              "      <td>0</td>\n",
              "      <td>1</td>\n",
              "      <td>0</td>\n",
              "      <td>0</td>\n",
              "      <td>0</td>\n",
              "      <td>0</td>\n",
              "      <td>0</td>\n",
              "      <td>0</td>\n",
              "      <td>0</td>\n",
              "      <td>0</td>\n",
              "      <td>0</td>\n",
              "      <td>0</td>\n",
              "      <td>0</td>\n",
              "      <td>0</td>\n",
              "      <td>0</td>\n",
              "      <td>0</td>\n",
              "      <td>0</td>\n",
              "      <td>1</td>\n",
              "      <td>0</td>\n",
              "      <td>0</td>\n",
              "    </tr>\n",
              "  </tbody>\n",
              "</table>\n",
              "</div>"
            ],
            "text/plain": [
              "   yr  hr  holiday  workingday  ...  mnth_9  mnth_10  mnth_11  mnth_12\n",
              "0   1   9        0           0  ...       0        0        0        0\n",
              "1   0  17        0           0  ...       0        1        0        0\n",
              "\n",
              "[2 rows x 35 columns]"
            ]
          },
          "metadata": {
            "tags": []
          },
          "execution_count": 26
        }
      ]
    },
    {
      "cell_type": "code",
      "metadata": {
        "id": "X7lmMf3KTr4p",
        "outputId": "091cecd6-d293-486d-f0db-2c5b454a5c66",
        "colab": {
          "base_uri": "https://localhost:8080/",
          "height": 126
        }
      },
      "source": [
        "test_proc.head(2)"
      ],
      "execution_count": null,
      "outputs": [
        {
          "output_type": "execute_result",
          "data": {
            "text/html": [
              "<div>\n",
              "<style scoped>\n",
              "    .dataframe tbody tr th:only-of-type {\n",
              "        vertical-align: middle;\n",
              "    }\n",
              "\n",
              "    .dataframe tbody tr th {\n",
              "        vertical-align: top;\n",
              "    }\n",
              "\n",
              "    .dataframe thead th {\n",
              "        text-align: right;\n",
              "    }\n",
              "</style>\n",
              "<table border=\"1\" class=\"dataframe\">\n",
              "  <thead>\n",
              "    <tr style=\"text-align: right;\">\n",
              "      <th></th>\n",
              "      <th>yr</th>\n",
              "      <th>hr</th>\n",
              "      <th>holiday</th>\n",
              "      <th>workingday</th>\n",
              "      <th>temp</th>\n",
              "      <th>atemp</th>\n",
              "      <th>hum</th>\n",
              "      <th>windspeed</th>\n",
              "      <th>season_1</th>\n",
              "      <th>season_2</th>\n",
              "      <th>season_3</th>\n",
              "      <th>season_4</th>\n",
              "      <th>weathersit_1</th>\n",
              "      <th>weathersit_2</th>\n",
              "      <th>weathersit_3</th>\n",
              "      <th>weathersit_4</th>\n",
              "      <th>weekday_0</th>\n",
              "      <th>weekday_1</th>\n",
              "      <th>weekday_2</th>\n",
              "      <th>weekday_3</th>\n",
              "      <th>weekday_4</th>\n",
              "      <th>weekday_5</th>\n",
              "      <th>weekday_6</th>\n",
              "      <th>mnth_1</th>\n",
              "      <th>mnth_2</th>\n",
              "      <th>mnth_3</th>\n",
              "      <th>mnth_4</th>\n",
              "      <th>mnth_5</th>\n",
              "      <th>mnth_6</th>\n",
              "      <th>mnth_7</th>\n",
              "      <th>mnth_8</th>\n",
              "      <th>mnth_9</th>\n",
              "      <th>mnth_10</th>\n",
              "      <th>mnth_11</th>\n",
              "      <th>mnth_12</th>\n",
              "    </tr>\n",
              "  </thead>\n",
              "  <tbody>\n",
              "    <tr>\n",
              "      <th>0</th>\n",
              "      <td>1</td>\n",
              "      <td>12</td>\n",
              "      <td>0</td>\n",
              "      <td>1</td>\n",
              "      <td>0.307485</td>\n",
              "      <td>0.310128</td>\n",
              "      <td>0.482426</td>\n",
              "      <td>0.099393</td>\n",
              "      <td>0</td>\n",
              "      <td>0</td>\n",
              "      <td>0</td>\n",
              "      <td>1</td>\n",
              "      <td>0</td>\n",
              "      <td>1</td>\n",
              "      <td>0</td>\n",
              "      <td>0</td>\n",
              "      <td>0</td>\n",
              "      <td>0</td>\n",
              "      <td>0</td>\n",
              "      <td>0</td>\n",
              "      <td>1</td>\n",
              "      <td>0</td>\n",
              "      <td>0</td>\n",
              "      <td>0</td>\n",
              "      <td>0</td>\n",
              "      <td>0</td>\n",
              "      <td>0</td>\n",
              "      <td>0</td>\n",
              "      <td>0</td>\n",
              "      <td>0</td>\n",
              "      <td>0</td>\n",
              "      <td>0</td>\n",
              "      <td>0</td>\n",
              "      <td>1</td>\n",
              "      <td>0</td>\n",
              "    </tr>\n",
              "    <tr>\n",
              "      <th>1</th>\n",
              "      <td>1</td>\n",
              "      <td>20</td>\n",
              "      <td>0</td>\n",
              "      <td>1</td>\n",
              "      <td>0.482426</td>\n",
              "      <td>0.473809</td>\n",
              "      <td>0.223144</td>\n",
              "      <td>0.126016</td>\n",
              "      <td>0</td>\n",
              "      <td>1</td>\n",
              "      <td>0</td>\n",
              "      <td>0</td>\n",
              "      <td>1</td>\n",
              "      <td>0</td>\n",
              "      <td>0</td>\n",
              "      <td>0</td>\n",
              "      <td>0</td>\n",
              "      <td>0</td>\n",
              "      <td>0</td>\n",
              "      <td>0</td>\n",
              "      <td>0</td>\n",
              "      <td>1</td>\n",
              "      <td>0</td>\n",
              "      <td>0</td>\n",
              "      <td>0</td>\n",
              "      <td>0</td>\n",
              "      <td>0</td>\n",
              "      <td>1</td>\n",
              "      <td>0</td>\n",
              "      <td>0</td>\n",
              "      <td>0</td>\n",
              "      <td>0</td>\n",
              "      <td>0</td>\n",
              "      <td>0</td>\n",
              "      <td>0</td>\n",
              "    </tr>\n",
              "  </tbody>\n",
              "</table>\n",
              "</div>"
            ],
            "text/plain": [
              "   yr  hr  holiday  workingday  ...  mnth_9  mnth_10  mnth_11  mnth_12\n",
              "0   1  12        0           1  ...       0        0        1        0\n",
              "1   1  20        0           1  ...       0        0        0        0\n",
              "\n",
              "[2 rows x 35 columns]"
            ]
          },
          "metadata": {
            "tags": []
          },
          "execution_count": 27
        }
      ]
    },
    {
      "cell_type": "markdown",
      "metadata": {
        "id": "YppH9mwed0uv"
      },
      "source": [
        "### Building Model"
      ]
    },
    {
      "cell_type": "code",
      "metadata": {
        "id": "CyBthzt5TuW3",
        "outputId": "f2e85abc-c973-4d2b-f341-6d8e8a583a67",
        "colab": {
          "base_uri": "https://localhost:8080/",
          "height": 319
        }
      },
      "source": [
        "!pip install catboost\n",
        "import numpy as np\n",
        "import pandas as pd\n",
        "import matplotlib.pyplot as plt\n",
        "%matplotlib inline\n",
        "plt.style.use('seaborn-whitegrid')\n",
        "\n",
        "import seaborn as sns\n",
        "from sklearn.model_selection import train_test_split, StratifiedKFold\n",
        "from sklearn.metrics import accuracy_score, f1_score\n",
        "from sklearn.model_selection import KFold\n",
        "\n",
        "from sklearn.tree import DecisionTreeRegressor\n",
        "from sklearn.ensemble import RandomForestRegressor\n",
        "from sklearn.preprocessing import StandardScaler\n",
        "\n",
        "from sklearn.linear_model import LinearRegression, ElasticNet\n",
        "\n",
        "from lightgbm import LGBMRegressor\n",
        "from catboost import CatBoostRegressor\n",
        "from xgboost import XGBRegressor\n",
        "\n",
        "from scipy import stats\n",
        "\n",
        "from IPython.core.interactiveshell import InteractiveShell\n",
        "InteractiveShell.ast_node_interactivity = \"all\"\n",
        "\n",
        "import warnings\n",
        "warnings.simplefilter('ignore')"
      ],
      "execution_count": null,
      "outputs": [
        {
          "output_type": "stream",
          "text": [
            "Collecting catboost\n",
            "\u001b[?25l  Downloading https://files.pythonhosted.org/packages/52/39/128fff65072c8327371e3c594f3c826d29c85b21cb6485980353b168e0e4/catboost-0.24.2-cp36-none-manylinux1_x86_64.whl (66.1MB)\n",
            "\u001b[K     |████████████████████████████████| 66.2MB 57kB/s \n",
            "\u001b[?25hRequirement already satisfied: pandas>=0.24.0 in /usr/local/lib/python3.6/dist-packages (from catboost) (1.1.2)\n",
            "Requirement already satisfied: six in /usr/local/lib/python3.6/dist-packages (from catboost) (1.15.0)\n",
            "Requirement already satisfied: plotly in /usr/local/lib/python3.6/dist-packages (from catboost) (4.4.1)\n",
            "Requirement already satisfied: matplotlib in /usr/local/lib/python3.6/dist-packages (from catboost) (3.2.2)\n",
            "Requirement already satisfied: numpy>=1.16.0 in /usr/local/lib/python3.6/dist-packages (from catboost) (1.18.5)\n",
            "Requirement already satisfied: scipy in /usr/local/lib/python3.6/dist-packages (from catboost) (1.4.1)\n",
            "Requirement already satisfied: graphviz in /usr/local/lib/python3.6/dist-packages (from catboost) (0.10.1)\n",
            "Requirement already satisfied: pytz>=2017.2 in /usr/local/lib/python3.6/dist-packages (from pandas>=0.24.0->catboost) (2018.9)\n",
            "Requirement already satisfied: python-dateutil>=2.7.3 in /usr/local/lib/python3.6/dist-packages (from pandas>=0.24.0->catboost) (2.8.1)\n",
            "Requirement already satisfied: retrying>=1.3.3 in /usr/local/lib/python3.6/dist-packages (from plotly->catboost) (1.3.3)\n",
            "Requirement already satisfied: kiwisolver>=1.0.1 in /usr/local/lib/python3.6/dist-packages (from matplotlib->catboost) (1.2.0)\n",
            "Requirement already satisfied: cycler>=0.10 in /usr/local/lib/python3.6/dist-packages (from matplotlib->catboost) (0.10.0)\n",
            "Requirement already satisfied: pyparsing!=2.0.4,!=2.1.2,!=2.1.6,>=2.0.1 in /usr/local/lib/python3.6/dist-packages (from matplotlib->catboost) (2.4.7)\n",
            "Installing collected packages: catboost\n",
            "Successfully installed catboost-0.24.2\n"
          ],
          "name": "stdout"
        }
      ]
    },
    {
      "cell_type": "code",
      "metadata": {
        "id": "XjpeFKr5T6a9"
      },
      "source": [
        "from sklearn.linear_model import Ridge, RidgeCV, ElasticNet, LassoCV, LassoLarsCV\n",
        "from sklearn.model_selection import cross_val_score\n",
        "\n",
        "def rmse_cv(model):\n",
        "    rmse= np.sqrt(-cross_val_score(model, train_proc, y, scoring=\"neg_mean_squared_error\", cv = 5))\n",
        "    return(rmse)"
      ],
      "execution_count": null,
      "outputs": []
    },
    {
      "cell_type": "code",
      "metadata": {
        "id": "YYATHYInUXUk",
        "outputId": "389917c4-5891-4050-9f70-ca20acad2891",
        "colab": {
          "base_uri": "https://localhost:8080/",
          "height": 34
        }
      },
      "source": [
        "rf = RandomForestRegressor()\n",
        "rf_scores = rmse_cv(rf)\n",
        "rf_scores.mean()"
      ],
      "execution_count": null,
      "outputs": [
        {
          "output_type": "execute_result",
          "data": {
            "text/plain": [
              "0.3207318697262675"
            ]
          },
          "metadata": {
            "tags": []
          },
          "execution_count": 30
        }
      ]
    },
    {
      "cell_type": "code",
      "metadata": {
        "id": "fwuIlYhjUfmg"
      },
      "source": [
        "model_ridge = Ridge()"
      ],
      "execution_count": null,
      "outputs": []
    },
    {
      "cell_type": "code",
      "metadata": {
        "id": "gke96U31U5wS"
      },
      "source": [
        "alphas = [0.0001, 0.005, 0.05, 0.1, 0.3, 1, 3, 5, 10]\n",
        "cv_ridge = [rmse_cv(Ridge(alpha = alpha)).mean() \n",
        "            for alpha in alphas]"
      ],
      "execution_count": null,
      "outputs": []
    },
    {
      "cell_type": "code",
      "metadata": {
        "id": "lwAjd6g_U9B7",
        "outputId": "1103d789-66d7-4279-d72a-c4b2b1dedd25",
        "colab": {
          "base_uri": "https://localhost:8080/",
          "height": 308
        }
      },
      "source": [
        "cv_ridge = pd.Series(cv_ridge, index = alphas)\n",
        "cv_ridge.plot(title = \"Validation - Just Do It\")\n",
        "plt.xlabel(\"alpha\")\n",
        "plt.ylabel(\"rmse\")"
      ],
      "execution_count": null,
      "outputs": [
        {
          "output_type": "execute_result",
          "data": {
            "text/plain": [
              "<matplotlib.axes._subplots.AxesSubplot at 0x7fd2f8f60eb8>"
            ]
          },
          "metadata": {
            "tags": []
          },
          "execution_count": 33
        },
        {
          "output_type": "execute_result",
          "data": {
            "text/plain": [
              "Text(0.5, 0, 'alpha')"
            ]
          },
          "metadata": {
            "tags": []
          },
          "execution_count": 33
        },
        {
          "output_type": "execute_result",
          "data": {
            "text/plain": [
              "Text(0, 0.5, 'rmse')"
            ]
          },
          "metadata": {
            "tags": []
          },
          "execution_count": 33
        },
        {
          "output_type": "display_data",
          "data": {
            "image/png": "[encoded data removed]",
            "text/plain": [
              "<Figure size 432x288 with 1 Axes>"
            ]
          },
          "metadata": {
            "tags": []
          }
        }
      ]
    },
    {
      "cell_type": "code",
      "metadata": {
        "id": "TyJ2kDxhJiTm",
        "outputId": "d2387008-4619-44d1-8f3d-067f83e4ff16",
        "colab": {
          "base_uri": "https://localhost:8080/",
          "height": 34
        }
      },
      "source": [
        "cv_ridge.mean()"
      ],
      "execution_count": null,
      "outputs": [
        {
          "output_type": "execute_result",
          "data": {
            "text/plain": [
              "1.002019854869487"
            ]
          },
          "metadata": {
            "tags": []
          },
          "execution_count": 34
        }
      ]
    },
    {
      "cell_type": "code",
      "metadata": {
        "id": "lG82mJlPW-0f"
      },
      "source": [
        "#regression\n",
        "from sklearn.linear_model import LinearRegression,Ridge,Lasso,RidgeCV\n",
        "from sklearn.ensemble import RandomForestRegressor,BaggingRegressor,GradientBoostingRegressor,AdaBoostRegressor\n",
        "from sklearn.svm import SVR\n",
        "from sklearn.neighbors import KNeighborsRegressor\n",
        "\n",
        "#model selection\n",
        "from sklearn.model_selection import train_test_split,cross_validate\n",
        "from sklearn.model_selection import KFold\n",
        "from sklearn.model_selection import GridSearchCV\n",
        "\n",
        "#evaluation metrics\n",
        "from sklearn.metrics import mean_squared_log_error,mean_squared_error, r2_score,mean_absolute_error # for regression"
      ],
      "execution_count": null,
      "outputs": []
    },
    {
      "cell_type": "code",
      "metadata": {
        "id": "6_SWfVOUVBaq",
        "outputId": "88f2f597-47c1-4718-a3f5-b666403b72a3",
        "colab": {
          "base_uri": "https://localhost:8080/",
          "height": 336
        }
      },
      "source": [
        "models=[RandomForestRegressor(),AdaBoostRegressor(),BaggingRegressor(),SVR(),KNeighborsRegressor(),LGBMRegressor(),XGBRegressor()]\n",
        "model_names=['RandomForestRegressor','AdaBoostRegressor','BaggingRegressor','SVR','KNeighborsRegressor','LGBMRegressor','XGBRegressor']\n",
        "rmsle=[]\n",
        "d={}\n",
        "for model in range (len(models)):\n",
        "    clf=models[model]\n",
        "    # clf.fit(train_proc,y)\n",
        "    rmsle.append(rmse_cv(clf).mean())\n",
        "d={'Modelling Algo':model_names,'RMSLE':rmsle}   \n",
        "d"
      ],
      "execution_count": null,
      "outputs": [
        {
          "output_type": "stream",
          "text": [
            "[07:43:01] WARNING: /workspace/src/objective/regression_obj.cu:152: reg:linear is now deprecated in favor of reg:squarederror.\n",
            "[07:43:02] WARNING: /workspace/src/objective/regression_obj.cu:152: reg:linear is now deprecated in favor of reg:squarederror.\n",
            "[07:43:03] WARNING: /workspace/src/objective/regression_obj.cu:152: reg:linear is now deprecated in favor of reg:squarederror.\n",
            "[07:43:04] WARNING: /workspace/src/objective/regression_obj.cu:152: reg:linear is now deprecated in favor of reg:squarederror.\n",
            "[07:43:05] WARNING: /workspace/src/objective/regression_obj.cu:152: reg:linear is now deprecated in favor of reg:squarederror.\n"
          ],
          "name": "stdout"
        },
        {
          "output_type": "execute_result",
          "data": {
            "text/plain": [
              "{'Modelling Algo': ['RandomForestRegressor',\n",
              "  'AdaBoostRegressor',\n",
              "  'BaggingRegressor',\n",
              "  'SVR',\n",
              "  'KNeighborsRegressor',\n",
              "  'LGBMRegressor',\n",
              "  'XGBRegressor'],\n",
              " 'RMSLE': [0.32061688765515567,\n",
              "  0.6594581448187925,\n",
              "  0.3370150598383629,\n",
              "  0.7286989703751976,\n",
              "  0.4037868933648485,\n",
              "  0.3062817700644342,\n",
              "  0.4335292453802661]}"
            ]
          },
          "metadata": {
            "tags": []
          },
          "execution_count": 36
        }
      ]
    },
    {
      "cell_type": "code",
      "metadata": {
        "id": "ION2mMA1Xgdh",
        "outputId": "23f6a2a9-ac52-4e2f-c9e1-89a5156f92c7",
        "colab": {
          "base_uri": "https://localhost:8080/",
          "height": 118
        }
      },
      "source": [
        "# clf=SVR()\n",
        "clf = LGBMRegressor(random_state=42)\n",
        "clf.fit(train_proc,y)"
      ],
      "execution_count": null,
      "outputs": [
        {
          "output_type": "execute_result",
          "data": {
            "text/plain": [
              "LGBMRegressor(boosting_type='gbdt', class_weight=None, colsample_bytree=1.0,\n",
              "              importance_type='split', learning_rate=0.1, max_depth=-1,\n",
              "              min_child_samples=20, min_child_weight=0.001, min_split_gain=0.0,\n",
              "              n_estimators=100, n_jobs=-1, num_leaves=31, objective=None,\n",
              "              random_state=42, reg_alpha=0.0, reg_lambda=0.0, silent=True,\n",
              "              subsample=1.0, subsample_for_bin=200000, subsample_freq=0)"
            ]
          },
          "metadata": {
            "tags": []
          },
          "execution_count": 37
        }
      ]
    },
    {
      "cell_type": "code",
      "metadata": {
        "id": "qwUTE5v8aT9z",
        "outputId": "025fe248-3315-4c31-f30f-12c6905451f6",
        "colab": {
          "base_uri": "https://localhost:8080/",
          "height": 195
        }
      },
      "source": [
        "preds=np.expm1(clf.predict(test_proc))\n",
        "res=pd.DataFrame(preds)\n",
        "res.index=test_proc.index\n",
        "res.columns=['prediction']\n",
        "res.head()"
      ],
      "execution_count": null,
      "outputs": [
        {
          "output_type": "execute_result",
          "data": {
            "text/html": [
              "<div>\n",
              "<style scoped>\n",
              "    .dataframe tbody tr th:only-of-type {\n",
              "        vertical-align: middle;\n",
              "    }\n",
              "\n",
              "    .dataframe tbody tr th {\n",
              "        vertical-align: top;\n",
              "    }\n",
              "\n",
              "    .dataframe thead th {\n",
              "        text-align: right;\n",
              "    }\n",
              "</style>\n",
              "<table border=\"1\" class=\"dataframe\">\n",
              "  <thead>\n",
              "    <tr style=\"text-align: right;\">\n",
              "      <th></th>\n",
              "      <th>prediction</th>\n",
              "    </tr>\n",
              "  </thead>\n",
              "  <tbody>\n",
              "    <tr>\n",
              "      <th>0</th>\n",
              "      <td>246.013151</td>\n",
              "    </tr>\n",
              "    <tr>\n",
              "      <th>1</th>\n",
              "      <td>395.975096</td>\n",
              "    </tr>\n",
              "    <tr>\n",
              "      <th>2</th>\n",
              "      <td>25.684496</td>\n",
              "    </tr>\n",
              "    <tr>\n",
              "      <th>3</th>\n",
              "      <td>265.557024</td>\n",
              "    </tr>\n",
              "    <tr>\n",
              "      <th>4</th>\n",
              "      <td>4.482115</td>\n",
              "    </tr>\n",
              "  </tbody>\n",
              "</table>\n",
              "</div>"
            ],
            "text/plain": [
              "   prediction\n",
              "0  246.013151\n",
              "1  395.975096\n",
              "2   25.684496\n",
              "3  265.557024\n",
              "4    4.482115"
            ]
          },
          "metadata": {
            "tags": []
          },
          "execution_count": 38
        }
      ]
    },
    {
      "cell_type": "code",
      "metadata": {
        "id": "lZegET9XamXO"
      },
      "source": [
        "res.to_csv(\"submission_d10_lgbm.csv\",index=False)"
      ],
      "execution_count": null,
      "outputs": []
    },
    {
      "cell_type": "markdown",
      "metadata": {
        "id": "17UhoDguyVHw"
      },
      "source": [
        "### Try Hyperparamater tuning for LGBMRegressor"
      ]
    },
    {
      "cell_type": "code",
      "metadata": {
        "id": "oXytTmUV5Rqa",
        "outputId": "0471291c-4349-49f9-cc78-574353dcec25",
        "colab": {
          "base_uri": "https://localhost:8080/",
          "height": 218
        }
      },
      "source": [
        "!pip install scikit-optimize\n",
        "from skopt import BayesSearchCV\n",
        "from sklearn.model_selection import StratifiedKFold, KFold\n",
        "import lightgbm as lgb"
      ],
      "execution_count": null,
      "outputs": [
        {
          "output_type": "stream",
          "text": [
            "Collecting scikit-optimize\n",
            "\u001b[?25l  Downloading https://files.pythonhosted.org/packages/8b/03/be33e89f55866065a02e515c5b319304a801a9f1027a9b311a9b1d1f8dc7/scikit_optimize-0.8.1-py2.py3-none-any.whl (101kB)\n",
            "\r\u001b[K     |███▎                            | 10kB 18.2MB/s eta 0:00:01\r\u001b[K     |██████▌                         | 20kB 1.7MB/s eta 0:00:01\r\u001b[K     |█████████▊                      | 30kB 2.3MB/s eta 0:00:01\r\u001b[K     |█████████████                   | 40kB 2.6MB/s eta 0:00:01\r\u001b[K     |████████████████▏               | 51kB 2.0MB/s eta 0:00:01\r\u001b[K     |███████████████████▍            | 61kB 2.2MB/s eta 0:00:01\r\u001b[K     |██████████████████████▊         | 71kB 2.5MB/s eta 0:00:01\r\u001b[K     |██████████████████████████      | 81kB 2.7MB/s eta 0:00:01\r\u001b[K     |█████████████████████████████▏  | 92kB 2.9MB/s eta 0:00:01\r\u001b[K     |████████████████████████████████| 102kB 2.3MB/s \n",
            "\u001b[?25hRequirement already satisfied: joblib>=0.11 in /usr/local/lib/python3.6/dist-packages (from scikit-optimize) (0.16.0)\n",
            "Requirement already satisfied: scipy>=0.19.1 in /usr/local/lib/python3.6/dist-packages (from scikit-optimize) (1.4.1)\n",
            "Collecting pyaml>=16.9\n",
            "  Downloading https://files.pythonhosted.org/packages/15/c4/1310a054d33abc318426a956e7d6df0df76a6ddfa9c66f6310274fb75d42/pyaml-20.4.0-py2.py3-none-any.whl\n",
            "Requirement already satisfied: numpy>=1.13.3 in /usr/local/lib/python3.6/dist-packages (from scikit-optimize) (1.18.5)\n",
            "Requirement already satisfied: scikit-learn>=0.20.0 in /usr/local/lib/python3.6/dist-packages (from scikit-optimize) (0.22.2.post1)\n",
            "Requirement already satisfied: PyYAML in /usr/local/lib/python3.6/dist-packages (from pyaml>=16.9->scikit-optimize) (3.13)\n",
            "Installing collected packages: pyaml, scikit-optimize\n",
            "Successfully installed pyaml-20.4.0 scikit-optimize-0.8.1\n"
          ],
          "name": "stdout"
        }
      ]
    },
    {
      "cell_type": "code",
      "metadata": {
        "id": "MEyGMAk55j46"
      },
      "source": [
        "def status_print(optim_result):\n",
        "    \"\"\"Status callback durring bayesian hyperparameter search\"\"\"\n",
        "    \n",
        "    # Get all the models tested so far in DataFrame format\n",
        "    all_models = pd.DataFrame(bayes_cv_tuner.cv_results_)    \n",
        "    \n",
        "    # Get current parameters and the best parameters    \n",
        "    best_params = pd.Series(bayes_cv_tuner.best_params_)\n",
        "    print('Model #{}\\nBest MSE: {}\\nBest params: {}\\n'.format(\n",
        "        len(all_models),\n",
        "        np.round(bayes_cv_tuner.best_score_, 4),\n",
        "        bayes_cv_tuner.best_params_\n",
        "    ))\n",
        "    \n",
        "    # Save all model results\n",
        "    clf_name = bayes_cv_tuner.estimator.__class__.__name__\n",
        "    all_models.to_csv(clf_name+\"_cv_results.csv\")"
      ],
      "execution_count": null,
      "outputs": []
    },
    {
      "cell_type": "code",
      "metadata": {
        "id": "YXGtCpexz8EA",
        "outputId": "44c545ea-a6f6-4150-9c35-a54c1799af5e",
        "colab": {
          "base_uri": "https://localhost:8080/",
          "height": 1000
        }
      },
      "source": [
        "%%time\n",
        "bayes_cv_tuner = BayesSearchCV(\n",
        "    estimator = lgb.LGBMRegressor(objective='regression', boosting_type='gbdt', subsample=0.6143), #colsample_bytree=0.6453, subsample=0.6143\n",
        "    search_spaces = {\n",
        "        'learning_rate': (0.01, 1.0, 'log-uniform'),\n",
        "        'num_leaves': (10, 1000),      \n",
        "        'max_depth': (2, 50),\n",
        "        'min_child_samples': (5, 50),\n",
        "        'max_bin': (100, 1000),\n",
        "        # 'subsample_freq': (1, 10),\n",
        "        # 'min_child_weight': (1, 10),\n",
        "        # 'reg_lambda': (1e-9, 1000, 'log-uniform'),\n",
        "        # 'reg_alpha': (1e-9, 1.0, 'log-uniform'),\n",
        "        # 'scale_pos_weight': (0.1, 500, 'log-uniform'),\n",
        "        'n_estimators': (100, 600),\n",
        "    },    \n",
        "    scoring = 'neg_mean_squared_error', #neg_mean_squared_error\n",
        "    cv = KFold(\n",
        "        n_splits=5,\n",
        "        shuffle=True,\n",
        "        random_state=42\n",
        "    ),\n",
        "    n_jobs = 1,\n",
        "    n_iter = 100,   \n",
        "    verbose = 0,\n",
        "    refit = True,\n",
        "    random_state = 42\n",
        ")\n",
        "\n",
        "# Fit the model\n",
        "result = bayes_cv_tuner.fit(train_proc, y, callback=status_print)"
      ],
      "execution_count": null,
      "outputs": [
        {
          "output_type": "stream",
          "text": [
            "Model #1\n",
            "Best MSE: -0.0895\n",
            "Best params: OrderedDict([('learning_rate', 0.06610098295419149), ('max_bin', 755), ('max_depth', 47), ('min_child_samples', 19), ('n_estimators', 435), ('num_leaves', 420)])\n",
            "\n",
            "Model #2\n",
            "Best MSE: -0.0895\n",
            "Best params: OrderedDict([('learning_rate', 0.06610098295419149), ('max_bin', 755), ('max_depth', 47), ('min_child_samples', 19), ('n_estimators', 435), ('num_leaves', 420)])\n",
            "\n",
            "Model #3\n",
            "Best MSE: -0.0874\n",
            "Best params: OrderedDict([('learning_rate', 0.07756486208064789), ('max_bin', 927), ('max_depth', 7), ('min_child_samples', 24), ('n_estimators', 194), ('num_leaves', 459)])\n",
            "\n",
            "Model #4\n",
            "Best MSE: -0.0874\n",
            "Best params: OrderedDict([('learning_rate', 0.07756486208064789), ('max_bin', 927), ('max_depth', 7), ('min_child_samples', 24), ('n_estimators', 194), ('num_leaves', 459)])\n",
            "\n",
            "Model #5\n",
            "Best MSE: -0.0874\n",
            "Best params: OrderedDict([('learning_rate', 0.07756486208064789), ('max_bin', 927), ('max_depth', 7), ('min_child_samples', 24), ('n_estimators', 194), ('num_leaves', 459)])\n",
            "\n",
            "Model #6\n",
            "Best MSE: -0.0874\n",
            "Best params: OrderedDict([('learning_rate', 0.07756486208064789), ('max_bin', 927), ('max_depth', 7), ('min_child_samples', 24), ('n_estimators', 194), ('num_leaves', 459)])\n",
            "\n",
            "Model #7\n",
            "Best MSE: -0.0874\n",
            "Best params: OrderedDict([('learning_rate', 0.07756486208064789), ('max_bin', 927), ('max_depth', 7), ('min_child_samples', 24), ('n_estimators', 194), ('num_leaves', 459)])\n",
            "\n",
            "Model #8\n",
            "Best MSE: -0.0848\n",
            "Best params: OrderedDict([('learning_rate', 0.12212543829922852), ('max_bin', 928), ('max_depth', 26), ('min_child_samples', 43), ('n_estimators', 262), ('num_leaves', 61)])\n",
            "\n",
            "Model #9\n",
            "Best MSE: -0.0848\n",
            "Best params: OrderedDict([('learning_rate', 0.12212543829922852), ('max_bin', 928), ('max_depth', 26), ('min_child_samples', 43), ('n_estimators', 262), ('num_leaves', 61)])\n",
            "\n",
            "Model #10\n",
            "Best MSE: -0.0848\n",
            "Best params: OrderedDict([('learning_rate', 0.12212543829922852), ('max_bin', 928), ('max_depth', 26), ('min_child_samples', 43), ('n_estimators', 262), ('num_leaves', 61)])\n",
            "\n",
            "Model #11\n",
            "Best MSE: -0.0848\n",
            "Best params: OrderedDict([('learning_rate', 0.12212543829922852), ('max_bin', 928), ('max_depth', 26), ('min_child_samples', 43), ('n_estimators', 262), ('num_leaves', 61)])\n",
            "\n",
            "Model #12\n",
            "Best MSE: -0.0848\n",
            "Best params: OrderedDict([('learning_rate', 0.12212543829922852), ('max_bin', 928), ('max_depth', 26), ('min_child_samples', 43), ('n_estimators', 262), ('num_leaves', 61)])\n",
            "\n",
            "Model #13\n",
            "Best MSE: -0.0848\n",
            "Best params: OrderedDict([('learning_rate', 0.12212543829922852), ('max_bin', 928), ('max_depth', 26), ('min_child_samples', 43), ('n_estimators', 262), ('num_leaves', 61)])\n",
            "\n",
            "Model #14\n",
            "Best MSE: -0.0848\n",
            "Best params: OrderedDict([('learning_rate', 0.12212543829922852), ('max_bin', 928), ('max_depth', 26), ('min_child_samples', 43), ('n_estimators', 262), ('num_leaves', 61)])\n",
            "\n",
            "Model #15\n",
            "Best MSE: -0.0848\n",
            "Best params: OrderedDict([('learning_rate', 0.12212543829922852), ('max_bin', 928), ('max_depth', 26), ('min_child_samples', 43), ('n_estimators', 262), ('num_leaves', 61)])\n",
            "\n",
            "Model #16\n",
            "Best MSE: -0.0848\n",
            "Best params: OrderedDict([('learning_rate', 0.12212543829922852), ('max_bin', 928), ('max_depth', 26), ('min_child_samples', 43), ('n_estimators', 262), ('num_leaves', 61)])\n",
            "\n",
            "Model #17\n",
            "Best MSE: -0.0848\n",
            "Best params: OrderedDict([('learning_rate', 0.12212543829922852), ('max_bin', 928), ('max_depth', 26), ('min_child_samples', 43), ('n_estimators', 262), ('num_leaves', 61)])\n",
            "\n",
            "Model #18\n",
            "Best MSE: -0.0848\n",
            "Best params: OrderedDict([('learning_rate', 0.12212543829922852), ('max_bin', 928), ('max_depth', 26), ('min_child_samples', 43), ('n_estimators', 262), ('num_leaves', 61)])\n",
            "\n",
            "Model #19\n",
            "Best MSE: -0.0848\n",
            "Best params: OrderedDict([('learning_rate', 0.12212543829922852), ('max_bin', 928), ('max_depth', 26), ('min_child_samples', 43), ('n_estimators', 262), ('num_leaves', 61)])\n",
            "\n",
            "Model #20\n",
            "Best MSE: -0.0848\n",
            "Best params: OrderedDict([('learning_rate', 0.12212543829922852), ('max_bin', 928), ('max_depth', 26), ('min_child_samples', 43), ('n_estimators', 262), ('num_leaves', 61)])\n",
            "\n",
            "Model #21\n",
            "Best MSE: -0.084\n",
            "Best params: OrderedDict([('learning_rate', 0.09112293262604976), ('max_bin', 1000), ('max_depth', 33), ('min_child_samples', 22), ('n_estimators', 283), ('num_leaves', 134)])\n",
            "\n",
            "Model #22\n",
            "Best MSE: -0.084\n",
            "Best params: OrderedDict([('learning_rate', 0.09112293262604976), ('max_bin', 1000), ('max_depth', 33), ('min_child_samples', 22), ('n_estimators', 283), ('num_leaves', 134)])\n",
            "\n",
            "Model #23\n",
            "Best MSE: -0.084\n",
            "Best params: OrderedDict([('learning_rate', 0.09112293262604976), ('max_bin', 1000), ('max_depth', 33), ('min_child_samples', 22), ('n_estimators', 283), ('num_leaves', 134)])\n",
            "\n",
            "Model #24\n",
            "Best MSE: -0.084\n",
            "Best params: OrderedDict([('learning_rate', 0.09112293262604976), ('max_bin', 1000), ('max_depth', 33), ('min_child_samples', 22), ('n_estimators', 283), ('num_leaves', 134)])\n",
            "\n",
            "Model #25\n",
            "Best MSE: -0.084\n",
            "Best params: OrderedDict([('learning_rate', 0.09112293262604976), ('max_bin', 1000), ('max_depth', 33), ('min_child_samples', 22), ('n_estimators', 283), ('num_leaves', 134)])\n",
            "\n",
            "Model #26\n",
            "Best MSE: -0.084\n",
            "Best params: OrderedDict([('learning_rate', 0.09112293262604976), ('max_bin', 1000), ('max_depth', 33), ('min_child_samples', 22), ('n_estimators', 283), ('num_leaves', 134)])\n",
            "\n",
            "Model #27\n",
            "Best MSE: -0.084\n",
            "Best params: OrderedDict([('learning_rate', 0.09112293262604976), ('max_bin', 1000), ('max_depth', 33), ('min_child_samples', 22), ('n_estimators', 283), ('num_leaves', 134)])\n",
            "\n",
            "Model #28\n",
            "Best MSE: -0.084\n",
            "Best params: OrderedDict([('learning_rate', 0.09112293262604976), ('max_bin', 1000), ('max_depth', 33), ('min_child_samples', 22), ('n_estimators', 283), ('num_leaves', 134)])\n",
            "\n",
            "Model #29\n",
            "Best MSE: -0.084\n",
            "Best params: OrderedDict([('learning_rate', 0.09112293262604976), ('max_bin', 1000), ('max_depth', 33), ('min_child_samples', 22), ('n_estimators', 283), ('num_leaves', 134)])\n",
            "\n",
            "Model #30\n",
            "Best MSE: -0.084\n",
            "Best params: OrderedDict([('learning_rate', 0.09112293262604976), ('max_bin', 1000), ('max_depth', 33), ('min_child_samples', 22), ('n_estimators', 283), ('num_leaves', 134)])\n",
            "\n",
            "Model #31\n",
            "Best MSE: -0.084\n",
            "Best params: OrderedDict([('learning_rate', 0.09112293262604976), ('max_bin', 1000), ('max_depth', 33), ('min_child_samples', 22), ('n_estimators', 283), ('num_leaves', 134)])\n",
            "\n",
            "Model #32\n",
            "Best MSE: -0.084\n",
            "Best params: OrderedDict([('learning_rate', 0.09112293262604976), ('max_bin', 1000), ('max_depth', 33), ('min_child_samples', 22), ('n_estimators', 283), ('num_leaves', 134)])\n",
            "\n",
            "Model #33\n",
            "Best MSE: -0.084\n",
            "Best params: OrderedDict([('learning_rate', 0.09112293262604976), ('max_bin', 1000), ('max_depth', 33), ('min_child_samples', 22), ('n_estimators', 283), ('num_leaves', 134)])\n",
            "\n",
            "Model #34\n",
            "Best MSE: -0.084\n",
            "Best params: OrderedDict([('learning_rate', 0.09112293262604976), ('max_bin', 1000), ('max_depth', 33), ('min_child_samples', 22), ('n_estimators', 283), ('num_leaves', 134)])\n",
            "\n",
            "Model #35\n",
            "Best MSE: -0.084\n",
            "Best params: OrderedDict([('learning_rate', 0.09112293262604976), ('max_bin', 1000), ('max_depth', 33), ('min_child_samples', 22), ('n_estimators', 283), ('num_leaves', 134)])\n",
            "\n",
            "Model #36\n",
            "Best MSE: -0.084\n",
            "Best params: OrderedDict([('learning_rate', 0.09112293262604976), ('max_bin', 1000), ('max_depth', 33), ('min_child_samples', 22), ('n_estimators', 283), ('num_leaves', 134)])\n",
            "\n",
            "Model #37\n",
            "Best MSE: -0.084\n",
            "Best params: OrderedDict([('learning_rate', 0.09112293262604976), ('max_bin', 1000), ('max_depth', 33), ('min_child_samples', 22), ('n_estimators', 283), ('num_leaves', 134)])\n",
            "\n",
            "Model #38\n",
            "Best MSE: -0.084\n",
            "Best params: OrderedDict([('learning_rate', 0.09112293262604976), ('max_bin', 1000), ('max_depth', 33), ('min_child_samples', 22), ('n_estimators', 283), ('num_leaves', 134)])\n",
            "\n",
            "Model #39\n",
            "Best MSE: -0.084\n",
            "Best params: OrderedDict([('learning_rate', 0.09112293262604976), ('max_bin', 1000), ('max_depth', 33), ('min_child_samples', 22), ('n_estimators', 283), ('num_leaves', 134)])\n",
            "\n",
            "Model #40\n",
            "Best MSE: -0.084\n",
            "Best params: OrderedDict([('learning_rate', 0.09112293262604976), ('max_bin', 1000), ('max_depth', 33), ('min_child_samples', 22), ('n_estimators', 283), ('num_leaves', 134)])\n",
            "\n",
            "Model #41\n",
            "Best MSE: -0.084\n",
            "Best params: OrderedDict([('learning_rate', 0.09112293262604976), ('max_bin', 1000), ('max_depth', 33), ('min_child_samples', 22), ('n_estimators', 283), ('num_leaves', 134)])\n",
            "\n",
            "Model #42\n",
            "Best MSE: -0.084\n",
            "Best params: OrderedDict([('learning_rate', 0.09112293262604976), ('max_bin', 1000), ('max_depth', 33), ('min_child_samples', 22), ('n_estimators', 283), ('num_leaves', 134)])\n",
            "\n",
            "Model #43\n",
            "Best MSE: -0.084\n",
            "Best params: OrderedDict([('learning_rate', 0.09112293262604976), ('max_bin', 1000), ('max_depth', 33), ('min_child_samples', 22), ('n_estimators', 283), ('num_leaves', 134)])\n",
            "\n",
            "Model #44\n",
            "Best MSE: -0.084\n",
            "Best params: OrderedDict([('learning_rate', 0.09112293262604976), ('max_bin', 1000), ('max_depth', 33), ('min_child_samples', 22), ('n_estimators', 283), ('num_leaves', 134)])\n",
            "\n",
            "Model #45\n",
            "Best MSE: -0.084\n",
            "Best params: OrderedDict([('learning_rate', 0.09112293262604976), ('max_bin', 1000), ('max_depth', 33), ('min_child_samples', 22), ('n_estimators', 283), ('num_leaves', 134)])\n",
            "\n",
            "Model #46\n",
            "Best MSE: -0.084\n",
            "Best params: OrderedDict([('learning_rate', 0.09112293262604976), ('max_bin', 1000), ('max_depth', 33), ('min_child_samples', 22), ('n_estimators', 283), ('num_leaves', 134)])\n",
            "\n",
            "Model #47\n",
            "Best MSE: -0.084\n",
            "Best params: OrderedDict([('learning_rate', 0.09112293262604976), ('max_bin', 1000), ('max_depth', 33), ('min_child_samples', 22), ('n_estimators', 283), ('num_leaves', 134)])\n",
            "\n",
            "Model #48\n",
            "Best MSE: -0.084\n",
            "Best params: OrderedDict([('learning_rate', 0.09112293262604976), ('max_bin', 1000), ('max_depth', 33), ('min_child_samples', 22), ('n_estimators', 283), ('num_leaves', 134)])\n",
            "\n",
            "Model #49\n",
            "Best MSE: -0.0839\n",
            "Best params: OrderedDict([('learning_rate', 0.12668661342849613), ('max_bin', 906), ('max_depth', 31), ('min_child_samples', 37), ('n_estimators', 429), ('num_leaves', 51)])\n",
            "\n",
            "Model #50\n",
            "Best MSE: -0.0839\n",
            "Best params: OrderedDict([('learning_rate', 0.12668661342849613), ('max_bin', 906), ('max_depth', 31), ('min_child_samples', 37), ('n_estimators', 429), ('num_leaves', 51)])\n",
            "\n",
            "Model #51\n",
            "Best MSE: -0.0839\n",
            "Best params: OrderedDict([('learning_rate', 0.12668661342849613), ('max_bin', 906), ('max_depth', 31), ('min_child_samples', 37), ('n_estimators', 429), ('num_leaves', 51)])\n",
            "\n",
            "Model #52\n",
            "Best MSE: -0.0839\n",
            "Best params: OrderedDict([('learning_rate', 0.12668661342849613), ('max_bin', 906), ('max_depth', 31), ('min_child_samples', 37), ('n_estimators', 429), ('num_leaves', 51)])\n",
            "\n",
            "Model #53\n",
            "Best MSE: -0.0839\n",
            "Best params: OrderedDict([('learning_rate', 0.12668661342849613), ('max_bin', 906), ('max_depth', 31), ('min_child_samples', 37), ('n_estimators', 429), ('num_leaves', 51)])\n",
            "\n",
            "Model #54\n",
            "Best MSE: -0.0839\n",
            "Best params: OrderedDict([('learning_rate', 0.12668661342849613), ('max_bin', 906), ('max_depth', 31), ('min_child_samples', 37), ('n_estimators', 429), ('num_leaves', 51)])\n",
            "\n",
            "Model #55\n",
            "Best MSE: -0.0839\n",
            "Best params: OrderedDict([('learning_rate', 0.12668661342849613), ('max_bin', 906), ('max_depth', 31), ('min_child_samples', 37), ('n_estimators', 429), ('num_leaves', 51)])\n",
            "\n",
            "Model #56\n",
            "Best MSE: -0.0839\n",
            "Best params: OrderedDict([('learning_rate', 0.12668661342849613), ('max_bin', 906), ('max_depth', 31), ('min_child_samples', 37), ('n_estimators', 429), ('num_leaves', 51)])\n",
            "\n",
            "Model #57\n",
            "Best MSE: -0.0839\n",
            "Best params: OrderedDict([('learning_rate', 0.12668661342849613), ('max_bin', 906), ('max_depth', 31), ('min_child_samples', 37), ('n_estimators', 429), ('num_leaves', 51)])\n",
            "\n",
            "Model #58\n",
            "Best MSE: -0.0839\n",
            "Best params: OrderedDict([('learning_rate', 0.12668661342849613), ('max_bin', 906), ('max_depth', 31), ('min_child_samples', 37), ('n_estimators', 429), ('num_leaves', 51)])\n",
            "\n",
            "Model #59\n",
            "Best MSE: -0.0839\n",
            "Best params: OrderedDict([('learning_rate', 0.12668661342849613), ('max_bin', 906), ('max_depth', 31), ('min_child_samples', 37), ('n_estimators', 429), ('num_leaves', 51)])\n",
            "\n",
            "Model #60\n",
            "Best MSE: -0.0839\n",
            "Best params: OrderedDict([('learning_rate', 0.12668661342849613), ('max_bin', 906), ('max_depth', 31), ('min_child_samples', 37), ('n_estimators', 429), ('num_leaves', 51)])\n",
            "\n",
            "Model #61\n",
            "Best MSE: -0.0839\n",
            "Best params: OrderedDict([('learning_rate', 0.12668661342849613), ('max_bin', 906), ('max_depth', 31), ('min_child_samples', 37), ('n_estimators', 429), ('num_leaves', 51)])\n",
            "\n",
            "Model #62\n",
            "Best MSE: -0.0839\n",
            "Best params: OrderedDict([('learning_rate', 0.12668661342849613), ('max_bin', 906), ('max_depth', 31), ('min_child_samples', 37), ('n_estimators', 429), ('num_leaves', 51)])\n",
            "\n",
            "Model #63\n",
            "Best MSE: -0.0839\n",
            "Best params: OrderedDict([('learning_rate', 0.12668661342849613), ('max_bin', 906), ('max_depth', 31), ('min_child_samples', 37), ('n_estimators', 429), ('num_leaves', 51)])\n",
            "\n",
            "Model #64\n",
            "Best MSE: -0.0839\n",
            "Best params: OrderedDict([('learning_rate', 0.12668661342849613), ('max_bin', 906), ('max_depth', 31), ('min_child_samples', 37), ('n_estimators', 429), ('num_leaves', 51)])\n",
            "\n",
            "Model #65\n",
            "Best MSE: -0.0839\n",
            "Best params: OrderedDict([('learning_rate', 0.12668661342849613), ('max_bin', 906), ('max_depth', 31), ('min_child_samples', 37), ('n_estimators', 429), ('num_leaves', 51)])\n",
            "\n",
            "Model #66\n",
            "Best MSE: -0.0839\n",
            "Best params: OrderedDict([('learning_rate', 0.12668661342849613), ('max_bin', 906), ('max_depth', 31), ('min_child_samples', 37), ('n_estimators', 429), ('num_leaves', 51)])\n",
            "\n",
            "Model #67\n",
            "Best MSE: -0.0839\n",
            "Best params: OrderedDict([('learning_rate', 0.12668661342849613), ('max_bin', 906), ('max_depth', 31), ('min_child_samples', 37), ('n_estimators', 429), ('num_leaves', 51)])\n",
            "\n",
            "Model #68\n",
            "Best MSE: -0.0839\n",
            "Best params: OrderedDict([('learning_rate', 0.12668661342849613), ('max_bin', 906), ('max_depth', 31), ('min_child_samples', 37), ('n_estimators', 429), ('num_leaves', 51)])\n",
            "\n",
            "Model #69\n",
            "Best MSE: -0.0839\n",
            "Best params: OrderedDict([('learning_rate', 0.12668661342849613), ('max_bin', 906), ('max_depth', 31), ('min_child_samples', 37), ('n_estimators', 429), ('num_leaves', 51)])\n",
            "\n",
            "Model #70\n",
            "Best MSE: -0.0839\n",
            "Best params: OrderedDict([('learning_rate', 0.12668661342849613), ('max_bin', 906), ('max_depth', 31), ('min_child_samples', 37), ('n_estimators', 429), ('num_leaves', 51)])\n",
            "\n",
            "Model #71\n",
            "Best MSE: -0.0839\n",
            "Best params: OrderedDict([('learning_rate', 0.12668661342849613), ('max_bin', 906), ('max_depth', 31), ('min_child_samples', 37), ('n_estimators', 429), ('num_leaves', 51)])\n",
            "\n",
            "Model #72\n",
            "Best MSE: -0.0839\n",
            "Best params: OrderedDict([('learning_rate', 0.12668661342849613), ('max_bin', 906), ('max_depth', 31), ('min_child_samples', 37), ('n_estimators', 429), ('num_leaves', 51)])\n",
            "\n",
            "Model #73\n",
            "Best MSE: -0.0839\n",
            "Best params: OrderedDict([('learning_rate', 0.12668661342849613), ('max_bin', 906), ('max_depth', 31), ('min_child_samples', 37), ('n_estimators', 429), ('num_leaves', 51)])\n",
            "\n",
            "Model #74\n",
            "Best MSE: -0.0839\n",
            "Best params: OrderedDict([('learning_rate', 0.12668661342849613), ('max_bin', 906), ('max_depth', 31), ('min_child_samples', 37), ('n_estimators', 429), ('num_leaves', 51)])\n",
            "\n",
            "Model #75\n",
            "Best MSE: -0.0839\n",
            "Best params: OrderedDict([('learning_rate', 0.12668661342849613), ('max_bin', 906), ('max_depth', 31), ('min_child_samples', 37), ('n_estimators', 429), ('num_leaves', 51)])\n",
            "\n",
            "Model #76\n",
            "Best MSE: -0.0839\n",
            "Best params: OrderedDict([('learning_rate', 0.12668661342849613), ('max_bin', 906), ('max_depth', 31), ('min_child_samples', 37), ('n_estimators', 429), ('num_leaves', 51)])\n",
            "\n",
            "Model #77\n",
            "Best MSE: -0.0839\n",
            "Best params: OrderedDict([('learning_rate', 0.12668661342849613), ('max_bin', 906), ('max_depth', 31), ('min_child_samples', 37), ('n_estimators', 429), ('num_leaves', 51)])\n",
            "\n",
            "Model #78\n",
            "Best MSE: -0.0839\n",
            "Best params: OrderedDict([('learning_rate', 0.12668661342849613), ('max_bin', 906), ('max_depth', 31), ('min_child_samples', 37), ('n_estimators', 429), ('num_leaves', 51)])\n",
            "\n",
            "Model #79\n",
            "Best MSE: -0.0839\n",
            "Best params: OrderedDict([('learning_rate', 0.12668661342849613), ('max_bin', 906), ('max_depth', 31), ('min_child_samples', 37), ('n_estimators', 429), ('num_leaves', 51)])\n",
            "\n",
            "Model #80\n",
            "Best MSE: -0.0839\n",
            "Best params: OrderedDict([('learning_rate', 0.12668661342849613), ('max_bin', 906), ('max_depth', 31), ('min_child_samples', 37), ('n_estimators', 429), ('num_leaves', 51)])\n",
            "\n",
            "Model #81\n",
            "Best MSE: -0.0839\n",
            "Best params: OrderedDict([('learning_rate', 0.12668661342849613), ('max_bin', 906), ('max_depth', 31), ('min_child_samples', 37), ('n_estimators', 429), ('num_leaves', 51)])\n",
            "\n",
            "Model #82\n",
            "Best MSE: -0.0839\n",
            "Best params: OrderedDict([('learning_rate', 0.12668661342849613), ('max_bin', 906), ('max_depth', 31), ('min_child_samples', 37), ('n_estimators', 429), ('num_leaves', 51)])\n",
            "\n",
            "Model #83\n",
            "Best MSE: -0.0828\n",
            "Best params: OrderedDict([('learning_rate', 0.053756067292625824), ('max_bin', 100), ('max_depth', 50), ('min_child_samples', 5), ('n_estimators', 600), ('num_leaves', 151)])\n",
            "\n",
            "Model #84\n",
            "Best MSE: -0.0828\n",
            "Best params: OrderedDict([('learning_rate', 0.053756067292625824), ('max_bin', 100), ('max_depth', 50), ('min_child_samples', 5), ('n_estimators', 600), ('num_leaves', 151)])\n",
            "\n",
            "Model #85\n",
            "Best MSE: -0.0828\n",
            "Best params: OrderedDict([('learning_rate', 0.053756067292625824), ('max_bin', 100), ('max_depth', 50), ('min_child_samples', 5), ('n_estimators', 600), ('num_leaves', 151)])\n",
            "\n",
            "Model #86\n",
            "Best MSE: -0.0828\n",
            "Best params: OrderedDict([('learning_rate', 0.053756067292625824), ('max_bin', 100), ('max_depth', 50), ('min_child_samples', 5), ('n_estimators', 600), ('num_leaves', 151)])\n",
            "\n",
            "Model #87\n",
            "Best MSE: -0.0828\n",
            "Best params: OrderedDict([('learning_rate', 0.053756067292625824), ('max_bin', 100), ('max_depth', 50), ('min_child_samples', 5), ('n_estimators', 600), ('num_leaves', 151)])\n",
            "\n",
            "Model #88\n",
            "Best MSE: -0.0828\n",
            "Best params: OrderedDict([('learning_rate', 0.053756067292625824), ('max_bin', 100), ('max_depth', 50), ('min_child_samples', 5), ('n_estimators', 600), ('num_leaves', 151)])\n",
            "\n",
            "Model #89\n",
            "Best MSE: -0.0828\n",
            "Best params: OrderedDict([('learning_rate', 0.053756067292625824), ('max_bin', 100), ('max_depth', 50), ('min_child_samples', 5), ('n_estimators', 600), ('num_leaves', 151)])\n",
            "\n",
            "Model #90\n",
            "Best MSE: -0.0828\n",
            "Best params: OrderedDict([('learning_rate', 0.053756067292625824), ('max_bin', 100), ('max_depth', 50), ('min_child_samples', 5), ('n_estimators', 600), ('num_leaves', 151)])\n",
            "\n",
            "Model #91\n",
            "Best MSE: -0.0828\n",
            "Best params: OrderedDict([('learning_rate', 0.053756067292625824), ('max_bin', 100), ('max_depth', 50), ('min_child_samples', 5), ('n_estimators', 600), ('num_leaves', 151)])\n",
            "\n",
            "Model #92\n",
            "Best MSE: -0.0828\n",
            "Best params: OrderedDict([('learning_rate', 0.053756067292625824), ('max_bin', 100), ('max_depth', 50), ('min_child_samples', 5), ('n_estimators', 600), ('num_leaves', 151)])\n",
            "\n",
            "Model #93\n",
            "Best MSE: -0.0828\n",
            "Best params: OrderedDict([('learning_rate', 0.053756067292625824), ('max_bin', 100), ('max_depth', 50), ('min_child_samples', 5), ('n_estimators', 600), ('num_leaves', 151)])\n",
            "\n",
            "Model #94\n",
            "Best MSE: -0.0828\n",
            "Best params: OrderedDict([('learning_rate', 0.053756067292625824), ('max_bin', 100), ('max_depth', 50), ('min_child_samples', 5), ('n_estimators', 600), ('num_leaves', 151)])\n",
            "\n",
            "Model #95\n",
            "Best MSE: -0.0828\n",
            "Best params: OrderedDict([('learning_rate', 0.053756067292625824), ('max_bin', 100), ('max_depth', 50), ('min_child_samples', 5), ('n_estimators', 600), ('num_leaves', 151)])\n",
            "\n",
            "Model #96\n",
            "Best MSE: -0.0828\n",
            "Best params: OrderedDict([('learning_rate', 0.053756067292625824), ('max_bin', 100), ('max_depth', 50), ('min_child_samples', 5), ('n_estimators', 600), ('num_leaves', 151)])\n",
            "\n",
            "Model #97\n",
            "Best MSE: -0.0828\n",
            "Best params: OrderedDict([('learning_rate', 0.053756067292625824), ('max_bin', 100), ('max_depth', 50), ('min_child_samples', 5), ('n_estimators', 600), ('num_leaves', 151)])\n",
            "\n",
            "Model #98\n",
            "Best MSE: -0.0828\n",
            "Best params: OrderedDict([('learning_rate', 0.053756067292625824), ('max_bin', 100), ('max_depth', 50), ('min_child_samples', 5), ('n_estimators', 600), ('num_leaves', 151)])\n",
            "\n",
            "Model #99\n",
            "Best MSE: -0.0828\n",
            "Best params: OrderedDict([('learning_rate', 0.053756067292625824), ('max_bin', 100), ('max_depth', 50), ('min_child_samples', 5), ('n_estimators', 600), ('num_leaves', 151)])\n",
            "\n",
            "Model #100\n",
            "Best MSE: -0.0828\n",
            "Best params: OrderedDict([('learning_rate', 0.053756067292625824), ('max_bin', 100), ('max_depth', 50), ('min_child_samples', 5), ('n_estimators', 600), ('num_leaves', 151)])\n",
            "\n",
            "CPU times: user 25min 22s, sys: 4min, total: 29min 23s\n",
            "Wall time: 25min 58s\n"
          ],
          "name": "stdout"
        }
      ]
    },
    {
      "cell_type": "code",
      "metadata": {
        "id": "h9TcXR8k5oXI"
      },
      "source": [
        "pred=bayes_cv_tuner.predict(test_proc)"
      ],
      "execution_count": null,
      "outputs": []
    },
    {
      "cell_type": "code",
      "metadata": {
        "id": "uNgkBTPICNC_"
      },
      "source": [
        "preds=np.expm1(pred)"
      ],
      "execution_count": null,
      "outputs": []
    },
    {
      "cell_type": "code",
      "metadata": {
        "id": "4XvBUMtACPtb",
        "outputId": "78d913e8-048a-45fc-941f-c7a39171425e",
        "colab": {
          "base_uri": "https://localhost:8080/",
          "height": 195
        }
      },
      "source": [
        "res2=pd.DataFrame(preds)\n",
        "res2.index=test_proc.index\n",
        "res2.columns=['prediction']\n",
        "res2.head()"
      ],
      "execution_count": null,
      "outputs": [
        {
          "output_type": "execute_result",
          "data": {
            "text/html": [
              "<div>\n",
              "<style scoped>\n",
              "    .dataframe tbody tr th:only-of-type {\n",
              "        vertical-align: middle;\n",
              "    }\n",
              "\n",
              "    .dataframe tbody tr th {\n",
              "        vertical-align: top;\n",
              "    }\n",
              "\n",
              "    .dataframe thead th {\n",
              "        text-align: right;\n",
              "    }\n",
              "</style>\n",
              "<table border=\"1\" class=\"dataframe\">\n",
              "  <thead>\n",
              "    <tr style=\"text-align: right;\">\n",
              "      <th></th>\n",
              "      <th>prediction</th>\n",
              "    </tr>\n",
              "  </thead>\n",
              "  <tbody>\n",
              "    <tr>\n",
              "      <th>0</th>\n",
              "      <td>234.409733</td>\n",
              "    </tr>\n",
              "    <tr>\n",
              "      <th>1</th>\n",
              "      <td>356.480835</td>\n",
              "    </tr>\n",
              "    <tr>\n",
              "      <th>2</th>\n",
              "      <td>23.483261</td>\n",
              "    </tr>\n",
              "    <tr>\n",
              "      <th>3</th>\n",
              "      <td>229.411495</td>\n",
              "    </tr>\n",
              "    <tr>\n",
              "      <th>4</th>\n",
              "      <td>5.557366</td>\n",
              "    </tr>\n",
              "  </tbody>\n",
              "</table>\n",
              "</div>"
            ],
            "text/plain": [
              "   prediction\n",
              "0  234.409733\n",
              "1  356.480835\n",
              "2   23.483261\n",
              "3  229.411495\n",
              "4    5.557366"
            ]
          },
          "metadata": {
            "tags": []
          },
          "execution_count": 45
        }
      ]
    },
    {
      "cell_type": "code",
      "metadata": {
        "id": "zS67cNXlCYLr"
      },
      "source": [
        "res2.to_csv(\"submission_d10_lgbm_tuned_2.csv\",index=False)"
      ],
      "execution_count": null,
      "outputs": []
    },
    {
      "cell_type": "markdown",
      "metadata": {
        "id": "_Wpi-u4Q3Yl7"
      },
      "source": [
        "### Trying Neural Network Regressor"
      ]
    },
    {
      "cell_type": "code",
      "metadata": {
        "id": "-cOgwPR644ho",
        "outputId": "8a5d5a1a-c335-4120-8699-ae7160a563da",
        "colab": {
          "base_uri": "https://localhost:8080/",
          "height": 34
        }
      },
      "source": [
        "len(train_proc.columns),len(test_proc.columns)"
      ],
      "execution_count": null,
      "outputs": [
        {
          "output_type": "execute_result",
          "data": {
            "text/plain": [
              "(35, 35)"
            ]
          },
          "metadata": {
            "tags": []
          },
          "execution_count": 48
        }
      ]
    },
    {
      "cell_type": "code",
      "metadata": {
        "id": "_x0LdG4i4SA6"
      },
      "source": [
        "import numpy as np\n",
        "import tensorflow as tf\n",
        "from tensorflow.keras.models import Sequential\n",
        "from tensorflow.keras.layers import Dense\n",
        "from tensorflow.keras.wrappers.scikit_learn import KerasRegressor\n",
        "\n",
        "seed = 7\n",
        "np.random.seed(seed)\n",
        "\n",
        "# Model\n",
        "model = Sequential()\n",
        "model.add(Dense(512, input_dim=35, kernel_initializer='normal', activation='relu'))\n",
        "# model.add(Dense(128, kernel_initializer='normal', activation='relu'))\n",
        "model.add(Dense(32, kernel_initializer='normal', activation='relu'))\n",
        "# model.add(Dense(16, kernel_initializer='normal', activation='relu'))\n",
        "model.add(Dense(1, kernel_initializer='normal'))\n",
        "# Compile model\n",
        "model.compile(loss='mean_squared_error', optimizer='adam')\n",
        "\n",
        "labels = y.values\n",
        "model.fit(np.array(train_proc), np.array(labels), epochs=200, batch_size=10)"
      ],
      "execution_count": null,
      "outputs": []
    },
    {
      "cell_type": "code",
      "metadata": {
        "id": "7c645QVW5W1v"
      },
      "source": [
        "pred = model.predict(np.array(test_proc))\n",
        "# predictions = list(itertools.islice(y, test_proc.shape[0]))\n",
        "# predictions = np.expm1(np.array(predictions))"
      ],
      "execution_count": null,
      "outputs": []
    },
    {
      "cell_type": "code",
      "metadata": {
        "id": "-rKL3X7H86Uu"
      },
      "source": [
        "predictions = np.expm1(np.array(pred).reshape(test_proc.shape[0],))"
      ],
      "execution_count": null,
      "outputs": []
    },
    {
      "cell_type": "code",
      "metadata": {
        "id": "FRHZY8t89GRe",
        "outputId": "c7c47a7d-cbeb-46c1-bfbf-12818aa359c3",
        "colab": {
          "base_uri": "https://localhost:8080/",
          "height": 34
        }
      },
      "source": [
        "predictions.shape"
      ],
      "execution_count": null,
      "outputs": [
        {
          "output_type": "execute_result",
          "data": {
            "text/plain": [
              "(3476,)"
            ]
          },
          "metadata": {
            "tags": []
          },
          "execution_count": 52
        }
      ]
    },
    {
      "cell_type": "code",
      "metadata": {
        "id": "BPNCsxpM9IIO",
        "outputId": "a037eeb3-4ab1-43d1-d469-4a852a31e31b",
        "colab": {
          "base_uri": "https://localhost:8080/",
          "height": 34
        }
      },
      "source": [
        "predictions[0]"
      ],
      "execution_count": null,
      "outputs": [
        {
          "output_type": "execute_result",
          "data": {
            "text/plain": [
              "199.17508"
            ]
          },
          "metadata": {
            "tags": []
          },
          "execution_count": 53
        }
      ]
    },
    {
      "cell_type": "code",
      "metadata": {
        "id": "b1H6h2bb9KEd",
        "outputId": "1efcdc98-7879-42bd-8036-584004e7c3ba",
        "colab": {
          "base_uri": "https://localhost:8080/",
          "height": 195
        }
      },
      "source": [
        "res3=pd.DataFrame(predictions)\n",
        "res3.index=test_proc.index\n",
        "res3.columns=['prediction']\n",
        "res3.head()"
      ],
      "execution_count": null,
      "outputs": [
        {
          "output_type": "execute_result",
          "data": {
            "text/html": [
              "<div>\n",
              "<style scoped>\n",
              "    .dataframe tbody tr th:only-of-type {\n",
              "        vertical-align: middle;\n",
              "    }\n",
              "\n",
              "    .dataframe tbody tr th {\n",
              "        vertical-align: top;\n",
              "    }\n",
              "\n",
              "    .dataframe thead th {\n",
              "        text-align: right;\n",
              "    }\n",
              "</style>\n",
              "<table border=\"1\" class=\"dataframe\">\n",
              "  <thead>\n",
              "    <tr style=\"text-align: right;\">\n",
              "      <th></th>\n",
              "      <th>prediction</th>\n",
              "    </tr>\n",
              "  </thead>\n",
              "  <tbody>\n",
              "    <tr>\n",
              "      <th>0</th>\n",
              "      <td>199.175079</td>\n",
              "    </tr>\n",
              "    <tr>\n",
              "      <th>1</th>\n",
              "      <td>347.452942</td>\n",
              "    </tr>\n",
              "    <tr>\n",
              "      <th>2</th>\n",
              "      <td>22.545172</td>\n",
              "    </tr>\n",
              "    <tr>\n",
              "      <th>3</th>\n",
              "      <td>261.427521</td>\n",
              "    </tr>\n",
              "    <tr>\n",
              "      <th>4</th>\n",
              "      <td>8.929500</td>\n",
              "    </tr>\n",
              "  </tbody>\n",
              "</table>\n",
              "</div>"
            ],
            "text/plain": [
              "   prediction\n",
              "0  199.175079\n",
              "1  347.452942\n",
              "2   22.545172\n",
              "3  261.427521\n",
              "4    8.929500"
            ]
          },
          "metadata": {
            "tags": []
          },
          "execution_count": 54
        }
      ]
    },
    {
      "cell_type": "code",
      "metadata": {
        "id": "Ee7pkuUo9Yeu"
      },
      "source": [
        "res3.to_csv(\"submission_d10_nn.csv\",index=False)"
      ],
      "execution_count": null,
      "outputs": []
    },
    {
      "cell_type": "code",
      "metadata": {
        "id": "62AErCkR9e_n"
      },
      "source": [
        ""
      ],
      "execution_count": null,
      "outputs": []
    }
  ]
}