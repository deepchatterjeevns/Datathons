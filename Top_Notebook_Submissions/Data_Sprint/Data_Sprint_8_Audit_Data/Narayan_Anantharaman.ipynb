{
  "nbformat": 4,
  "nbformat_minor": 0,
  "metadata": {
    "kernelspec": {
      "display_name": "Python 3",
      "language": "python",
      "name": "python3"
    },
    "language_info": {
      "codemirror_mode": {
        "name": "ipython",
        "version": 3
      },
      "file_extension": ".py",
      "mimetype": "text/x-python",
      "name": "python",
      "nbconvert_exporter": "python",
      "pygments_lexer": "ipython3",
      "version": "3.7.6"
    },
    "colab": {
      "name": "Narayan_Anantharaman.ipynb",
      "provenance": [],
      "include_colab_link": true
    }
  },
  "cells": [
    {
      "cell_type": "markdown",
      "metadata": {
        "id": "view-in-github",
        "colab_type": "text"
      },
      "source": [
        "<a href=\"https://colab.research.google.com/github/dphi-official/Datathons/blob/master/Top_Notebook_Submissions/Data_Sprint/Data_Sprint_8/Narayan_Anantharaman.ipynb\" target=\"_parent\"><img src=\"https://colab.research.google.com/assets/colab-badge.svg\" alt=\"Open In Colab\"/></a>"
      ]
    },
    {
      "cell_type": "markdown",
      "metadata": {
        "id": "xmiY_hue11c9"
      },
      "source": [
        "# Audit Data Problem\n",
        "## Datathon # 8\n",
        "### Datathon URL: https://dphi.tech/practice/challenge/37\n",
        "### Notebook Author: Narayan Anantharaman\n",
        "#### LinkedIn handle: https://www.linkedin.com/in/narayan-anantharaman-7547a6161\n",
        "---\n",
        "\n",
        "## Loading all the necessary libraries"
      ]
    },
    {
      "cell_type": "code",
      "metadata": {
        "id": "vbl6c5YG11dA"
      },
      "source": [
        "# Loading the libraries\n",
        "import pandas as pd\n",
        "import numpy as np"
      ],
      "execution_count": null,
      "outputs": []
    },
    {
      "cell_type": "code",
      "metadata": {
        "id": "wRviJnya11dT"
      },
      "source": [
        "# Load the dataset\n",
        "audit_data  = pd.read_csv(\"https://raw.githubusercontent.com/dphi-official/Datasets/master/audit_data/training_set_label.csv\")"
      ],
      "execution_count": null,
      "outputs": []
    },
    {
      "cell_type": "code",
      "metadata": {
        "id": "qPO13gGb11dh",
        "outputId": "5ea61fc0-ea28-4440-a4fe-a6a19d65c0d4"
      },
      "source": [
        "audit_data.head()"
      ],
      "execution_count": null,
      "outputs": [
        {
          "output_type": "execute_result",
          "data": {
            "text/html": [
              "<div>\n",
              "<style scoped>\n",
              "    .dataframe tbody tr th:only-of-type {\n",
              "        vertical-align: middle;\n",
              "    }\n",
              "\n",
              "    .dataframe tbody tr th {\n",
              "        vertical-align: top;\n",
              "    }\n",
              "\n",
              "    .dataframe thead th {\n",
              "        text-align: right;\n",
              "    }\n",
              "</style>\n",
              "<table border=\"1\" class=\"dataframe\">\n",
              "  <thead>\n",
              "    <tr style=\"text-align: right;\">\n",
              "      <th></th>\n",
              "      <th>Sector_score</th>\n",
              "      <th>LOCATION_ID</th>\n",
              "      <th>PARA_A</th>\n",
              "      <th>Score_A</th>\n",
              "      <th>Risk_A</th>\n",
              "      <th>PARA_B</th>\n",
              "      <th>Score_B</th>\n",
              "      <th>Risk_B</th>\n",
              "      <th>TOTAL</th>\n",
              "      <th>numbers</th>\n",
              "      <th>...</th>\n",
              "      <th>RiSk_E</th>\n",
              "      <th>History</th>\n",
              "      <th>Prob</th>\n",
              "      <th>Risk_F</th>\n",
              "      <th>Score</th>\n",
              "      <th>Inherent_Risk</th>\n",
              "      <th>CONTROL_RISK</th>\n",
              "      <th>Detection_Risk</th>\n",
              "      <th>Audit_Risk</th>\n",
              "      <th>Risk</th>\n",
              "    </tr>\n",
              "  </thead>\n",
              "  <tbody>\n",
              "    <tr>\n",
              "      <th>0</th>\n",
              "      <td>2.72</td>\n",
              "      <td>8</td>\n",
              "      <td>1.13</td>\n",
              "      <td>0.4</td>\n",
              "      <td>0.452</td>\n",
              "      <td>0.00</td>\n",
              "      <td>0.2</td>\n",
              "      <td>0.000</td>\n",
              "      <td>1.13</td>\n",
              "      <td>5.0</td>\n",
              "      <td>...</td>\n",
              "      <td>0.4</td>\n",
              "      <td>0</td>\n",
              "      <td>0.2</td>\n",
              "      <td>0.0</td>\n",
              "      <td>2.2</td>\n",
              "      <td>1.852</td>\n",
              "      <td>0.4</td>\n",
              "      <td>0.5</td>\n",
              "      <td>0.3704</td>\n",
              "      <td>0</td>\n",
              "    </tr>\n",
              "    <tr>\n",
              "      <th>1</th>\n",
              "      <td>1.85</td>\n",
              "      <td>13</td>\n",
              "      <td>8.25</td>\n",
              "      <td>0.6</td>\n",
              "      <td>4.950</td>\n",
              "      <td>1.59</td>\n",
              "      <td>0.4</td>\n",
              "      <td>0.636</td>\n",
              "      <td>9.84</td>\n",
              "      <td>5.0</td>\n",
              "      <td>...</td>\n",
              "      <td>0.4</td>\n",
              "      <td>0</td>\n",
              "      <td>0.2</td>\n",
              "      <td>0.0</td>\n",
              "      <td>3.0</td>\n",
              "      <td>6.990</td>\n",
              "      <td>0.4</td>\n",
              "      <td>0.5</td>\n",
              "      <td>1.3980</td>\n",
              "      <td>1</td>\n",
              "    </tr>\n",
              "    <tr>\n",
              "      <th>2</th>\n",
              "      <td>2.72</td>\n",
              "      <td>19</td>\n",
              "      <td>2.13</td>\n",
              "      <td>0.6</td>\n",
              "      <td>1.278</td>\n",
              "      <td>0.59</td>\n",
              "      <td>0.2</td>\n",
              "      <td>0.118</td>\n",
              "      <td>2.72</td>\n",
              "      <td>5.0</td>\n",
              "      <td>...</td>\n",
              "      <td>0.4</td>\n",
              "      <td>0</td>\n",
              "      <td>0.2</td>\n",
              "      <td>0.0</td>\n",
              "      <td>2.4</td>\n",
              "      <td>2.948</td>\n",
              "      <td>0.4</td>\n",
              "      <td>0.5</td>\n",
              "      <td>0.5896</td>\n",
              "      <td>0</td>\n",
              "    </tr>\n",
              "    <tr>\n",
              "      <th>3</th>\n",
              "      <td>59.85</td>\n",
              "      <td>21</td>\n",
              "      <td>0.42</td>\n",
              "      <td>0.2</td>\n",
              "      <td>0.084</td>\n",
              "      <td>0.00</td>\n",
              "      <td>0.2</td>\n",
              "      <td>0.000</td>\n",
              "      <td>0.42</td>\n",
              "      <td>5.0</td>\n",
              "      <td>...</td>\n",
              "      <td>0.8</td>\n",
              "      <td>0</td>\n",
              "      <td>0.2</td>\n",
              "      <td>0.0</td>\n",
              "      <td>2.2</td>\n",
              "      <td>1.884</td>\n",
              "      <td>0.8</td>\n",
              "      <td>0.5</td>\n",
              "      <td>0.7536</td>\n",
              "      <td>0</td>\n",
              "    </tr>\n",
              "    <tr>\n",
              "      <th>4</th>\n",
              "      <td>2.72</td>\n",
              "      <td>4</td>\n",
              "      <td>1.33</td>\n",
              "      <td>0.4</td>\n",
              "      <td>0.532</td>\n",
              "      <td>0.35</td>\n",
              "      <td>0.2</td>\n",
              "      <td>0.070</td>\n",
              "      <td>1.68</td>\n",
              "      <td>5.0</td>\n",
              "      <td>...</td>\n",
              "      <td>0.4</td>\n",
              "      <td>0</td>\n",
              "      <td>0.2</td>\n",
              "      <td>0.0</td>\n",
              "      <td>2.2</td>\n",
              "      <td>2.002</td>\n",
              "      <td>0.4</td>\n",
              "      <td>0.5</td>\n",
              "      <td>0.4004</td>\n",
              "      <td>0</td>\n",
              "    </tr>\n",
              "  </tbody>\n",
              "</table>\n",
              "<p>5 rows × 27 columns</p>\n",
              "</div>"
            ],
            "text/plain": [
              "   Sector_score LOCATION_ID  PARA_A  Score_A  Risk_A  PARA_B  Score_B  Risk_B  \\\n",
              "0          2.72           8    1.13      0.4   0.452    0.00      0.2   0.000   \n",
              "1          1.85          13    8.25      0.6   4.950    1.59      0.4   0.636   \n",
              "2          2.72          19    2.13      0.6   1.278    0.59      0.2   0.118   \n",
              "3         59.85          21    0.42      0.2   0.084    0.00      0.2   0.000   \n",
              "4          2.72           4    1.33      0.4   0.532    0.35      0.2   0.070   \n",
              "\n",
              "   TOTAL  numbers  ...  RiSk_E  History  Prob  Risk_F  Score  Inherent_Risk  \\\n",
              "0   1.13      5.0  ...     0.4        0   0.2     0.0    2.2          1.852   \n",
              "1   9.84      5.0  ...     0.4        0   0.2     0.0    3.0          6.990   \n",
              "2   2.72      5.0  ...     0.4        0   0.2     0.0    2.4          2.948   \n",
              "3   0.42      5.0  ...     0.8        0   0.2     0.0    2.2          1.884   \n",
              "4   1.68      5.0  ...     0.4        0   0.2     0.0    2.2          2.002   \n",
              "\n",
              "   CONTROL_RISK  Detection_Risk  Audit_Risk  Risk  \n",
              "0           0.4             0.5      0.3704     0  \n",
              "1           0.4             0.5      1.3980     1  \n",
              "2           0.4             0.5      0.5896     0  \n",
              "3           0.8             0.5      0.7536     0  \n",
              "4           0.4             0.5      0.4004     0  \n",
              "\n",
              "[5 rows x 27 columns]"
            ]
          },
          "metadata": {
            "tags": []
          },
          "execution_count": 81
        }
      ]
    },
    {
      "cell_type": "code",
      "metadata": {
        "id": "fNER2iAE11dw",
        "outputId": "6550ec53-59ef-4a94-9671-65c502533a99"
      },
      "source": [
        "audit_data.info()"
      ],
      "execution_count": null,
      "outputs": [
        {
          "output_type": "stream",
          "text": [
            "<class 'pandas.core.frame.DataFrame'>\n",
            "RangeIndex: 543 entries, 0 to 542\n",
            "Data columns (total 27 columns):\n",
            " #   Column          Non-Null Count  Dtype  \n",
            "---  ------          --------------  -----  \n",
            " 0   Sector_score    543 non-null    float64\n",
            " 1   LOCATION_ID     543 non-null    object \n",
            " 2   PARA_A          543 non-null    float64\n",
            " 3   Score_A         543 non-null    float64\n",
            " 4   Risk_A          543 non-null    float64\n",
            " 5   PARA_B          543 non-null    float64\n",
            " 6   Score_B         543 non-null    float64\n",
            " 7   Risk_B          543 non-null    float64\n",
            " 8   TOTAL           543 non-null    float64\n",
            " 9   numbers         543 non-null    float64\n",
            " 10  Score_B.1       543 non-null    float64\n",
            " 11  Risk_C          543 non-null    float64\n",
            " 12  Money_Value     543 non-null    float64\n",
            " 13  Score_MV        543 non-null    float64\n",
            " 14  Risk_D          543 non-null    float64\n",
            " 15  District_Loss   543 non-null    int64  \n",
            " 16  PROB            543 non-null    float64\n",
            " 17  RiSk_E          543 non-null    float64\n",
            " 18  History         543 non-null    int64  \n",
            " 19  Prob            543 non-null    float64\n",
            " 20  Risk_F          543 non-null    float64\n",
            " 21  Score           543 non-null    float64\n",
            " 22  Inherent_Risk   543 non-null    float64\n",
            " 23  CONTROL_RISK    543 non-null    float64\n",
            " 24  Detection_Risk  543 non-null    float64\n",
            " 25  Audit_Risk      543 non-null    float64\n",
            " 26  Risk            543 non-null    int64  \n",
            "dtypes: float64(23), int64(3), object(1)\n",
            "memory usage: 114.7+ KB\n"
          ],
          "name": "stdout"
        }
      ]
    },
    {
      "cell_type": "markdown",
      "metadata": {
        "id": "wzmvWCHI11d7"
      },
      "source": [
        "#### Above information gives the number of Rows and Columns along with its Range, Dtype, number of entries in each feature"
      ]
    },
    {
      "cell_type": "code",
      "metadata": {
        "id": "oWzcvcap11d9",
        "outputId": "864c142d-0adf-4b25-a9ec-b8a0baec4405"
      },
      "source": [
        "audit_data.isnull().sum()"
      ],
      "execution_count": null,
      "outputs": [
        {
          "output_type": "execute_result",
          "data": {
            "text/plain": [
              "Sector_score      0\n",
              "LOCATION_ID       0\n",
              "PARA_A            0\n",
              "Score_A           0\n",
              "Risk_A            0\n",
              "PARA_B            0\n",
              "Score_B           0\n",
              "Risk_B            0\n",
              "TOTAL             0\n",
              "numbers           0\n",
              "Score_B.1         0\n",
              "Risk_C            0\n",
              "Money_Value       0\n",
              "Score_MV          0\n",
              "Risk_D            0\n",
              "District_Loss     0\n",
              "PROB              0\n",
              "RiSk_E            0\n",
              "History           0\n",
              "Prob              0\n",
              "Risk_F            0\n",
              "Score             0\n",
              "Inherent_Risk     0\n",
              "CONTROL_RISK      0\n",
              "Detection_Risk    0\n",
              "Audit_Risk        0\n",
              "Risk              0\n",
              "dtype: int64"
            ]
          },
          "metadata": {
            "tags": []
          },
          "execution_count": 83
        }
      ]
    },
    {
      "cell_type": "markdown",
      "metadata": {
        "id": "NU7QSQR811eJ"
      },
      "source": [
        "#### Above information shows the number of null values in each feature if any"
      ]
    },
    {
      "cell_type": "code",
      "metadata": {
        "id": "nLqyhp9111eL"
      },
      "source": [
        "cat_cols = audit_data.select_dtypes(exclude = np.number)"
      ],
      "execution_count": null,
      "outputs": []
    },
    {
      "cell_type": "code",
      "metadata": {
        "id": "UiirDaXy11eV",
        "outputId": "57f01e2c-1bf7-4b7a-9783-702f59c59595"
      },
      "source": [
        "cat_cols"
      ],
      "execution_count": null,
      "outputs": [
        {
          "output_type": "execute_result",
          "data": {
            "text/html": [
              "<div>\n",
              "<style scoped>\n",
              "    .dataframe tbody tr th:only-of-type {\n",
              "        vertical-align: middle;\n",
              "    }\n",
              "\n",
              "    .dataframe tbody tr th {\n",
              "        vertical-align: top;\n",
              "    }\n",
              "\n",
              "    .dataframe thead th {\n",
              "        text-align: right;\n",
              "    }\n",
              "</style>\n",
              "<table border=\"1\" class=\"dataframe\">\n",
              "  <thead>\n",
              "    <tr style=\"text-align: right;\">\n",
              "      <th></th>\n",
              "      <th>LOCATION_ID</th>\n",
              "    </tr>\n",
              "  </thead>\n",
              "  <tbody>\n",
              "    <tr>\n",
              "      <th>0</th>\n",
              "      <td>8</td>\n",
              "    </tr>\n",
              "    <tr>\n",
              "      <th>1</th>\n",
              "      <td>13</td>\n",
              "    </tr>\n",
              "    <tr>\n",
              "      <th>2</th>\n",
              "      <td>19</td>\n",
              "    </tr>\n",
              "    <tr>\n",
              "      <th>3</th>\n",
              "      <td>21</td>\n",
              "    </tr>\n",
              "    <tr>\n",
              "      <th>4</th>\n",
              "      <td>4</td>\n",
              "    </tr>\n",
              "    <tr>\n",
              "      <th>...</th>\n",
              "      <td>...</td>\n",
              "    </tr>\n",
              "    <tr>\n",
              "      <th>538</th>\n",
              "      <td>19</td>\n",
              "    </tr>\n",
              "    <tr>\n",
              "      <th>539</th>\n",
              "      <td>16</td>\n",
              "    </tr>\n",
              "    <tr>\n",
              "      <th>540</th>\n",
              "      <td>13</td>\n",
              "    </tr>\n",
              "    <tr>\n",
              "      <th>541</th>\n",
              "      <td>25</td>\n",
              "    </tr>\n",
              "    <tr>\n",
              "      <th>542</th>\n",
              "      <td>9</td>\n",
              "    </tr>\n",
              "  </tbody>\n",
              "</table>\n",
              "<p>543 rows × 1 columns</p>\n",
              "</div>"
            ],
            "text/plain": [
              "    LOCATION_ID\n",
              "0             8\n",
              "1            13\n",
              "2            19\n",
              "3            21\n",
              "4             4\n",
              "..          ...\n",
              "538          19\n",
              "539          16\n",
              "540          13\n",
              "541          25\n",
              "542           9\n",
              "\n",
              "[543 rows x 1 columns]"
            ]
          },
          "metadata": {
            "tags": []
          },
          "execution_count": 85
        }
      ]
    },
    {
      "cell_type": "code",
      "metadata": {
        "id": "EplIFyQ511en"
      },
      "source": [
        "import matplotlib.pyplot as plt\n",
        "import seaborn as sns"
      ],
      "execution_count": null,
      "outputs": []
    },
    {
      "cell_type": "code",
      "metadata": {
        "id": "JIen8kfe11ey",
        "outputId": "722a20ae-1db5-4f37-b550-c67fc73160e2"
      },
      "source": [
        "sns.heatmap(data = audit_data.corr(), annot = True)"
      ],
      "execution_count": null,
      "outputs": [
        {
          "output_type": "execute_result",
          "data": {
            "text/plain": [
              "<matplotlib.axes._subplots.AxesSubplot at 0x16ff0bbf048>"
            ]
          },
          "metadata": {
            "tags": []
          },
          "execution_count": 88
        },
        {
          "output_type": "display_data",
          "data": {
            "image/png": "[encoded data removed]",
            "text/plain": [
              "<Figure size 432x288 with 2 Axes>"
            ]
          },
          "metadata": {
            "tags": [],
            "needs_background": "light"
          }
        }
      ]
    },
    {
      "cell_type": "code",
      "metadata": {
        "id": "huW43V1n11e9",
        "outputId": "9c10be0c-3298-46b1-e1ae-59f9cbb32bed"
      },
      "source": [
        "audit_data.corr()"
      ],
      "execution_count": null,
      "outputs": [
        {
          "output_type": "execute_result",
          "data": {
            "text/html": [
              "<div>\n",
              "<style scoped>\n",
              "    .dataframe tbody tr th:only-of-type {\n",
              "        vertical-align: middle;\n",
              "    }\n",
              "\n",
              "    .dataframe tbody tr th {\n",
              "        vertical-align: top;\n",
              "    }\n",
              "\n",
              "    .dataframe thead th {\n",
              "        text-align: right;\n",
              "    }\n",
              "</style>\n",
              "<table border=\"1\" class=\"dataframe\">\n",
              "  <thead>\n",
              "    <tr style=\"text-align: right;\">\n",
              "      <th></th>\n",
              "      <th>Sector_score</th>\n",
              "      <th>PARA_A</th>\n",
              "      <th>Score_A</th>\n",
              "      <th>Risk_A</th>\n",
              "      <th>PARA_B</th>\n",
              "      <th>Score_B</th>\n",
              "      <th>Risk_B</th>\n",
              "      <th>TOTAL</th>\n",
              "      <th>numbers</th>\n",
              "      <th>Score_B.1</th>\n",
              "      <th>...</th>\n",
              "      <th>RiSk_E</th>\n",
              "      <th>History</th>\n",
              "      <th>Prob</th>\n",
              "      <th>Risk_F</th>\n",
              "      <th>Score</th>\n",
              "      <th>Inherent_Risk</th>\n",
              "      <th>CONTROL_RISK</th>\n",
              "      <th>Detection_Risk</th>\n",
              "      <th>Audit_Risk</th>\n",
              "      <th>Risk</th>\n",
              "    </tr>\n",
              "  </thead>\n",
              "  <tbody>\n",
              "    <tr>\n",
              "      <th>Sector_score</th>\n",
              "      <td>1.000000</td>\n",
              "      <td>-0.272986</td>\n",
              "      <td>-0.426114</td>\n",
              "      <td>-0.273315</td>\n",
              "      <td>-0.257629</td>\n",
              "      <td>-0.236479</td>\n",
              "      <td>-0.252162</td>\n",
              "      <td>-0.280079</td>\n",
              "      <td>-0.156982</td>\n",
              "      <td>-0.182010</td>\n",
              "      <td>...</td>\n",
              "      <td>-0.117416</td>\n",
              "      <td>-0.107672</td>\n",
              "      <td>-0.142941</td>\n",
              "      <td>-0.096343</td>\n",
              "      <td>-0.351501</td>\n",
              "      <td>-0.201829</td>\n",
              "      <td>-0.146831</td>\n",
              "      <td>NaN</td>\n",
              "      <td>-0.208192</td>\n",
              "      <td>-0.399229</td>\n",
              "    </tr>\n",
              "    <tr>\n",
              "      <th>PARA_A</th>\n",
              "      <td>-0.272986</td>\n",
              "      <td>1.000000</td>\n",
              "      <td>0.577962</td>\n",
              "      <td>0.998691</td>\n",
              "      <td>0.474939</td>\n",
              "      <td>0.433341</td>\n",
              "      <td>0.474203</td>\n",
              "      <td>0.601012</td>\n",
              "      <td>0.152888</td>\n",
              "      <td>0.160067</td>\n",
              "      <td>...</td>\n",
              "      <td>0.063560</td>\n",
              "      <td>0.069140</td>\n",
              "      <td>0.147956</td>\n",
              "      <td>0.050730</td>\n",
              "      <td>0.489710</td>\n",
              "      <td>0.565418</td>\n",
              "      <td>0.078493</td>\n",
              "      <td>NaN</td>\n",
              "      <td>0.464311</td>\n",
              "      <td>0.423718</td>\n",
              "    </tr>\n",
              "    <tr>\n",
              "      <th>Score_A</th>\n",
              "      <td>-0.426114</td>\n",
              "      <td>0.577962</td>\n",
              "      <td>1.000000</td>\n",
              "      <td>0.587702</td>\n",
              "      <td>0.473553</td>\n",
              "      <td>0.582012</td>\n",
              "      <td>0.470457</td>\n",
              "      <td>0.527734</td>\n",
              "      <td>0.236091</td>\n",
              "      <td>0.275002</td>\n",
              "      <td>...</td>\n",
              "      <td>0.074033</td>\n",
              "      <td>0.125755</td>\n",
              "      <td>0.234719</td>\n",
              "      <td>0.101905</td>\n",
              "      <td>0.724156</td>\n",
              "      <td>0.355752</td>\n",
              "      <td>0.121224</td>\n",
              "      <td>NaN</td>\n",
              "      <td>0.370496</td>\n",
              "      <td>0.618667</td>\n",
              "    </tr>\n",
              "    <tr>\n",
              "      <th>Risk_A</th>\n",
              "      <td>-0.273315</td>\n",
              "      <td>0.998691</td>\n",
              "      <td>0.587702</td>\n",
              "      <td>1.000000</td>\n",
              "      <td>0.480368</td>\n",
              "      <td>0.438423</td>\n",
              "      <td>0.479507</td>\n",
              "      <td>0.605707</td>\n",
              "      <td>0.154994</td>\n",
              "      <td>0.163537</td>\n",
              "      <td>...</td>\n",
              "      <td>0.064436</td>\n",
              "      <td>0.072703</td>\n",
              "      <td>0.152159</td>\n",
              "      <td>0.054003</td>\n",
              "      <td>0.496775</td>\n",
              "      <td>0.566306</td>\n",
              "      <td>0.081366</td>\n",
              "      <td>NaN</td>\n",
              "      <td>0.466194</td>\n",
              "      <td>0.432073</td>\n",
              "    </tr>\n",
              "    <tr>\n",
              "      <th>PARA_B</th>\n",
              "      <td>-0.257629</td>\n",
              "      <td>0.474939</td>\n",
              "      <td>0.473553</td>\n",
              "      <td>0.480368</td>\n",
              "      <td>1.000000</td>\n",
              "      <td>0.661852</td>\n",
              "      <td>0.999652</td>\n",
              "      <td>0.988764</td>\n",
              "      <td>0.374153</td>\n",
              "      <td>0.387859</td>\n",
              "      <td>...</td>\n",
              "      <td>-0.007795</td>\n",
              "      <td>0.127858</td>\n",
              "      <td>0.250115</td>\n",
              "      <td>0.097142</td>\n",
              "      <td>0.694487</td>\n",
              "      <td>0.596853</td>\n",
              "      <td>0.062309</td>\n",
              "      <td>NaN</td>\n",
              "      <td>0.571220</td>\n",
              "      <td>0.499301</td>\n",
              "    </tr>\n",
              "    <tr>\n",
              "      <th>Score_B</th>\n",
              "      <td>-0.236479</td>\n",
              "      <td>0.433341</td>\n",
              "      <td>0.582012</td>\n",
              "      <td>0.438423</td>\n",
              "      <td>0.661852</td>\n",
              "      <td>1.000000</td>\n",
              "      <td>0.661983</td>\n",
              "      <td>0.674754</td>\n",
              "      <td>0.298234</td>\n",
              "      <td>0.346378</td>\n",
              "      <td>...</td>\n",
              "      <td>-0.008480</td>\n",
              "      <td>0.135807</td>\n",
              "      <td>0.254292</td>\n",
              "      <td>0.108961</td>\n",
              "      <td>0.909086</td>\n",
              "      <td>0.426126</td>\n",
              "      <td>0.070070</td>\n",
              "      <td>NaN</td>\n",
              "      <td>0.404626</td>\n",
              "      <td>0.631723</td>\n",
              "    </tr>\n",
              "    <tr>\n",
              "      <th>Risk_B</th>\n",
              "      <td>-0.252162</td>\n",
              "      <td>0.474203</td>\n",
              "      <td>0.470457</td>\n",
              "      <td>0.479507</td>\n",
              "      <td>0.999652</td>\n",
              "      <td>0.661983</td>\n",
              "      <td>1.000000</td>\n",
              "      <td>0.988319</td>\n",
              "      <td>0.372425</td>\n",
              "      <td>0.385969</td>\n",
              "      <td>...</td>\n",
              "      <td>-0.006347</td>\n",
              "      <td>0.125224</td>\n",
              "      <td>0.249272</td>\n",
              "      <td>0.094458</td>\n",
              "      <td>0.692961</td>\n",
              "      <td>0.596488</td>\n",
              "      <td>0.061425</td>\n",
              "      <td>NaN</td>\n",
              "      <td>0.571338</td>\n",
              "      <td>0.494416</td>\n",
              "    </tr>\n",
              "    <tr>\n",
              "      <th>TOTAL</th>\n",
              "      <td>-0.280079</td>\n",
              "      <td>0.601012</td>\n",
              "      <td>0.527734</td>\n",
              "      <td>0.605707</td>\n",
              "      <td>0.988764</td>\n",
              "      <td>0.674754</td>\n",
              "      <td>0.988319</td>\n",
              "      <td>1.000000</td>\n",
              "      <td>0.365235</td>\n",
              "      <td>0.378711</td>\n",
              "      <td>...</td>\n",
              "      <td>0.003059</td>\n",
              "      <td>0.127332</td>\n",
              "      <td>0.251291</td>\n",
              "      <td>0.096480</td>\n",
              "      <td>0.713384</td>\n",
              "      <td>0.637703</td>\n",
              "      <td>0.069224</td>\n",
              "      <td>NaN</td>\n",
              "      <td>0.596645</td>\n",
              "      <td>0.524967</td>\n",
              "    </tr>\n",
              "    <tr>\n",
              "      <th>numbers</th>\n",
              "      <td>-0.156982</td>\n",
              "      <td>0.152888</td>\n",
              "      <td>0.236091</td>\n",
              "      <td>0.154994</td>\n",
              "      <td>0.374153</td>\n",
              "      <td>0.298234</td>\n",
              "      <td>0.372425</td>\n",
              "      <td>0.365235</td>\n",
              "      <td>1.000000</td>\n",
              "      <td>0.888832</td>\n",
              "      <td>...</td>\n",
              "      <td>0.096918</td>\n",
              "      <td>0.143744</td>\n",
              "      <td>0.179903</td>\n",
              "      <td>0.144534</td>\n",
              "      <td>0.503813</td>\n",
              "      <td>0.248686</td>\n",
              "      <td>0.166441</td>\n",
              "      <td>NaN</td>\n",
              "      <td>0.368509</td>\n",
              "      <td>0.303401</td>\n",
              "    </tr>\n",
              "    <tr>\n",
              "      <th>Score_B.1</th>\n",
              "      <td>-0.182010</td>\n",
              "      <td>0.160067</td>\n",
              "      <td>0.275002</td>\n",
              "      <td>0.163537</td>\n",
              "      <td>0.387859</td>\n",
              "      <td>0.346378</td>\n",
              "      <td>0.385969</td>\n",
              "      <td>0.378711</td>\n",
              "      <td>0.888832</td>\n",
              "      <td>1.000000</td>\n",
              "      <td>...</td>\n",
              "      <td>0.111948</td>\n",
              "      <td>0.173290</td>\n",
              "      <td>0.229336</td>\n",
              "      <td>0.172205</td>\n",
              "      <td>0.581508</td>\n",
              "      <td>0.271599</td>\n",
              "      <td>0.195912</td>\n",
              "      <td>NaN</td>\n",
              "      <td>0.421379</td>\n",
              "      <td>0.358275</td>\n",
              "    </tr>\n",
              "    <tr>\n",
              "      <th>Risk_C</th>\n",
              "      <td>-0.176615</td>\n",
              "      <td>0.158201</td>\n",
              "      <td>0.264185</td>\n",
              "      <td>0.161218</td>\n",
              "      <td>0.388774</td>\n",
              "      <td>0.334322</td>\n",
              "      <td>0.386825</td>\n",
              "      <td>0.379304</td>\n",
              "      <td>0.947103</td>\n",
              "      <td>0.987999</td>\n",
              "      <td>...</td>\n",
              "      <td>0.109767</td>\n",
              "      <td>0.166474</td>\n",
              "      <td>0.216882</td>\n",
              "      <td>0.166083</td>\n",
              "      <td>0.565329</td>\n",
              "      <td>0.267847</td>\n",
              "      <td>0.190169</td>\n",
              "      <td>NaN</td>\n",
              "      <td>0.412853</td>\n",
              "      <td>0.344870</td>\n",
              "    </tr>\n",
              "    <tr>\n",
              "      <th>Money_Value</th>\n",
              "      <td>-0.127725</td>\n",
              "      <td>0.433996</td>\n",
              "      <td>0.209239</td>\n",
              "      <td>0.432934</td>\n",
              "      <td>0.306387</td>\n",
              "      <td>0.233326</td>\n",
              "      <td>0.305885</td>\n",
              "      <td>0.351570</td>\n",
              "      <td>0.132681</td>\n",
              "      <td>0.153951</td>\n",
              "      <td>...</td>\n",
              "      <td>0.018966</td>\n",
              "      <td>0.042424</td>\n",
              "      <td>0.069197</td>\n",
              "      <td>0.034327</td>\n",
              "      <td>0.292573</td>\n",
              "      <td>0.944993</td>\n",
              "      <td>0.036777</td>\n",
              "      <td>NaN</td>\n",
              "      <td>0.714944</td>\n",
              "      <td>0.254439</td>\n",
              "    </tr>\n",
              "    <tr>\n",
              "      <th>Score_MV</th>\n",
              "      <td>-0.331896</td>\n",
              "      <td>0.324973</td>\n",
              "      <td>0.490405</td>\n",
              "      <td>0.330126</td>\n",
              "      <td>0.595826</td>\n",
              "      <td>0.574210</td>\n",
              "      <td>0.591672</td>\n",
              "      <td>0.595605</td>\n",
              "      <td>0.450364</td>\n",
              "      <td>0.524565</td>\n",
              "      <td>...</td>\n",
              "      <td>0.063623</td>\n",
              "      <td>0.168568</td>\n",
              "      <td>0.269189</td>\n",
              "      <td>0.141546</td>\n",
              "      <td>0.757837</td>\n",
              "      <td>0.536526</td>\n",
              "      <td>0.141740</td>\n",
              "      <td>NaN</td>\n",
              "      <td>0.563409</td>\n",
              "      <td>0.684358</td>\n",
              "    </tr>\n",
              "    <tr>\n",
              "      <th>Risk_D</th>\n",
              "      <td>-0.125281</td>\n",
              "      <td>0.432216</td>\n",
              "      <td>0.205699</td>\n",
              "      <td>0.431095</td>\n",
              "      <td>0.304589</td>\n",
              "      <td>0.229155</td>\n",
              "      <td>0.304128</td>\n",
              "      <td>0.349634</td>\n",
              "      <td>0.133065</td>\n",
              "      <td>0.154191</td>\n",
              "      <td>...</td>\n",
              "      <td>0.019132</td>\n",
              "      <td>0.041850</td>\n",
              "      <td>0.067679</td>\n",
              "      <td>0.033919</td>\n",
              "      <td>0.289160</td>\n",
              "      <td>0.944407</td>\n",
              "      <td>0.036605</td>\n",
              "      <td>NaN</td>\n",
              "      <td>0.714573</td>\n",
              "      <td>0.250859</td>\n",
              "    </tr>\n",
              "    <tr>\n",
              "      <th>District_Loss</th>\n",
              "      <td>-0.094948</td>\n",
              "      <td>0.076046</td>\n",
              "      <td>0.067776</td>\n",
              "      <td>0.076847</td>\n",
              "      <td>-0.042652</td>\n",
              "      <td>-0.027978</td>\n",
              "      <td>-0.041623</td>\n",
              "      <td>-0.026652</td>\n",
              "      <td>0.070043</td>\n",
              "      <td>0.087751</td>\n",
              "      <td>...</td>\n",
              "      <td>0.905957</td>\n",
              "      <td>-0.010066</td>\n",
              "      <td>-0.028613</td>\n",
              "      <td>-0.004032</td>\n",
              "      <td>0.164709</td>\n",
              "      <td>0.000927</td>\n",
              "      <td>0.612767</td>\n",
              "      <td>NaN</td>\n",
              "      <td>0.174223</td>\n",
              "      <td>0.395656</td>\n",
              "    </tr>\n",
              "    <tr>\n",
              "      <th>PROB</th>\n",
              "      <td>-0.090523</td>\n",
              "      <td>0.006395</td>\n",
              "      <td>0.060978</td>\n",
              "      <td>0.006847</td>\n",
              "      <td>0.131538</td>\n",
              "      <td>0.089799</td>\n",
              "      <td>0.132883</td>\n",
              "      <td>0.120561</td>\n",
              "      <td>0.054407</td>\n",
              "      <td>0.057306</td>\n",
              "      <td>...</td>\n",
              "      <td>0.481745</td>\n",
              "      <td>0.112477</td>\n",
              "      <td>0.144849</td>\n",
              "      <td>0.113652</td>\n",
              "      <td>0.174351</td>\n",
              "      <td>0.099845</td>\n",
              "      <td>0.406429</td>\n",
              "      <td>NaN</td>\n",
              "      <td>0.300406</td>\n",
              "      <td>0.175158</td>\n",
              "    </tr>\n",
              "    <tr>\n",
              "      <th>RiSk_E</th>\n",
              "      <td>-0.117416</td>\n",
              "      <td>0.063560</td>\n",
              "      <td>0.074033</td>\n",
              "      <td>0.064436</td>\n",
              "      <td>-0.007795</td>\n",
              "      <td>-0.008480</td>\n",
              "      <td>-0.006347</td>\n",
              "      <td>0.003059</td>\n",
              "      <td>0.096918</td>\n",
              "      <td>0.111948</td>\n",
              "      <td>...</td>\n",
              "      <td>1.000000</td>\n",
              "      <td>0.050119</td>\n",
              "      <td>0.037885</td>\n",
              "      <td>0.057064</td>\n",
              "      <td>0.194165</td>\n",
              "      <td>0.026293</td>\n",
              "      <td>0.719187</td>\n",
              "      <td>NaN</td>\n",
              "      <td>0.273603</td>\n",
              "      <td>0.391845</td>\n",
              "    </tr>\n",
              "    <tr>\n",
              "      <th>History</th>\n",
              "      <td>-0.107672</td>\n",
              "      <td>0.069140</td>\n",
              "      <td>0.125755</td>\n",
              "      <td>0.072703</td>\n",
              "      <td>0.127858</td>\n",
              "      <td>0.135807</td>\n",
              "      <td>0.125224</td>\n",
              "      <td>0.127332</td>\n",
              "      <td>0.143744</td>\n",
              "      <td>0.173290</td>\n",
              "      <td>...</td>\n",
              "      <td>0.050119</td>\n",
              "      <td>1.000000</td>\n",
              "      <td>0.822208</td>\n",
              "      <td>0.993123</td>\n",
              "      <td>0.230983</td>\n",
              "      <td>0.087413</td>\n",
              "      <td>0.725219</td>\n",
              "      <td>NaN</td>\n",
              "      <td>0.383406</td>\n",
              "      <td>0.194634</td>\n",
              "    </tr>\n",
              "    <tr>\n",
              "      <th>Prob</th>\n",
              "      <td>-0.142941</td>\n",
              "      <td>0.147956</td>\n",
              "      <td>0.234719</td>\n",
              "      <td>0.152159</td>\n",
              "      <td>0.250115</td>\n",
              "      <td>0.254292</td>\n",
              "      <td>0.249272</td>\n",
              "      <td>0.251291</td>\n",
              "      <td>0.179903</td>\n",
              "      <td>0.229336</td>\n",
              "      <td>...</td>\n",
              "      <td>0.037885</td>\n",
              "      <td>0.822208</td>\n",
              "      <td>1.000000</td>\n",
              "      <td>0.771990</td>\n",
              "      <td>0.364526</td>\n",
              "      <td>0.151095</td>\n",
              "      <td>0.563008</td>\n",
              "      <td>NaN</td>\n",
              "      <td>0.461765</td>\n",
              "      <td>0.260591</td>\n",
              "    </tr>\n",
              "    <tr>\n",
              "      <th>Risk_F</th>\n",
              "      <td>-0.096343</td>\n",
              "      <td>0.050730</td>\n",
              "      <td>0.101905</td>\n",
              "      <td>0.054003</td>\n",
              "      <td>0.097142</td>\n",
              "      <td>0.108961</td>\n",
              "      <td>0.094458</td>\n",
              "      <td>0.096480</td>\n",
              "      <td>0.144534</td>\n",
              "      <td>0.172205</td>\n",
              "      <td>...</td>\n",
              "      <td>0.057064</td>\n",
              "      <td>0.993123</td>\n",
              "      <td>0.771990</td>\n",
              "      <td>1.000000</td>\n",
              "      <td>0.202255</td>\n",
              "      <td>0.070263</td>\n",
              "      <td>0.734724</td>\n",
              "      <td>NaN</td>\n",
              "      <td>0.364886</td>\n",
              "      <td>0.172937</td>\n",
              "    </tr>\n",
              "    <tr>\n",
              "      <th>Score</th>\n",
              "      <td>-0.351501</td>\n",
              "      <td>0.489710</td>\n",
              "      <td>0.724156</td>\n",
              "      <td>0.496775</td>\n",
              "      <td>0.694487</td>\n",
              "      <td>0.909086</td>\n",
              "      <td>0.692961</td>\n",
              "      <td>0.713384</td>\n",
              "      <td>0.503813</td>\n",
              "      <td>0.581508</td>\n",
              "      <td>...</td>\n",
              "      <td>0.194165</td>\n",
              "      <td>0.230983</td>\n",
              "      <td>0.364526</td>\n",
              "      <td>0.202255</td>\n",
              "      <td>1.000000</td>\n",
              "      <td>0.493637</td>\n",
              "      <td>0.272690</td>\n",
              "      <td>NaN</td>\n",
              "      <td>0.571350</td>\n",
              "      <td>0.781276</td>\n",
              "    </tr>\n",
              "    <tr>\n",
              "      <th>Inherent_Risk</th>\n",
              "      <td>-0.201829</td>\n",
              "      <td>0.565418</td>\n",
              "      <td>0.355752</td>\n",
              "      <td>0.566306</td>\n",
              "      <td>0.596853</td>\n",
              "      <td>0.426126</td>\n",
              "      <td>0.596488</td>\n",
              "      <td>0.637703</td>\n",
              "      <td>0.248686</td>\n",
              "      <td>0.271599</td>\n",
              "      <td>...</td>\n",
              "      <td>0.026293</td>\n",
              "      <td>0.087413</td>\n",
              "      <td>0.151095</td>\n",
              "      <td>0.070263</td>\n",
              "      <td>0.493637</td>\n",
              "      <td>1.000000</td>\n",
              "      <td>0.066765</td>\n",
              "      <td>NaN</td>\n",
              "      <td>0.803068</td>\n",
              "      <td>0.394853</td>\n",
              "    </tr>\n",
              "    <tr>\n",
              "      <th>CONTROL_RISK</th>\n",
              "      <td>-0.146831</td>\n",
              "      <td>0.078493</td>\n",
              "      <td>0.121224</td>\n",
              "      <td>0.081366</td>\n",
              "      <td>0.062309</td>\n",
              "      <td>0.070070</td>\n",
              "      <td>0.061425</td>\n",
              "      <td>0.069224</td>\n",
              "      <td>0.166441</td>\n",
              "      <td>0.195912</td>\n",
              "      <td>...</td>\n",
              "      <td>0.719187</td>\n",
              "      <td>0.725219</td>\n",
              "      <td>0.563008</td>\n",
              "      <td>0.734724</td>\n",
              "      <td>0.272690</td>\n",
              "      <td>0.066765</td>\n",
              "      <td>1.000000</td>\n",
              "      <td>NaN</td>\n",
              "      <td>0.439849</td>\n",
              "      <td>0.386604</td>\n",
              "    </tr>\n",
              "    <tr>\n",
              "      <th>Detection_Risk</th>\n",
              "      <td>NaN</td>\n",
              "      <td>NaN</td>\n",
              "      <td>NaN</td>\n",
              "      <td>NaN</td>\n",
              "      <td>NaN</td>\n",
              "      <td>NaN</td>\n",
              "      <td>NaN</td>\n",
              "      <td>NaN</td>\n",
              "      <td>NaN</td>\n",
              "      <td>NaN</td>\n",
              "      <td>...</td>\n",
              "      <td>NaN</td>\n",
              "      <td>NaN</td>\n",
              "      <td>NaN</td>\n",
              "      <td>NaN</td>\n",
              "      <td>NaN</td>\n",
              "      <td>NaN</td>\n",
              "      <td>NaN</td>\n",
              "      <td>NaN</td>\n",
              "      <td>NaN</td>\n",
              "      <td>NaN</td>\n",
              "    </tr>\n",
              "    <tr>\n",
              "      <th>Audit_Risk</th>\n",
              "      <td>-0.208192</td>\n",
              "      <td>0.464311</td>\n",
              "      <td>0.370496</td>\n",
              "      <td>0.466194</td>\n",
              "      <td>0.571220</td>\n",
              "      <td>0.404626</td>\n",
              "      <td>0.571338</td>\n",
              "      <td>0.596645</td>\n",
              "      <td>0.368509</td>\n",
              "      <td>0.421379</td>\n",
              "      <td>...</td>\n",
              "      <td>0.273603</td>\n",
              "      <td>0.383406</td>\n",
              "      <td>0.461765</td>\n",
              "      <td>0.364886</td>\n",
              "      <td>0.571350</td>\n",
              "      <td>0.803068</td>\n",
              "      <td>0.439849</td>\n",
              "      <td>NaN</td>\n",
              "      <td>1.000000</td>\n",
              "      <td>0.430936</td>\n",
              "    </tr>\n",
              "    <tr>\n",
              "      <th>Risk</th>\n",
              "      <td>-0.399229</td>\n",
              "      <td>0.423718</td>\n",
              "      <td>0.618667</td>\n",
              "      <td>0.432073</td>\n",
              "      <td>0.499301</td>\n",
              "      <td>0.631723</td>\n",
              "      <td>0.494416</td>\n",
              "      <td>0.524967</td>\n",
              "      <td>0.303401</td>\n",
              "      <td>0.358275</td>\n",
              "      <td>...</td>\n",
              "      <td>0.391845</td>\n",
              "      <td>0.194634</td>\n",
              "      <td>0.260591</td>\n",
              "      <td>0.172937</td>\n",
              "      <td>0.781276</td>\n",
              "      <td>0.394853</td>\n",
              "      <td>0.386604</td>\n",
              "      <td>NaN</td>\n",
              "      <td>0.430936</td>\n",
              "      <td>1.000000</td>\n",
              "    </tr>\n",
              "  </tbody>\n",
              "</table>\n",
              "<p>26 rows × 26 columns</p>\n",
              "</div>"
            ],
            "text/plain": [
              "                Sector_score    PARA_A   Score_A    Risk_A    PARA_B  \\\n",
              "Sector_score        1.000000 -0.272986 -0.426114 -0.273315 -0.257629   \n",
              "PARA_A             -0.272986  1.000000  0.577962  0.998691  0.474939   \n",
              "Score_A            -0.426114  0.577962  1.000000  0.587702  0.473553   \n",
              "Risk_A             -0.273315  0.998691  0.587702  1.000000  0.480368   \n",
              "PARA_B             -0.257629  0.474939  0.473553  0.480368  1.000000   \n",
              "Score_B            -0.236479  0.433341  0.582012  0.438423  0.661852   \n",
              "Risk_B             -0.252162  0.474203  0.470457  0.479507  0.999652   \n",
              "TOTAL              -0.280079  0.601012  0.527734  0.605707  0.988764   \n",
              "numbers            -0.156982  0.152888  0.236091  0.154994  0.374153   \n",
              "Score_B.1          -0.182010  0.160067  0.275002  0.163537  0.387859   \n",
              "Risk_C             -0.176615  0.158201  0.264185  0.161218  0.388774   \n",
              "Money_Value        -0.127725  0.433996  0.209239  0.432934  0.306387   \n",
              "Score_MV           -0.331896  0.324973  0.490405  0.330126  0.595826   \n",
              "Risk_D             -0.125281  0.432216  0.205699  0.431095  0.304589   \n",
              "District_Loss      -0.094948  0.076046  0.067776  0.076847 -0.042652   \n",
              "PROB               -0.090523  0.006395  0.060978  0.006847  0.131538   \n",
              "RiSk_E             -0.117416  0.063560  0.074033  0.064436 -0.007795   \n",
              "History            -0.107672  0.069140  0.125755  0.072703  0.127858   \n",
              "Prob               -0.142941  0.147956  0.234719  0.152159  0.250115   \n",
              "Risk_F             -0.096343  0.050730  0.101905  0.054003  0.097142   \n",
              "Score              -0.351501  0.489710  0.724156  0.496775  0.694487   \n",
              "Inherent_Risk      -0.201829  0.565418  0.355752  0.566306  0.596853   \n",
              "CONTROL_RISK       -0.146831  0.078493  0.121224  0.081366  0.062309   \n",
              "Detection_Risk           NaN       NaN       NaN       NaN       NaN   \n",
              "Audit_Risk         -0.208192  0.464311  0.370496  0.466194  0.571220   \n",
              "Risk               -0.399229  0.423718  0.618667  0.432073  0.499301   \n",
              "\n",
              "                 Score_B    Risk_B     TOTAL   numbers  Score_B.1  ...  \\\n",
              "Sector_score   -0.236479 -0.252162 -0.280079 -0.156982  -0.182010  ...   \n",
              "PARA_A          0.433341  0.474203  0.601012  0.152888   0.160067  ...   \n",
              "Score_A         0.582012  0.470457  0.527734  0.236091   0.275002  ...   \n",
              "Risk_A          0.438423  0.479507  0.605707  0.154994   0.163537  ...   \n",
              "PARA_B          0.661852  0.999652  0.988764  0.374153   0.387859  ...   \n",
              "Score_B         1.000000  0.661983  0.674754  0.298234   0.346378  ...   \n",
              "Risk_B          0.661983  1.000000  0.988319  0.372425   0.385969  ...   \n",
              "TOTAL           0.674754  0.988319  1.000000  0.365235   0.378711  ...   \n",
              "numbers         0.298234  0.372425  0.365235  1.000000   0.888832  ...   \n",
              "Score_B.1       0.346378  0.385969  0.378711  0.888832   1.000000  ...   \n",
              "Risk_C          0.334322  0.386825  0.379304  0.947103   0.987999  ...   \n",
              "Money_Value     0.233326  0.305885  0.351570  0.132681   0.153951  ...   \n",
              "Score_MV        0.574210  0.591672  0.595605  0.450364   0.524565  ...   \n",
              "Risk_D          0.229155  0.304128  0.349634  0.133065   0.154191  ...   \n",
              "District_Loss  -0.027978 -0.041623 -0.026652  0.070043   0.087751  ...   \n",
              "PROB            0.089799  0.132883  0.120561  0.054407   0.057306  ...   \n",
              "RiSk_E         -0.008480 -0.006347  0.003059  0.096918   0.111948  ...   \n",
              "History         0.135807  0.125224  0.127332  0.143744   0.173290  ...   \n",
              "Prob            0.254292  0.249272  0.251291  0.179903   0.229336  ...   \n",
              "Risk_F          0.108961  0.094458  0.096480  0.144534   0.172205  ...   \n",
              "Score           0.909086  0.692961  0.713384  0.503813   0.581508  ...   \n",
              "Inherent_Risk   0.426126  0.596488  0.637703  0.248686   0.271599  ...   \n",
              "CONTROL_RISK    0.070070  0.061425  0.069224  0.166441   0.195912  ...   \n",
              "Detection_Risk       NaN       NaN       NaN       NaN        NaN  ...   \n",
              "Audit_Risk      0.404626  0.571338  0.596645  0.368509   0.421379  ...   \n",
              "Risk            0.631723  0.494416  0.524967  0.303401   0.358275  ...   \n",
              "\n",
              "                  RiSk_E   History      Prob    Risk_F     Score  \\\n",
              "Sector_score   -0.117416 -0.107672 -0.142941 -0.096343 -0.351501   \n",
              "PARA_A          0.063560  0.069140  0.147956  0.050730  0.489710   \n",
              "Score_A         0.074033  0.125755  0.234719  0.101905  0.724156   \n",
              "Risk_A          0.064436  0.072703  0.152159  0.054003  0.496775   \n",
              "PARA_B         -0.007795  0.127858  0.250115  0.097142  0.694487   \n",
              "Score_B        -0.008480  0.135807  0.254292  0.108961  0.909086   \n",
              "Risk_B         -0.006347  0.125224  0.249272  0.094458  0.692961   \n",
              "TOTAL           0.003059  0.127332  0.251291  0.096480  0.713384   \n",
              "numbers         0.096918  0.143744  0.179903  0.144534  0.503813   \n",
              "Score_B.1       0.111948  0.173290  0.229336  0.172205  0.581508   \n",
              "Risk_C          0.109767  0.166474  0.216882  0.166083  0.565329   \n",
              "Money_Value     0.018966  0.042424  0.069197  0.034327  0.292573   \n",
              "Score_MV        0.063623  0.168568  0.269189  0.141546  0.757837   \n",
              "Risk_D          0.019132  0.041850  0.067679  0.033919  0.289160   \n",
              "District_Loss   0.905957 -0.010066 -0.028613 -0.004032  0.164709   \n",
              "PROB            0.481745  0.112477  0.144849  0.113652  0.174351   \n",
              "RiSk_E          1.000000  0.050119  0.037885  0.057064  0.194165   \n",
              "History         0.050119  1.000000  0.822208  0.993123  0.230983   \n",
              "Prob            0.037885  0.822208  1.000000  0.771990  0.364526   \n",
              "Risk_F          0.057064  0.993123  0.771990  1.000000  0.202255   \n",
              "Score           0.194165  0.230983  0.364526  0.202255  1.000000   \n",
              "Inherent_Risk   0.026293  0.087413  0.151095  0.070263  0.493637   \n",
              "CONTROL_RISK    0.719187  0.725219  0.563008  0.734724  0.272690   \n",
              "Detection_Risk       NaN       NaN       NaN       NaN       NaN   \n",
              "Audit_Risk      0.273603  0.383406  0.461765  0.364886  0.571350   \n",
              "Risk            0.391845  0.194634  0.260591  0.172937  0.781276   \n",
              "\n",
              "                Inherent_Risk  CONTROL_RISK  Detection_Risk  Audit_Risk  \\\n",
              "Sector_score        -0.201829     -0.146831             NaN   -0.208192   \n",
              "PARA_A               0.565418      0.078493             NaN    0.464311   \n",
              "Score_A              0.355752      0.121224             NaN    0.370496   \n",
              "Risk_A               0.566306      0.081366             NaN    0.466194   \n",
              "PARA_B               0.596853      0.062309             NaN    0.571220   \n",
              "Score_B              0.426126      0.070070             NaN    0.404626   \n",
              "Risk_B               0.596488      0.061425             NaN    0.571338   \n",
              "TOTAL                0.637703      0.069224             NaN    0.596645   \n",
              "numbers              0.248686      0.166441             NaN    0.368509   \n",
              "Score_B.1            0.271599      0.195912             NaN    0.421379   \n",
              "Risk_C               0.267847      0.190169             NaN    0.412853   \n",
              "Money_Value          0.944993      0.036777             NaN    0.714944   \n",
              "Score_MV             0.536526      0.141740             NaN    0.563409   \n",
              "Risk_D               0.944407      0.036605             NaN    0.714573   \n",
              "District_Loss        0.000927      0.612767             NaN    0.174223   \n",
              "PROB                 0.099845      0.406429             NaN    0.300406   \n",
              "RiSk_E               0.026293      0.719187             NaN    0.273603   \n",
              "History              0.087413      0.725219             NaN    0.383406   \n",
              "Prob                 0.151095      0.563008             NaN    0.461765   \n",
              "Risk_F               0.070263      0.734724             NaN    0.364886   \n",
              "Score                0.493637      0.272690             NaN    0.571350   \n",
              "Inherent_Risk        1.000000      0.066765             NaN    0.803068   \n",
              "CONTROL_RISK         0.066765      1.000000             NaN    0.439849   \n",
              "Detection_Risk            NaN           NaN             NaN         NaN   \n",
              "Audit_Risk           0.803068      0.439849             NaN    1.000000   \n",
              "Risk                 0.394853      0.386604             NaN    0.430936   \n",
              "\n",
              "                    Risk  \n",
              "Sector_score   -0.399229  \n",
              "PARA_A          0.423718  \n",
              "Score_A         0.618667  \n",
              "Risk_A          0.432073  \n",
              "PARA_B          0.499301  \n",
              "Score_B         0.631723  \n",
              "Risk_B          0.494416  \n",
              "TOTAL           0.524967  \n",
              "numbers         0.303401  \n",
              "Score_B.1       0.358275  \n",
              "Risk_C          0.344870  \n",
              "Money_Value     0.254439  \n",
              "Score_MV        0.684358  \n",
              "Risk_D          0.250859  \n",
              "District_Loss   0.395656  \n",
              "PROB            0.175158  \n",
              "RiSk_E          0.391845  \n",
              "History         0.194634  \n",
              "Prob            0.260591  \n",
              "Risk_F          0.172937  \n",
              "Score           0.781276  \n",
              "Inherent_Risk   0.394853  \n",
              "CONTROL_RISK    0.386604  \n",
              "Detection_Risk       NaN  \n",
              "Audit_Risk      0.430936  \n",
              "Risk            1.000000  \n",
              "\n",
              "[26 rows x 26 columns]"
            ]
          },
          "metadata": {
            "tags": []
          },
          "execution_count": 89
        }
      ]
    },
    {
      "cell_type": "markdown",
      "metadata": {
        "id": "NDWwh4r311fH"
      },
      "source": [
        "#### Understanding the correlation between the variables from the above table and heatmap"
      ]
    },
    {
      "cell_type": "code",
      "metadata": {
        "id": "5aWjcms411fJ",
        "outputId": "cfc76a3e-30fe-40f7-9dd8-2ea8c99096c8"
      },
      "source": [
        "audit_data['Detection_Risk'].isnull()"
      ],
      "execution_count": null,
      "outputs": [
        {
          "output_type": "execute_result",
          "data": {
            "text/plain": [
              "0      False\n",
              "1      False\n",
              "2      False\n",
              "3      False\n",
              "4      False\n",
              "       ...  \n",
              "538    False\n",
              "539    False\n",
              "540    False\n",
              "541    False\n",
              "542    False\n",
              "Name: Detection_Risk, Length: 543, dtype: bool"
            ]
          },
          "metadata": {
            "tags": []
          },
          "execution_count": 90
        }
      ]
    },
    {
      "cell_type": "code",
      "metadata": {
        "id": "RJ517TDB11fV",
        "outputId": "6111e645-f6ff-4a22-fd3a-320d533600f0"
      },
      "source": [
        "audit_data.loc[284]"
      ],
      "execution_count": null,
      "outputs": [
        {
          "output_type": "execute_result",
          "data": {
            "text/plain": [
              "Sector_score         1.99\n",
              "LOCATION_ID       SAFIDON\n",
              "PARA_A               0.48\n",
              "Score_A               0.2\n",
              "Risk_A              0.096\n",
              "PARA_B                  0\n",
              "Score_B               0.2\n",
              "Risk_B                  0\n",
              "TOTAL                0.48\n",
              "numbers                 5\n",
              "Score_B.1             0.2\n",
              "Risk_C                  1\n",
              "Money_Value          0.47\n",
              "Score_MV              0.2\n",
              "Risk_D              0.094\n",
              "District_Loss           2\n",
              "PROB                  0.2\n",
              "RiSk_E                0.4\n",
              "History                 0\n",
              "Prob                  0.2\n",
              "Risk_F                  0\n",
              "Score                   2\n",
              "Inherent_Risk        1.59\n",
              "CONTROL_RISK          0.4\n",
              "Detection_Risk        0.5\n",
              "Audit_Risk          0.318\n",
              "Risk                    0\n",
              "Name: 284, dtype: object"
            ]
          },
          "metadata": {
            "tags": []
          },
          "execution_count": 95
        }
      ]
    },
    {
      "cell_type": "markdown",
      "metadata": {
        "id": "lwAaR7GN11fj"
      },
      "source": [
        "#### The ```LOCATION_ID``` feature contains categorical entries which needs to be modified in order to fit into a model"
      ]
    },
    {
      "cell_type": "code",
      "metadata": {
        "id": "OcZ_SybQ11fl"
      },
      "source": [
        "# Removing the categorical values from Location_ID feature\n",
        "# audit_data['LOCATION_ID'].replace(\"NUH\", audit_data['LOCATION_ID'].mode(), inplace = True)\n",
        "\n",
        "audit_data.at[229, 'LOCATION_ID'] = 8\n",
        "\n",
        "audit_data.at[284, 'LOCATION_ID'] = 8"
      ],
      "execution_count": null,
      "outputs": []
    },
    {
      "cell_type": "markdown",
      "metadata": {
        "id": "VJTa4OMG11fv"
      },
      "source": [
        "#### Replacing the categorical entries in ```LOCATION_ID``` with ```8``` which is the ```MODE``` of ```LOCATION_ID``` feature"
      ]
    },
    {
      "cell_type": "code",
      "metadata": {
        "id": "2Lm8vYUS11fx",
        "outputId": "0fd063b4-69fe-40af-859d-440b280fde5e"
      },
      "source": [
        "audit_data.loc[284]"
      ],
      "execution_count": null,
      "outputs": [
        {
          "output_type": "execute_result",
          "data": {
            "text/plain": [
              "Sector_score       1.99\n",
              "LOCATION_ID           8\n",
              "PARA_A             0.48\n",
              "Score_A             0.2\n",
              "Risk_A            0.096\n",
              "PARA_B                0\n",
              "Score_B             0.2\n",
              "Risk_B                0\n",
              "TOTAL              0.48\n",
              "numbers               5\n",
              "Score_B.1           0.2\n",
              "Risk_C                1\n",
              "Money_Value        0.47\n",
              "Score_MV            0.2\n",
              "Risk_D            0.094\n",
              "District_Loss         2\n",
              "PROB                0.2\n",
              "RiSk_E              0.4\n",
              "History               0\n",
              "Prob                0.2\n",
              "Risk_F                0\n",
              "Score                 2\n",
              "Inherent_Risk      1.59\n",
              "CONTROL_RISK        0.4\n",
              "Detection_Risk      0.5\n",
              "Audit_Risk        0.318\n",
              "Risk                  0\n",
              "Name: 284, dtype: object"
            ]
          },
          "metadata": {
            "tags": []
          },
          "execution_count": 112
        }
      ]
    },
    {
      "cell_type": "markdown",
      "metadata": {
        "id": "xOSsMeWC11f_"
      },
      "source": [
        "### Splitting the data into Input and Target variables"
      ]
    },
    {
      "cell_type": "code",
      "metadata": {
        "id": "zFet0hbu11gA",
        "outputId": "f9d26f98-942a-41aa-ec22-592c3e07b06c"
      },
      "source": [
        "# Splitting the data into Input and Target variables\n",
        "X = audit_data.drop('Risk', axis = 1)\n",
        "y = audit_data['Risk']\n",
        "\n",
        "print(\"X shape: \", X.shape,\" Y Shape: \",y.shape)"
      ],
      "execution_count": null,
      "outputs": [
        {
          "output_type": "stream",
          "text": [
            "X shape:  (543, 26)  Y Shape:  (543,)\n"
          ],
          "name": "stdout"
        }
      ]
    },
    {
      "cell_type": "markdown",
      "metadata": {
        "id": "5yXQ6XUc11gK"
      },
      "source": [
        "### Splitting the data into Train and Test set using ```sklearn's``` ```train_test_split```"
      ]
    },
    {
      "cell_type": "code",
      "metadata": {
        "id": "ZCvTdqzM11gL"
      },
      "source": [
        "# Importing the train test split from sklearn\n",
        "from sklearn.model_selection import train_test_split"
      ],
      "execution_count": null,
      "outputs": []
    },
    {
      "cell_type": "code",
      "metadata": {
        "id": "glvaqMns11gW"
      },
      "source": [
        "# Splitting the data into Train and Test data\n",
        "\n",
        "X_train, X_test, y_train, y_test = train_test_split(X, y, test_size = 0.3, random_state = 42)"
      ],
      "execution_count": null,
      "outputs": []
    },
    {
      "cell_type": "code",
      "metadata": {
        "id": "tCAwwqpJ11gj",
        "outputId": "2ececdd6-2f7d-4528-9621-808e2a359f62"
      },
      "source": [
        "# Checking the unique values of the Target variable\n",
        "y.unique()"
      ],
      "execution_count": null,
      "outputs": [
        {
          "output_type": "execute_result",
          "data": {
            "text/plain": [
              "array([0, 1], dtype=int64)"
            ]
          },
          "metadata": {
            "tags": []
          },
          "execution_count": 116
        }
      ]
    },
    {
      "cell_type": "markdown",
      "metadata": {
        "id": "rS_ixsW311gr"
      },
      "source": [
        "#### This shows that there are only 2 target outputs ```0``` and ```1```"
      ]
    },
    {
      "cell_type": "markdown",
      "metadata": {
        "id": "85DC6ub511gs"
      },
      "source": [
        "## Training the model with Random Forest Classifier"
      ]
    },
    {
      "cell_type": "code",
      "metadata": {
        "id": "vHkg3eVX11gu"
      },
      "source": [
        "# Importing the model\n",
        "from sklearn.ensemble import RandomForestClassifier"
      ],
      "execution_count": null,
      "outputs": []
    },
    {
      "cell_type": "code",
      "metadata": {
        "id": "OqoEE4XR11g2"
      },
      "source": [
        "rfc = RandomForestClassifier()"
      ],
      "execution_count": null,
      "outputs": []
    },
    {
      "cell_type": "code",
      "metadata": {
        "id": "_MnmIyWR11g-",
        "outputId": "817963c5-5f9c-4a25-9a43-e5b3ddb1a69f"
      },
      "source": [
        "rfc.fit(X_train, y_train)"
      ],
      "execution_count": null,
      "outputs": [
        {
          "output_type": "execute_result",
          "data": {
            "text/plain": [
              "RandomForestClassifier(bootstrap=True, ccp_alpha=0.0, class_weight=None,\n",
              "                       criterion='gini', max_depth=None, max_features='auto',\n",
              "                       max_leaf_nodes=None, max_samples=None,\n",
              "                       min_impurity_decrease=0.0, min_impurity_split=None,\n",
              "                       min_samples_leaf=1, min_samples_split=2,\n",
              "                       min_weight_fraction_leaf=0.0, n_estimators=100,\n",
              "                       n_jobs=None, oob_score=False, random_state=None,\n",
              "                       verbose=0, warm_start=False)"
            ]
          },
          "metadata": {
            "tags": []
          },
          "execution_count": 119
        }
      ]
    },
    {
      "cell_type": "code",
      "metadata": {
        "id": "jyiva6pK11hJ"
      },
      "source": [
        "y_pred_rfc = rfc.predict(X_test)"
      ],
      "execution_count": null,
      "outputs": []
    },
    {
      "cell_type": "code",
      "metadata": {
        "id": "D8kfCm8P11hU",
        "outputId": "57e26a33-29af-4d3f-fb5e-1bc2e7231016"
      },
      "source": [
        "from sklearn.metrics import f1_score\n",
        "\n",
        "print('F1 Score is: ', np.sqrt(f1_score(y_test, y_pred_rfc))) "
      ],
      "execution_count": null,
      "outputs": [
        {
          "output_type": "stream",
          "text": [
            "F1 Score is:  0.9963436806278281\n"
          ],
          "name": "stdout"
        }
      ]
    },
    {
      "cell_type": "markdown",
      "metadata": {
        "id": "HNaaGyeT11hf"
      },
      "source": [
        "### Loading the Test Data"
      ]
    },
    {
      "cell_type": "code",
      "metadata": {
        "id": "14JLIeAz11hh"
      },
      "source": [
        "# Importing the test data\n",
        "test_data = pd.read_csv('https://raw.githubusercontent.com/dphi-official/Datasets/master/audit_data/testing_set_label.csv')"
      ],
      "execution_count": null,
      "outputs": []
    },
    {
      "cell_type": "markdown",
      "metadata": {
        "id": "elTl41Ar11hq"
      },
      "source": [
        "### Replacing the categorical entries in ```LOCATION_ID``` feature with ```MODE``` value ```8```"
      ]
    },
    {
      "cell_type": "code",
      "metadata": {
        "id": "g7ZQ6QZh11hs"
      },
      "source": [
        "test_data.at[13, 'LOCATION_ID'] = 8"
      ],
      "execution_count": null,
      "outputs": []
    },
    {
      "cell_type": "code",
      "metadata": {
        "id": "uu705NH311h0",
        "outputId": "6b0a3df7-13c2-4557-92f1-18a7412ffd8c"
      },
      "source": [
        "test_data.loc[13]"
      ],
      "execution_count": null,
      "outputs": [
        {
          "output_type": "execute_result",
          "data": {
            "text/plain": [
              "Sector_score       1.99\n",
              "LOCATION_ID           8\n",
              "PARA_A              0.3\n",
              "Score_A             0.2\n",
              "Risk_A             0.06\n",
              "PARA_B                0\n",
              "Score_B             0.2\n",
              "Risk_B                0\n",
              "TOTAL               0.3\n",
              "numbers               5\n",
              "Score_B.1           0.2\n",
              "Risk_C                1\n",
              "Money_Value           0\n",
              "Score_MV            0.2\n",
              "Risk_D                0\n",
              "District_Loss         2\n",
              "PROB                0.2\n",
              "RiSk_E              0.4\n",
              "History               0\n",
              "Prob                0.2\n",
              "Risk_F                0\n",
              "Score                 2\n",
              "Inherent_Risk      1.46\n",
              "CONTROL_RISK        0.4\n",
              "Detection_Risk      0.5\n",
              "Audit_Risk        0.292\n",
              "Name: 13, dtype: object"
            ]
          },
          "metadata": {
            "tags": []
          },
          "execution_count": 129
        }
      ]
    },
    {
      "cell_type": "code",
      "metadata": {
        "id": "CREO0AbV11h-",
        "outputId": "1dfe0fb0-ecc8-4dee-a36b-9406df101c0b"
      },
      "source": [
        "test_data.isnull().sum()"
      ],
      "execution_count": null,
      "outputs": [
        {
          "output_type": "execute_result",
          "data": {
            "text/plain": [
              "Sector_score      0\n",
              "LOCATION_ID       0\n",
              "PARA_A            0\n",
              "Score_A           0\n",
              "Risk_A            0\n",
              "PARA_B            0\n",
              "Score_B           0\n",
              "Risk_B            0\n",
              "TOTAL             0\n",
              "numbers           0\n",
              "Score_B.1         0\n",
              "Risk_C            0\n",
              "Money_Value       0\n",
              "Score_MV          0\n",
              "Risk_D            0\n",
              "District_Loss     0\n",
              "PROB              0\n",
              "RiSk_E            0\n",
              "History           0\n",
              "Prob              0\n",
              "Risk_F            0\n",
              "Score             0\n",
              "Inherent_Risk     0\n",
              "CONTROL_RISK      0\n",
              "Detection_Risk    0\n",
              "Audit_Risk        0\n",
              "dtype: int64"
            ]
          },
          "metadata": {
            "tags": []
          },
          "execution_count": 135
        }
      ]
    },
    {
      "cell_type": "markdown",
      "metadata": {
        "id": "Jz6isbAf11iH"
      },
      "source": [
        "### Filling the null values in the ```Money_Value``` feature"
      ]
    },
    {
      "cell_type": "code",
      "metadata": {
        "id": "-MmYx5y911iI"
      },
      "source": [
        "test_data['Money_Value'].fillna(test_data['Money_Value'].mean(), inplace = True)"
      ],
      "execution_count": null,
      "outputs": []
    },
    {
      "cell_type": "code",
      "metadata": {
        "id": "fGE-QKlp11iS"
      },
      "source": [
        "y_pred_rfc_td = rfc.predict(test_data)"
      ],
      "execution_count": null,
      "outputs": []
    },
    {
      "cell_type": "code",
      "metadata": {
        "id": "E8hHXU0h11ii",
        "outputId": "3cd7bf57-a00e-4b07-9d12-b675c272ec9a"
      },
      "source": [
        "# import necessary libraries\n",
        "from IPython.display import HTML\n",
        "import base64  \n",
        "\n",
        "# Method to encode, decocde and create a HTML downlaod link\n",
        "def create_download_link( df, title = \"Download CSV file\", filename = \"y_pred_dtc_td.csv\"):  \n",
        "    csv = df.to_csv()\n",
        "    b64 = base64.b64encode(csv.encode())\n",
        "    payload = b64.decode()\n",
        "    html = '<a download=\"{filename}\" href=\"data:text/csv;base64,{payload}\" target=\"_blank\">{title}</a>'\n",
        "    html = html.format(payload=payload,title=title,filename=filename)\n",
        "    return HTML(html)\n",
        "\n",
        "\n",
        "# Create a Dataframe\n",
        "res1 = pd.DataFrame(y_pred_dtc_td)\n",
        "\n",
        "# Call the method to create a download hyperlink\n",
        "create_download_link(res1)"
      ],
      "execution_count": null,
      "outputs": [
        {
          "output_type": "execute_result",
          "data": {
            "text/html": [
              "<a download=\"y_pred_dtc_td.csv\" href=\"data:text/csv;base64,LDANCjAsMQ0KMSwxDQoyLDANCjMsMA0KNCwxDQo1LDENCjYsMQ0KNywwDQo4LDANCjksMA0KMTAsMA0KMTEsMA0KMTIsMA0KMTMsMA0KMTQsMQ0KMTUsMA0KMTYsMQ0KMTcsMA0KMTgsMQ0KMTksMA0KMjAsMQ0KMjEsMQ0KMjIsMQ0KMjMsMA0KMjQsMQ0KMjUsMQ0KMjYsMA0KMjcsMQ0KMjgsMQ0KMjksMA0KMzAsMQ0KMzEsMA0KMzIsMA0KMzMsMA0KMzQsMA0KMzUsMA0KMzYsMQ0KMzcsMQ0KMzgsMA0KMzksMA0KNDAsMA0KNDEsMQ0KNDIsMQ0KNDMsMA0KNDQsMA0KNDUsMA0KNDYsMA0KNDcsMQ0KNDgsMA0KNDksMQ0KNTAsMA0KNTEsMA0KNTIsMQ0KNTMsMQ0KNTQsMA0KNTUsMA0KNTYsMA0KNTcsMA0KNTgsMQ0KNTksMA0KNjAsMA0KNjEsMQ0KNjIsMA0KNjMsMA0KNjQsMA0KNjUsMA0KNjYsMA0KNjcsMQ0KNjgsMA0KNjksMA0KNzAsMQ0KNzEsMA0KNzIsMA0KNzMsMA0KNzQsMA0KNzUsMQ0KNzYsMA0KNzcsMQ0KNzgsMA0KNzksMA0KODAsMQ0KODEsMQ0KODIsMA0KODMsMQ0KODQsMA0KODUsMA0KODYsMA0KODcsMA0KODgsMQ0KODksMQ0KOTAsMA0KOTEsMA0KOTIsMQ0KOTMsMQ0KOTQsMA0KOTUsMQ0KOTYsMA0KOTcsMA0KOTgsMA0KOTksMQ0KMTAwLDANCjEwMSwwDQoxMDIsMQ0KMTAzLDANCjEwNCwxDQoxMDUsMQ0KMTA2LDENCjEwNywwDQoxMDgsMA0KMTA5LDANCjExMCwwDQoxMTEsMA0KMTEyLDANCjExMywxDQoxMTQsMQ0KMTE1LDENCjExNiwwDQoxMTcsMA0KMTE4LDANCjExOSwxDQoxMjAsMQ0KMTIxLDENCjEyMiwwDQoxMjMsMA0KMTI0LDANCjEyNSwxDQoxMjYsMA0KMTI3LDENCjEyOCwwDQoxMjksMA0KMTMwLDANCjEzMSwwDQoxMzIsMA0KMTMzLDANCjEzNCwwDQoxMzUsMQ0KMTM2LDANCjEzNywwDQoxMzgsMQ0KMTM5LDANCjE0MCwwDQoxNDEsMQ0KMTQyLDANCjE0MywxDQoxNDQsMA0KMTQ1LDANCjE0NiwwDQoxNDcsMQ0KMTQ4LDANCjE0OSwwDQoxNTAsMQ0KMTUxLDANCjE1MiwxDQoxNTMsMA0KMTU0LDENCjE1NSwwDQoxNTYsMQ0KMTU3LDENCjE1OCwwDQoxNTksMQ0KMTYwLDENCjE2MSwwDQoxNjIsMA0KMTYzLDENCjE2NCwwDQoxNjUsMQ0KMTY2LDANCjE2NywwDQoxNjgsMQ0KMTY5LDANCjE3MCwwDQoxNzEsMA0KMTcyLDENCjE3MywwDQoxNzQsMA0KMTc1LDANCjE3NiwwDQoxNzcsMA0KMTc4LDENCjE3OSwwDQoxODAsMA0KMTgxLDANCjE4MiwwDQoxODMsMQ0KMTg0LDANCjE4NSwwDQoxODYsMA0KMTg3LDANCjE4OCwwDQoxODksMQ0KMTkwLDENCjE5MSwxDQoxOTIsMQ0KMTkzLDENCjE5NCwwDQoxOTUsMQ0KMTk2LDENCjE5NywxDQoxOTgsMA0KMTk5LDANCjIwMCwwDQoyMDEsMA0KMjAyLDANCjIwMywxDQoyMDQsMA0KMjA1LDANCjIwNiwxDQoyMDcsMQ0KMjA4LDENCjIwOSwxDQoyMTAsMQ0KMjExLDENCjIxMiwwDQoyMTMsMQ0KMjE0LDENCjIxNSwxDQoyMTYsMA0KMjE3LDANCjIxOCwxDQoyMTksMA0KMjIwLDENCjIyMSwwDQoyMjIsMA0KMjIzLDENCjIyNCwwDQoyMjUsMA0KMjI2LDANCjIyNywwDQoyMjgsMA0KMjI5LDANCjIzMCwxDQoyMzEsMQ0KMjMyLDANCg==\" target=\"_blank\">Download CSV file</a>"
            ],
            "text/plain": [
              "<IPython.core.display.HTML object>"
            ]
          },
          "metadata": {
            "tags": []
          },
          "execution_count": 144
        }
      ]
    },
    {
      "cell_type": "markdown",
      "metadata": {
        "id": "z_QRg7fl11it"
      },
      "source": [
        "## Training the model with Decision Tree Classifier"
      ]
    },
    {
      "cell_type": "code",
      "metadata": {
        "id": "laigHtiw11iu"
      },
      "source": [
        "# Importing the model\n",
        "from sklearn.tree import DecisionTreeClassifier"
      ],
      "execution_count": null,
      "outputs": []
    },
    {
      "cell_type": "code",
      "metadata": {
        "id": "7-w90d0H11i2"
      },
      "source": [
        "dtc = DecisionTreeClassifier()"
      ],
      "execution_count": null,
      "outputs": []
    },
    {
      "cell_type": "code",
      "metadata": {
        "id": "cPl7FDD811i-",
        "outputId": "016994bb-89f9-4a9c-ef6a-2d7ecdec2fbc"
      },
      "source": [
        "dtc.fit(X_train, y_train)"
      ],
      "execution_count": null,
      "outputs": [
        {
          "output_type": "execute_result",
          "data": {
            "text/plain": [
              "DecisionTreeClassifier(ccp_alpha=0.0, class_weight=None, criterion='gini',\n",
              "                       max_depth=None, max_features=None, max_leaf_nodes=None,\n",
              "                       min_impurity_decrease=0.0, min_impurity_split=None,\n",
              "                       min_samples_leaf=1, min_samples_split=2,\n",
              "                       min_weight_fraction_leaf=0.0, presort='deprecated',\n",
              "                       random_state=None, splitter='best')"
            ]
          },
          "metadata": {
            "tags": []
          },
          "execution_count": 140
        }
      ]
    },
    {
      "cell_type": "code",
      "metadata": {
        "id": "w2dATuF511jK"
      },
      "source": [
        "y_pred_dtc = dtc.predict(X_test)"
      ],
      "execution_count": null,
      "outputs": []
    },
    {
      "cell_type": "code",
      "metadata": {
        "id": "O12wkff111jT",
        "outputId": "4959728f-b3a7-4c63-d4c9-46a573bd5d5e"
      },
      "source": [
        "print('F1 Score is: ', np.sqrt(f1_score(y_test, y_pred_dtc))) "
      ],
      "execution_count": null,
      "outputs": [
        {
          "output_type": "stream",
          "text": [
            "F1 Score is:  1.0\n"
          ],
          "name": "stdout"
        }
      ]
    },
    {
      "cell_type": "code",
      "metadata": {
        "id": "T6N3S7C711jf"
      },
      "source": [
        "y_pred_dtc_td = dtc.predict(test_data)"
      ],
      "execution_count": null,
      "outputs": []
    },
    {
      "cell_type": "markdown",
      "metadata": {
        "id": "0DfePIIS11jp"
      },
      "source": [
        "### The Decision Tree Classifier generates a better F1 score (1.0) compared to the Random Forrest Classifier (0.996) and hence I choose the Decision Tree Classifier as the fitting model for the Audit Data Problem"
      ]
    }
  ]
}