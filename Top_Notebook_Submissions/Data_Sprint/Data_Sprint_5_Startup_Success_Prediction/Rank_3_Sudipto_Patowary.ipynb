{
  "nbformat": 4,
  "nbformat_minor": 0,
  "metadata": {
    "kernelspec": {
      "display_name": "Python 3",
      "language": "python",
      "name": "python3"
    },
    "language_info": {
      "codemirror_mode": {
        "name": "ipython",
        "version": 3
      },
      "file_extension": ".py",
      "mimetype": "text/x-python",
      "name": "python",
      "nbconvert_exporter": "python",
      "pygments_lexer": "ipython3",
      "version": "3.7.3"
    },
    "colab": {
      "name": "Rank_3_Sudipto_Patowary.ipynb",
      "provenance": [],
      "include_colab_link": true
    }
  },
  "cells": [
    {
      "cell_type": "markdown",
      "metadata": {
        "id": "view-in-github",
        "colab_type": "text"
      },
      "source": [
        "<a href=\"https://colab.research.google.com/github/dphi-official/Datathons/blob/master/Top_Notebook_Submissions/Data_Sprint/Data_Sprint_5/Rank_3_Sudipto_Patowary.ipynb\" target=\"_parent\"><img src=\"https://colab.research.google.com/assets/colab-badge.svg\" alt=\"Open In Colab\"/></a>"
      ]
    },
    {
      "cell_type": "markdown",
      "metadata": {
        "id": "3XDSMUJIqRBN"
      },
      "source": [
        "Sudipta Patowary\n",
        "https://www.linkedin.com/in/sudipta-patowary-723aa28b/"
      ]
    },
    {
      "cell_type": "markdown",
      "metadata": {
        "id": "85aOyHHlqRBS"
      },
      "source": [
        "Data Sprint Link:\n",
        "https://dphi.tech/practice/challenge/32"
      ]
    },
    {
      "cell_type": "code",
      "metadata": {
        "id": "8wYi89yHqRBa"
      },
      "source": [
        "import pandas as pd\n",
        "from pprint import pprint\n",
        "import numpy as np"
      ],
      "execution_count": null,
      "outputs": []
    },
    {
      "cell_type": "code",
      "metadata": {
        "id": "9HpdV-JUqRCF",
        "outputId": "0a60d758-9af7-490d-8b72-fab579ed2c81"
      },
      "source": [
        "startup_data  = pd.read_csv(\"https://raw.githubusercontent.com/dphi-official/Datasets/master/startupdata/training_set_label.csv\" )\n",
        "startup_data.head()"
      ],
      "execution_count": null,
      "outputs": [
        {
          "output_type": "execute_result",
          "data": {
            "text/html": [
              "<div>\n",
              "<style scoped>\n",
              "    .dataframe tbody tr th:only-of-type {\n",
              "        vertical-align: middle;\n",
              "    }\n",
              "\n",
              "    .dataframe tbody tr th {\n",
              "        vertical-align: top;\n",
              "    }\n",
              "\n",
              "    .dataframe thead th {\n",
              "        text-align: right;\n",
              "    }\n",
              "</style>\n",
              "<table border=\"1\" class=\"dataframe\">\n",
              "  <thead>\n",
              "    <tr style=\"text-align: right;\">\n",
              "      <th></th>\n",
              "      <th>Unnamed: 0</th>\n",
              "      <th>state_code</th>\n",
              "      <th>latitude</th>\n",
              "      <th>longitude</th>\n",
              "      <th>zip_code</th>\n",
              "      <th>id</th>\n",
              "      <th>city</th>\n",
              "      <th>Unnamed: 6</th>\n",
              "      <th>name</th>\n",
              "      <th>founded_at</th>\n",
              "      <th>...</th>\n",
              "      <th>object_id</th>\n",
              "      <th>has_VC</th>\n",
              "      <th>has_angel</th>\n",
              "      <th>has_roundA</th>\n",
              "      <th>has_roundB</th>\n",
              "      <th>has_roundC</th>\n",
              "      <th>has_roundD</th>\n",
              "      <th>avg_participants</th>\n",
              "      <th>is_top500</th>\n",
              "      <th>status</th>\n",
              "    </tr>\n",
              "  </thead>\n",
              "  <tbody>\n",
              "    <tr>\n",
              "      <th>0</th>\n",
              "      <td>1005</td>\n",
              "      <td>CA</td>\n",
              "      <td>42.358880</td>\n",
              "      <td>-71.056820</td>\n",
              "      <td>92101</td>\n",
              "      <td>c:6669</td>\n",
              "      <td>San Diego</td>\n",
              "      <td>NaN</td>\n",
              "      <td>Bandsintown</td>\n",
              "      <td>01-01-07</td>\n",
              "      <td>...</td>\n",
              "      <td>c:6669</td>\n",
              "      <td>0</td>\n",
              "      <td>1</td>\n",
              "      <td>0</td>\n",
              "      <td>0</td>\n",
              "      <td>0</td>\n",
              "      <td>0</td>\n",
              "      <td>1.0000</td>\n",
              "      <td>0</td>\n",
              "      <td>acquired</td>\n",
              "    </tr>\n",
              "    <tr>\n",
              "      <th>1</th>\n",
              "      <td>204</td>\n",
              "      <td>CA</td>\n",
              "      <td>37.238916</td>\n",
              "      <td>-121.973718</td>\n",
              "      <td>95032</td>\n",
              "      <td>c:16283</td>\n",
              "      <td>Los Gatos</td>\n",
              "      <td>NaN</td>\n",
              "      <td>TriCipher</td>\n",
              "      <td>01-01-00</td>\n",
              "      <td>...</td>\n",
              "      <td>c:16283</td>\n",
              "      <td>1</td>\n",
              "      <td>0</td>\n",
              "      <td>0</td>\n",
              "      <td>1</td>\n",
              "      <td>1</td>\n",
              "      <td>1</td>\n",
              "      <td>4.7500</td>\n",
              "      <td>1</td>\n",
              "      <td>acquired</td>\n",
              "    </tr>\n",
              "    <tr>\n",
              "      <th>2</th>\n",
              "      <td>1001</td>\n",
              "      <td>CA</td>\n",
              "      <td>32.901049</td>\n",
              "      <td>-117.192656</td>\n",
              "      <td>92121</td>\n",
              "      <td>c:65620</td>\n",
              "      <td>San Diego</td>\n",
              "      <td>San Diego CA 92121</td>\n",
              "      <td>Plixi</td>\n",
              "      <td>3/18/2009</td>\n",
              "      <td>...</td>\n",
              "      <td>c:65620</td>\n",
              "      <td>0</td>\n",
              "      <td>0</td>\n",
              "      <td>1</td>\n",
              "      <td>0</td>\n",
              "      <td>0</td>\n",
              "      <td>0</td>\n",
              "      <td>4.0000</td>\n",
              "      <td>1</td>\n",
              "      <td>acquired</td>\n",
              "    </tr>\n",
              "    <tr>\n",
              "      <th>3</th>\n",
              "      <td>738</td>\n",
              "      <td>CA</td>\n",
              "      <td>37.320309</td>\n",
              "      <td>-122.050040</td>\n",
              "      <td>95014</td>\n",
              "      <td>c:42668</td>\n",
              "      <td>Cupertino</td>\n",
              "      <td>Cupertino CA 95014</td>\n",
              "      <td>Solidcore Systems</td>\n",
              "      <td>01-01-02</td>\n",
              "      <td>...</td>\n",
              "      <td>c:42668</td>\n",
              "      <td>0</td>\n",
              "      <td>0</td>\n",
              "      <td>0</td>\n",
              "      <td>1</td>\n",
              "      <td>1</td>\n",
              "      <td>1</td>\n",
              "      <td>3.3333</td>\n",
              "      <td>1</td>\n",
              "      <td>acquired</td>\n",
              "    </tr>\n",
              "    <tr>\n",
              "      <th>4</th>\n",
              "      <td>1002</td>\n",
              "      <td>CA</td>\n",
              "      <td>37.779281</td>\n",
              "      <td>-122.419236</td>\n",
              "      <td>94105</td>\n",
              "      <td>c:65806</td>\n",
              "      <td>San Francisco</td>\n",
              "      <td>San Francisco CA 94105</td>\n",
              "      <td>Inhale Digital</td>\n",
              "      <td>08-01-10</td>\n",
              "      <td>...</td>\n",
              "      <td>c:65806</td>\n",
              "      <td>1</td>\n",
              "      <td>1</td>\n",
              "      <td>0</td>\n",
              "      <td>0</td>\n",
              "      <td>0</td>\n",
              "      <td>0</td>\n",
              "      <td>1.0000</td>\n",
              "      <td>1</td>\n",
              "      <td>closed</td>\n",
              "    </tr>\n",
              "  </tbody>\n",
              "</table>\n",
              "<p>5 rows × 48 columns</p>\n",
              "</div>"
            ],
            "text/plain": [
              "   Unnamed: 0 state_code   latitude   longitude zip_code       id  \\\n",
              "0        1005         CA  42.358880  -71.056820    92101   c:6669   \n",
              "1         204         CA  37.238916 -121.973718    95032  c:16283   \n",
              "2        1001         CA  32.901049 -117.192656    92121  c:65620   \n",
              "3         738         CA  37.320309 -122.050040    95014  c:42668   \n",
              "4        1002         CA  37.779281 -122.419236    94105  c:65806   \n",
              "\n",
              "            city              Unnamed: 6               name founded_at  ...  \\\n",
              "0      San Diego                     NaN        Bandsintown   01-01-07  ...   \n",
              "1      Los Gatos                     NaN          TriCipher   01-01-00  ...   \n",
              "2      San Diego      San Diego CA 92121              Plixi  3/18/2009  ...   \n",
              "3      Cupertino      Cupertino CA 95014  Solidcore Systems   01-01-02  ...   \n",
              "4  San Francisco  San Francisco CA 94105     Inhale Digital   08-01-10  ...   \n",
              "\n",
              "  object_id has_VC has_angel  has_roundA  has_roundB  has_roundC  has_roundD  \\\n",
              "0    c:6669      0         1           0           0           0           0   \n",
              "1   c:16283      1         0           0           1           1           1   \n",
              "2   c:65620      0         0           1           0           0           0   \n",
              "3   c:42668      0         0           0           1           1           1   \n",
              "4   c:65806      1         1           0           0           0           0   \n",
              "\n",
              "   avg_participants  is_top500    status  \n",
              "0            1.0000          0  acquired  \n",
              "1            4.7500          1  acquired  \n",
              "2            4.0000          1  acquired  \n",
              "3            3.3333          1  acquired  \n",
              "4            1.0000          1    closed  \n",
              "\n",
              "[5 rows x 48 columns]"
            ]
          },
          "metadata": {
            "tags": []
          },
          "execution_count": 77
        }
      ]
    },
    {
      "cell_type": "code",
      "metadata": {
        "id": "sY0ggVaJqRCk",
        "outputId": "b8bf66d6-2df5-4a00-ca20-e8e759160a93"
      },
      "source": [
        "# duplicate entry for startup with id c:28482, dropping one\n",
        "startup_data=startup_data.drop([832])\n",
        "len(startup_data.id.value_counts())\n",
        "# we can now drop the id column since it has a unique value for each data measure"
      ],
      "execution_count": null,
      "outputs": [
        {
          "output_type": "execute_result",
          "data": {
            "text/plain": [
              "922"
            ]
          },
          "metadata": {
            "tags": []
          },
          "execution_count": 78
        }
      ]
    },
    {
      "cell_type": "code",
      "metadata": {
        "id": "f9jpdYPEqRC8",
        "outputId": "14debcf3-1e46-4c26-c58f-b4e0106c316f"
      },
      "source": [
        "len(startup_data.name.value_counts())\n",
        "# we can now drop the name column since it has a unique value for each data measure"
      ],
      "execution_count": null,
      "outputs": [
        {
          "output_type": "execute_result",
          "data": {
            "text/plain": [
              "922"
            ]
          },
          "metadata": {
            "tags": []
          },
          "execution_count": 79
        }
      ]
    },
    {
      "cell_type": "code",
      "metadata": {
        "id": "3zsNzx3hqRDb",
        "outputId": "7a876c15-d52e-4db9-92cb-ac695164afa4"
      },
      "source": [
        "# we can drop Unnamed 0 and 6 columns\n",
        "startup_data.drop([\"id\",\"name\",\"Unnamed: 0\", \"Unnamed: 6\", \"zip_code\", \"object_id\"], axis=1, inplace=True)\n",
        "startup_data.head()"
      ],
      "execution_count": null,
      "outputs": [
        {
          "output_type": "execute_result",
          "data": {
            "text/html": [
              "<div>\n",
              "<style scoped>\n",
              "    .dataframe tbody tr th:only-of-type {\n",
              "        vertical-align: middle;\n",
              "    }\n",
              "\n",
              "    .dataframe tbody tr th {\n",
              "        vertical-align: top;\n",
              "    }\n",
              "\n",
              "    .dataframe thead th {\n",
              "        text-align: right;\n",
              "    }\n",
              "</style>\n",
              "<table border=\"1\" class=\"dataframe\">\n",
              "  <thead>\n",
              "    <tr style=\"text-align: right;\">\n",
              "      <th></th>\n",
              "      <th>state_code</th>\n",
              "      <th>latitude</th>\n",
              "      <th>longitude</th>\n",
              "      <th>city</th>\n",
              "      <th>founded_at</th>\n",
              "      <th>closed_at</th>\n",
              "      <th>first_funding_at</th>\n",
              "      <th>last_funding_at</th>\n",
              "      <th>age_first_funding_year</th>\n",
              "      <th>age_last_funding_year</th>\n",
              "      <th>...</th>\n",
              "      <th>is_othercategory</th>\n",
              "      <th>has_VC</th>\n",
              "      <th>has_angel</th>\n",
              "      <th>has_roundA</th>\n",
              "      <th>has_roundB</th>\n",
              "      <th>has_roundC</th>\n",
              "      <th>has_roundD</th>\n",
              "      <th>avg_participants</th>\n",
              "      <th>is_top500</th>\n",
              "      <th>status</th>\n",
              "    </tr>\n",
              "  </thead>\n",
              "  <tbody>\n",
              "    <tr>\n",
              "      <th>0</th>\n",
              "      <td>CA</td>\n",
              "      <td>42.358880</td>\n",
              "      <td>-71.056820</td>\n",
              "      <td>San Diego</td>\n",
              "      <td>01-01-07</td>\n",
              "      <td>NaN</td>\n",
              "      <td>04-01-09</td>\n",
              "      <td>01-01-10</td>\n",
              "      <td>2.2493</td>\n",
              "      <td>3.0027</td>\n",
              "      <td>...</td>\n",
              "      <td>1</td>\n",
              "      <td>0</td>\n",
              "      <td>1</td>\n",
              "      <td>0</td>\n",
              "      <td>0</td>\n",
              "      <td>0</td>\n",
              "      <td>0</td>\n",
              "      <td>1.0000</td>\n",
              "      <td>0</td>\n",
              "      <td>acquired</td>\n",
              "    </tr>\n",
              "    <tr>\n",
              "      <th>1</th>\n",
              "      <td>CA</td>\n",
              "      <td>37.238916</td>\n",
              "      <td>-121.973718</td>\n",
              "      <td>Los Gatos</td>\n",
              "      <td>01-01-00</td>\n",
              "      <td>NaN</td>\n",
              "      <td>2/14/2005</td>\n",
              "      <td>12/28/2009</td>\n",
              "      <td>5.1260</td>\n",
              "      <td>9.9973</td>\n",
              "      <td>...</td>\n",
              "      <td>0</td>\n",
              "      <td>1</td>\n",
              "      <td>0</td>\n",
              "      <td>0</td>\n",
              "      <td>1</td>\n",
              "      <td>1</td>\n",
              "      <td>1</td>\n",
              "      <td>4.7500</td>\n",
              "      <td>1</td>\n",
              "      <td>acquired</td>\n",
              "    </tr>\n",
              "    <tr>\n",
              "      <th>2</th>\n",
              "      <td>CA</td>\n",
              "      <td>32.901049</td>\n",
              "      <td>-117.192656</td>\n",
              "      <td>San Diego</td>\n",
              "      <td>3/18/2009</td>\n",
              "      <td>NaN</td>\n",
              "      <td>3/30/2010</td>\n",
              "      <td>3/30/2010</td>\n",
              "      <td>1.0329</td>\n",
              "      <td>1.0329</td>\n",
              "      <td>...</td>\n",
              "      <td>0</td>\n",
              "      <td>0</td>\n",
              "      <td>0</td>\n",
              "      <td>1</td>\n",
              "      <td>0</td>\n",
              "      <td>0</td>\n",
              "      <td>0</td>\n",
              "      <td>4.0000</td>\n",
              "      <td>1</td>\n",
              "      <td>acquired</td>\n",
              "    </tr>\n",
              "    <tr>\n",
              "      <th>3</th>\n",
              "      <td>CA</td>\n",
              "      <td>37.320309</td>\n",
              "      <td>-122.050040</td>\n",
              "      <td>Cupertino</td>\n",
              "      <td>01-01-02</td>\n",
              "      <td>NaN</td>\n",
              "      <td>2/17/2005</td>\n",
              "      <td>4/25/2007</td>\n",
              "      <td>3.1315</td>\n",
              "      <td>5.3151</td>\n",
              "      <td>...</td>\n",
              "      <td>0</td>\n",
              "      <td>0</td>\n",
              "      <td>0</td>\n",
              "      <td>0</td>\n",
              "      <td>1</td>\n",
              "      <td>1</td>\n",
              "      <td>1</td>\n",
              "      <td>3.3333</td>\n",
              "      <td>1</td>\n",
              "      <td>acquired</td>\n",
              "    </tr>\n",
              "    <tr>\n",
              "      <th>4</th>\n",
              "      <td>CA</td>\n",
              "      <td>37.779281</td>\n",
              "      <td>-122.419236</td>\n",
              "      <td>San Francisco</td>\n",
              "      <td>08-01-10</td>\n",
              "      <td>10-01-12</td>\n",
              "      <td>08-01-10</td>\n",
              "      <td>04-01-12</td>\n",
              "      <td>0.0000</td>\n",
              "      <td>1.6685</td>\n",
              "      <td>...</td>\n",
              "      <td>0</td>\n",
              "      <td>1</td>\n",
              "      <td>1</td>\n",
              "      <td>0</td>\n",
              "      <td>0</td>\n",
              "      <td>0</td>\n",
              "      <td>0</td>\n",
              "      <td>1.0000</td>\n",
              "      <td>1</td>\n",
              "      <td>closed</td>\n",
              "    </tr>\n",
              "  </tbody>\n",
              "</table>\n",
              "<p>5 rows × 42 columns</p>\n",
              "</div>"
            ],
            "text/plain": [
              "  state_code   latitude   longitude           city founded_at closed_at  \\\n",
              "0         CA  42.358880  -71.056820      San Diego   01-01-07       NaN   \n",
              "1         CA  37.238916 -121.973718      Los Gatos   01-01-00       NaN   \n",
              "2         CA  32.901049 -117.192656      San Diego  3/18/2009       NaN   \n",
              "3         CA  37.320309 -122.050040      Cupertino   01-01-02       NaN   \n",
              "4         CA  37.779281 -122.419236  San Francisco   08-01-10  10-01-12   \n",
              "\n",
              "  first_funding_at last_funding_at  age_first_funding_year  \\\n",
              "0         04-01-09        01-01-10                  2.2493   \n",
              "1        2/14/2005      12/28/2009                  5.1260   \n",
              "2        3/30/2010       3/30/2010                  1.0329   \n",
              "3        2/17/2005       4/25/2007                  3.1315   \n",
              "4         08-01-10        04-01-12                  0.0000   \n",
              "\n",
              "   age_last_funding_year  ...  is_othercategory  has_VC  has_angel  \\\n",
              "0                 3.0027  ...                 1       0          1   \n",
              "1                 9.9973  ...                 0       1          0   \n",
              "2                 1.0329  ...                 0       0          0   \n",
              "3                 5.3151  ...                 0       0          0   \n",
              "4                 1.6685  ...                 0       1          1   \n",
              "\n",
              "   has_roundA  has_roundB  has_roundC has_roundD  avg_participants  is_top500  \\\n",
              "0           0           0           0          0            1.0000          0   \n",
              "1           0           1           1          1            4.7500          1   \n",
              "2           1           0           0          0            4.0000          1   \n",
              "3           0           1           1          1            3.3333          1   \n",
              "4           0           0           0          0            1.0000          1   \n",
              "\n",
              "     status  \n",
              "0  acquired  \n",
              "1  acquired  \n",
              "2  acquired  \n",
              "3  acquired  \n",
              "4    closed  \n",
              "\n",
              "[5 rows x 42 columns]"
            ]
          },
          "metadata": {
            "tags": []
          },
          "execution_count": 80
        }
      ]
    },
    {
      "cell_type": "code",
      "metadata": {
        "id": "xgG3lrD6qREA",
        "outputId": "657d0919-4eb7-4fb9-b978-858b298a2308"
      },
      "source": [
        "startup_data.columns"
      ],
      "execution_count": null,
      "outputs": [
        {
          "output_type": "execute_result",
          "data": {
            "text/plain": [
              "Index(['state_code', 'latitude', 'longitude', 'city', 'founded_at',\n",
              "       'closed_at', 'first_funding_at', 'last_funding_at',\n",
              "       'age_first_funding_year', 'age_last_funding_year',\n",
              "       'age_first_milestone_year', 'age_last_milestone_year', 'relationships',\n",
              "       'funding_rounds', 'funding_total_usd', 'milestones', 'state_code.1',\n",
              "       'is_CA', 'is_NY', 'is_MA', 'is_TX', 'is_otherstate', 'category_code',\n",
              "       'is_software', 'is_web', 'is_mobile', 'is_enterprise', 'is_advertising',\n",
              "       'is_gamesvideo', 'is_ecommerce', 'is_biotech', 'is_consulting',\n",
              "       'is_othercategory', 'has_VC', 'has_angel', 'has_roundA', 'has_roundB',\n",
              "       'has_roundC', 'has_roundD', 'avg_participants', 'is_top500', 'status'],\n",
              "      dtype='object')"
            ]
          },
          "metadata": {
            "tags": []
          },
          "execution_count": 81
        }
      ]
    },
    {
      "cell_type": "code",
      "metadata": {
        "id": "SAoTK3ioqREZ"
      },
      "source": [
        "startup_data[\"is_WA\"]=(startup_data.state_code==\"WA\").map({True:1, False:0})\n",
        "startup_data[\"is_CO\"]=(startup_data.state_code==\"CO\").map({True:1, False:0})\n",
        "startup_data[\"is_IL\"]=(startup_data.state_code==\"IL\").map({True:1, False:0})\n",
        "startup_data[\"is_PA\"]=(startup_data.state_code==\"PA\").map({True:1, False:0})\n",
        "startup_data[\"is_VA\"]=(startup_data.state_code==\"VA\").map({True:1, False:0})\n",
        "startup_data[\"is_GA\"]=(startup_data.state_code==\"GA\").map({True:1, False:0})"
      ],
      "execution_count": null,
      "outputs": []
    },
    {
      "cell_type": "code",
      "metadata": {
        "id": "mOVXztTjqRE1"
      },
      "source": [
        "df=startup_data[[\"is_CA\",\"is_NY\",\"is_MA\",\"is_TX\",\"is_WA\",\"is_CO\",\"is_IL\",\"is_PA\",\"is_VA\",\"is_GA\"]]\n",
        "startup_data[\"is_otherstate\"]=df.any(axis=1).map({True:0, False:1})"
      ],
      "execution_count": null,
      "outputs": []
    },
    {
      "cell_type": "code",
      "metadata": {
        "id": "0jgNEpicqRFC"
      },
      "source": [
        "# new features based on cities\n",
        "cols=[\"is_city_SF\",\"is_city_NY\",\"is_city_MV\",\"is_city_PA\",\"is_city_AU\",\"is_city_SC\",\"is_city_SM\",\"is_city_SE\",\"is_city_SU\",\"is_city_SJ\",\"is_city_CA\",\"is_city_MP\",\"is_city_SD\",\"is_city_LA\",\"is_city_RC\",\"is_city_CH\",\"is_city_BO\"]\n",
        "cities=[\"San Francisco\",\"New York\",\"Mountain View\",\"Palo Alto\",\"Austin\",\"Santa Clara\",\"San Mateo\",\"Seattle\",\"Sunnyvale\",\"San Jose\",\"Cambridge\",\"Menlo Park\",\"San Diego\",\"Los Angeles\",\"Redwood City\",\"Chicago\",\"Boston\"]\n",
        "for i in range(len(cols)):\n",
        "    startup_data[cols[i]]=(startup_data.city==cities[i]).map({True:1, False:0})"
      ],
      "execution_count": null,
      "outputs": []
    },
    {
      "cell_type": "code",
      "metadata": {
        "id": "gR2pRG7WqRFS"
      },
      "source": [
        "df=startup_data[cols]\n",
        "startup_data[\"is_othercity\"]=df.any(axis=1).map({True:0, False:1})"
      ],
      "execution_count": null,
      "outputs": []
    },
    {
      "cell_type": "code",
      "metadata": {
        "id": "j6EK6mdkqRFy",
        "outputId": "5d841581-6d44-4fdd-d0f1-731d27bc1702"
      },
      "source": [
        "startup_data.drop([\"state_code\",\"city\"],axis=1,inplace=True)\n",
        "startup_data.head()"
      ],
      "execution_count": null,
      "outputs": [
        {
          "output_type": "execute_result",
          "data": {
            "text/html": [
              "<div>\n",
              "<style scoped>\n",
              "    .dataframe tbody tr th:only-of-type {\n",
              "        vertical-align: middle;\n",
              "    }\n",
              "\n",
              "    .dataframe tbody tr th {\n",
              "        vertical-align: top;\n",
              "    }\n",
              "\n",
              "    .dataframe thead th {\n",
              "        text-align: right;\n",
              "    }\n",
              "</style>\n",
              "<table border=\"1\" class=\"dataframe\">\n",
              "  <thead>\n",
              "    <tr style=\"text-align: right;\">\n",
              "      <th></th>\n",
              "      <th>latitude</th>\n",
              "      <th>longitude</th>\n",
              "      <th>founded_at</th>\n",
              "      <th>closed_at</th>\n",
              "      <th>first_funding_at</th>\n",
              "      <th>last_funding_at</th>\n",
              "      <th>age_first_funding_year</th>\n",
              "      <th>age_last_funding_year</th>\n",
              "      <th>age_first_milestone_year</th>\n",
              "      <th>age_last_milestone_year</th>\n",
              "      <th>...</th>\n",
              "      <th>is_city_SU</th>\n",
              "      <th>is_city_SJ</th>\n",
              "      <th>is_city_CA</th>\n",
              "      <th>is_city_MP</th>\n",
              "      <th>is_city_SD</th>\n",
              "      <th>is_city_LA</th>\n",
              "      <th>is_city_RC</th>\n",
              "      <th>is_city_CH</th>\n",
              "      <th>is_city_BO</th>\n",
              "      <th>is_othercity</th>\n",
              "    </tr>\n",
              "  </thead>\n",
              "  <tbody>\n",
              "    <tr>\n",
              "      <th>0</th>\n",
              "      <td>42.358880</td>\n",
              "      <td>-71.056820</td>\n",
              "      <td>01-01-07</td>\n",
              "      <td>NaN</td>\n",
              "      <td>04-01-09</td>\n",
              "      <td>01-01-10</td>\n",
              "      <td>2.2493</td>\n",
              "      <td>3.0027</td>\n",
              "      <td>4.6685</td>\n",
              "      <td>6.7041</td>\n",
              "      <td>...</td>\n",
              "      <td>0</td>\n",
              "      <td>0</td>\n",
              "      <td>0</td>\n",
              "      <td>0</td>\n",
              "      <td>1</td>\n",
              "      <td>0</td>\n",
              "      <td>0</td>\n",
              "      <td>0</td>\n",
              "      <td>0</td>\n",
              "      <td>0</td>\n",
              "    </tr>\n",
              "    <tr>\n",
              "      <th>1</th>\n",
              "      <td>37.238916</td>\n",
              "      <td>-121.973718</td>\n",
              "      <td>01-01-00</td>\n",
              "      <td>NaN</td>\n",
              "      <td>2/14/2005</td>\n",
              "      <td>12/28/2009</td>\n",
              "      <td>5.1260</td>\n",
              "      <td>9.9973</td>\n",
              "      <td>7.0055</td>\n",
              "      <td>7.0055</td>\n",
              "      <td>...</td>\n",
              "      <td>0</td>\n",
              "      <td>0</td>\n",
              "      <td>0</td>\n",
              "      <td>0</td>\n",
              "      <td>0</td>\n",
              "      <td>0</td>\n",
              "      <td>0</td>\n",
              "      <td>0</td>\n",
              "      <td>0</td>\n",
              "      <td>1</td>\n",
              "    </tr>\n",
              "    <tr>\n",
              "      <th>2</th>\n",
              "      <td>32.901049</td>\n",
              "      <td>-117.192656</td>\n",
              "      <td>3/18/2009</td>\n",
              "      <td>NaN</td>\n",
              "      <td>3/30/2010</td>\n",
              "      <td>3/30/2010</td>\n",
              "      <td>1.0329</td>\n",
              "      <td>1.0329</td>\n",
              "      <td>1.4575</td>\n",
              "      <td>2.2055</td>\n",
              "      <td>...</td>\n",
              "      <td>0</td>\n",
              "      <td>0</td>\n",
              "      <td>0</td>\n",
              "      <td>0</td>\n",
              "      <td>1</td>\n",
              "      <td>0</td>\n",
              "      <td>0</td>\n",
              "      <td>0</td>\n",
              "      <td>0</td>\n",
              "      <td>0</td>\n",
              "    </tr>\n",
              "    <tr>\n",
              "      <th>3</th>\n",
              "      <td>37.320309</td>\n",
              "      <td>-122.050040</td>\n",
              "      <td>01-01-02</td>\n",
              "      <td>NaN</td>\n",
              "      <td>2/17/2005</td>\n",
              "      <td>4/25/2007</td>\n",
              "      <td>3.1315</td>\n",
              "      <td>5.3151</td>\n",
              "      <td>6.0027</td>\n",
              "      <td>6.0027</td>\n",
              "      <td>...</td>\n",
              "      <td>0</td>\n",
              "      <td>0</td>\n",
              "      <td>0</td>\n",
              "      <td>0</td>\n",
              "      <td>0</td>\n",
              "      <td>0</td>\n",
              "      <td>0</td>\n",
              "      <td>0</td>\n",
              "      <td>0</td>\n",
              "      <td>1</td>\n",
              "    </tr>\n",
              "    <tr>\n",
              "      <th>4</th>\n",
              "      <td>37.779281</td>\n",
              "      <td>-122.419236</td>\n",
              "      <td>08-01-10</td>\n",
              "      <td>10-01-12</td>\n",
              "      <td>08-01-10</td>\n",
              "      <td>04-01-12</td>\n",
              "      <td>0.0000</td>\n",
              "      <td>1.6685</td>\n",
              "      <td>0.0384</td>\n",
              "      <td>0.0384</td>\n",
              "      <td>...</td>\n",
              "      <td>0</td>\n",
              "      <td>0</td>\n",
              "      <td>0</td>\n",
              "      <td>0</td>\n",
              "      <td>0</td>\n",
              "      <td>0</td>\n",
              "      <td>0</td>\n",
              "      <td>0</td>\n",
              "      <td>0</td>\n",
              "      <td>0</td>\n",
              "    </tr>\n",
              "  </tbody>\n",
              "</table>\n",
              "<p>5 rows × 64 columns</p>\n",
              "</div>"
            ],
            "text/plain": [
              "    latitude   longitude founded_at closed_at first_funding_at  \\\n",
              "0  42.358880  -71.056820   01-01-07       NaN         04-01-09   \n",
              "1  37.238916 -121.973718   01-01-00       NaN        2/14/2005   \n",
              "2  32.901049 -117.192656  3/18/2009       NaN        3/30/2010   \n",
              "3  37.320309 -122.050040   01-01-02       NaN        2/17/2005   \n",
              "4  37.779281 -122.419236   08-01-10  10-01-12         08-01-10   \n",
              "\n",
              "  last_funding_at  age_first_funding_year  age_last_funding_year  \\\n",
              "0        01-01-10                  2.2493                 3.0027   \n",
              "1      12/28/2009                  5.1260                 9.9973   \n",
              "2       3/30/2010                  1.0329                 1.0329   \n",
              "3       4/25/2007                  3.1315                 5.3151   \n",
              "4        04-01-12                  0.0000                 1.6685   \n",
              "\n",
              "   age_first_milestone_year  age_last_milestone_year  ...  is_city_SU  \\\n",
              "0                    4.6685                   6.7041  ...           0   \n",
              "1                    7.0055                   7.0055  ...           0   \n",
              "2                    1.4575                   2.2055  ...           0   \n",
              "3                    6.0027                   6.0027  ...           0   \n",
              "4                    0.0384                   0.0384  ...           0   \n",
              "\n",
              "   is_city_SJ  is_city_CA  is_city_MP is_city_SD  is_city_LA  is_city_RC  \\\n",
              "0           0           0           0          1           0           0   \n",
              "1           0           0           0          0           0           0   \n",
              "2           0           0           0          1           0           0   \n",
              "3           0           0           0          0           0           0   \n",
              "4           0           0           0          0           0           0   \n",
              "\n",
              "   is_city_CH  is_city_BO  is_othercity  \n",
              "0           0           0             0  \n",
              "1           0           0             1  \n",
              "2           0           0             0  \n",
              "3           0           0             1  \n",
              "4           0           0             0  \n",
              "\n",
              "[5 rows x 64 columns]"
            ]
          },
          "metadata": {
            "tags": []
          },
          "execution_count": 86
        }
      ]
    },
    {
      "cell_type": "code",
      "metadata": {
        "id": "-5dnvwepqRGI",
        "outputId": "81259546-da34-416c-f9e1-37cdcf1125b6"
      },
      "source": [
        "startup_data.columns"
      ],
      "execution_count": null,
      "outputs": [
        {
          "output_type": "execute_result",
          "data": {
            "text/plain": [
              "Index(['latitude', 'longitude', 'founded_at', 'closed_at', 'first_funding_at',\n",
              "       'last_funding_at', 'age_first_funding_year', 'age_last_funding_year',\n",
              "       'age_first_milestone_year', 'age_last_milestone_year', 'relationships',\n",
              "       'funding_rounds', 'funding_total_usd', 'milestones', 'state_code.1',\n",
              "       'is_CA', 'is_NY', 'is_MA', 'is_TX', 'is_otherstate', 'category_code',\n",
              "       'is_software', 'is_web', 'is_mobile', 'is_enterprise', 'is_advertising',\n",
              "       'is_gamesvideo', 'is_ecommerce', 'is_biotech', 'is_consulting',\n",
              "       'is_othercategory', 'has_VC', 'has_angel', 'has_roundA', 'has_roundB',\n",
              "       'has_roundC', 'has_roundD', 'avg_participants', 'is_top500', 'status',\n",
              "       'is_WA', 'is_CO', 'is_IL', 'is_PA', 'is_VA', 'is_GA', 'is_city_SF',\n",
              "       'is_city_NY', 'is_city_MV', 'is_city_PA', 'is_city_AU', 'is_city_SC',\n",
              "       'is_city_SM', 'is_city_SE', 'is_city_SU', 'is_city_SJ', 'is_city_CA',\n",
              "       'is_city_MP', 'is_city_SD', 'is_city_LA', 'is_city_RC', 'is_city_CH',\n",
              "       'is_city_BO', 'is_othercity'],\n",
              "      dtype='object')"
            ]
          },
          "metadata": {
            "tags": []
          },
          "execution_count": 87
        }
      ]
    },
    {
      "cell_type": "code",
      "metadata": {
        "id": "7WntvbkJqRGc",
        "outputId": "e2040512-5ac7-4777-a577-a48b51fb0657"
      },
      "source": [
        "startup_data.isna().sum()"
      ],
      "execution_count": null,
      "outputs": [
        {
          "output_type": "execute_result",
          "data": {
            "text/plain": [
              "latitude                      0\n",
              "longitude                     0\n",
              "founded_at                    0\n",
              "closed_at                   587\n",
              "first_funding_at              0\n",
              "last_funding_at               0\n",
              "age_first_funding_year        0\n",
              "age_last_funding_year         0\n",
              "age_first_milestone_year    152\n",
              "age_last_milestone_year     152\n",
              "relationships                 0\n",
              "funding_rounds                0\n",
              "funding_total_usd             0\n",
              "milestones                    0\n",
              "state_code.1                  1\n",
              "is_CA                         0\n",
              "is_NY                         0\n",
              "is_MA                         0\n",
              "is_TX                         0\n",
              "is_otherstate                 0\n",
              "category_code                 0\n",
              "is_software                   0\n",
              "is_web                        0\n",
              "is_mobile                     0\n",
              "is_enterprise                 0\n",
              "is_advertising                0\n",
              "is_gamesvideo                 0\n",
              "is_ecommerce                  0\n",
              "is_biotech                    0\n",
              "is_consulting                 0\n",
              "                           ... \n",
              "has_roundB                    0\n",
              "has_roundC                    0\n",
              "has_roundD                    0\n",
              "avg_participants              0\n",
              "is_top500                     0\n",
              "status                        0\n",
              "is_WA                         0\n",
              "is_CO                         0\n",
              "is_IL                         0\n",
              "is_PA                         0\n",
              "is_VA                         0\n",
              "is_GA                         0\n",
              "is_city_SF                    0\n",
              "is_city_NY                    0\n",
              "is_city_MV                    0\n",
              "is_city_PA                    0\n",
              "is_city_AU                    0\n",
              "is_city_SC                    0\n",
              "is_city_SM                    0\n",
              "is_city_SE                    0\n",
              "is_city_SU                    0\n",
              "is_city_SJ                    0\n",
              "is_city_CA                    0\n",
              "is_city_MP                    0\n",
              "is_city_SD                    0\n",
              "is_city_LA                    0\n",
              "is_city_RC                    0\n",
              "is_city_CH                    0\n",
              "is_city_BO                    0\n",
              "is_othercity                  0\n",
              "Length: 64, dtype: int64"
            ]
          },
          "metadata": {
            "tags": []
          },
          "execution_count": 88
        }
      ]
    },
    {
      "cell_type": "code",
      "metadata": {
        "id": "yje8r0bCqRG4"
      },
      "source": [
        "# closed_at has more than 63% missing data, hence dropping this column\n",
        "# startup_data.drop([\"closed_at\"],axis=1,inplace=True)\n",
        "startup_data[\"founded_at\"]=pd.to_datetime(startup_data.founded_at)\n",
        "\n",
        "# dropping first_funding_at and last_funding_at since we already have another column providing details of age of first and last fundings\n",
        "startup_data.drop([\"first_funding_at\",\"last_funding_at\"],axis=1,inplace=True)"
      ],
      "execution_count": null,
      "outputs": []
    },
    {
      "cell_type": "code",
      "metadata": {
        "id": "WgRHzkNbqRHH",
        "outputId": "04d6a9e3-3344-4cbf-cab8-453ffa1b6cb9"
      },
      "source": [
        "from datetime import datetime\n",
        "today=datetime.today()\n",
        "(today-startup_data[\"founded_at\"][0]).days"
      ],
      "execution_count": null,
      "outputs": [
        {
          "output_type": "execute_result",
          "data": {
            "text/plain": [
              "4998"
            ]
          },
          "metadata": {
            "tags": []
          },
          "execution_count": 90
        }
      ]
    },
    {
      "cell_type": "code",
      "metadata": {
        "id": "QkgXy8QpqRHT",
        "outputId": "d88d9474-33f8-493b-9063-96053f79eab9"
      },
      "source": [
        "startup_data[\"founded_at\"]=pd.to_datetime(startup_data.founded_at)\n",
        "startup_data[\"founded_at\"].head()"
      ],
      "execution_count": null,
      "outputs": [
        {
          "output_type": "execute_result",
          "data": {
            "text/plain": [
              "0   2007-01-01\n",
              "1   2000-01-01\n",
              "2   2009-03-18\n",
              "3   2002-01-01\n",
              "4   2010-08-01\n",
              "Name: founded_at, dtype: datetime64[ns]"
            ]
          },
          "metadata": {
            "tags": []
          },
          "execution_count": 91
        }
      ]
    },
    {
      "cell_type": "code",
      "metadata": {
        "id": "zp4RHApcqRH3",
        "outputId": "5494b231-41d0-408e-ba40-bc162745ddfd"
      },
      "source": [
        "startup_data[\"closed_at\"]=pd.to_datetime(startup_data.closed_at)\n",
        "startup_data[\"closed_at\"][np.isnat(startup_data.closed_at)]=today"
      ],
      "execution_count": null,
      "outputs": [
        {
          "output_type": "stream",
          "text": [
            "C:\\Users\\sudip\\AppData\\Local\\Continuum\\anaconda3\\lib\\site-packages\\ipykernel_launcher.py:2: SettingWithCopyWarning: \n",
            "A value is trying to be set on a copy of a slice from a DataFrame\n",
            "\n",
            "See the caveats in the documentation: http://pandas.pydata.org/pandas-docs/stable/indexing.html#indexing-view-versus-copy\n",
            "  \n"
          ],
          "name": "stderr"
        }
      ]
    },
    {
      "cell_type": "code",
      "metadata": {
        "id": "S6QCL4tpqRIB",
        "outputId": "e55c11bf-a880-4c83-fe53-4c84a300a48d"
      },
      "source": [
        "startup_data[\"years_active\"]=round(((startup_data.closed_at-startup_data.founded_at).dt.days)/365)\n",
        "startup_data[\"years_active\"]"
      ],
      "execution_count": null,
      "outputs": [
        {
          "output_type": "execute_result",
          "data": {
            "text/plain": [
              "0      14.0\n",
              "1      21.0\n",
              "2      11.0\n",
              "3      19.0\n",
              "4       2.0\n",
              "5       7.0\n",
              "6      16.0\n",
              "7      17.0\n",
              "8      19.0\n",
              "9      15.0\n",
              "10     20.0\n",
              "11      6.0\n",
              "12      8.0\n",
              "13     13.0\n",
              "14     20.0\n",
              "15     11.0\n",
              "16     10.0\n",
              "17     20.0\n",
              "18     11.0\n",
              "19      5.0\n",
              "20     20.0\n",
              "21      8.0\n",
              "22      7.0\n",
              "23      6.0\n",
              "24      3.0\n",
              "25     19.0\n",
              "26     18.0\n",
              "27     12.0\n",
              "28     13.0\n",
              "29     15.0\n",
              "       ... \n",
              "893    15.0\n",
              "894    10.0\n",
              "895    16.0\n",
              "896    12.0\n",
              "897    16.0\n",
              "898    16.0\n",
              "899     3.0\n",
              "900    15.0\n",
              "901     5.0\n",
              "902    21.0\n",
              "903    19.0\n",
              "904     6.0\n",
              "905     5.0\n",
              "906    21.0\n",
              "907    17.0\n",
              "908    15.0\n",
              "909    16.0\n",
              "910    11.0\n",
              "911     9.0\n",
              "912    15.0\n",
              "913     4.0\n",
              "914    14.0\n",
              "915     8.0\n",
              "916    14.0\n",
              "917    21.0\n",
              "918    12.0\n",
              "919    10.0\n",
              "920    13.0\n",
              "921    12.0\n",
              "922    18.0\n",
              "Name: years_active, Length: 922, dtype: float64"
            ]
          },
          "metadata": {
            "tags": []
          },
          "execution_count": 93
        }
      ]
    },
    {
      "cell_type": "code",
      "metadata": {
        "id": "J-Hjso4-qRIX",
        "outputId": "4babf8de-2322-412a-ccc6-9004fa2eef02"
      },
      "source": [
        "startup_data.drop([\"state_code.1\"], axis=1, inplace=True)\n",
        "startup_data.isna().sum()"
      ],
      "execution_count": null,
      "outputs": [
        {
          "output_type": "execute_result",
          "data": {
            "text/plain": [
              "latitude                      0\n",
              "longitude                     0\n",
              "founded_at                    0\n",
              "closed_at                     0\n",
              "age_first_funding_year        0\n",
              "age_last_funding_year         0\n",
              "age_first_milestone_year    152\n",
              "age_last_milestone_year     152\n",
              "relationships                 0\n",
              "funding_rounds                0\n",
              "funding_total_usd             0\n",
              "milestones                    0\n",
              "is_CA                         0\n",
              "is_NY                         0\n",
              "is_MA                         0\n",
              "is_TX                         0\n",
              "is_otherstate                 0\n",
              "category_code                 0\n",
              "is_software                   0\n",
              "is_web                        0\n",
              "is_mobile                     0\n",
              "is_enterprise                 0\n",
              "is_advertising                0\n",
              "is_gamesvideo                 0\n",
              "is_ecommerce                  0\n",
              "is_biotech                    0\n",
              "is_consulting                 0\n",
              "is_othercategory              0\n",
              "has_VC                        0\n",
              "has_angel                     0\n",
              "                           ... \n",
              "has_roundC                    0\n",
              "has_roundD                    0\n",
              "avg_participants              0\n",
              "is_top500                     0\n",
              "status                        0\n",
              "is_WA                         0\n",
              "is_CO                         0\n",
              "is_IL                         0\n",
              "is_PA                         0\n",
              "is_VA                         0\n",
              "is_GA                         0\n",
              "is_city_SF                    0\n",
              "is_city_NY                    0\n",
              "is_city_MV                    0\n",
              "is_city_PA                    0\n",
              "is_city_AU                    0\n",
              "is_city_SC                    0\n",
              "is_city_SM                    0\n",
              "is_city_SE                    0\n",
              "is_city_SU                    0\n",
              "is_city_SJ                    0\n",
              "is_city_CA                    0\n",
              "is_city_MP                    0\n",
              "is_city_SD                    0\n",
              "is_city_LA                    0\n",
              "is_city_RC                    0\n",
              "is_city_CH                    0\n",
              "is_city_BO                    0\n",
              "is_othercity                  0\n",
              "years_active                  0\n",
              "Length: 62, dtype: int64"
            ]
          },
          "metadata": {
            "tags": []
          },
          "execution_count": 94
        }
      ]
    },
    {
      "cell_type": "code",
      "metadata": {
        "id": "FGa_HL63qRI0"
      },
      "source": [
        "startup_data[\"founded_year\"]=startup_data[\"founded_at\"].dt.year\n",
        "startup_data.drop([\"founded_at\",\"closed_at\"], axis=1, inplace=True)"
      ],
      "execution_count": null,
      "outputs": []
    },
    {
      "cell_type": "code",
      "metadata": {
        "id": "ip0g36XUqRJD",
        "outputId": "5d077f32-715c-4000-c099-bea20bf58372"
      },
      "source": [
        "startup_data.head(2)"
      ],
      "execution_count": null,
      "outputs": [
        {
          "output_type": "execute_result",
          "data": {
            "text/html": [
              "<div>\n",
              "<style scoped>\n",
              "    .dataframe tbody tr th:only-of-type {\n",
              "        vertical-align: middle;\n",
              "    }\n",
              "\n",
              "    .dataframe tbody tr th {\n",
              "        vertical-align: top;\n",
              "    }\n",
              "\n",
              "    .dataframe thead th {\n",
              "        text-align: right;\n",
              "    }\n",
              "</style>\n",
              "<table border=\"1\" class=\"dataframe\">\n",
              "  <thead>\n",
              "    <tr style=\"text-align: right;\">\n",
              "      <th></th>\n",
              "      <th>latitude</th>\n",
              "      <th>longitude</th>\n",
              "      <th>age_first_funding_year</th>\n",
              "      <th>age_last_funding_year</th>\n",
              "      <th>age_first_milestone_year</th>\n",
              "      <th>age_last_milestone_year</th>\n",
              "      <th>relationships</th>\n",
              "      <th>funding_rounds</th>\n",
              "      <th>funding_total_usd</th>\n",
              "      <th>milestones</th>\n",
              "      <th>...</th>\n",
              "      <th>is_city_CA</th>\n",
              "      <th>is_city_MP</th>\n",
              "      <th>is_city_SD</th>\n",
              "      <th>is_city_LA</th>\n",
              "      <th>is_city_RC</th>\n",
              "      <th>is_city_CH</th>\n",
              "      <th>is_city_BO</th>\n",
              "      <th>is_othercity</th>\n",
              "      <th>years_active</th>\n",
              "      <th>founded_year</th>\n",
              "    </tr>\n",
              "  </thead>\n",
              "  <tbody>\n",
              "    <tr>\n",
              "      <th>0</th>\n",
              "      <td>42.358880</td>\n",
              "      <td>-71.056820</td>\n",
              "      <td>2.2493</td>\n",
              "      <td>3.0027</td>\n",
              "      <td>4.6685</td>\n",
              "      <td>6.7041</td>\n",
              "      <td>3</td>\n",
              "      <td>3</td>\n",
              "      <td>375000</td>\n",
              "      <td>3</td>\n",
              "      <td>...</td>\n",
              "      <td>0</td>\n",
              "      <td>0</td>\n",
              "      <td>1</td>\n",
              "      <td>0</td>\n",
              "      <td>0</td>\n",
              "      <td>0</td>\n",
              "      <td>0</td>\n",
              "      <td>0</td>\n",
              "      <td>14.0</td>\n",
              "      <td>2007</td>\n",
              "    </tr>\n",
              "    <tr>\n",
              "      <th>1</th>\n",
              "      <td>37.238916</td>\n",
              "      <td>-121.973718</td>\n",
              "      <td>5.1260</td>\n",
              "      <td>9.9973</td>\n",
              "      <td>7.0055</td>\n",
              "      <td>7.0055</td>\n",
              "      <td>9</td>\n",
              "      <td>4</td>\n",
              "      <td>40100000</td>\n",
              "      <td>1</td>\n",
              "      <td>...</td>\n",
              "      <td>0</td>\n",
              "      <td>0</td>\n",
              "      <td>0</td>\n",
              "      <td>0</td>\n",
              "      <td>0</td>\n",
              "      <td>0</td>\n",
              "      <td>0</td>\n",
              "      <td>1</td>\n",
              "      <td>21.0</td>\n",
              "      <td>2000</td>\n",
              "    </tr>\n",
              "  </tbody>\n",
              "</table>\n",
              "<p>2 rows × 61 columns</p>\n",
              "</div>"
            ],
            "text/plain": [
              "    latitude   longitude  age_first_funding_year  age_last_funding_year  \\\n",
              "0  42.358880  -71.056820                  2.2493                 3.0027   \n",
              "1  37.238916 -121.973718                  5.1260                 9.9973   \n",
              "\n",
              "   age_first_milestone_year  age_last_milestone_year  relationships  \\\n",
              "0                    4.6685                   6.7041              3   \n",
              "1                    7.0055                   7.0055              9   \n",
              "\n",
              "   funding_rounds  funding_total_usd  milestones  ...  is_city_CA  is_city_MP  \\\n",
              "0               3             375000           3  ...           0           0   \n",
              "1               4           40100000           1  ...           0           0   \n",
              "\n",
              "   is_city_SD  is_city_LA  is_city_RC is_city_CH  is_city_BO  is_othercity  \\\n",
              "0           1           0           0          0           0             0   \n",
              "1           0           0           0          0           0             1   \n",
              "\n",
              "   years_active  founded_year  \n",
              "0          14.0          2007  \n",
              "1          21.0          2000  \n",
              "\n",
              "[2 rows x 61 columns]"
            ]
          },
          "metadata": {
            "tags": []
          },
          "execution_count": 96
        }
      ]
    },
    {
      "cell_type": "code",
      "metadata": {
        "id": "OykyKzn3qRJQ",
        "outputId": "9f4807da-4c94-4e7d-929a-17c56d3f8ac2"
      },
      "source": [
        "startup_data[\"age_first_milestone_year\"][startup_data.age_first_milestone_year.isna()]=0\n",
        "startup_data[\"age_last_milestone_year\"][startup_data.age_last_milestone_year.isna()]=0"
      ],
      "execution_count": null,
      "outputs": [
        {
          "output_type": "stream",
          "text": [
            "C:\\Users\\sudip\\AppData\\Local\\Continuum\\anaconda3\\lib\\site-packages\\ipykernel_launcher.py:1: SettingWithCopyWarning: \n",
            "A value is trying to be set on a copy of a slice from a DataFrame\n",
            "\n",
            "See the caveats in the documentation: http://pandas.pydata.org/pandas-docs/stable/indexing.html#indexing-view-versus-copy\n",
            "  \"\"\"Entry point for launching an IPython kernel.\n",
            "C:\\Users\\sudip\\AppData\\Local\\Continuum\\anaconda3\\lib\\site-packages\\ipykernel_launcher.py:2: SettingWithCopyWarning: \n",
            "A value is trying to be set on a copy of a slice from a DataFrame\n",
            "\n",
            "See the caveats in the documentation: http://pandas.pydata.org/pandas-docs/stable/indexing.html#indexing-view-versus-copy\n",
            "  \n"
          ],
          "name": "stderr"
        }
      ]
    },
    {
      "cell_type": "code",
      "metadata": {
        "id": "JVkZL1DaqRJq",
        "outputId": "e26e0071-b592-4817-b038-710b2a90fd1d"
      },
      "source": [
        "startup_data[\"age_first_milestone_year\"]"
      ],
      "execution_count": null,
      "outputs": [
        {
          "output_type": "execute_result",
          "data": {
            "text/plain": [
              "0       4.6685\n",
              "1       7.0055\n",
              "2       1.4575\n",
              "3       6.0027\n",
              "4       0.0384\n",
              "5       5.0027\n",
              "6       3.0000\n",
              "7       5.6055\n",
              "8       8.0055\n",
              "9       2.9178\n",
              "10     10.1342\n",
              "11     -0.6164\n",
              "12      0.0000\n",
              "13      0.7945\n",
              "14      8.8384\n",
              "15      0.0000\n",
              "16      5.5014\n",
              "17     -0.4986\n",
              "18      1.2849\n",
              "19      3.0877\n",
              "20      4.0877\n",
              "21      3.7507\n",
              "22      0.0000\n",
              "23      3.6959\n",
              "24      0.0000\n",
              "25      1.0000\n",
              "26      3.0027\n",
              "27      3.4192\n",
              "28      4.9315\n",
              "29      2.1890\n",
              "        ...   \n",
              "893     5.7507\n",
              "894     0.3288\n",
              "895     2.0000\n",
              "896     1.1808\n",
              "897     5.0027\n",
              "898     3.6466\n",
              "899     0.0000\n",
              "900     3.1507\n",
              "901     3.1342\n",
              "902     0.3370\n",
              "903     0.0000\n",
              "904     0.0000\n",
              "905    -7.0055\n",
              "906     0.0000\n",
              "907     6.9589\n",
              "908     6.5342\n",
              "909     3.4822\n",
              "910     1.6110\n",
              "911     6.5863\n",
              "912     0.0000\n",
              "913     7.1233\n",
              "914     3.0027\n",
              "915     3.1616\n",
              "916     2.9151\n",
              "917     8.5041\n",
              "918     0.5808\n",
              "919     6.0027\n",
              "920     9.0055\n",
              "921     0.7589\n",
              "922     4.0027\n",
              "Name: age_first_milestone_year, Length: 922, dtype: float64"
            ]
          },
          "metadata": {
            "tags": []
          },
          "execution_count": 98
        }
      ]
    },
    {
      "cell_type": "code",
      "metadata": {
        "id": "8tWj9gSpqRJ9",
        "outputId": "bf1a69fa-cf27-4637-8449-c1d81f9e6171"
      },
      "source": [
        "startup_data[\"age_first_funding_year\"][startup_data.age_first_funding_year<0]=0\n",
        "startup_data[\"age_last_funding_year\"][startup_data.age_last_funding_year<0]=0\n",
        "startup_data[\"age_first_milestone_year\"][startup_data.age_first_milestone_year<0]=0\n",
        "startup_data[\"age_last_milestone_year\"][startup_data.age_last_milestone_year<0]=0\n",
        "startup_data[\"years_active\"][startup_data.years_active<0]=0"
      ],
      "execution_count": null,
      "outputs": [
        {
          "output_type": "stream",
          "text": [
            "C:\\Users\\sudip\\AppData\\Local\\Continuum\\anaconda3\\lib\\site-packages\\ipykernel_launcher.py:1: SettingWithCopyWarning: \n",
            "A value is trying to be set on a copy of a slice from a DataFrame\n",
            "\n",
            "See the caveats in the documentation: http://pandas.pydata.org/pandas-docs/stable/indexing.html#indexing-view-versus-copy\n",
            "  \"\"\"Entry point for launching an IPython kernel.\n",
            "C:\\Users\\sudip\\AppData\\Local\\Continuum\\anaconda3\\lib\\site-packages\\ipykernel_launcher.py:2: SettingWithCopyWarning: \n",
            "A value is trying to be set on a copy of a slice from a DataFrame\n",
            "\n",
            "See the caveats in the documentation: http://pandas.pydata.org/pandas-docs/stable/indexing.html#indexing-view-versus-copy\n",
            "  \n",
            "C:\\Users\\sudip\\AppData\\Local\\Continuum\\anaconda3\\lib\\site-packages\\ipykernel_launcher.py:3: SettingWithCopyWarning: \n",
            "A value is trying to be set on a copy of a slice from a DataFrame\n",
            "\n",
            "See the caveats in the documentation: http://pandas.pydata.org/pandas-docs/stable/indexing.html#indexing-view-versus-copy\n",
            "  This is separate from the ipykernel package so we can avoid doing imports until\n",
            "C:\\Users\\sudip\\AppData\\Local\\Continuum\\anaconda3\\lib\\site-packages\\ipykernel_launcher.py:4: SettingWithCopyWarning: \n",
            "A value is trying to be set on a copy of a slice from a DataFrame\n",
            "\n",
            "See the caveats in the documentation: http://pandas.pydata.org/pandas-docs/stable/indexing.html#indexing-view-versus-copy\n",
            "  after removing the cwd from sys.path.\n",
            "C:\\Users\\sudip\\AppData\\Local\\Continuum\\anaconda3\\lib\\site-packages\\ipykernel_launcher.py:5: SettingWithCopyWarning: \n",
            "A value is trying to be set on a copy of a slice from a DataFrame\n",
            "\n",
            "See the caveats in the documentation: http://pandas.pydata.org/pandas-docs/stable/indexing.html#indexing-view-versus-copy\n",
            "  \"\"\"\n"
          ],
          "name": "stderr"
        }
      ]
    },
    {
      "cell_type": "code",
      "metadata": {
        "id": "1DArW1qqqRKN",
        "outputId": "e5dacd42-453b-4bfa-cee5-1f50a4e0e89f"
      },
      "source": [
        "startup_data.columns"
      ],
      "execution_count": null,
      "outputs": [
        {
          "output_type": "execute_result",
          "data": {
            "text/plain": [
              "Index(['latitude', 'longitude', 'age_first_funding_year',\n",
              "       'age_last_funding_year', 'age_first_milestone_year',\n",
              "       'age_last_milestone_year', 'relationships', 'funding_rounds',\n",
              "       'funding_total_usd', 'milestones', 'is_CA', 'is_NY', 'is_MA', 'is_TX',\n",
              "       'is_otherstate', 'category_code', 'is_software', 'is_web', 'is_mobile',\n",
              "       'is_enterprise', 'is_advertising', 'is_gamesvideo', 'is_ecommerce',\n",
              "       'is_biotech', 'is_consulting', 'is_othercategory', 'has_VC',\n",
              "       'has_angel', 'has_roundA', 'has_roundB', 'has_roundC', 'has_roundD',\n",
              "       'avg_participants', 'is_top500', 'status', 'is_WA', 'is_CO', 'is_IL',\n",
              "       'is_PA', 'is_VA', 'is_GA', 'is_city_SF', 'is_city_NY', 'is_city_MV',\n",
              "       'is_city_PA', 'is_city_AU', 'is_city_SC', 'is_city_SM', 'is_city_SE',\n",
              "       'is_city_SU', 'is_city_SJ', 'is_city_CA', 'is_city_MP', 'is_city_SD',\n",
              "       'is_city_LA', 'is_city_RC', 'is_city_CH', 'is_city_BO', 'is_othercity',\n",
              "       'years_active', 'founded_year'],\n",
              "      dtype='object')"
            ]
          },
          "metadata": {
            "tags": []
          },
          "execution_count": 100
        }
      ]
    },
    {
      "cell_type": "code",
      "metadata": {
        "id": "ZUY7lb9mqRLB"
      },
      "source": [
        "# new features based on category\n",
        "cols=[\"is_semiconductor\",\"is_network_hosting\",\"is_hardware\",\"is_public_relations\",\"is_cleantech\",\"is_security\",\"is_analytics\",\"is_social\",\"is_search\",\"is_messaging\"]\n",
        "categories=[\"semiconductor\",\"network_hosting\",\"hardware\",\"public_relations\",\"cleantech\",\"security\",\"analytics\",\"social\",\"search\",\"messaging\"]\n",
        "for i in range(len(cols)):\n",
        "    startup_data[cols[i]]=(startup_data.category_code==categories[i]).map({True:1, False:0})"
      ],
      "execution_count": null,
      "outputs": []
    },
    {
      "cell_type": "code",
      "metadata": {
        "id": "q96vucueqRLR"
      },
      "source": [
        "cols=['is_software', 'is_web', 'is_mobile','is_enterprise', 'is_advertising', 'is_gamesvideo', 'is_ecommerce','is_biotech', 'is_consulting',\"is_semiconductor\",\"is_network_hosting\",\"is_hardware\",\"is_public_relations\",\"is_cleantech\",\"is_security\",\"is_analytics\",\"is_social\",\"is_search\",\"is_messaging\"]\n",
        "df=startup_data[cols]\n",
        "startup_data[\"is_othercategory\"]=df.any(axis=1).map({True:0, False:1})"
      ],
      "execution_count": null,
      "outputs": []
    },
    {
      "cell_type": "code",
      "metadata": {
        "id": "vqnd0aDTqRMF",
        "outputId": "f1698abc-baca-4768-b8a1-77a592eb311e"
      },
      "source": [
        "startup_data.head()"
      ],
      "execution_count": null,
      "outputs": [
        {
          "output_type": "execute_result",
          "data": {
            "text/html": [
              "<div>\n",
              "<style scoped>\n",
              "    .dataframe tbody tr th:only-of-type {\n",
              "        vertical-align: middle;\n",
              "    }\n",
              "\n",
              "    .dataframe tbody tr th {\n",
              "        vertical-align: top;\n",
              "    }\n",
              "\n",
              "    .dataframe thead th {\n",
              "        text-align: right;\n",
              "    }\n",
              "</style>\n",
              "<table border=\"1\" class=\"dataframe\">\n",
              "  <thead>\n",
              "    <tr style=\"text-align: right;\">\n",
              "      <th></th>\n",
              "      <th>latitude</th>\n",
              "      <th>longitude</th>\n",
              "      <th>age_first_funding_year</th>\n",
              "      <th>age_last_funding_year</th>\n",
              "      <th>age_first_milestone_year</th>\n",
              "      <th>age_last_milestone_year</th>\n",
              "      <th>relationships</th>\n",
              "      <th>funding_rounds</th>\n",
              "      <th>funding_total_usd</th>\n",
              "      <th>milestones</th>\n",
              "      <th>...</th>\n",
              "      <th>is_semiconductor</th>\n",
              "      <th>is_network_hosting</th>\n",
              "      <th>is_hardware</th>\n",
              "      <th>is_public_relations</th>\n",
              "      <th>is_cleantech</th>\n",
              "      <th>is_security</th>\n",
              "      <th>is_analytics</th>\n",
              "      <th>is_social</th>\n",
              "      <th>is_search</th>\n",
              "      <th>is_messaging</th>\n",
              "    </tr>\n",
              "  </thead>\n",
              "  <tbody>\n",
              "    <tr>\n",
              "      <th>0</th>\n",
              "      <td>42.358880</td>\n",
              "      <td>-71.056820</td>\n",
              "      <td>2.2493</td>\n",
              "      <td>3.0027</td>\n",
              "      <td>4.6685</td>\n",
              "      <td>6.7041</td>\n",
              "      <td>3</td>\n",
              "      <td>3</td>\n",
              "      <td>375000</td>\n",
              "      <td>3</td>\n",
              "      <td>...</td>\n",
              "      <td>0</td>\n",
              "      <td>0</td>\n",
              "      <td>0</td>\n",
              "      <td>0</td>\n",
              "      <td>0</td>\n",
              "      <td>0</td>\n",
              "      <td>0</td>\n",
              "      <td>0</td>\n",
              "      <td>0</td>\n",
              "      <td>0</td>\n",
              "    </tr>\n",
              "    <tr>\n",
              "      <th>1</th>\n",
              "      <td>37.238916</td>\n",
              "      <td>-121.973718</td>\n",
              "      <td>5.1260</td>\n",
              "      <td>9.9973</td>\n",
              "      <td>7.0055</td>\n",
              "      <td>7.0055</td>\n",
              "      <td>9</td>\n",
              "      <td>4</td>\n",
              "      <td>40100000</td>\n",
              "      <td>1</td>\n",
              "      <td>...</td>\n",
              "      <td>0</td>\n",
              "      <td>0</td>\n",
              "      <td>0</td>\n",
              "      <td>0</td>\n",
              "      <td>0</td>\n",
              "      <td>0</td>\n",
              "      <td>0</td>\n",
              "      <td>0</td>\n",
              "      <td>0</td>\n",
              "      <td>0</td>\n",
              "    </tr>\n",
              "    <tr>\n",
              "      <th>2</th>\n",
              "      <td>32.901049</td>\n",
              "      <td>-117.192656</td>\n",
              "      <td>1.0329</td>\n",
              "      <td>1.0329</td>\n",
              "      <td>1.4575</td>\n",
              "      <td>2.2055</td>\n",
              "      <td>5</td>\n",
              "      <td>1</td>\n",
              "      <td>2600000</td>\n",
              "      <td>2</td>\n",
              "      <td>...</td>\n",
              "      <td>0</td>\n",
              "      <td>0</td>\n",
              "      <td>0</td>\n",
              "      <td>0</td>\n",
              "      <td>0</td>\n",
              "      <td>0</td>\n",
              "      <td>0</td>\n",
              "      <td>0</td>\n",
              "      <td>0</td>\n",
              "      <td>0</td>\n",
              "    </tr>\n",
              "    <tr>\n",
              "      <th>3</th>\n",
              "      <td>37.320309</td>\n",
              "      <td>-122.050040</td>\n",
              "      <td>3.1315</td>\n",
              "      <td>5.3151</td>\n",
              "      <td>6.0027</td>\n",
              "      <td>6.0027</td>\n",
              "      <td>5</td>\n",
              "      <td>3</td>\n",
              "      <td>40000000</td>\n",
              "      <td>1</td>\n",
              "      <td>...</td>\n",
              "      <td>0</td>\n",
              "      <td>0</td>\n",
              "      <td>0</td>\n",
              "      <td>0</td>\n",
              "      <td>0</td>\n",
              "      <td>0</td>\n",
              "      <td>0</td>\n",
              "      <td>0</td>\n",
              "      <td>0</td>\n",
              "      <td>0</td>\n",
              "    </tr>\n",
              "    <tr>\n",
              "      <th>4</th>\n",
              "      <td>37.779281</td>\n",
              "      <td>-122.419236</td>\n",
              "      <td>0.0000</td>\n",
              "      <td>1.6685</td>\n",
              "      <td>0.0384</td>\n",
              "      <td>0.0384</td>\n",
              "      <td>2</td>\n",
              "      <td>2</td>\n",
              "      <td>1300000</td>\n",
              "      <td>1</td>\n",
              "      <td>...</td>\n",
              "      <td>0</td>\n",
              "      <td>0</td>\n",
              "      <td>0</td>\n",
              "      <td>0</td>\n",
              "      <td>0</td>\n",
              "      <td>0</td>\n",
              "      <td>0</td>\n",
              "      <td>0</td>\n",
              "      <td>0</td>\n",
              "      <td>0</td>\n",
              "    </tr>\n",
              "  </tbody>\n",
              "</table>\n",
              "<p>5 rows × 71 columns</p>\n",
              "</div>"
            ],
            "text/plain": [
              "    latitude   longitude  age_first_funding_year  age_last_funding_year  \\\n",
              "0  42.358880  -71.056820                  2.2493                 3.0027   \n",
              "1  37.238916 -121.973718                  5.1260                 9.9973   \n",
              "2  32.901049 -117.192656                  1.0329                 1.0329   \n",
              "3  37.320309 -122.050040                  3.1315                 5.3151   \n",
              "4  37.779281 -122.419236                  0.0000                 1.6685   \n",
              "\n",
              "   age_first_milestone_year  age_last_milestone_year  relationships  \\\n",
              "0                    4.6685                   6.7041              3   \n",
              "1                    7.0055                   7.0055              9   \n",
              "2                    1.4575                   2.2055              5   \n",
              "3                    6.0027                   6.0027              5   \n",
              "4                    0.0384                   0.0384              2   \n",
              "\n",
              "   funding_rounds  funding_total_usd  milestones  ...  is_semiconductor  \\\n",
              "0               3             375000           3  ...                 0   \n",
              "1               4           40100000           1  ...                 0   \n",
              "2               1            2600000           2  ...                 0   \n",
              "3               3           40000000           1  ...                 0   \n",
              "4               2            1300000           1  ...                 0   \n",
              "\n",
              "   is_network_hosting  is_hardware  is_public_relations  is_cleantech  \\\n",
              "0                   0            0                    0             0   \n",
              "1                   0            0                    0             0   \n",
              "2                   0            0                    0             0   \n",
              "3                   0            0                    0             0   \n",
              "4                   0            0                    0             0   \n",
              "\n",
              "  is_security  is_analytics  is_social  is_search  is_messaging  \n",
              "0           0             0          0          0             0  \n",
              "1           0             0          0          0             0  \n",
              "2           0             0          0          0             0  \n",
              "3           0             0          0          0             0  \n",
              "4           0             0          0          0             0  \n",
              "\n",
              "[5 rows x 71 columns]"
            ]
          },
          "metadata": {
            "tags": []
          },
          "execution_count": 103
        }
      ]
    },
    {
      "cell_type": "code",
      "metadata": {
        "id": "mveqJBWUqRMV"
      },
      "source": [
        "startup_data.drop([\"category_code\"], axis=1, inplace=True)"
      ],
      "execution_count": null,
      "outputs": []
    },
    {
      "cell_type": "code",
      "metadata": {
        "id": "HKy_-JDNqRMs",
        "outputId": "a0399396-83f4-4faa-84af-3c04db5d7a96"
      },
      "source": [
        "startup_data[\"status\"]=startup_data.status.map({\"acquired\":1, \"closed\":0})\n",
        "startup_data.status.head()"
      ],
      "execution_count": null,
      "outputs": [
        {
          "output_type": "execute_result",
          "data": {
            "text/plain": [
              "0    1\n",
              "1    1\n",
              "2    1\n",
              "3    1\n",
              "4    0\n",
              "Name: status, dtype: int64"
            ]
          },
          "metadata": {
            "tags": []
          },
          "execution_count": 105
        }
      ]
    },
    {
      "cell_type": "code",
      "metadata": {
        "id": "Svf0dCOVqRNG"
      },
      "source": [
        "# training starts\n",
        "X=startup_data.drop(\"status\", axis=1)\n",
        "y=startup_data[\"status\"]"
      ],
      "execution_count": null,
      "outputs": []
    },
    {
      "cell_type": "code",
      "metadata": {
        "id": "t2rZFMkYqRNg",
        "outputId": "2501860e-6906-4fb7-973b-433f25b9b4bd"
      },
      "source": [
        "from sklearn.model_selection import train_test_split\n",
        "X_train,X_test,y_train,y_test=train_test_split(X,y,test_size=0.3,random_state=56,stratify=y)\n",
        "X_train.shape, y_train.shape, X_test.shape, y_test.shape"
      ],
      "execution_count": null,
      "outputs": [
        {
          "output_type": "execute_result",
          "data": {
            "text/plain": [
              "((645, 69), (645,), (277, 69), (277,))"
            ]
          },
          "metadata": {
            "tags": []
          },
          "execution_count": 107
        }
      ]
    },
    {
      "cell_type": "code",
      "metadata": {
        "id": "CzFq9DazqRNv"
      },
      "source": [
        "from sklearn.tree import DecisionTreeClassifier\n",
        "from sklearn.model_selection import cross_val_score\n",
        "from sklearn.metrics import accuracy_score, confusion_matrix"
      ],
      "execution_count": null,
      "outputs": []
    },
    {
      "cell_type": "code",
      "metadata": {
        "id": "nor-eEt6qRN9",
        "outputId": "f7ba17f4-bc16-4b5d-846f-f9156f9d24db"
      },
      "source": [
        "dt=DecisionTreeClassifier(max_depth=7)\n",
        "dt.fit(X_train,y_train)\n",
        "cv=cross_val_score(dt,X_train,y_train,cv=5)\n",
        "cv"
      ],
      "execution_count": null,
      "outputs": [
        {
          "output_type": "execute_result",
          "data": {
            "text/plain": [
              "array([0.99230769, 0.97692308, 0.98449612, 0.96875   , 0.9375    ])"
            ]
          },
          "metadata": {
            "tags": []
          },
          "execution_count": 109
        }
      ]
    },
    {
      "cell_type": "code",
      "metadata": {
        "id": "JlYqkmuyqROR",
        "outputId": "5e788fc9-92a2-4bcc-a76d-1ba50e000706"
      },
      "source": [
        "y_pred=dt.predict(X_test)\n",
        "sc=accuracy_score(y_test,y_pred)\n",
        "print(sc)\n",
        "confusion_matrix(y_test,y_pred)"
      ],
      "execution_count": null,
      "outputs": [
        {
          "output_type": "stream",
          "text": [
            "0.9602888086642599\n"
          ],
          "name": "stdout"
        },
        {
          "output_type": "execute_result",
          "data": {
            "text/plain": [
              "array([[ 90,   8],\n",
              "       [  3, 176]], dtype=int64)"
            ]
          },
          "metadata": {
            "tags": []
          },
          "execution_count": 110
        }
      ]
    },
    {
      "cell_type": "code",
      "metadata": {
        "id": "mIB1SasrqROf"
      },
      "source": [
        "# Prediction phase"
      ],
      "execution_count": null,
      "outputs": []
    },
    {
      "cell_type": "code",
      "metadata": {
        "id": "TKxvm13rqROr",
        "outputId": "9791d295-79b5-4bea-809a-d78ce0841efb"
      },
      "source": [
        "test_data = pd.read_csv('https://raw.githubusercontent.com/dphi-official/Datasets/master/startupdata/testing_set_label.csv')\n",
        "test_data.head()"
      ],
      "execution_count": null,
      "outputs": [
        {
          "output_type": "execute_result",
          "data": {
            "text/html": [
              "<div>\n",
              "<style scoped>\n",
              "    .dataframe tbody tr th:only-of-type {\n",
              "        vertical-align: middle;\n",
              "    }\n",
              "\n",
              "    .dataframe tbody tr th {\n",
              "        vertical-align: top;\n",
              "    }\n",
              "\n",
              "    .dataframe thead th {\n",
              "        text-align: right;\n",
              "    }\n",
              "</style>\n",
              "<table border=\"1\" class=\"dataframe\">\n",
              "  <thead>\n",
              "    <tr style=\"text-align: right;\">\n",
              "      <th></th>\n",
              "      <th>Unnamed: 0</th>\n",
              "      <th>state_code</th>\n",
              "      <th>latitude</th>\n",
              "      <th>longitude</th>\n",
              "      <th>zip_code</th>\n",
              "      <th>id</th>\n",
              "      <th>city</th>\n",
              "      <th>Unnamed: 6</th>\n",
              "      <th>name</th>\n",
              "      <th>founded_at</th>\n",
              "      <th>...</th>\n",
              "      <th>is_othercategory</th>\n",
              "      <th>object_id</th>\n",
              "      <th>has_VC</th>\n",
              "      <th>has_angel</th>\n",
              "      <th>has_roundA</th>\n",
              "      <th>has_roundB</th>\n",
              "      <th>has_roundC</th>\n",
              "      <th>has_roundD</th>\n",
              "      <th>avg_participants</th>\n",
              "      <th>is_top500</th>\n",
              "    </tr>\n",
              "  </thead>\n",
              "  <tbody>\n",
              "    <tr>\n",
              "      <th>0</th>\n",
              "      <td>127</td>\n",
              "      <td>CT</td>\n",
              "      <td>41.321520</td>\n",
              "      <td>-72.929423</td>\n",
              "      <td>6511</td>\n",
              "      <td>c:14666</td>\n",
              "      <td>New Haven</td>\n",
              "      <td>NaN</td>\n",
              "      <td>REMOTV</td>\n",
              "      <td>02-10-07</td>\n",
              "      <td>...</td>\n",
              "      <td>0</td>\n",
              "      <td>c:14666</td>\n",
              "      <td>0</td>\n",
              "      <td>1</td>\n",
              "      <td>1</td>\n",
              "      <td>1</td>\n",
              "      <td>0</td>\n",
              "      <td>0</td>\n",
              "      <td>1.3333</td>\n",
              "      <td>1</td>\n",
              "    </tr>\n",
              "    <tr>\n",
              "      <th>1</th>\n",
              "      <td>556</td>\n",
              "      <td>CA</td>\n",
              "      <td>37.452084</td>\n",
              "      <td>-122.112879</td>\n",
              "      <td>94303</td>\n",
              "      <td>c:31546</td>\n",
              "      <td>Palo Alto</td>\n",
              "      <td>NaN</td>\n",
              "      <td>Satiety</td>\n",
              "      <td>01-01-00</td>\n",
              "      <td>...</td>\n",
              "      <td>1</td>\n",
              "      <td>c:31546</td>\n",
              "      <td>0</td>\n",
              "      <td>0</td>\n",
              "      <td>0</td>\n",
              "      <td>0</td>\n",
              "      <td>0</td>\n",
              "      <td>1</td>\n",
              "      <td>6.0000</td>\n",
              "      <td>1</td>\n",
              "    </tr>\n",
              "    <tr>\n",
              "      <th>2</th>\n",
              "      <td>812</td>\n",
              "      <td>NJ</td>\n",
              "      <td>40.296222</td>\n",
              "      <td>-74.050972</td>\n",
              "      <td>7724</td>\n",
              "      <td>c:46259</td>\n",
              "      <td>Eatontown</td>\n",
              "      <td>Eatontown NJ 7724</td>\n",
              "      <td>CebaTech</td>\n",
              "      <td>01-01-04</td>\n",
              "      <td>...</td>\n",
              "      <td>0</td>\n",
              "      <td>c:46259</td>\n",
              "      <td>0</td>\n",
              "      <td>0</td>\n",
              "      <td>0</td>\n",
              "      <td>1</td>\n",
              "      <td>1</td>\n",
              "      <td>0</td>\n",
              "      <td>2.0000</td>\n",
              "      <td>0</td>\n",
              "    </tr>\n",
              "    <tr>\n",
              "      <th>3</th>\n",
              "      <td>106</td>\n",
              "      <td>CA</td>\n",
              "      <td>37.789268</td>\n",
              "      <td>-122.395184</td>\n",
              "      <td>94105</td>\n",
              "      <td>c:139</td>\n",
              "      <td>San Francisco</td>\n",
              "      <td>NaN</td>\n",
              "      <td>Swivel</td>\n",
              "      <td>12-01-05</td>\n",
              "      <td>...</td>\n",
              "      <td>1</td>\n",
              "      <td>c:139</td>\n",
              "      <td>0</td>\n",
              "      <td>0</td>\n",
              "      <td>1</td>\n",
              "      <td>0</td>\n",
              "      <td>0</td>\n",
              "      <td>0</td>\n",
              "      <td>1.0000</td>\n",
              "      <td>0</td>\n",
              "    </tr>\n",
              "    <tr>\n",
              "      <th>4</th>\n",
              "      <td>434</td>\n",
              "      <td>CA</td>\n",
              "      <td>33.133240</td>\n",
              "      <td>-117.275027</td>\n",
              "      <td>92011</td>\n",
              "      <td>c:25449</td>\n",
              "      <td>Carlsbad</td>\n",
              "      <td>NaN</td>\n",
              "      <td>PhotoThera</td>\n",
              "      <td>05-01-97</td>\n",
              "      <td>...</td>\n",
              "      <td>0</td>\n",
              "      <td>c:25449</td>\n",
              "      <td>0</td>\n",
              "      <td>0</td>\n",
              "      <td>0</td>\n",
              "      <td>0</td>\n",
              "      <td>1</td>\n",
              "      <td>1</td>\n",
              "      <td>5.5000</td>\n",
              "      <td>1</td>\n",
              "    </tr>\n",
              "  </tbody>\n",
              "</table>\n",
              "<p>5 rows × 47 columns</p>\n",
              "</div>"
            ],
            "text/plain": [
              "   Unnamed: 0 state_code   latitude   longitude zip_code       id  \\\n",
              "0         127         CT  41.321520  -72.929423     6511  c:14666   \n",
              "1         556         CA  37.452084 -122.112879    94303  c:31546   \n",
              "2         812         NJ  40.296222  -74.050972     7724  c:46259   \n",
              "3         106         CA  37.789268 -122.395184    94105    c:139   \n",
              "4         434         CA  33.133240 -117.275027    92011  c:25449   \n",
              "\n",
              "            city         Unnamed: 6        name founded_at  ...  \\\n",
              "0      New Haven                NaN      REMOTV   02-10-07  ...   \n",
              "1      Palo Alto                NaN     Satiety   01-01-00  ...   \n",
              "2      Eatontown  Eatontown NJ 7724    CebaTech   01-01-04  ...   \n",
              "3  San Francisco                NaN      Swivel   12-01-05  ...   \n",
              "4       Carlsbad                NaN  PhotoThera   05-01-97  ...   \n",
              "\n",
              "  is_othercategory object_id has_VC  has_angel  has_roundA  has_roundB  \\\n",
              "0                0   c:14666      0          1           1           1   \n",
              "1                1   c:31546      0          0           0           0   \n",
              "2                0   c:46259      0          0           0           1   \n",
              "3                1     c:139      0          0           1           0   \n",
              "4                0   c:25449      0          0           0           0   \n",
              "\n",
              "   has_roundC  has_roundD  avg_participants  is_top500  \n",
              "0           0           0            1.3333          1  \n",
              "1           0           1            6.0000          1  \n",
              "2           1           0            2.0000          0  \n",
              "3           0           0            1.0000          0  \n",
              "4           1           1            5.5000          1  \n",
              "\n",
              "[5 rows x 47 columns]"
            ]
          },
          "metadata": {
            "tags": []
          },
          "execution_count": 112
        }
      ]
    },
    {
      "cell_type": "code",
      "metadata": {
        "id": "VZxPj9c6qRO9"
      },
      "source": [
        "#test_data=test_data.drop([164])"
      ],
      "execution_count": null,
      "outputs": []
    },
    {
      "cell_type": "code",
      "metadata": {
        "id": "fsjruv6EqRPl"
      },
      "source": [
        "test_data.drop(\"name\", axis=1, inplace=True)"
      ],
      "execution_count": null,
      "outputs": []
    },
    {
      "cell_type": "code",
      "metadata": {
        "id": "LuxgDgmrqRP8"
      },
      "source": [
        "test_data.drop([\"id\", \"Unnamed: 0\", \"Unnamed: 6\", \"zip_code\", \"object_id\"], axis=1, inplace=True)"
      ],
      "execution_count": null,
      "outputs": []
    },
    {
      "cell_type": "code",
      "metadata": {
        "id": "te7FirQIqRQm"
      },
      "source": [
        "test_data[\"is_WA\"]=(test_data.state_code==\"WA\").map({True:1, False:0})\n",
        "test_data[\"is_CO\"]=(test_data.state_code==\"CO\").map({True:1, False:0})\n",
        "test_data[\"is_IL\"]=(test_data.state_code==\"IL\").map({True:1, False:0})\n",
        "test_data[\"is_PA\"]=(test_data.state_code==\"PA\").map({True:1, False:0})\n",
        "test_data[\"is_VA\"]=(test_data.state_code==\"VA\").map({True:1, False:0})\n",
        "test_data[\"is_GA\"]=(test_data.state_code==\"GA\").map({True:1, False:0})"
      ],
      "execution_count": null,
      "outputs": []
    },
    {
      "cell_type": "code",
      "metadata": {
        "id": "0a0ZIMp_qRQ_"
      },
      "source": [
        "df=test_data[[\"is_CA\",\"is_NY\",\"is_MA\",\"is_TX\",\"is_WA\",\"is_CO\",\"is_IL\",\"is_PA\",\"is_VA\",\"is_GA\"]]\n",
        "test_data[\"is_otherstate\"]=df.any(axis=1).map({True:0, False:1})"
      ],
      "execution_count": null,
      "outputs": []
    },
    {
      "cell_type": "code",
      "metadata": {
        "id": "7eTn3fEhqRRN"
      },
      "source": [
        "# new features based on cities\n",
        "cols=[\"is_city_SF\",\"is_city_NY\",\"is_city_MV\",\"is_city_PA\",\"is_city_AU\",\"is_city_SC\",\"is_city_SM\",\"is_city_SE\",\"is_city_SU\",\"is_city_SJ\",\"is_city_CA\",\"is_city_MP\",\"is_city_SD\",\"is_city_LA\",\"is_city_RC\",\"is_city_CH\",\"is_city_BO\"]\n",
        "cities=[\"San Francisco\",\"New York\",\"Mountain View\",\"Palo Alto\",\"Austin\",\"Santa Clara\",\"San Mateo\",\"Seattle\",\"Sunnyvale\",\"San Jose\",\"Cambridge\",\"Menlo Park\",\"San Diego\",\"Los Angeles\",\"Redwood City\",\"Chicago\",\"Boston\"]\n",
        "for i in range(len(cols)):\n",
        "    test_data[cols[i]]=(test_data.city==cities[i]).map({True:1, False:0})"
      ],
      "execution_count": null,
      "outputs": []
    },
    {
      "cell_type": "code",
      "metadata": {
        "id": "ihGw39kVqRR3"
      },
      "source": [
        "df=test_data[cols]\n",
        "test_data[\"is_othercity\"]=df.any(axis=1).map({True:0, False:1})"
      ],
      "execution_count": null,
      "outputs": []
    },
    {
      "cell_type": "code",
      "metadata": {
        "id": "_WWg_qp-qRSG",
        "outputId": "c4cfc2a4-aa5e-424a-f7ea-95ef10485dca"
      },
      "source": [
        "test_data.drop([\"state_code\",\"city\"],axis=1,inplace=True)\n",
        "test_data.head()"
      ],
      "execution_count": null,
      "outputs": [
        {
          "output_type": "execute_result",
          "data": {
            "text/html": [
              "<div>\n",
              "<style scoped>\n",
              "    .dataframe tbody tr th:only-of-type {\n",
              "        vertical-align: middle;\n",
              "    }\n",
              "\n",
              "    .dataframe tbody tr th {\n",
              "        vertical-align: top;\n",
              "    }\n",
              "\n",
              "    .dataframe thead th {\n",
              "        text-align: right;\n",
              "    }\n",
              "</style>\n",
              "<table border=\"1\" class=\"dataframe\">\n",
              "  <thead>\n",
              "    <tr style=\"text-align: right;\">\n",
              "      <th></th>\n",
              "      <th>latitude</th>\n",
              "      <th>longitude</th>\n",
              "      <th>founded_at</th>\n",
              "      <th>closed_at</th>\n",
              "      <th>first_funding_at</th>\n",
              "      <th>last_funding_at</th>\n",
              "      <th>age_first_funding_year</th>\n",
              "      <th>age_last_funding_year</th>\n",
              "      <th>age_first_milestone_year</th>\n",
              "      <th>age_last_milestone_year</th>\n",
              "      <th>...</th>\n",
              "      <th>is_city_SU</th>\n",
              "      <th>is_city_SJ</th>\n",
              "      <th>is_city_CA</th>\n",
              "      <th>is_city_MP</th>\n",
              "      <th>is_city_SD</th>\n",
              "      <th>is_city_LA</th>\n",
              "      <th>is_city_RC</th>\n",
              "      <th>is_city_CH</th>\n",
              "      <th>is_city_BO</th>\n",
              "      <th>is_othercity</th>\n",
              "    </tr>\n",
              "  </thead>\n",
              "  <tbody>\n",
              "    <tr>\n",
              "      <th>0</th>\n",
              "      <td>41.321520</td>\n",
              "      <td>-72.929423</td>\n",
              "      <td>02-10-07</td>\n",
              "      <td>09-03-11</td>\n",
              "      <td>05-01-07</td>\n",
              "      <td>10/15/2008</td>\n",
              "      <td>0.2192</td>\n",
              "      <td>1.6795</td>\n",
              "      <td>NaN</td>\n",
              "      <td>NaN</td>\n",
              "      <td>...</td>\n",
              "      <td>0</td>\n",
              "      <td>0</td>\n",
              "      <td>0</td>\n",
              "      <td>0</td>\n",
              "      <td>0</td>\n",
              "      <td>0</td>\n",
              "      <td>0</td>\n",
              "      <td>0</td>\n",
              "      <td>0</td>\n",
              "      <td>1</td>\n",
              "    </tr>\n",
              "    <tr>\n",
              "      <th>1</th>\n",
              "      <td>37.452084</td>\n",
              "      <td>-122.112879</td>\n",
              "      <td>01-01-00</td>\n",
              "      <td>09-10-11</td>\n",
              "      <td>7/19/2007</td>\n",
              "      <td>9/30/2009</td>\n",
              "      <td>7.5507</td>\n",
              "      <td>9.7534</td>\n",
              "      <td>11.0192</td>\n",
              "      <td>11.0192</td>\n",
              "      <td>...</td>\n",
              "      <td>0</td>\n",
              "      <td>0</td>\n",
              "      <td>0</td>\n",
              "      <td>0</td>\n",
              "      <td>0</td>\n",
              "      <td>0</td>\n",
              "      <td>0</td>\n",
              "      <td>0</td>\n",
              "      <td>0</td>\n",
              "      <td>0</td>\n",
              "    </tr>\n",
              "    <tr>\n",
              "      <th>2</th>\n",
              "      <td>40.296222</td>\n",
              "      <td>-74.050972</td>\n",
              "      <td>01-01-04</td>\n",
              "      <td>06-05-12</td>\n",
              "      <td>4/26/2005</td>\n",
              "      <td>7/21/2006</td>\n",
              "      <td>1.3178</td>\n",
              "      <td>2.5534</td>\n",
              "      <td>4.0027</td>\n",
              "      <td>4.0027</td>\n",
              "      <td>...</td>\n",
              "      <td>0</td>\n",
              "      <td>0</td>\n",
              "      <td>0</td>\n",
              "      <td>0</td>\n",
              "      <td>0</td>\n",
              "      <td>0</td>\n",
              "      <td>0</td>\n",
              "      <td>0</td>\n",
              "      <td>0</td>\n",
              "      <td>1</td>\n",
              "    </tr>\n",
              "    <tr>\n",
              "      <th>3</th>\n",
              "      <td>37.789268</td>\n",
              "      <td>-122.395184</td>\n",
              "      <td>12-01-05</td>\n",
              "      <td>07-01-10</td>\n",
              "      <td>09-01-06</td>\n",
              "      <td>04-01-07</td>\n",
              "      <td>0.7507</td>\n",
              "      <td>1.3315</td>\n",
              "      <td>1.0849</td>\n",
              "      <td>6.4986</td>\n",
              "      <td>...</td>\n",
              "      <td>0</td>\n",
              "      <td>0</td>\n",
              "      <td>0</td>\n",
              "      <td>0</td>\n",
              "      <td>0</td>\n",
              "      <td>0</td>\n",
              "      <td>0</td>\n",
              "      <td>0</td>\n",
              "      <td>0</td>\n",
              "      <td>0</td>\n",
              "    </tr>\n",
              "    <tr>\n",
              "      <th>4</th>\n",
              "      <td>33.133240</td>\n",
              "      <td>-117.275027</td>\n",
              "      <td>05-01-97</td>\n",
              "      <td>10/24/2012</td>\n",
              "      <td>4/21/2006</td>\n",
              "      <td>5/22/2009</td>\n",
              "      <td>8.9781</td>\n",
              "      <td>12.0658</td>\n",
              "      <td>NaN</td>\n",
              "      <td>NaN</td>\n",
              "      <td>...</td>\n",
              "      <td>0</td>\n",
              "      <td>0</td>\n",
              "      <td>0</td>\n",
              "      <td>0</td>\n",
              "      <td>0</td>\n",
              "      <td>0</td>\n",
              "      <td>0</td>\n",
              "      <td>0</td>\n",
              "      <td>0</td>\n",
              "      <td>1</td>\n",
              "    </tr>\n",
              "  </tbody>\n",
              "</table>\n",
              "<p>5 rows × 63 columns</p>\n",
              "</div>"
            ],
            "text/plain": [
              "    latitude   longitude founded_at   closed_at first_funding_at  \\\n",
              "0  41.321520  -72.929423   02-10-07    09-03-11         05-01-07   \n",
              "1  37.452084 -122.112879   01-01-00    09-10-11        7/19/2007   \n",
              "2  40.296222  -74.050972   01-01-04    06-05-12        4/26/2005   \n",
              "3  37.789268 -122.395184   12-01-05    07-01-10         09-01-06   \n",
              "4  33.133240 -117.275027   05-01-97  10/24/2012        4/21/2006   \n",
              "\n",
              "  last_funding_at  age_first_funding_year  age_last_funding_year  \\\n",
              "0      10/15/2008                  0.2192                 1.6795   \n",
              "1       9/30/2009                  7.5507                 9.7534   \n",
              "2       7/21/2006                  1.3178                 2.5534   \n",
              "3        04-01-07                  0.7507                 1.3315   \n",
              "4       5/22/2009                  8.9781                12.0658   \n",
              "\n",
              "   age_first_milestone_year  age_last_milestone_year  ...  is_city_SU  \\\n",
              "0                       NaN                      NaN  ...           0   \n",
              "1                   11.0192                  11.0192  ...           0   \n",
              "2                    4.0027                   4.0027  ...           0   \n",
              "3                    1.0849                   6.4986  ...           0   \n",
              "4                       NaN                      NaN  ...           0   \n",
              "\n",
              "   is_city_SJ  is_city_CA  is_city_MP is_city_SD  is_city_LA  is_city_RC  \\\n",
              "0           0           0           0          0           0           0   \n",
              "1           0           0           0          0           0           0   \n",
              "2           0           0           0          0           0           0   \n",
              "3           0           0           0          0           0           0   \n",
              "4           0           0           0          0           0           0   \n",
              "\n",
              "   is_city_CH  is_city_BO  is_othercity  \n",
              "0           0           0             1  \n",
              "1           0           0             0  \n",
              "2           0           0             1  \n",
              "3           0           0             0  \n",
              "4           0           0             1  \n",
              "\n",
              "[5 rows x 63 columns]"
            ]
          },
          "metadata": {
            "tags": []
          },
          "execution_count": 120
        }
      ]
    },
    {
      "cell_type": "code",
      "metadata": {
        "id": "r4P3ATloqRSc"
      },
      "source": [
        "test_data[\"founded_at\"]=pd.to_datetime(test_data.founded_at)\n",
        "\n",
        "# dropping first_funding_at and last_funding_at since we already have another column providing details of age of first and last fundings\n",
        "test_data.drop([\"first_funding_at\",\"last_funding_at\"],axis=1,inplace=True)"
      ],
      "execution_count": null,
      "outputs": []
    },
    {
      "cell_type": "code",
      "metadata": {
        "id": "DE-_3EtGqRTD",
        "outputId": "ac4a6d59-b1b7-47fe-c8a9-5085db74b42e"
      },
      "source": [
        "test_data[\"founded_at\"]=pd.to_datetime(test_data.founded_at)\n",
        "test_data[\"founded_at\"].head()"
      ],
      "execution_count": null,
      "outputs": [
        {
          "output_type": "execute_result",
          "data": {
            "text/plain": [
              "0   2007-02-10\n",
              "1   2000-01-01\n",
              "2   2004-01-01\n",
              "3   2005-12-01\n",
              "4   1997-05-01\n",
              "Name: founded_at, dtype: datetime64[ns]"
            ]
          },
          "metadata": {
            "tags": []
          },
          "execution_count": 122
        }
      ]
    },
    {
      "cell_type": "code",
      "metadata": {
        "id": "opbiH7XVqRTt",
        "outputId": "e4aedade-adc8-450d-a524-c5329d65bf46"
      },
      "source": [
        "test_data[\"closed_at\"]=pd.to_datetime(test_data.closed_at)\n",
        "test_data[\"closed_at\"][np.isnat(test_data.closed_at)]=today"
      ],
      "execution_count": null,
      "outputs": [
        {
          "output_type": "stream",
          "text": [
            "C:\\Users\\sudip\\AppData\\Local\\Continuum\\anaconda3\\lib\\site-packages\\ipykernel_launcher.py:2: SettingWithCopyWarning: \n",
            "A value is trying to be set on a copy of a slice from a DataFrame\n",
            "\n",
            "See the caveats in the documentation: http://pandas.pydata.org/pandas-docs/stable/indexing.html#indexing-view-versus-copy\n",
            "  \n"
          ],
          "name": "stderr"
        }
      ]
    },
    {
      "cell_type": "code",
      "metadata": {
        "id": "DNmQfhImqRT7",
        "outputId": "fbbf9f9b-1263-4d45-d65d-b907a655b727"
      },
      "source": [
        "test_data[\"years_active\"]=round(((test_data.closed_at-test_data.founded_at).dt.days)/365)\n",
        "test_data[\"years_active\"]"
      ],
      "execution_count": null,
      "outputs": [
        {
          "output_type": "execute_result",
          "data": {
            "text/plain": [
              "0       5.0\n",
              "1      12.0\n",
              "2       8.0\n",
              "3       5.0\n",
              "4      15.0\n",
              "5       9.0\n",
              "6      15.0\n",
              "7      10.0\n",
              "8      12.0\n",
              "9      14.0\n",
              "10     13.0\n",
              "11     17.0\n",
              "12     11.0\n",
              "13      3.0\n",
              "14     10.0\n",
              "15     19.0\n",
              "16     17.0\n",
              "17     10.0\n",
              "18     14.0\n",
              "19      3.0\n",
              "20     16.0\n",
              "21     14.0\n",
              "22      7.0\n",
              "23     11.0\n",
              "24      6.0\n",
              "25     14.0\n",
              "26     16.0\n",
              "27     14.0\n",
              "28      4.0\n",
              "29      7.0\n",
              "       ... \n",
              "201    13.0\n",
              "202    15.0\n",
              "203    17.0\n",
              "204     9.0\n",
              "205     3.0\n",
              "206    18.0\n",
              "207    13.0\n",
              "208    18.0\n",
              "209    11.0\n",
              "210     3.0\n",
              "211     0.0\n",
              "212    11.0\n",
              "213     6.0\n",
              "214    13.0\n",
              "215     5.0\n",
              "216     9.0\n",
              "217     0.0\n",
              "218    12.0\n",
              "219    11.0\n",
              "220    17.0\n",
              "221    18.0\n",
              "222    17.0\n",
              "223     3.0\n",
              "224    11.0\n",
              "225    14.0\n",
              "226    10.0\n",
              "227     6.0\n",
              "228    21.0\n",
              "229    12.0\n",
              "230    15.0\n",
              "Name: years_active, Length: 231, dtype: float64"
            ]
          },
          "metadata": {
            "tags": []
          },
          "execution_count": 124
        }
      ]
    },
    {
      "cell_type": "code",
      "metadata": {
        "id": "qvNWu962qRUG"
      },
      "source": [
        "test_data.drop([\"state_code.1\"], axis=1, inplace=True)"
      ],
      "execution_count": null,
      "outputs": []
    },
    {
      "cell_type": "code",
      "metadata": {
        "id": "I1me8TXxqRUl"
      },
      "source": [
        "test_data[\"founded_year\"]=test_data[\"founded_at\"].dt.year\n",
        "test_data.drop([\"founded_at\",\"closed_at\"], axis=1, inplace=True)"
      ],
      "execution_count": null,
      "outputs": []
    },
    {
      "cell_type": "code",
      "metadata": {
        "id": "ybM4OseFqRU4",
        "outputId": "e7add148-47bd-4550-a232-8133f6037195"
      },
      "source": [
        "test_data[\"age_first_milestone_year\"][test_data.age_first_milestone_year.isna()]=0\n",
        "test_data[\"age_last_milestone_year\"][test_data.age_last_milestone_year.isna()]=0"
      ],
      "execution_count": null,
      "outputs": [
        {
          "output_type": "stream",
          "text": [
            "C:\\Users\\sudip\\AppData\\Local\\Continuum\\anaconda3\\lib\\site-packages\\ipykernel_launcher.py:1: SettingWithCopyWarning: \n",
            "A value is trying to be set on a copy of a slice from a DataFrame\n",
            "\n",
            "See the caveats in the documentation: http://pandas.pydata.org/pandas-docs/stable/indexing.html#indexing-view-versus-copy\n",
            "  \"\"\"Entry point for launching an IPython kernel.\n",
            "C:\\Users\\sudip\\AppData\\Local\\Continuum\\anaconda3\\lib\\site-packages\\ipykernel_launcher.py:2: SettingWithCopyWarning: \n",
            "A value is trying to be set on a copy of a slice from a DataFrame\n",
            "\n",
            "See the caveats in the documentation: http://pandas.pydata.org/pandas-docs/stable/indexing.html#indexing-view-versus-copy\n",
            "  \n"
          ],
          "name": "stderr"
        }
      ]
    },
    {
      "cell_type": "code",
      "metadata": {
        "id": "127t86kjqRVb",
        "outputId": "be34e86c-9e0d-40ef-e631-6fa37a51ea49"
      },
      "source": [
        "test_data[\"age_first_funding_year\"][test_data.age_first_funding_year<0]=0\n",
        "test_data[\"age_last_funding_year\"][test_data.age_last_funding_year<0]=0\n",
        "test_data[\"age_first_milestone_year\"][test_data.age_first_milestone_year<0]=0\n",
        "test_data[\"age_last_milestone_year\"][test_data.age_last_milestone_year<0]=0\n",
        "test_data[\"years_active\"][test_data.years_active<0]=0"
      ],
      "execution_count": null,
      "outputs": [
        {
          "output_type": "stream",
          "text": [
            "C:\\Users\\sudip\\AppData\\Local\\Continuum\\anaconda3\\lib\\site-packages\\ipykernel_launcher.py:1: SettingWithCopyWarning: \n",
            "A value is trying to be set on a copy of a slice from a DataFrame\n",
            "\n",
            "See the caveats in the documentation: http://pandas.pydata.org/pandas-docs/stable/indexing.html#indexing-view-versus-copy\n",
            "  \"\"\"Entry point for launching an IPython kernel.\n",
            "C:\\Users\\sudip\\AppData\\Local\\Continuum\\anaconda3\\lib\\site-packages\\ipykernel_launcher.py:2: SettingWithCopyWarning: \n",
            "A value is trying to be set on a copy of a slice from a DataFrame\n",
            "\n",
            "See the caveats in the documentation: http://pandas.pydata.org/pandas-docs/stable/indexing.html#indexing-view-versus-copy\n",
            "  \n",
            "C:\\Users\\sudip\\AppData\\Local\\Continuum\\anaconda3\\lib\\site-packages\\ipykernel_launcher.py:3: SettingWithCopyWarning: \n",
            "A value is trying to be set on a copy of a slice from a DataFrame\n",
            "\n",
            "See the caveats in the documentation: http://pandas.pydata.org/pandas-docs/stable/indexing.html#indexing-view-versus-copy\n",
            "  This is separate from the ipykernel package so we can avoid doing imports until\n",
            "C:\\Users\\sudip\\AppData\\Local\\Continuum\\anaconda3\\lib\\site-packages\\ipykernel_launcher.py:4: SettingWithCopyWarning: \n",
            "A value is trying to be set on a copy of a slice from a DataFrame\n",
            "\n",
            "See the caveats in the documentation: http://pandas.pydata.org/pandas-docs/stable/indexing.html#indexing-view-versus-copy\n",
            "  after removing the cwd from sys.path.\n",
            "C:\\Users\\sudip\\AppData\\Local\\Continuum\\anaconda3\\lib\\site-packages\\ipykernel_launcher.py:5: SettingWithCopyWarning: \n",
            "A value is trying to be set on a copy of a slice from a DataFrame\n",
            "\n",
            "See the caveats in the documentation: http://pandas.pydata.org/pandas-docs/stable/indexing.html#indexing-view-versus-copy\n",
            "  \"\"\"\n"
          ],
          "name": "stderr"
        }
      ]
    },
    {
      "cell_type": "code",
      "metadata": {
        "id": "zBRaxodnqRVh"
      },
      "source": [
        "# new features based on category\n",
        "cols=[\"is_semiconductor\",\"is_network_hosting\",\"is_hardware\",\"is_public_relations\",\"is_cleantech\",\"is_security\",\"is_analytics\",\"is_social\",\"is_search\",\"is_messaging\"]\n",
        "categories=[\"semiconductor\",\"network_hosting\",\"hardware\",\"public_relations\",\"cleantech\",\"security\",\"analytics\",\"social\",\"search\",\"messaging\"]\n",
        "for i in range(len(cols)):\n",
        "    test_data[cols[i]]=(test_data.category_code==categories[i]).map({True:1, False:0})"
      ],
      "execution_count": null,
      "outputs": []
    },
    {
      "cell_type": "code",
      "metadata": {
        "id": "L_7h8WdJqRV0"
      },
      "source": [
        "cols=['is_software', 'is_web', 'is_mobile','is_enterprise', 'is_advertising', 'is_gamesvideo', 'is_ecommerce','is_biotech', 'is_consulting',\"is_semiconductor\",\"is_network_hosting\",\"is_hardware\",\"is_public_relations\",\"is_cleantech\",\"is_security\",\"is_analytics\",\"is_social\",\"is_search\",\"is_messaging\"]\n",
        "df=test_data[cols]\n",
        "test_data[\"is_othercategory\"]=df.any(axis=1).map({True:0, False:1})"
      ],
      "execution_count": null,
      "outputs": []
    },
    {
      "cell_type": "code",
      "metadata": {
        "id": "k1mPdjJRqRWd"
      },
      "source": [
        "test_data.drop([\"category_code\"], axis=1, inplace=True)"
      ],
      "execution_count": null,
      "outputs": []
    },
    {
      "cell_type": "code",
      "metadata": {
        "id": "vydZ0cVlqRXT",
        "outputId": "b80a1d9a-68bd-443a-dcda-6fc724e71baa"
      },
      "source": [
        "test_data.head()"
      ],
      "execution_count": null,
      "outputs": [
        {
          "output_type": "execute_result",
          "data": {
            "text/html": [
              "<div>\n",
              "<style scoped>\n",
              "    .dataframe tbody tr th:only-of-type {\n",
              "        vertical-align: middle;\n",
              "    }\n",
              "\n",
              "    .dataframe tbody tr th {\n",
              "        vertical-align: top;\n",
              "    }\n",
              "\n",
              "    .dataframe thead th {\n",
              "        text-align: right;\n",
              "    }\n",
              "</style>\n",
              "<table border=\"1\" class=\"dataframe\">\n",
              "  <thead>\n",
              "    <tr style=\"text-align: right;\">\n",
              "      <th></th>\n",
              "      <th>latitude</th>\n",
              "      <th>longitude</th>\n",
              "      <th>age_first_funding_year</th>\n",
              "      <th>age_last_funding_year</th>\n",
              "      <th>age_first_milestone_year</th>\n",
              "      <th>age_last_milestone_year</th>\n",
              "      <th>relationships</th>\n",
              "      <th>funding_rounds</th>\n",
              "      <th>funding_total_usd</th>\n",
              "      <th>milestones</th>\n",
              "      <th>...</th>\n",
              "      <th>is_semiconductor</th>\n",
              "      <th>is_network_hosting</th>\n",
              "      <th>is_hardware</th>\n",
              "      <th>is_public_relations</th>\n",
              "      <th>is_cleantech</th>\n",
              "      <th>is_security</th>\n",
              "      <th>is_analytics</th>\n",
              "      <th>is_social</th>\n",
              "      <th>is_search</th>\n",
              "      <th>is_messaging</th>\n",
              "    </tr>\n",
              "  </thead>\n",
              "  <tbody>\n",
              "    <tr>\n",
              "      <th>0</th>\n",
              "      <td>41.321520</td>\n",
              "      <td>-72.929423</td>\n",
              "      <td>0.2192</td>\n",
              "      <td>1.6795</td>\n",
              "      <td>0.0000</td>\n",
              "      <td>0.0000</td>\n",
              "      <td>5</td>\n",
              "      <td>3</td>\n",
              "      <td>2700000</td>\n",
              "      <td>0</td>\n",
              "      <td>...</td>\n",
              "      <td>0</td>\n",
              "      <td>0</td>\n",
              "      <td>0</td>\n",
              "      <td>0</td>\n",
              "      <td>0</td>\n",
              "      <td>0</td>\n",
              "      <td>0</td>\n",
              "      <td>0</td>\n",
              "      <td>0</td>\n",
              "      <td>0</td>\n",
              "    </tr>\n",
              "    <tr>\n",
              "      <th>1</th>\n",
              "      <td>37.452084</td>\n",
              "      <td>-122.112879</td>\n",
              "      <td>7.5507</td>\n",
              "      <td>9.7534</td>\n",
              "      <td>11.0192</td>\n",
              "      <td>11.0192</td>\n",
              "      <td>1</td>\n",
              "      <td>3</td>\n",
              "      <td>62800000</td>\n",
              "      <td>1</td>\n",
              "      <td>...</td>\n",
              "      <td>0</td>\n",
              "      <td>0</td>\n",
              "      <td>0</td>\n",
              "      <td>0</td>\n",
              "      <td>0</td>\n",
              "      <td>0</td>\n",
              "      <td>0</td>\n",
              "      <td>0</td>\n",
              "      <td>0</td>\n",
              "      <td>0</td>\n",
              "    </tr>\n",
              "    <tr>\n",
              "      <th>2</th>\n",
              "      <td>40.296222</td>\n",
              "      <td>-74.050972</td>\n",
              "      <td>1.3178</td>\n",
              "      <td>2.5534</td>\n",
              "      <td>4.0027</td>\n",
              "      <td>4.0027</td>\n",
              "      <td>4</td>\n",
              "      <td>2</td>\n",
              "      <td>8500000</td>\n",
              "      <td>1</td>\n",
              "      <td>...</td>\n",
              "      <td>0</td>\n",
              "      <td>0</td>\n",
              "      <td>0</td>\n",
              "      <td>0</td>\n",
              "      <td>0</td>\n",
              "      <td>0</td>\n",
              "      <td>0</td>\n",
              "      <td>0</td>\n",
              "      <td>0</td>\n",
              "      <td>0</td>\n",
              "    </tr>\n",
              "    <tr>\n",
              "      <th>3</th>\n",
              "      <td>37.789268</td>\n",
              "      <td>-122.395184</td>\n",
              "      <td>0.7507</td>\n",
              "      <td>1.3315</td>\n",
              "      <td>1.0849</td>\n",
              "      <td>6.4986</td>\n",
              "      <td>8</td>\n",
              "      <td>2</td>\n",
              "      <td>2000000</td>\n",
              "      <td>4</td>\n",
              "      <td>...</td>\n",
              "      <td>0</td>\n",
              "      <td>0</td>\n",
              "      <td>0</td>\n",
              "      <td>0</td>\n",
              "      <td>0</td>\n",
              "      <td>0</td>\n",
              "      <td>0</td>\n",
              "      <td>0</td>\n",
              "      <td>1</td>\n",
              "      <td>0</td>\n",
              "    </tr>\n",
              "    <tr>\n",
              "      <th>4</th>\n",
              "      <td>33.133240</td>\n",
              "      <td>-117.275027</td>\n",
              "      <td>8.9781</td>\n",
              "      <td>12.0658</td>\n",
              "      <td>0.0000</td>\n",
              "      <td>0.0000</td>\n",
              "      <td>4</td>\n",
              "      <td>2</td>\n",
              "      <td>80500000</td>\n",
              "      <td>0</td>\n",
              "      <td>...</td>\n",
              "      <td>0</td>\n",
              "      <td>0</td>\n",
              "      <td>0</td>\n",
              "      <td>0</td>\n",
              "      <td>0</td>\n",
              "      <td>0</td>\n",
              "      <td>0</td>\n",
              "      <td>0</td>\n",
              "      <td>0</td>\n",
              "      <td>0</td>\n",
              "    </tr>\n",
              "  </tbody>\n",
              "</table>\n",
              "<p>5 rows × 69 columns</p>\n",
              "</div>"
            ],
            "text/plain": [
              "    latitude   longitude  age_first_funding_year  age_last_funding_year  \\\n",
              "0  41.321520  -72.929423                  0.2192                 1.6795   \n",
              "1  37.452084 -122.112879                  7.5507                 9.7534   \n",
              "2  40.296222  -74.050972                  1.3178                 2.5534   \n",
              "3  37.789268 -122.395184                  0.7507                 1.3315   \n",
              "4  33.133240 -117.275027                  8.9781                12.0658   \n",
              "\n",
              "   age_first_milestone_year  age_last_milestone_year  relationships  \\\n",
              "0                    0.0000                   0.0000              5   \n",
              "1                   11.0192                  11.0192              1   \n",
              "2                    4.0027                   4.0027              4   \n",
              "3                    1.0849                   6.4986              8   \n",
              "4                    0.0000                   0.0000              4   \n",
              "\n",
              "   funding_rounds  funding_total_usd  milestones  ...  is_semiconductor  \\\n",
              "0               3            2700000           0  ...                 0   \n",
              "1               3           62800000           1  ...                 0   \n",
              "2               2            8500000           1  ...                 0   \n",
              "3               2            2000000           4  ...                 0   \n",
              "4               2           80500000           0  ...                 0   \n",
              "\n",
              "   is_network_hosting  is_hardware  is_public_relations  is_cleantech  \\\n",
              "0                   0            0                    0             0   \n",
              "1                   0            0                    0             0   \n",
              "2                   0            0                    0             0   \n",
              "3                   0            0                    0             0   \n",
              "4                   0            0                    0             0   \n",
              "\n",
              "   is_security  is_analytics  is_social  is_search  is_messaging  \n",
              "0            0             0          0          0             0  \n",
              "1            0             0          0          0             0  \n",
              "2            0             0          0          0             0  \n",
              "3            0             0          0          1             0  \n",
              "4            0             0          0          0             0  \n",
              "\n",
              "[5 rows x 69 columns]"
            ]
          },
          "metadata": {
            "tags": []
          },
          "execution_count": 132
        }
      ]
    },
    {
      "cell_type": "code",
      "metadata": {
        "id": "Ay6zlUmvqRXk",
        "outputId": "acae612d-bf30-4408-dc86-80eca4ce94e7"
      },
      "source": [
        "predictions=dt.predict(test_data)\n",
        "predictions"
      ],
      "execution_count": null,
      "outputs": [
        {
          "output_type": "execute_result",
          "data": {
            "text/plain": [
              "array([0, 1, 0, 0, 0, 1, 1, 1, 1, 0, 1, 0, 0, 0, 1, 1, 1, 1, 0, 0, 1, 1,\n",
              "       0, 1, 0, 1, 1, 1, 0, 0, 0, 1, 1, 1, 1, 1, 1, 0, 1, 0, 1, 1, 1, 1,\n",
              "       0, 1, 0, 0, 1, 1, 0, 1, 1, 0, 0, 1, 0, 1, 1, 1, 1, 1, 1, 1, 1, 1,\n",
              "       1, 1, 1, 1, 0, 0, 1, 1, 1, 0, 0, 1, 0, 1, 1, 1, 0, 0, 1, 1, 1, 0,\n",
              "       1, 1, 1, 1, 1, 0, 1, 0, 0, 0, 0, 1, 1, 0, 1, 1, 1, 1, 1, 1, 0, 1,\n",
              "       1, 1, 1, 1, 1, 1, 1, 1, 0, 0, 0, 0, 1, 0, 0, 0, 1, 0, 0, 0, 1, 1,\n",
              "       1, 1, 1, 1, 0, 1, 0, 1, 1, 1, 1, 0, 1, 1, 1, 1, 1, 1, 0, 1, 1, 1,\n",
              "       1, 1, 1, 1, 1, 0, 1, 0, 1, 1, 1, 1, 1, 0, 0, 1, 0, 1, 1, 1, 0, 0,\n",
              "       1, 1, 1, 1, 1, 1, 0, 1, 0, 1, 1, 0, 1, 1, 0, 0, 1, 1, 1, 1, 0, 0,\n",
              "       1, 1, 0, 1, 1, 1, 0, 0, 1, 1, 1, 0, 0, 0, 1, 0, 1, 0, 0, 0, 1, 0,\n",
              "       1, 1, 1, 0, 1, 1, 1, 0, 1, 1, 1], dtype=int64)"
            ]
          },
          "metadata": {
            "tags": []
          },
          "execution_count": 133
        }
      ]
    },
    {
      "cell_type": "code",
      "metadata": {
        "id": "BiDNYRvWqRXy"
      },
      "source": [
        "l=[]\n",
        "for i in range(len(predictions)):\n",
        "    if predictions[i]==0:\n",
        "        l.append(\"closed\")\n",
        "    else:\n",
        "        l.append(\"acquired\")"
      ],
      "execution_count": null,
      "outputs": []
    },
    {
      "cell_type": "code",
      "metadata": {
        "id": "XktSbZMEqRYA",
        "outputId": "14f0d21b-f75e-44e0-8b5a-643f5bb13e89"
      },
      "source": [
        "print(l)"
      ],
      "execution_count": null,
      "outputs": [
        {
          "output_type": "stream",
          "text": [
            "['closed', 'acquired', 'closed', 'closed', 'closed', 'acquired', 'acquired', 'acquired', 'acquired', 'closed', 'acquired', 'closed', 'closed', 'closed', 'acquired', 'acquired', 'acquired', 'acquired', 'closed', 'closed', 'acquired', 'acquired', 'closed', 'acquired', 'closed', 'acquired', 'acquired', 'acquired', 'closed', 'closed', 'closed', 'acquired', 'acquired', 'acquired', 'acquired', 'acquired', 'acquired', 'closed', 'acquired', 'closed', 'acquired', 'acquired', 'acquired', 'acquired', 'closed', 'acquired', 'closed', 'closed', 'acquired', 'acquired', 'closed', 'acquired', 'acquired', 'closed', 'closed', 'acquired', 'closed', 'acquired', 'acquired', 'acquired', 'acquired', 'acquired', 'acquired', 'acquired', 'acquired', 'acquired', 'acquired', 'acquired', 'acquired', 'acquired', 'closed', 'closed', 'acquired', 'acquired', 'acquired', 'closed', 'closed', 'acquired', 'closed', 'acquired', 'acquired', 'acquired', 'closed', 'closed', 'acquired', 'acquired', 'acquired', 'closed', 'acquired', 'acquired', 'acquired', 'acquired', 'acquired', 'closed', 'acquired', 'closed', 'closed', 'closed', 'closed', 'acquired', 'acquired', 'closed', 'acquired', 'acquired', 'acquired', 'acquired', 'acquired', 'acquired', 'closed', 'acquired', 'acquired', 'acquired', 'acquired', 'acquired', 'acquired', 'acquired', 'acquired', 'acquired', 'closed', 'closed', 'closed', 'closed', 'acquired', 'closed', 'closed', 'closed', 'acquired', 'closed', 'closed', 'closed', 'acquired', 'acquired', 'acquired', 'acquired', 'acquired', 'acquired', 'closed', 'acquired', 'closed', 'acquired', 'acquired', 'acquired', 'acquired', 'closed', 'acquired', 'acquired', 'acquired', 'acquired', 'acquired', 'acquired', 'closed', 'acquired', 'acquired', 'acquired', 'acquired', 'acquired', 'acquired', 'acquired', 'acquired', 'closed', 'acquired', 'closed', 'acquired', 'acquired', 'acquired', 'acquired', 'acquired', 'closed', 'closed', 'acquired', 'closed', 'acquired', 'acquired', 'acquired', 'closed', 'closed', 'acquired', 'acquired', 'acquired', 'acquired', 'acquired', 'acquired', 'closed', 'acquired', 'closed', 'acquired', 'acquired', 'closed', 'acquired', 'acquired', 'closed', 'closed', 'acquired', 'acquired', 'acquired', 'acquired', 'closed', 'closed', 'acquired', 'acquired', 'closed', 'acquired', 'acquired', 'acquired', 'closed', 'closed', 'acquired', 'acquired', 'acquired', 'closed', 'closed', 'closed', 'acquired', 'closed', 'acquired', 'closed', 'closed', 'closed', 'acquired', 'closed', 'acquired', 'acquired', 'acquired', 'closed', 'acquired', 'acquired', 'acquired', 'closed', 'acquired', 'acquired', 'acquired']\n"
          ],
          "name": "stdout"
        }
      ]
    },
    {
      "cell_type": "code",
      "metadata": {
        "id": "_Y_p9mLmqRYu"
      },
      "source": [
        ""
      ],
      "execution_count": null,
      "outputs": []
    }
  ]
}